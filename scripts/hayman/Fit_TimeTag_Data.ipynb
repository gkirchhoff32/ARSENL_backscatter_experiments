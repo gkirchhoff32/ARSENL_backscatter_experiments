{
 "cells": [
  {
   "cell_type": "markdown",
   "id": "6b9ecadb",
   "metadata": {},
   "source": [
    "# Fitting to time tag data natively\n",
    "\n",
    "This notebook is intended to give an example of how to fit an estimated photon arrival rate to time tags (without binning).  \n",
    "\n",
    "This notebook uses simulated data which.  To generate this data, you will need a function in the repo\n",
    "\n",
    "    NCAR/deadtime-sim-ptv\n",
    "    \n",
    "This notebook utilizes PyTorch to perform the fitting routine.\n",
    "\n",
    "Our aim is to obtain an estimate of $\\lambda(t)$, the photon arrival rate, as a function of time $t$ (relative to laser pulse firing).  We obtain this using a list of $N$ time tags where photons arrived $\\mathbf{t} =  \\lbrace t_n \\rbrace_{n=1}^N$.\n",
    "\n",
    "For a Poisson point process the probability that the random photon arrivals $\\mathbf{T}$ correspond the observations is\n",
    "\n",
    "$\\mathbb{P}\\left( \\lbrace T_n = t_n \\rbrace_{n=1}^N \\right) = e^{-\\Lambda(t_{max})}\\prod_{n=1}^{N} \\lambda(t_n)$\n",
    "\n",
    "where\n",
    "\n",
    "$\\Lambda(t) = \\int_0^{t} \\lambda(t') dt'$\n",
    "\n",
    "and $t_{max}$ is the maximum time in the retrieval.\n",
    "\n",
    "The above probability accounts for one laser shot.  For multiple shots, the PDFs should be multiplied.  In that case, for $L$ laser shots we obtain\n",
    "\n",
    "$\\mathbb{P}\\left( \\lbrace T_n = t_n \\rbrace_{n=1}^N \\right) = e^{-L \\Lambda(t_{max})}\\prod_{n=1}^{N} \\lambda(t_n)$\n",
    "\n",
    "where the list of photons comprises all arrivals from all laser shots.\n",
    "\n",
    "In order to perform a fit, we aim to minimize the negative log-likelihood (NLL) of the PDF.  This gives the loss function\n",
    "\n",
    "$\\mathcal{L}[\\lambda(t)] = L \\Lambda(t_{max}) - \\sum_{n=1}^{N} \\ln\\lambda(t_n)$\n",
    "\n",
    "From the above definition, it becomes clear that it is useful to have basis functions for $\\lambda(t)$ that can be integrated analytically.  For this example, we use a Gaussian target in a constant background\n",
    "\n",
    "$\\lambda(t) = A \\exp\\left( -\\frac{(t-\\mu)^2}{2\\sigma^2}\\right) + b$\n",
    "\n",
    "where the parameters $A$, $\\mu$, $\\sigma$ and $b$ must be estimated in the fitting routine.  The integral of the above arrival rate basis function is\n",
    "\n",
    "$\\Lambda(t) = \\frac{1}{2} A \\sigma \\sqrt{2\\pi} \\left[1 + erf\\left(\\frac{t-\\mu}{\\sigma\\sqrt{2}}\\right)\\right] + b t$\n",
    "\n",
    "where $erf$ is the Gauss Error Function.\n",
    "\n",
    "### Accounting for Dead time\n",
    "\n",
    "Deadtime in the detector or acquisition system changes the detection PDF.  The probability of detection within the deadtime after a prior photon detection is zero.  In aggregate, each detection serves to surpress the probability of subsequent deetections.  The formal derivation is not trivial, but resulting PDF is\n",
    "\n",
    "$\\mathbb{P}\\left( \\lbrace T_n = t_n \\rbrace_{n=1}^N \\right) = \\prod_{n=1}^N \\mathbf{1}\\lbrace t_n \\ge t_{n-1} +\\tau_d \\rbrace \\lambda(t_n)\\exp\\left[-\\Lambda(t_n)+\\Lambda(t_{n-1}+\\tau_D) \\right]$\n",
    "\n",
    "where $\\mathbf{1}\\lbrace t_n \\ge t_{n-1}$ is $1$ when its argument is true and $0$ when the argument is false.  This term is not needed when we formulate the NLL, because, assuming our model of the detection process is correct, we will never detect any photons inside of the deadtime.  Taking the negative of the log of the PDF gives\n",
    "\n",
    "$\\mathcal{L}[\\lambda(t)] = \\sum_{n=1}^{N} \\left[\\Lambda(t_n)-\\Lambda(t_{n-1}+\\tau_D) -  \\ln\\lambda(t_n) \\right]$\n",
    "\n",
    "This likelihood function is very similar to the one we use for the Poisson noise model.  The main distiction is that the integral term only includes instances when the detection system is armed.  Note that as the deadtime approaches zero, this NLL will approach that of the Poisson."
   ]
  },
  {
   "cell_type": "code",
   "execution_count": 2,
   "id": "e2a3d84d",
   "metadata": {},
   "outputs": [],
   "source": [
    "import os,sys\n",
    "import numpy as np\n",
    "import xarray as xr\n",
    "import torch\n",
    "import glob\n",
    "import matplotlib.pyplot as plt"
   ]
  },
  {
   "cell_type": "code",
   "execution_count": 3,
   "id": "47df1de5",
   "metadata": {},
   "outputs": [],
   "source": [
    "dtype = torch.float64\n",
    "device = torch.device(\"cpu\")"
   ]
  },
  {
   "cell_type": "code",
   "execution_count": 4,
   "id": "93fc8394",
   "metadata": {},
   "outputs": [],
   "source": [
    "# import library for simulating Poisson point processes\n",
    "dirP_str = os.path.join(os.environ['HOME'], \n",
    "                    'Documents',\n",
    "                    'GitHub',\n",
    "                    'deadtime-sim-ptv',\n",
    "                    'python',\n",
    "                    'library')\n",
    "if dirP_str not in sys.path:\n",
    "    sys.path.append(dirP_str)\n",
    "    \n",
    "import sim_deadtime_utils as sim"
   ]
  },
  {
   "cell_type": "code",
   "execution_count": 5,
   "id": "c4988007",
   "metadata": {},
   "outputs": [],
   "source": [
    "# picoquant relative time max value\n",
    "rollover_count = 33554432"
   ]
  },
  {
   "cell_type": "code",
   "execution_count": 6,
   "id": "068e8862",
   "metadata": {},
   "outputs": [],
   "source": [
    "def chebyshev_poly(order:int)->torch.tensor:\n",
    "    \"\"\"\n",
    "    Generates the coefficient matrix for chebyshev polynomials\n",
    "    where the polynomial is generated using matrix multiplication\n",
    "    [1, x, x^2, ... , x^N] @ coef_mat\n",
    "    \"\"\"\n",
    "    if order == 0:\n",
    "        return torch.tensor([1],dtype=dtype,device=device)\n",
    "    elif order == 1:\n",
    "        return torch.tensor([1,0],[0,1],dtype=dtype,device=device)\n",
    "    else:\n",
    "        coef_mat = torch.zeros((order+1,order+1),dtype=dtype,device=device)\n",
    "        coef_mat[0,0] = 1\n",
    "        coef_mat[1,1] = 1\n",
    "        for idx in range(2,order+1):\n",
    "            coef_mat[1:,idx] = 2*coef_mat[:-1,idx-1]\n",
    "            coef_mat[:,idx] -= coef_mat[:,idx-2]\n",
    "    \n",
    "    return coef_mat\n",
    "\n",
    "def chebyshev_poly_int(order:int)->torch.tensor:\n",
    "    \"\"\"\n",
    "    Generates the coefficient matrix for integral of chebyshev polynomials\n",
    "    where the integral of the polynomial is generated using matrix multiplication\n",
    "    [x, x^2, ... , x^(N+1)] @ coef_mat\n",
    "    \"\"\"\n",
    "    if order == 0:\n",
    "        return torch.tensor([1],dtype=dtype,device=device)\n",
    "    elif order == 1:\n",
    "        return torch.tensor([1,0],[0,0.5],dtype=dtype,device=device)\n",
    "    else:\n",
    "        # rescale by the integral polynomial power\n",
    "        coef_mat = chebyshev_poly(order)/(torch.arange(order+1,dtype=dtype,device=device)+1)[:,None]\n",
    "        \n",
    "    return coef_mat"
   ]
  },
  {
   "cell_type": "code",
   "execution_count": 8,
   "id": "3dedf100",
   "metadata": {},
   "outputs": [
    {
     "ename": "IndentationError",
     "evalue": "expected an indented block (<ipython-input-8-050cef9f46f3>, line 36)",
     "output_type": "error",
     "traceback": [
      "\u001b[0;36m  File \u001b[0;32m\"<ipython-input-8-050cef9f46f3>\"\u001b[0;36m, line \u001b[0;32m36\u001b[0m\n\u001b[0;31m    split_idx = np.mod(split_idx+1,split)\u001b[0m\n\u001b[0m    ^\u001b[0m\n\u001b[0;31mIndentationError\u001b[0m\u001b[0;31m:\u001b[0m expected an indented block\n"
     ]
    }
   ],
   "source": [
    "def int_hist(t_int,sync_arr,tt_arr,tt_sync,tD,split=2):\n",
    "    \"\"\"\n",
    "    Create a histogram to approximate integration\n",
    "    t_int: np.array\n",
    "        integration time grid\n",
    "    sync_arr: np.ndarray\n",
    "        array containing a list of the sync identifiers\n",
    "    tt_arr; np.ndarray\n",
    "        array containing all the time tags\n",
    "    tt_sync: np.ndarray\n",
    "        array containing the sync identifier corresponding\n",
    "        to tt_arr\n",
    "    tD: float\n",
    "        deadtime\n",
    "    split: int\n",
    "        number of datasets to split into for fit/validation/test\n",
    "    \"\"\"\n",
    "    h_tt_lst = []\n",
    "    for idx in range(split):\n",
    "        h_tt_lst.append(np.zeros(t_int))\n",
    "    \n",
    "    \n",
    "    int_dt_lst = []\n",
    "    int_t_lst = []\n",
    "    dt = np.mean(np.diff(t_int))\n",
    "    last_t = -1e3\n",
    "    split_idx = 0\n",
    "    for sync_idx in sync_arr:\n",
    "        tt_sub_arr = tt_arr[np.where(tt_sync == sync_idx)]\n",
    "        if tt_sub_arr.size == 0:\n",
    "            # empty data\n",
    "            idx1 = np.argmin(np.abs(t_int-(last_t+tD)))\n",
    "            h_tt_lst[split_idx][idx_1:] += dt\n",
    "        else:\n",
    "            \n",
    "        split_idx = np.mod(split_idx+1,split)\n",
    "            \n",
    "        "
   ]
  },
  {
   "cell_type": "markdown",
   "id": "8dd50461",
   "metadata": {},
   "source": [
    "# Load Data"
   ]
  },
  {
   "cell_type": "code",
   "execution_count": 342,
   "id": "4cc2855b",
   "metadata": {},
   "outputs": [],
   "source": [
    "# data_path = os.path.join(os.environ['HOME'],'Documents','CUBL','2022_04_15_DeadtimeTest','netcdf')\n",
    "# data_path = os.path.join(os.environ['HOME'],'Documents','CUBL','SPCM_data_OD_iterate_20230130','netcdf')\n",
    "\n",
    "# data_path = os.path.join(os.environ['HOME'],'Documents','CUBL','2023.01.31.Part1','netcdf.Part1')\n",
    "# data_path = os.path.join(os.environ['HOME'],'Documents','CUBL','2023.01.31.Part2','netcdf.Part2')\n",
    "data_path = os.path.join(os.environ['HOME'],'Documents','CUBL','2023.01.31.Part3','netcdf.Part3')\n"
   ]
  },
  {
   "cell_type": "code",
   "execution_count": 343,
   "id": "c9809911",
   "metadata": {},
   "outputs": [
    {
     "name": "stdout",
     "output_type": "stream",
     "text": [
      "00.) OD45_Dev_0_-_2023-01-31_18.06.24_OD4.7.ARSENL.nc\n",
      "01.) OD46_Dev_0_-_2023-01-31_16.33.53_OD4.4.ARSENL.nc\n",
      "02.) OD47_Dev_0_-_2023-01-31_16.37.15_OD4.6.ARSENL.nc\n",
      "03.) OD48_Dev_0_-_2023-01-31_18.09.40_OD4.9.ARSENL.nc\n",
      "04.) OD49_Dev_0_-_2023-01-31_16.40.28_OD4.8.ARSENL.nc\n",
      "05.) OD50_Dev_0_-_2023-01-31_16.43.48_OD5.0.ARSENL.nc\n"
     ]
    }
   ],
   "source": [
    "file_lst = sorted(glob.glob(os.path.join(data_path,'*.ARSENL.nc')))\n",
    "for fidx,file in enumerate(file_lst):\n",
    "    print(f\"{fidx:02d}.) \"+file.split(os.sep)[-1])"
   ]
  },
  {
   "cell_type": "code",
   "execution_count": 249,
   "id": "0969d805",
   "metadata": {},
   "outputs": [],
   "source": [
    "file_sel = 0\n",
    "ds = xr.open_dataset(file_lst[file_sel])"
   ]
  },
  {
   "cell_type": "code",
   "execution_count": 250,
   "id": "d982248a",
   "metadata": {},
   "outputs": [],
   "source": [
    "tD = 250e-9 # deadtime of PicoQuant Board\n",
    "\n",
    "# set limits on what to processes (in ps)\n",
    "min_time = 29.9e3\n",
    "max_time = 33.4e3\n",
    "t_int = np.linspace(min_time,max_time,1000)  # integration time histogram\n",
    "t_plt = np.linspace(min_time*1e-12,max_time*1e-12,200)"
   ]
  },
  {
   "cell_type": "code",
   "execution_count": 251,
   "id": "1208336b",
   "metadata": {},
   "outputs": [
    {
     "data": {
      "text/html": [
       "<div><svg style=\"position: absolute; width: 0; height: 0; overflow: hidden\">\n",
       "<defs>\n",
       "<symbol id=\"icon-database\" viewBox=\"0 0 32 32\">\n",
       "<path d=\"M16 0c-8.837 0-16 2.239-16 5v4c0 2.761 7.163 5 16 5s16-2.239 16-5v-4c0-2.761-7.163-5-16-5z\"></path>\n",
       "<path d=\"M16 17c-8.837 0-16-2.239-16-5v6c0 2.761 7.163 5 16 5s16-2.239 16-5v-6c0 2.761-7.163 5-16 5z\"></path>\n",
       "<path d=\"M16 26c-8.837 0-16-2.239-16-5v6c0 2.761 7.163 5 16 5s16-2.239 16-5v-6c0 2.761-7.163 5-16 5z\"></path>\n",
       "</symbol>\n",
       "<symbol id=\"icon-file-text2\" viewBox=\"0 0 32 32\">\n",
       "<path d=\"M28.681 7.159c-0.694-0.947-1.662-2.053-2.724-3.116s-2.169-2.030-3.116-2.724c-1.612-1.182-2.393-1.319-2.841-1.319h-15.5c-1.378 0-2.5 1.121-2.5 2.5v27c0 1.378 1.122 2.5 2.5 2.5h23c1.378 0 2.5-1.122 2.5-2.5v-19.5c0-0.448-0.137-1.23-1.319-2.841zM24.543 5.457c0.959 0.959 1.712 1.825 2.268 2.543h-4.811v-4.811c0.718 0.556 1.584 1.309 2.543 2.268zM28 29.5c0 0.271-0.229 0.5-0.5 0.5h-23c-0.271 0-0.5-0.229-0.5-0.5v-27c0-0.271 0.229-0.5 0.5-0.5 0 0 15.499-0 15.5 0v7c0 0.552 0.448 1 1 1h7v19.5z\"></path>\n",
       "<path d=\"M23 26h-14c-0.552 0-1-0.448-1-1s0.448-1 1-1h14c0.552 0 1 0.448 1 1s-0.448 1-1 1z\"></path>\n",
       "<path d=\"M23 22h-14c-0.552 0-1-0.448-1-1s0.448-1 1-1h14c0.552 0 1 0.448 1 1s-0.448 1-1 1z\"></path>\n",
       "<path d=\"M23 18h-14c-0.552 0-1-0.448-1-1s0.448-1 1-1h14c0.552 0 1 0.448 1 1s-0.448 1-1 1z\"></path>\n",
       "</symbol>\n",
       "</defs>\n",
       "</svg>\n",
       "<style>/* CSS stylesheet for displaying xarray objects in jupyterlab.\n",
       " *\n",
       " */\n",
       "\n",
       ":root {\n",
       "  --xr-font-color0: var(--jp-content-font-color0, rgba(0, 0, 0, 1));\n",
       "  --xr-font-color2: var(--jp-content-font-color2, rgba(0, 0, 0, 0.54));\n",
       "  --xr-font-color3: var(--jp-content-font-color3, rgba(0, 0, 0, 0.38));\n",
       "  --xr-border-color: var(--jp-border-color2, #e0e0e0);\n",
       "  --xr-disabled-color: var(--jp-layout-color3, #bdbdbd);\n",
       "  --xr-background-color: var(--jp-layout-color0, white);\n",
       "  --xr-background-color-row-even: var(--jp-layout-color1, white);\n",
       "  --xr-background-color-row-odd: var(--jp-layout-color2, #eeeeee);\n",
       "}\n",
       "\n",
       "html[theme=dark],\n",
       "body.vscode-dark {\n",
       "  --xr-font-color0: rgba(255, 255, 255, 1);\n",
       "  --xr-font-color2: rgba(255, 255, 255, 0.54);\n",
       "  --xr-font-color3: rgba(255, 255, 255, 0.38);\n",
       "  --xr-border-color: #1F1F1F;\n",
       "  --xr-disabled-color: #515151;\n",
       "  --xr-background-color: #111111;\n",
       "  --xr-background-color-row-even: #111111;\n",
       "  --xr-background-color-row-odd: #313131;\n",
       "}\n",
       "\n",
       ".xr-wrap {\n",
       "  display: block;\n",
       "  min-width: 300px;\n",
       "  max-width: 700px;\n",
       "}\n",
       "\n",
       ".xr-text-repr-fallback {\n",
       "  /* fallback to plain text repr when CSS is not injected (untrusted notebook) */\n",
       "  display: none;\n",
       "}\n",
       "\n",
       ".xr-header {\n",
       "  padding-top: 6px;\n",
       "  padding-bottom: 6px;\n",
       "  margin-bottom: 4px;\n",
       "  border-bottom: solid 1px var(--xr-border-color);\n",
       "}\n",
       "\n",
       ".xr-header > div,\n",
       ".xr-header > ul {\n",
       "  display: inline;\n",
       "  margin-top: 0;\n",
       "  margin-bottom: 0;\n",
       "}\n",
       "\n",
       ".xr-obj-type,\n",
       ".xr-array-name {\n",
       "  margin-left: 2px;\n",
       "  margin-right: 10px;\n",
       "}\n",
       "\n",
       ".xr-obj-type {\n",
       "  color: var(--xr-font-color2);\n",
       "}\n",
       "\n",
       ".xr-sections {\n",
       "  padding-left: 0 !important;\n",
       "  display: grid;\n",
       "  grid-template-columns: 150px auto auto 1fr 20px 20px;\n",
       "}\n",
       "\n",
       ".xr-section-item {\n",
       "  display: contents;\n",
       "}\n",
       "\n",
       ".xr-section-item input {\n",
       "  display: none;\n",
       "}\n",
       "\n",
       ".xr-section-item input + label {\n",
       "  color: var(--xr-disabled-color);\n",
       "}\n",
       "\n",
       ".xr-section-item input:enabled + label {\n",
       "  cursor: pointer;\n",
       "  color: var(--xr-font-color2);\n",
       "}\n",
       "\n",
       ".xr-section-item input:enabled + label:hover {\n",
       "  color: var(--xr-font-color0);\n",
       "}\n",
       "\n",
       ".xr-section-summary {\n",
       "  grid-column: 1;\n",
       "  color: var(--xr-font-color2);\n",
       "  font-weight: 500;\n",
       "}\n",
       "\n",
       ".xr-section-summary > span {\n",
       "  display: inline-block;\n",
       "  padding-left: 0.5em;\n",
       "}\n",
       "\n",
       ".xr-section-summary-in:disabled + label {\n",
       "  color: var(--xr-font-color2);\n",
       "}\n",
       "\n",
       ".xr-section-summary-in + label:before {\n",
       "  display: inline-block;\n",
       "  content: '►';\n",
       "  font-size: 11px;\n",
       "  width: 15px;\n",
       "  text-align: center;\n",
       "}\n",
       "\n",
       ".xr-section-summary-in:disabled + label:before {\n",
       "  color: var(--xr-disabled-color);\n",
       "}\n",
       "\n",
       ".xr-section-summary-in:checked + label:before {\n",
       "  content: '▼';\n",
       "}\n",
       "\n",
       ".xr-section-summary-in:checked + label > span {\n",
       "  display: none;\n",
       "}\n",
       "\n",
       ".xr-section-summary,\n",
       ".xr-section-inline-details {\n",
       "  padding-top: 4px;\n",
       "  padding-bottom: 4px;\n",
       "}\n",
       "\n",
       ".xr-section-inline-details {\n",
       "  grid-column: 2 / -1;\n",
       "}\n",
       "\n",
       ".xr-section-details {\n",
       "  display: none;\n",
       "  grid-column: 1 / -1;\n",
       "  margin-bottom: 5px;\n",
       "}\n",
       "\n",
       ".xr-section-summary-in:checked ~ .xr-section-details {\n",
       "  display: contents;\n",
       "}\n",
       "\n",
       ".xr-array-wrap {\n",
       "  grid-column: 1 / -1;\n",
       "  display: grid;\n",
       "  grid-template-columns: 20px auto;\n",
       "}\n",
       "\n",
       ".xr-array-wrap > label {\n",
       "  grid-column: 1;\n",
       "  vertical-align: top;\n",
       "}\n",
       "\n",
       ".xr-preview {\n",
       "  color: var(--xr-font-color3);\n",
       "}\n",
       "\n",
       ".xr-array-preview,\n",
       ".xr-array-data {\n",
       "  padding: 0 5px !important;\n",
       "  grid-column: 2;\n",
       "}\n",
       "\n",
       ".xr-array-data,\n",
       ".xr-array-in:checked ~ .xr-array-preview {\n",
       "  display: none;\n",
       "}\n",
       "\n",
       ".xr-array-in:checked ~ .xr-array-data,\n",
       ".xr-array-preview {\n",
       "  display: inline-block;\n",
       "}\n",
       "\n",
       ".xr-dim-list {\n",
       "  display: inline-block !important;\n",
       "  list-style: none;\n",
       "  padding: 0 !important;\n",
       "  margin: 0;\n",
       "}\n",
       "\n",
       ".xr-dim-list li {\n",
       "  display: inline-block;\n",
       "  padding: 0;\n",
       "  margin: 0;\n",
       "}\n",
       "\n",
       ".xr-dim-list:before {\n",
       "  content: '(';\n",
       "}\n",
       "\n",
       ".xr-dim-list:after {\n",
       "  content: ')';\n",
       "}\n",
       "\n",
       ".xr-dim-list li:not(:last-child):after {\n",
       "  content: ',';\n",
       "  padding-right: 5px;\n",
       "}\n",
       "\n",
       ".xr-has-index {\n",
       "  font-weight: bold;\n",
       "}\n",
       "\n",
       ".xr-var-list,\n",
       ".xr-var-item {\n",
       "  display: contents;\n",
       "}\n",
       "\n",
       ".xr-var-item > div,\n",
       ".xr-var-item label,\n",
       ".xr-var-item > .xr-var-name span {\n",
       "  background-color: var(--xr-background-color-row-even);\n",
       "  margin-bottom: 0;\n",
       "}\n",
       "\n",
       ".xr-var-item > .xr-var-name:hover span {\n",
       "  padding-right: 5px;\n",
       "}\n",
       "\n",
       ".xr-var-list > li:nth-child(odd) > div,\n",
       ".xr-var-list > li:nth-child(odd) > label,\n",
       ".xr-var-list > li:nth-child(odd) > .xr-var-name span {\n",
       "  background-color: var(--xr-background-color-row-odd);\n",
       "}\n",
       "\n",
       ".xr-var-name {\n",
       "  grid-column: 1;\n",
       "}\n",
       "\n",
       ".xr-var-dims {\n",
       "  grid-column: 2;\n",
       "}\n",
       "\n",
       ".xr-var-dtype {\n",
       "  grid-column: 3;\n",
       "  text-align: right;\n",
       "  color: var(--xr-font-color2);\n",
       "}\n",
       "\n",
       ".xr-var-preview {\n",
       "  grid-column: 4;\n",
       "}\n",
       "\n",
       ".xr-var-name,\n",
       ".xr-var-dims,\n",
       ".xr-var-dtype,\n",
       ".xr-preview,\n",
       ".xr-attrs dt {\n",
       "  white-space: nowrap;\n",
       "  overflow: hidden;\n",
       "  text-overflow: ellipsis;\n",
       "  padding-right: 10px;\n",
       "}\n",
       "\n",
       ".xr-var-name:hover,\n",
       ".xr-var-dims:hover,\n",
       ".xr-var-dtype:hover,\n",
       ".xr-attrs dt:hover {\n",
       "  overflow: visible;\n",
       "  width: auto;\n",
       "  z-index: 1;\n",
       "}\n",
       "\n",
       ".xr-var-attrs,\n",
       ".xr-var-data {\n",
       "  display: none;\n",
       "  background-color: var(--xr-background-color) !important;\n",
       "  padding-bottom: 5px !important;\n",
       "}\n",
       "\n",
       ".xr-var-attrs-in:checked ~ .xr-var-attrs,\n",
       ".xr-var-data-in:checked ~ .xr-var-data {\n",
       "  display: block;\n",
       "}\n",
       "\n",
       ".xr-var-data > table {\n",
       "  float: right;\n",
       "}\n",
       "\n",
       ".xr-var-name span,\n",
       ".xr-var-data,\n",
       ".xr-attrs {\n",
       "  padding-left: 25px !important;\n",
       "}\n",
       "\n",
       ".xr-attrs,\n",
       ".xr-var-attrs,\n",
       ".xr-var-data {\n",
       "  grid-column: 1 / -1;\n",
       "}\n",
       "\n",
       "dl.xr-attrs {\n",
       "  padding: 0;\n",
       "  margin: 0;\n",
       "  display: grid;\n",
       "  grid-template-columns: 125px auto;\n",
       "}\n",
       "\n",
       ".xr-attrs dt,\n",
       ".xr-attrs dd {\n",
       "  padding: 0;\n",
       "  margin: 0;\n",
       "  float: left;\n",
       "  padding-right: 10px;\n",
       "  width: auto;\n",
       "}\n",
       "\n",
       ".xr-attrs dt {\n",
       "  font-weight: normal;\n",
       "  grid-column: 1;\n",
       "}\n",
       "\n",
       ".xr-attrs dt:hover span {\n",
       "  display: inline-block;\n",
       "  background: var(--xr-background-color);\n",
       "  padding-right: 10px;\n",
       "}\n",
       "\n",
       ".xr-attrs dd {\n",
       "  grid-column: 2;\n",
       "  white-space: pre-wrap;\n",
       "  word-break: break-all;\n",
       "}\n",
       "\n",
       ".xr-icon-database,\n",
       ".xr-icon-file-text2 {\n",
       "  display: inline-block;\n",
       "  vertical-align: middle;\n",
       "  width: 1em;\n",
       "  height: 1.5em !important;\n",
       "  stroke-width: 0;\n",
       "  stroke: currentColor;\n",
       "  fill: currentColor;\n",
       "}\n",
       "</style><pre class='xr-text-repr-fallback'>&lt;xarray.Dataset&gt;\n",
       "Dimensions:              (time_tag_index: 1593623, sync_index: 1603141)\n",
       "Coordinates:\n",
       "  * sync_index           (sync_index) uint64 1 2 3 4 ... 1603139 1603140 1603141\n",
       "Dimensions without coordinates: time_tag_index\n",
       "Data variables:\n",
       "    time_tag             (time_tag_index) int64 ...\n",
       "    time_tag_diff        (time_tag_index) int64 ...\n",
       "    time_tag_sync_index  (time_tag_index) uint64 ...\n",
       "    sync_ux_time         (sync_index) datetime64[ns] ...\n",
       "    sync_ux_time_us      (sync_index) timedelta64[ns] ...\n",
       "    sync_diff_time       (sync_index) int64 ...\n",
       "    sync_delta           (sync_index) int64 ...</pre><div class='xr-wrap' hidden><div class='xr-header'><div class='xr-obj-type'>xarray.Dataset</div></div><ul class='xr-sections'><li class='xr-section-item'><input id='section-30f66af4-a7ae-41eb-8b95-80c4f804679d' class='xr-section-summary-in' type='checkbox' disabled ><label for='section-30f66af4-a7ae-41eb-8b95-80c4f804679d' class='xr-section-summary'  title='Expand/collapse section'>Dimensions:</label><div class='xr-section-inline-details'><ul class='xr-dim-list'><li><span>time_tag_index</span>: 1593623</li><li><span class='xr-has-index'>sync_index</span>: 1603141</li></ul></div><div class='xr-section-details'></div></li><li class='xr-section-item'><input id='section-451005b9-7ef3-46d4-8ba4-0e1b4a671648' class='xr-section-summary-in' type='checkbox'  checked><label for='section-451005b9-7ef3-46d4-8ba4-0e1b4a671648' class='xr-section-summary' >Coordinates: <span>(1)</span></label><div class='xr-section-inline-details'></div><div class='xr-section-details'><ul class='xr-var-list'><li class='xr-var-item'><div class='xr-var-name'><span class='xr-has-index'>sync_index</span></div><div class='xr-var-dims'>(sync_index)</div><div class='xr-var-dtype'>uint64</div><div class='xr-var-preview xr-preview'>1 2 3 4 ... 1603139 1603140 1603141</div><input id='attrs-6fbcb0d0-5fb0-43ef-b147-872f4a230205' class='xr-var-attrs-in' type='checkbox' ><label for='attrs-6fbcb0d0-5fb0-43ef-b147-872f4a230205' title='Show/Hide attributes'><svg class='icon xr-icon-file-text2'><use xlink:href='#icon-file-text2'></use></svg></label><input id='data-3227ad11-21f8-44fb-b93f-2dcb1a2dacd5' class='xr-var-data-in' type='checkbox'><label for='data-3227ad11-21f8-44fb-b93f-2dcb1a2dacd5' title='Show/Hide data repr'><svg class='icon xr-icon-database'><use xlink:href='#icon-database'></use></svg></label><div class='xr-var-attrs'><dl class='xr-attrs'><dt><span>description :</span></dt><dd>Sync counter</dd><dt><span>units :</span></dt><dd>none</dd><dt><span>device :</span></dt><dd>dev</dd></dl></div><div class='xr-var-data'><pre>array([      1,       2,       3, ..., 1603139, 1603140, 1603141], dtype=uint64)</pre></div></li></ul></div></li><li class='xr-section-item'><input id='section-6d0dc79b-829c-4946-b662-d90366929f00' class='xr-section-summary-in' type='checkbox'  checked><label for='section-6d0dc79b-829c-4946-b662-d90366929f00' class='xr-section-summary' >Data variables: <span>(7)</span></label><div class='xr-section-inline-details'></div><div class='xr-section-details'><ul class='xr-var-list'><li class='xr-var-item'><div class='xr-var-name'><span>time_tag</span></div><div class='xr-var-dims'>(time_tag_index)</div><div class='xr-var-dtype'>int64</div><div class='xr-var-preview xr-preview'>...</div><input id='attrs-c673f1c4-6b05-4d9d-94d7-fc5b2a3c5383' class='xr-var-attrs-in' type='checkbox' ><label for='attrs-c673f1c4-6b05-4d9d-94d7-fc5b2a3c5383' title='Show/Hide attributes'><svg class='icon xr-icon-file-text2'><use xlink:href='#icon-file-text2'></use></svg></label><input id='data-f284face-11a1-4ea7-9235-60458f76046e' class='xr-var-data-in' type='checkbox'><label for='data-f284face-11a1-4ea7-9235-60458f76046e' title='Show/Hide data repr'><svg class='icon xr-icon-database'><use xlink:href='#icon-database'></use></svg></label><div class='xr-var-attrs'><dl class='xr-attrs'><dt><span>description :</span></dt><dd>Photon relative time tag, with 25 ps per count</dd><dt><span>units :</span></dt><dd>clock counts</dd><dt><span>clock units :</span></dt><dd>ps</dd><dt><span>device :</span></dt><dd>dev</dd><dt><span>clock conversion :</span></dt><dd>25.0</dd></dl></div><div class='xr-var-data'><pre>[1593623 values with dtype=int64]</pre></div></li><li class='xr-var-item'><div class='xr-var-name'><span>time_tag_diff</span></div><div class='xr-var-dims'>(time_tag_index)</div><div class='xr-var-dtype'>int64</div><div class='xr-var-preview xr-preview'>...</div><input id='attrs-8c4fc8b0-a215-43eb-a4ec-5a9ca4f34266' class='xr-var-attrs-in' type='checkbox' ><label for='attrs-8c4fc8b0-a215-43eb-a4ec-5a9ca4f34266' title='Show/Hide attributes'><svg class='icon xr-icon-file-text2'><use xlink:href='#icon-file-text2'></use></svg></label><input id='data-7ad97e50-6be6-481e-bc85-f48d947561b5' class='xr-var-data-in' type='checkbox'><label for='data-7ad97e50-6be6-481e-bc85-f48d947561b5' title='Show/Hide data repr'><svg class='icon xr-icon-database'><use xlink:href='#icon-database'></use></svg></label><div class='xr-var-attrs'><dl class='xr-attrs'><dt><span>description :</span></dt><dd>Time in clock counts (25 ps) since previous time tag</dd><dt><span>units :</span></dt><dd>clock counts</dd><dt><span>clock units :</span></dt><dd>ps</dd><dt><span>device :</span></dt><dd>dev</dd><dt><span>clock conversion :</span></dt><dd>25.0</dd></dl></div><div class='xr-var-data'><pre>[1593623 values with dtype=int64]</pre></div></li><li class='xr-var-item'><div class='xr-var-name'><span>time_tag_sync_index</span></div><div class='xr-var-dims'>(time_tag_index)</div><div class='xr-var-dtype'>uint64</div><div class='xr-var-preview xr-preview'>...</div><input id='attrs-1b8cf6a6-ede9-4609-a5a7-b91ba490dc61' class='xr-var-attrs-in' type='checkbox' ><label for='attrs-1b8cf6a6-ede9-4609-a5a7-b91ba490dc61' title='Show/Hide attributes'><svg class='icon xr-icon-file-text2'><use xlink:href='#icon-file-text2'></use></svg></label><input id='data-9ca2a697-0caf-4828-a8cd-7b0828f22a0f' class='xr-var-data-in' type='checkbox'><label for='data-9ca2a697-0caf-4828-a8cd-7b0828f22a0f' title='Show/Hide data repr'><svg class='icon xr-icon-database'><use xlink:href='#icon-database'></use></svg></label><div class='xr-var-attrs'><dl class='xr-attrs'><dt><span>description :</span></dt><dd>Sync counter value corresponding to the time tag</dd><dt><span>units :</span></dt><dd>none</dd><dt><span>device :</span></dt><dd>dev</dd></dl></div><div class='xr-var-data'><pre>[1593623 values with dtype=uint64]</pre></div></li><li class='xr-var-item'><div class='xr-var-name'><span>sync_ux_time</span></div><div class='xr-var-dims'>(sync_index)</div><div class='xr-var-dtype'>datetime64[ns]</div><div class='xr-var-preview xr-preview'>...</div><input id='attrs-c3e3088c-4a00-45b2-af52-546bd9e1b45a' class='xr-var-attrs-in' type='checkbox' ><label for='attrs-c3e3088c-4a00-45b2-af52-546bd9e1b45a' title='Show/Hide attributes'><svg class='icon xr-icon-file-text2'><use xlink:href='#icon-file-text2'></use></svg></label><input id='data-47502c7e-9d22-41bd-bb92-aee07ae7133a' class='xr-var-data-in' type='checkbox'><label for='data-47502c7e-9d22-41bd-bb92-aee07ae7133a' title='Show/Hide data repr'><svg class='icon xr-icon-database'><use xlink:href='#icon-database'></use></svg></label><div class='xr-var-attrs'><dl class='xr-attrs'><dt><span>device :</span></dt><dd>dev</dd><dt><span>description :</span></dt><dd>Unix time record for sync pulse</dd></dl></div><div class='xr-var-data'><pre>[1603141 values with dtype=datetime64[ns]]</pre></div></li><li class='xr-var-item'><div class='xr-var-name'><span>sync_ux_time_us</span></div><div class='xr-var-dims'>(sync_index)</div><div class='xr-var-dtype'>timedelta64[ns]</div><div class='xr-var-preview xr-preview'>...</div><input id='attrs-470b65ac-1c81-43f6-b30f-e0410557539e' class='xr-var-attrs-in' type='checkbox' ><label for='attrs-470b65ac-1c81-43f6-b30f-e0410557539e' title='Show/Hide attributes'><svg class='icon xr-icon-file-text2'><use xlink:href='#icon-file-text2'></use></svg></label><input id='data-dfdaef0b-c421-461c-b909-01305b299ff0' class='xr-var-data-in' type='checkbox'><label for='data-dfdaef0b-c421-461c-b909-01305b299ff0' title='Show/Hide data repr'><svg class='icon xr-icon-database'><use xlink:href='#icon-database'></use></svg></label><div class='xr-var-attrs'><dl class='xr-attrs'><dt><span>device :</span></dt><dd>dev</dd><dt><span>description :</span></dt><dd>microseconds precision for unix time</dd></dl></div><div class='xr-var-data'><pre>[1603141 values with dtype=timedelta64[ns]]</pre></div></li><li class='xr-var-item'><div class='xr-var-name'><span>sync_diff_time</span></div><div class='xr-var-dims'>(sync_index)</div><div class='xr-var-dtype'>int64</div><div class='xr-var-preview xr-preview'>...</div><input id='attrs-c07d0bbd-db69-4790-bb01-37ca2817a577' class='xr-var-attrs-in' type='checkbox' ><label for='attrs-c07d0bbd-db69-4790-bb01-37ca2817a577' title='Show/Hide attributes'><svg class='icon xr-icon-file-text2'><use xlink:href='#icon-file-text2'></use></svg></label><input id='data-c109bf76-15a4-4546-8a9b-c08bd4760062' class='xr-var-data-in' type='checkbox'><label for='data-c109bf76-15a4-4546-8a9b-c08bd4760062' title='Show/Hide data repr'><svg class='icon xr-icon-database'><use xlink:href='#icon-database'></use></svg></label><div class='xr-var-attrs'><dl class='xr-attrs'><dt><span>description :</span></dt><dd>Time tag record for sync pulses</dd><dt><span>units :</span></dt><dd>clock counts</dd><dt><span>clock units :</span></dt><dd>ps</dd><dt><span>device :</span></dt><dd>dev</dd><dt><span>clock conversion :</span></dt><dd>25.0</dd></dl></div><div class='xr-var-data'><pre>[1603141 values with dtype=int64]</pre></div></li><li class='xr-var-item'><div class='xr-var-name'><span>sync_delta</span></div><div class='xr-var-dims'>(sync_index)</div><div class='xr-var-dtype'>int64</div><div class='xr-var-preview xr-preview'>...</div><input id='attrs-e885515f-9549-4f6a-a227-6115526d7764' class='xr-var-attrs-in' type='checkbox' ><label for='attrs-e885515f-9549-4f6a-a227-6115526d7764' title='Show/Hide attributes'><svg class='icon xr-icon-file-text2'><use xlink:href='#icon-file-text2'></use></svg></label><input id='data-c6abca50-e4c4-43c1-9541-55cf88b3ff82' class='xr-var-data-in' type='checkbox'><label for='data-c6abca50-e4c4-43c1-9541-55cf88b3ff82' title='Show/Hide data repr'><svg class='icon xr-icon-database'><use xlink:href='#icon-database'></use></svg></label><div class='xr-var-attrs'><dl class='xr-attrs'><dt><span>description :</span></dt><dd>time difference between this and last pulse</dd><dt><span>units :</span></dt><dd>clock counts</dd><dt><span>clock units :</span></dt><dd>ps</dd><dt><span>device :</span></dt><dd>dev</dd><dt><span>clock conversion :</span></dt><dd>25.0</dd></dl></div><div class='xr-var-data'><pre>[1603141 values with dtype=int64]</pre></div></li></ul></div></li><li class='xr-section-item'><input id='section-62b2d45d-58a6-4922-8931-0bd2b86edd7e' class='xr-section-summary-in' type='checkbox' disabled ><label for='section-62b2d45d-58a6-4922-8931-0bd2b86edd7e' class='xr-section-summary'  title='Expand/collapse section'>Attributes: <span>(0)</span></label><div class='xr-section-inline-details'></div><div class='xr-section-details'><dl class='xr-attrs'></dl></div></li></ul></div></div>"
      ],
      "text/plain": [
       "<xarray.Dataset>\n",
       "Dimensions:              (time_tag_index: 1593623, sync_index: 1603141)\n",
       "Coordinates:\n",
       "  * sync_index           (sync_index) uint64 1 2 3 4 ... 1603139 1603140 1603141\n",
       "Dimensions without coordinates: time_tag_index\n",
       "Data variables:\n",
       "    time_tag             (time_tag_index) int64 ...\n",
       "    time_tag_diff        (time_tag_index) int64 ...\n",
       "    time_tag_sync_index  (time_tag_index) uint64 ...\n",
       "    sync_ux_time         (sync_index) datetime64[ns] ...\n",
       "    sync_ux_time_us      (sync_index) timedelta64[ns] ...\n",
       "    sync_diff_time       (sync_index) int64 ...\n",
       "    sync_delta           (sync_index) int64 ..."
      ]
     },
     "execution_count": 251,
     "metadata": {},
     "output_type": "execute_result"
    }
   ],
   "source": [
    "ds"
   ]
  },
  {
   "cell_type": "code",
   "execution_count": 252,
   "id": "0e53e1e8",
   "metadata": {},
   "outputs": [],
   "source": [
    "# identify data where the sync spacing is valid\n",
    "sync_time_diff = ds['sync_delta'].values*ds['time_tag'].attrs['clock conversion']\n",
    "invalid_sync_idx = np.unique(ds['sync_index'].values[np.where((sync_time_diff < 65e6) | (sync_time_diff > 75e6))[0]-1])\n",
    "valid_sync_idx = ds['sync_index'].values[np.where((sync_time_diff > 65e6) & (sync_time_diff < 75e6))[0]-1]"
   ]
  },
  {
   "cell_type": "code",
   "execution_count": 259,
   "id": "176146f9",
   "metadata": {},
   "outputs": [
    {
     "data": {
      "text/plain": [
       "14146.447561771347"
      ]
     },
     "execution_count": 259,
     "metadata": {},
     "output_type": "execute_result"
    }
   ],
   "source": [
    "1/np.median(sync_time_diff*1e-12)"
   ]
  },
  {
   "cell_type": "code",
   "execution_count": 261,
   "id": "101de3ce",
   "metadata": {},
   "outputs": [
    {
     "data": {
      "text/plain": [
       "{'description': 'Photon relative time tag, with 25 ps per count',\n",
       " 'units': 'clock counts',\n",
       " 'clock units': 'ps',\n",
       " 'device': 'dev',\n",
       " 'clock conversion': 25.0}"
      ]
     },
     "execution_count": 261,
     "metadata": {},
     "output_type": "execute_result"
    }
   ],
   "source": [
    "ds['time_tag'].attrs"
   ]
  },
  {
   "cell_type": "code",
   "execution_count": 253,
   "id": "a5329053",
   "metadata": {},
   "outputs": [],
   "source": [
    "time_tags = ds['time_tag'].values*ds['time_tag'].attrs['clock conversion']\n",
    "time_tag_sync = ds['time_tag_sync_index'].values\n",
    "time_tag_diff = ds['time_tag_diff'].values*ds['time_tag'].attrs['clock conversion']\n",
    "\n",
    "# get the profile end times from sync time\n",
    "sync_cnt_end = np.diff(ds['sync_diff_time'].values)\n",
    "# neg_prof_idx = np.where(sync_t_end < 0)\n",
    "# sync_cnt_end[neg_prof_idx] = sync_cnt_end[neg_prof_idx]+rollover_count+1\n",
    "# sync_cnt_end = np.concatenate((sync_cnt_end,sync_cnt_end[-1:]))\n",
    "# sync_t_end = sync_cnt_end*ds['time_tag'].attrs['clock conversion']\n",
    "\n",
    "# filter out invalid data where the sync pulse got missed\n",
    "valid_time_tag_idx = np.where(np.in1d(time_tag_sync,valid_sync_idx))\n",
    "time_tags = time_tags[valid_time_tag_idx]\n",
    "time_tag_sync = time_tag_sync[valid_time_tag_idx]\n",
    "time_tag_diff = time_tag_diff[valid_time_tag_idx]\n",
    "# sync_t_end = sync_t_end[valid_sync_idx]\n",
    "\n",
    "# create an array that indicates when the acquisition system\n",
    "# was armed for detection prior to each detection\n",
    "# TODO switch to integration limits t_int_lo and t_int_hi\n",
    "#    this should probably go above the valid index filtering\n",
    "# t_int_lo = time_tags + tD*1e12\n",
    "# t_lo_sync = time_tag_sync.copy()\n",
    "# t_over_idx = np.where(t_int_lo >= sync_t_end[])\n",
    "# time_arm = time_tags-time_tag_diff+tD*1e12\n",
    "# time_arm = np.maximum(np.minimum(time_arm,max_time),min_time)\n",
    "\n",
    "# thin the data into training and validation sets\n",
    "sync_idx_trn = valid_sync_idx[::2]\n",
    "sync_idx_vld = valid_sync_idx[1::2]\n",
    "\n",
    "# training time tags\n",
    "trn_idx = np.where(np.in1d(time_tag_sync,sync_idx_trn))\n",
    "t_det_trn = time_tags[trn_idx]\n",
    "tag_sync_idx_trn = time_tag_sync[trn_idx]\n",
    "t_diff_trn = time_tag_diff[trn_idx]\n",
    "# time_arm_vld = time_arm[trn_idx]\n",
    "Ntrn = sync_idx_trn.size  # number of training laser shots\n",
    "Nemty_trn = np.sum(np.logical_not(np.in1d(sync_idx_trn,tag_sync_idx_trn)))\n",
    "\n",
    "\n",
    "# validation time tags\n",
    "vld_idx = np.where(np.in1d(time_tag_sync,sync_idx_vld))\n",
    "t_det_vld = time_tags[vld_idx]\n",
    "tag_sync_idx_vld = time_tag_sync[vld_idx]\n",
    "t_diff_vld = time_tag_diff[vld_idx]\n",
    "# time_arm_vld = time_arm[vld_idx]\n",
    "Nvld = sync_idx_vld.size  # number of validation laser shots\n",
    "Nemty_trn = np.sum(np.logical_not(np.in1d(sync_idx_vld,tag_sync_idx_vld)))"
   ]
  },
  {
   "cell_type": "code",
   "execution_count": 254,
   "id": "be77e5b3",
   "metadata": {},
   "outputs": [
    {
     "data": {
      "text/plain": [
       "array([  25771,  489492,  489941,  819865,  917148, 1141903, 1191402,\n",
       "       1476767, 1603141], dtype=uint64)"
      ]
     },
     "execution_count": 254,
     "metadata": {},
     "output_type": "execute_result"
    }
   ],
   "source": [
    "invalid_sync_idx"
   ]
  },
  {
   "cell_type": "code",
   "execution_count": null,
   "id": "c7ae8d04",
   "metadata": {},
   "outputs": [],
   "source": [
    "# define detector deadtime in seconds\n",
    "detector_deadtime = 28.85e-9\n",
    "ds['sync_delta'].values"
   ]
  },
  {
   "cell_type": "code",
   "execution_count": 332,
   "id": "2d5a5535",
   "metadata": {},
   "outputs": [],
   "source": [
    "# def int_hist(t_int,sync_arr,tt_arr,tt_sync,tD,split=2):\n",
    "\"\"\"\n",
    "Create a histogram to approximate integration\n",
    "t_int: np.array\n",
    "    integration time grid\n",
    "sync_arr: np.ndarray\n",
    "    array containing a list of the sync identifiers\n",
    "tt_arr; np.ndarray\n",
    "    array containing all the time tags\n",
    "tt_sync: np.ndarray\n",
    "    array containing the sync identifier corresponding\n",
    "    to tt_arr\n",
    "tD: float\n",
    "    deadtime\n",
    "split: int\n",
    "    number of datasets to split into for fit/validation/test\n",
    "\"\"\"\n",
    "dt = 0.1e3\n",
    "t_bins = np.arange(0,5000e3,dt)\n",
    "sync_arr = ds['sync_index'].values\n",
    "sync_idx_arr = (np.where((sync_time_diff > 65e6) & (sync_time_diff < 75e6))[0]-1)[:2000000]\n",
    "# sync_arr = valid_sync_idx\n",
    "sync_diff = sync_time_diff\n",
    "tt_sync = time_tag_sync\n",
    "tt_arr = time_tags\n",
    "tD = 28.85*1e3\n",
    "split = 2\n",
    "\n",
    "\n",
    "h_tt_lst = []\n",
    "h_int_lst = []\n",
    "shot_count_lst = []\n",
    "for idx in range(split):\n",
    "    h_tt_lst.append(np.zeros(t_bins.size-1))\n",
    "    h_int_lst.append(np.zeros(t_bins.size-1))\n",
    "    shot_count_lst.append(0)\n",
    "\n",
    "\n",
    "int_dt_lst = []\n",
    "int_t_lst = []\n",
    "# dt = np.median(np.diff(t_bins))\n",
    "last_t = -1e3\n",
    "last_sync = -1e3\n",
    "split_idx = 0\n",
    "for sync_idx in sync_idx_arr:\n",
    "    shot_count_lst[split_idx] += 1\n",
    "    if sync_idx > last_sync + 1:\n",
    "        last_t = last_t - sync_diff[sync_idx-1]\n",
    "        \n",
    "    tt_sub_arr = tt_arr[np.where(tt_sync == sync_idx)]\n",
    "    if tt_sub_arr.size == 0:\n",
    "        # empty data\n",
    "        idx_1 = np.argmin(np.abs(t_bins-(last_t+tD)))\n",
    "        h_int_lst[split_idx][idx_1:] += dt\n",
    "        \n",
    "    else:\n",
    "        # not empty data\n",
    "        h_tt_lst[split_idx] += np.histogram(tt_sub_arr,bins=t_bins)[0]\n",
    "        tt_sub_arr = np.concatenate((np.array([last_t]),tt_sub_arr))\n",
    "        dt_sub_arr = tt_sub_arr+tD\n",
    "        int_hist = 1-np.sum((tt_sub_arr[:,np.newaxis] <= t_bins[np.newaxis,:]) * (dt_sub_arr[:,np.newaxis] > t_bins[np.newaxis,:]),axis=0)\n",
    "        h_int_lst[split_idx] += int_hist[:-1]*dt\n",
    "        \n",
    "        last_t = np.max(tt_sub_arr) - sync_diff[sync_idx]\n",
    "\n",
    "    split_idx = np.mod(split_idx+1,split)"
   ]
  },
  {
   "cell_type": "code",
   "execution_count": 335,
   "id": "0ca83fd7",
   "metadata": {},
   "outputs": [
    {
     "data": {
      "text/plain": [
       "[801566, 801566]"
      ]
     },
     "execution_count": 335,
     "metadata": {},
     "output_type": "execute_result"
    }
   ],
   "source": [
    "shot_count_lst"
   ]
  },
  {
   "cell_type": "code",
   "execution_count": 334,
   "id": "54de5c14",
   "metadata": {},
   "outputs": [
    {
     "name": "stdout",
     "output_type": "stream",
     "text": [
      "801566\n"
     ]
    },
    {
     "data": {
      "text/plain": [
       "(0.0, 100.0)"
      ]
     },
     "execution_count": 334,
     "metadata": {},
     "output_type": "execute_result"
    },
    {
     "data": {
      "image/png": "[encoded data removed]",
      "text/plain": [
       "<Figure size 432x288 with 1 Axes>"
      ]
     },
     "metadata": {
      "needs_background": "light"
     },
     "output_type": "display_data"
    },
    {
     "data": {
      "image/png": "[encoded data removed]",
      "text/plain": [
       "<Figure size 432x288 with 1 Axes>"
      ]
     },
     "metadata": {
      "needs_background": "light"
     },
     "output_type": "display_data"
    }
   ],
   "source": [
    "print(shot_count_lst[1])\n",
    "plt.figure()\n",
    "plt.plot(t_bins[:-1]*1e-3,h_int_lst[1]/dt/shot_count_lst[1])\n",
    "plt.xlim([0,100])\n",
    "\n",
    "plt.figure()\n",
    "plt.plot(t_bins[:-1]*1e-3,h_tt_lst[1]/shot_count_lst[1])\n",
    "plt.xlim([0,100])"
   ]
  },
  {
   "cell_type": "code",
   "execution_count": 318,
   "id": "c53caf6b",
   "metadata": {},
   "outputs": [
    {
     "data": {
      "text/plain": [
       "296436"
      ]
     },
     "execution_count": 318,
     "metadata": {},
     "output_type": "execute_result"
    }
   ],
   "source": [
    "sync_idx"
   ]
  },
  {
   "cell_type": "code",
   "execution_count": 320,
   "id": "514bf9be",
   "metadata": {},
   "outputs": [
    {
     "data": {
      "text/plain": [
       "array([      0,       1,       2, ..., 1603137, 1603138, 1603139])"
      ]
     },
     "execution_count": 320,
     "metadata": {},
     "output_type": "execute_result"
    }
   ],
   "source": [
    "sync_idx_arr"
   ]
  },
  {
   "cell_type": "code",
   "execution_count": 276,
   "id": "a7998b47",
   "metadata": {},
   "outputs": [
    {
     "data": {
      "text/plain": [
       "array([29200.])"
      ]
     },
     "execution_count": 276,
     "metadata": {},
     "output_type": "execute_result"
    }
   ],
   "source": [
    "tt_sub_arr"
   ]
  },
  {
   "cell_type": "code",
   "execution_count": 297,
   "id": "131f2059",
   "metadata": {},
   "outputs": [],
   "source": [
    "tt_sub_arr = np.array([29200, 186530])\n",
    "dt_sub_arr = tt_sub_arr+tD"
   ]
  },
  {
   "cell_type": "code",
   "execution_count": 310,
   "id": "87f0a108",
   "metadata": {},
   "outputs": [
    {
     "data": {
      "text/plain": [
       "(0.0, 1000000.0)"
      ]
     },
     "execution_count": 310,
     "metadata": {},
     "output_type": "execute_result"
    },
    {
     "data": {
      "image/png": "[encoded data removed]",
      "text/plain": [
       "<Figure size 432x288 with 1 Axes>"
      ]
     },
     "metadata": {
      "needs_background": "light"
     },
     "output_type": "display_data"
    }
   ],
   "source": [
    "\n",
    "plt.figure()\n",
    "plt.plot(t_bins,((tt_sub_arr[:,np.newaxis] <= t_bins[np.newaxis,:]) * (dt_sub_arr[:,np.newaxis] > t_bins[np.newaxis,:])).T)\n",
    "# plt.plot(t_bins,1-np.sum((tt_sub_arr[:,np.newaxis] <= t_bins[np.newaxis,:]) * (dt_sub_arr[:,np.newaxis] > t_bins[np.newaxis,:]),axis=0))\n",
    "plt.xlim([0,1e6])"
   ]
  },
  {
   "cell_type": "code",
   "execution_count": 286,
   "id": "ab36d15f",
   "metadata": {},
   "outputs": [
    {
     "ename": "ValueError",
     "evalue": "operands could not be broadcast together with shapes (2,2) (50000,) ",
     "output_type": "error",
     "traceback": [
      "\u001b[0;31m---------------------------------------------------------------------------\u001b[0m",
      "\u001b[0;31mValueError\u001b[0m                                Traceback (most recent call last)",
      "\u001b[0;32m<ipython-input-286-98219703860c>\u001b[0m in \u001b[0;36m<module>\u001b[0;34m\u001b[0m\n\u001b[0;32m----> 1\u001b[0;31m \u001b[0mnp\u001b[0m\u001b[0;34m.\u001b[0m\u001b[0mstack\u001b[0m\u001b[0;34m(\u001b[0m\u001b[0;34m(\u001b[0m\u001b[0mtt_sub_arr\u001b[0m\u001b[0;34m,\u001b[0m\u001b[0mdt_sub_arr\u001b[0m\u001b[0;34m)\u001b[0m\u001b[0;34m,\u001b[0m\u001b[0maxis\u001b[0m\u001b[0;34m=\u001b[0m\u001b[0;36m1\u001b[0m\u001b[0;34m)\u001b[0m \u001b[0;34m>\u001b[0m \u001b[0mt_bins\u001b[0m\u001b[0;34m\u001b[0m\u001b[0;34m\u001b[0m\u001b[0m\n\u001b[0m",
      "\u001b[0;31mValueError\u001b[0m: operands could not be broadcast together with shapes (2,2) (50000,) "
     ]
    }
   ],
   "source": [
    "np.stack((tt_sub_arr,dt_sub_arr),axis=1) > t_bins"
   ]
  },
  {
   "cell_type": "code",
   "execution_count": 271,
   "id": "58290ef8",
   "metadata": {},
   "outputs": [
    {
     "data": {
      "text/plain": [
       "5.0"
      ]
     },
     "execution_count": 271,
     "metadata": {},
     "output_type": "execute_result"
    }
   ],
   "source": [
    "np.sum(h_tt_lst[0])"
   ]
  },
  {
   "cell_type": "code",
   "execution_count": 272,
   "id": "397042a1",
   "metadata": {},
   "outputs": [
    {
     "data": {
      "text/plain": [
       "array([100., 100., 100., ..., 100., 100., 100.])"
      ]
     },
     "execution_count": 272,
     "metadata": {},
     "output_type": "execute_result"
    }
   ],
   "source": [
    "h_int_lst[0]"
   ]
  },
  {
   "cell_type": "code",
   "execution_count": 269,
   "id": "2cd902da",
   "metadata": {},
   "outputs": [
    {
     "data": {
      "text/plain": [
       "100.00000000000001"
      ]
     },
     "execution_count": 269,
     "metadata": {},
     "output_type": "execute_result"
    }
   ],
   "source": [
    "dt"
   ]
  },
  {
   "cell_type": "code",
   "execution_count": 255,
   "id": "8617cb3b",
   "metadata": {},
   "outputs": [
    {
     "data": {
      "text/plain": [
       "Text(0.5, 0, 'time [ns]')"
      ]
     },
     "execution_count": 255,
     "metadata": {},
     "output_type": "execute_result"
    },
    {
     "data": {
      "image/png": "[encoded data removed]",
      "text/plain": [
       "<Figure size 432x288 with 1 Axes>"
      ]
     },
     "metadata": {
      "needs_background": "light"
     },
     "output_type": "display_data"
    }
   ],
   "source": [
    "h_time_tag_diff = np.histogram(time_tag_diff,bins=np.arange(28e3,30e3,0.1e3))\n",
    "plt.figure()\n",
    "plt.bar(h_time_tag_diff[1][:-1]*1e-3,h_time_tag_diff[0],width=np.diff(h_time_tag_diff[1]*1e-3))\n",
    "# plt.plot(h_time_tag_diff[1][:-1]*1e-3,h_time_tag_diff[0])\n",
    "plt.xlabel('time [ns]')"
   ]
  },
  {
   "cell_type": "code",
   "execution_count": 337,
   "id": "158a81ba",
   "metadata": {},
   "outputs": [
    {
     "data": {
      "text/plain": [
       "{'description': 'Photon relative time tag, with 25 ps per count',\n",
       " 'units': 'clock counts',\n",
       " 'clock units': 'ps',\n",
       " 'device': 'dev',\n",
       " 'clock conversion': 25.0}"
      ]
     },
     "execution_count": 337,
     "metadata": {},
     "output_type": "execute_result"
    }
   ],
   "source": [
    "ds['time_tag'].attrs"
   ]
  },
  {
   "cell_type": "code",
   "execution_count": 338,
   "id": "da0cc807",
   "metadata": {},
   "outputs": [
    {
     "data": {
      "text/plain": [
       "28.85"
      ]
     },
     "execution_count": 338,
     "metadata": {},
     "output_type": "execute_result"
    }
   ],
   "source": [
    "np.min(time_tag_diff)*1e-3"
   ]
  },
  {
   "cell_type": "code",
   "execution_count": 339,
   "id": "584752cc",
   "metadata": {},
   "outputs": [
    {
     "data": {
      "text/plain": [
       "1154.0"
      ]
     },
     "execution_count": 339,
     "metadata": {},
     "output_type": "execute_result"
    }
   ],
   "source": [
    "np.min(time_tag_diff)/ds['time_tag'].attrs['clock conversion']"
   ]
  },
  {
   "cell_type": "code",
   "execution_count": 221,
   "id": "a0875a05",
   "metadata": {},
   "outputs": [],
   "source": [
    "hist_lst = []"
   ]
  },
  {
   "cell_type": "code",
   "execution_count": 243,
   "id": "73e00e2c",
   "metadata": {},
   "outputs": [],
   "source": [
    "\n",
    "h_time_tag = np.histogram(time_tags,bins=np.arange(0,250e3,0.1e3))\n",
    "# plt.figure()\n",
    "# plt.bar(h_time_tag[1][:-1]*1e-3,h_time_tag[0],width=np.diff(h_time_tag[1]*1e-3))\n",
    "hist_lst.append(h_time_tag)"
   ]
  },
  {
   "cell_type": "code",
   "execution_count": 246,
   "id": "d659cb3b",
   "metadata": {},
   "outputs": [
    {
     "data": {
      "text/plain": [
       "(0.0, 100.0)"
      ]
     },
     "execution_count": 246,
     "metadata": {},
     "output_type": "execute_result"
    },
    {
     "data": {
      "image/png": "[encoded data removed]",
      "text/plain": [
       "<Figure size 1080x360 with 1 Axes>"
      ]
     },
     "metadata": {
      "needs_background": "light"
     },
     "output_type": "display_data"
    }
   ],
   "source": [
    "plt.figure(figsize=(15,5))\n",
    "for htt in hist_lst:\n",
    "    plt.plot(htt[1][:-1]*1e-3,htt[0])\n",
    "# plt.plot(h_time_tag[1][:-1]*1e-3,h_time_tag[0])\n",
    "plt.yscale('log')\n",
    "plt.ylabel('Photon Counts')\n",
    "plt.xlabel('time [ns]')\n",
    "plt.xlim([0,100])"
   ]
  },
  {
   "cell_type": "code",
   "execution_count": 172,
   "id": "570b0602",
   "metadata": {},
   "outputs": [
    {
     "data": {
      "text/plain": [
       "300.0"
      ]
     },
     "execution_count": 172,
     "metadata": {},
     "output_type": "execute_result"
    }
   ],
   "source": [
    "4*500e-9*3e8/2"
   ]
  },
  {
   "cell_type": "code",
   "execution_count": 23,
   "id": "45b235b9",
   "metadata": {},
   "outputs": [
    {
     "data": {
      "text/plain": [
       "[<matplotlib.lines.Line2D at 0x7fd3abafd3d0>]"
      ]
     },
     "execution_count": 23,
     "metadata": {},
     "output_type": "execute_result"
    },
    {
     "data": {
      "image/png": "[encoded data removed]",
      "text/plain": [
       "<Figure size 432x288 with 1 Axes>"
      ]
     },
     "metadata": {
      "needs_background": "light"
     },
     "output_type": "display_data"
    }
   ],
   "source": [
    "plt.figure()\n",
    "plt.plot(np.diff(time_tag_sync))"
   ]
  },
  {
   "cell_type": "code",
   "execution_count": 14,
   "id": "19f2a9d4",
   "metadata": {},
   "outputs": [
    {
     "data": {
      "text/plain": [
       "35"
      ]
     },
     "execution_count": 14,
     "metadata": {},
     "output_type": "execute_result"
    }
   ],
   "source": [
    "np.sum(np.logical_not(np.in1d(sync_idx_trn,time_tag_sync[trn_idx])))"
   ]
  },
  {
   "cell_type": "code",
   "execution_count": 15,
   "id": "de967965",
   "metadata": {},
   "outputs": [],
   "source": [
    "t_det_trn = t_det_trn[np.where((t_det_trn > min_time) & (t_det_trn < max_time))]\n",
    "t_det_vld = t_det_vld[np.where((t_det_vld > min_time) & (t_det_vld < max_time))]"
   ]
  },
  {
   "cell_type": "code",
   "execution_count": 16,
   "id": "6c9ca99b",
   "metadata": {},
   "outputs": [],
   "source": [
    "t_det_trn *= 1e-12\n",
    "t_det_vld *= 1e-12"
   ]
  },
  {
   "cell_type": "code",
   "execution_count": 17,
   "id": "cc42f019",
   "metadata": {},
   "outputs": [
    {
     "name": "stdout",
     "output_type": "stream",
     "text": [
      "Timing Board Clock: 25.0 ps\n"
     ]
    }
   ],
   "source": [
    "print(f\"Timing Board Clock: {ds['time_tag'].attrs['clock conversion']} \"+ds['time_tag'].attrs['clock units'])"
   ]
  },
  {
   "cell_type": "markdown",
   "id": "4c8a4b4b",
   "metadata": {},
   "source": [
    "# Perform Fit Using PyTorch\n",
    "Assume the target is described by a Gaussian with a constant background"
   ]
  },
  {
   "cell_type": "code",
   "execution_count": 18,
   "id": "90864389",
   "metadata": {},
   "outputs": [],
   "source": [
    "# convert training and validation data to \n",
    "# tensor type\n",
    "t_phot_fit_tnsr = torch.tensor(t_det_trn,dtype=dtype,device=device)\n",
    "t_phot_val_tnsr = torch.tensor(t_det_vld,dtype=dtype,device=device)"
   ]
  },
  {
   "cell_type": "markdown",
   "id": "9a2c5f5b",
   "metadata": {},
   "source": [
    "## Polynomial Fit"
   ]
  },
  {
   "cell_type": "code",
   "execution_count": 19,
   "id": "c886b70e",
   "metadata": {},
   "outputs": [],
   "source": [
    "# build the fit model as a NN module\n",
    "\n",
    "class Fit_Poly_Poisson(torch.nn.Module):\n",
    "    def __init__(self,t,t_min,t_max,Ntrn,order,mu=0.1,eps=1e-10):\n",
    "        \"\"\"\n",
    "        Instantiate and initialize the fit parameters.\n",
    "        t : torch.tensor\n",
    "            observed time tags\n",
    "        t_min : float\n",
    "            minimimum time in retrieval domain\n",
    "        t_max : float\n",
    "            maximum time in the retrieval domain\n",
    "        Ntrn : int\n",
    "            number of laser shots\n",
    "        order : int\n",
    "            fit polynomial order\n",
    "        mu : float\n",
    "            scaler for approximation of barrier function\n",
    "            mu > 0\n",
    "            approximation is more accurate for larger mu\n",
    "        eps : float\n",
    "            precision limit for positive result\n",
    "        \"\"\"\n",
    "        super().__init__()\n",
    "        \n",
    "        self.order = order\n",
    "        self.t_min = t_min # maximum time evaluated in integral term\n",
    "        self.t_max = t_max # maximum time evaluated in integral term\n",
    "        self.Ntrn = Ntrn\n",
    "        \n",
    "        self.poly_coef = chebyshev_poly(order)\n",
    "#         self.int_coef = chebyshev_poly_int(order)\n",
    "\n",
    "        self.t_int = np.linspace(t_min,t_max,1000)\n",
    "        self.dt_int = self.t_int[1] - self.t_int[0]\n",
    "        \n",
    "        self.treg = self.reg_time(t) # (t - 0.5*(t_max+t_min))/(t_max-t_min)\n",
    "        self.treg_int = self.reg_time(torch.tensor(self.t_int,dtype=dtype,device=device))\n",
    "#         self.dt_int = self.treg_int[1] - self.treg_int[0]\n",
    "#         self.treg_int = 2*torch.tensor([t_min,t_max],dtype=dtype,device=device)/(t_max-t_min) - 1\n",
    "        \n",
    "        self.x_mat = torch.ones((self.treg.shape[0],order+1),device=device,dtype=dtype)\n",
    "        self.x_int = torch.ones((self.treg_int.shape[0],order+1),device=device,dtype=dtype)\n",
    "        for idx in range(1,order+1):\n",
    "            self.x_mat[:,idx] = self.treg**idx\n",
    "            self.x_int[:,idx] = self.treg_int**idx\n",
    "            \n",
    "#         self.x_int = self.x_mat*self.treg[:,None]\n",
    "        \n",
    "        self.p_fit = torch.matmul(self.x_mat,self.poly_coef)\n",
    "        self.p_int = torch.matmul(self.x_int,self.poly_coef)\n",
    "#         self.p_int = torch.matmul(self.x_int,self.int_coef)\n",
    "        \n",
    "        # define actual fit coefficients\n",
    "        # torch.zeros(order+1,1,dtype=dtype,device=device)\n",
    "        \n",
    "        # Polynoial Coefficients\n",
    "        self.fit_coeff = torch.nn.Parameter(torch.tensor((np.random.rand(order+1,1)-0.5)*np.log(1e5),dtype=dtype,device=device))\n",
    "        \n",
    "#         self.fit_coeff = torch.nn.Parameter(torch.rand((order+1,1),dtype=dtype,device=device)*\\\n",
    "#                                             torch.exp(-10.0*torch.arange(order+1,dtype=dtype,device=device)[:,None]))\n",
    "        # Lagrange Multipliers\n",
    "#         self.mu = mu  \n",
    "        \n",
    "#         self.scale = torch.nn.Parameter(torch.rand((1,1),dtype=dtype,device=device)+np.log(1e9))\n",
    "\n",
    "    def forward(self):\n",
    "        \"\"\"\n",
    "        Forward model the profile for input time t.\n",
    "        Also return the integral.\n",
    "        \"\"\"\n",
    "        # calculate all the actual fit parameters\n",
    "        model_out, integral = self.eval_model()\n",
    "        \n",
    "        integral_out = integral[-1]*self.dt_int\n",
    "        \n",
    "        loss = self.Ntrn*integral_out-torch.sum(torch.log(model_out))\n",
    "        \n",
    "        # apply log barrier function\n",
    "#         loss = self.mu * loss - torch.sum(torch.log(model_out))\n",
    "        \n",
    "        return loss\n",
    "    \n",
    "    def set_mu(self,mu):\n",
    "        self.mu = mu\n",
    "    \n",
    "    def set_vld(self,t,Nvld):\n",
    "        \n",
    "        self.Nvld = Nvld\n",
    "        treg = self.reg_time(t)\n",
    "        self.x_mat_vld = self.x_matrix(treg)\n",
    "        self.p_fit_vld = torch.matmul(self.x_mat_vld,self.poly_coef)\n",
    "        \n",
    "    def vld_loss(self):\n",
    "        \n",
    "        model_out, integral = self.eval_vld()\n",
    "        \n",
    "        integral_out = integral[-1]*self.dt_int\n",
    "        \n",
    "        loss = self.Nvld*integral_out-torch.sum(torch.log(model_out)) \n",
    "        \n",
    "        return loss\n",
    "        \n",
    "    \n",
    "    def reg_time(self,t):\n",
    "        return (t - 0.5*(self.t_max+self.t_min))/(self.t_max-self.t_min)\n",
    "    \n",
    "    def x_matrix(self,treg):\n",
    "        x_mat = torch.ones((treg.shape[0],self.order+1),device=device,dtype=dtype)\n",
    "        for idx in range(1,self.order+1):\n",
    "            x_mat[:,idx] = treg**idx\n",
    "            \n",
    "        return x_mat\n",
    "    \n",
    "    def eval_model(self):\n",
    "        model_out = torch.exp(torch.matmul(self.p_fit,self.fit_coeff))\n",
    "        integral = torch.cumsum(torch.exp(torch.matmul(self.p_int,self.fit_coeff)),0)*self.dt_int\n",
    "        return model_out, integral\n",
    "    \n",
    "    def eval_vld(self):\n",
    "        model_out = torch.exp(torch.matmul(self.p_fit_vld,self.fit_coeff))\n",
    "        integral = torch.cumsum(torch.exp(torch.matmul(self.p_int,self.fit_coeff)),0)*self.dt_int\n",
    "        return model_out, integral\n",
    "        \n",
    "    def eval_new(self,t):\n",
    "        treg = self.reg_time(t)\n",
    "        x_mat = self.x_matrix(treg)\n",
    "        p_fit = torch.matmul(x_mat,self.poly_coef)\n",
    "        model_out = torch.exp(torch.matmul(p_fit,self.fit_coeff))*self.dt_int\n",
    "        \n",
    "        integral = torch.cumsum(torch.exp(torch.matmul(self.p_int,self.fit_coeff)),0)*self.dt_int\n",
    "        \n",
    "#         integral_out = integral[1] - integral[0]\n",
    "        \n",
    "        return model_out, integral\n",
    "\n",
    "# class Fit_Poly_Poisson(torch.nn.Module):\n",
    "#     def __init__(self,t,t_min,t_max,Ntrn,order,eps=1e-10):\n",
    "#         \"\"\"\n",
    "#         Instantiate and initialize the fit parameters.\n",
    "#         t : torch.tensor\n",
    "#             observed time tags\n",
    "#         t_min : float\n",
    "#             minimimum time in retrieval domain\n",
    "#         t_max : float\n",
    "#             maximum time in the retrieval domain\n",
    "#         Ntrn : int\n",
    "#             number of laser shots\n",
    "#         order : int\n",
    "#             fit polynomial order\n",
    "#         eps : float\n",
    "#             precision limit for positive result\n",
    "#         \"\"\"\n",
    "#         super().__init__()\n",
    "        \n",
    "#         self.order = order\n",
    "#         self.t_min = t_min # maximum time evaluated in integral term\n",
    "#         self.t_max = t_max # maximum time evaluated in integral term\n",
    "#         self.Ntrn = Ntrn\n",
    "        \n",
    "#         self.poly_coef = chebyshev_poly(order)\n",
    "#         self.int_coef = chebyshev_poly_int(order)\n",
    "        \n",
    "#         self.treg = self.reg_time(t) # (t - 0.5*(t_max+t_min))/(t_max-t_min)\n",
    "#         self.treg_int = self.reg_time(torch.tensor([t_min,t_max],dtype=dtype,device=device))\n",
    "# #         self.treg_int = 2*torch.tensor([t_min,t_max],dtype=dtype,device=device)/(t_max-t_min) - 1\n",
    "        \n",
    "#         self.x_mat = torch.ones((self.treg.shape[0],order+1),device=device,dtype=dtype)\n",
    "#         self.x_int = torch.ones((2,order+1),device=device,dtype=dtype)\n",
    "#         for idx in range(1,order+1):\n",
    "#             self.x_mat[:,idx] = self.treg**idx\n",
    "#             self.x_int[:,idx] = self.treg_int**(idx+1)\n",
    "            \n",
    "# #         self.x_int = self.x_mat*self.treg[:,None]\n",
    "        \n",
    "#         self.p_fit = torch.matmul(self.x_mat,self.poly_coef)\n",
    "#         self.p_int = torch.matmul(self.x_int,self.int_coef)\n",
    "        \n",
    "#         # define actual fit coefficients\n",
    "#         # torch.zeros(order+1,1,dtype=dtype,device=device)\n",
    "        \n",
    "#         # Polynoial Coefficients\n",
    "#         self.fit_coeff = torch.nn.Parameter(torch.rand((order+1,1),dtype=dtype,device=device)*\\\n",
    "#                                             torch.exp(-10.0*torch.arange(order+1,dtype=dtype,device=device)[:,None]))\n",
    "#         # Lagrange Multipliers\n",
    "#         self.mu = torch.nn.Parameter(torch.rand(self.treg.shape[0],1,dtype=dtype,device=device))  \n",
    "        \n",
    "#         self.scale = torch.nn.Parameter(torch.rand((1,1),dtype=dtype,device=device)+np.log(1e9))\n",
    "\n",
    "#     def forward(self):\n",
    "#         \"\"\"\n",
    "#         Forward model the profile for input time t.\n",
    "#         Also return the integral.\n",
    "#         \"\"\"\n",
    "#         # calculate all the actual fit parameters\n",
    "#         model_out, integral = self.eval_model()\n",
    "        \n",
    "#         integral_out = integral[1] - integral[0]\n",
    "        \n",
    "#         loss = self.Ntrn*integral_out-torch.sum(torch.log(model_out)) - torch.matmul(torch.exp(self.mu).T,model_out)\n",
    "        \n",
    "#         return loss\n",
    "    \n",
    "#     def set_vld(self,t,Nvld):\n",
    "        \n",
    "#         self.Nvld = Nvld\n",
    "#         treg = self.reg_time(t)\n",
    "#         self.x_mat_vld = self.x_matrix(treg)\n",
    "#         self.p_fit_vld = torch.matmul(self.x_mat_vld,self.poly_coef)\n",
    "        \n",
    "#     def vld_loss(self):\n",
    "        \n",
    "#         model_out, integral = self.eval_vld()\n",
    "        \n",
    "#         integral_out = integral[1] - integral[0]\n",
    "        \n",
    "#         loss = self.Nvld*integral_out-torch.sum(torch.log(model_out)) \n",
    "        \n",
    "#         return loss\n",
    "        \n",
    "    \n",
    "#     def reg_time(self,t):\n",
    "#         return (t - 0.5*(self.t_max+self.t_min))/(self.t_max-self.t_min)\n",
    "    \n",
    "#     def x_matrix(self,treg):\n",
    "#         x_mat = torch.ones((treg.shape[0],self.order+1),device=device,dtype=dtype)\n",
    "#         for idx in range(1,self.order+1):\n",
    "#             x_mat[:,idx] = treg**idx\n",
    "            \n",
    "#         return x_mat\n",
    "    \n",
    "#     def eval_model(self):\n",
    "#         model_out = torch.exp(self.scale)*torch.matmul(self.p_fit,self.fit_coeff)\n",
    "#         integral = torch.exp(self.scale)*torch.matmul(self.p_int,self.fit_coeff)\n",
    "#         return model_out, integral\n",
    "    \n",
    "#     def eval_vld(self):\n",
    "#         model_out = torch.exp(self.scale)*torch.matmul(self.p_fit_vld,self.fit_coeff)+1e-20\n",
    "#         integral = torch.exp(self.scale)*torch.matmul(self.p_int,self.fit_coeff)\n",
    "#         return model_out, integral\n",
    "        \n",
    "#     def eval_new(self,t):\n",
    "#         treg = self.reg_time(t)\n",
    "#         x_mat = self.x_matrix(treg)\n",
    "#         p_fit = torch.matmul(x_mat,self.poly_coef)\n",
    "#         model_out = torch.exp(self.scale)*torch.matmul(p_fit,self.fit_coeff)\n",
    "        \n",
    "#         integral = torch.matmul(self.p_int,self.fit_coeff)\n",
    "        \n",
    "#         integral_out = torch.exp(self.scale)*(integral[1] - integral[0])\n",
    "        \n",
    "#         return model_out, integral_out\n",
    "\n",
    "# # build the fit model as a NN module\n",
    "# class Fit_Poly_Poisson(torch.nn.Module):\n",
    "#     def __init__(self,t,t_min,t_max,order):\n",
    "#         \"\"\"\n",
    "#         Instantiate and initialize the fit parameters.\n",
    "#         \"\"\"\n",
    "#         super().__init__()\n",
    "        \n",
    "#         self.order = order\n",
    "#         self.t_min = t_min # maximum time evaluated in integral term\n",
    "#         self.t_max = t_max # maximum time evaluated in integral term\n",
    "        \n",
    "#         self.poly_coef = chebyshev_poly(order)\n",
    "#         self.int_coef = chebyshev_poly_int(order)\n",
    "        \n",
    "#         self.treg = (t - 0.5*(t_max+t_min))/(t_max-t_min)\n",
    "#         self.treg_int = 2*torch.tensor([t_min,t_max],dtype=dtype,device=device)/(t_max-t_min) - 1\n",
    "        \n",
    "#         self.x_mat = torch.ones((self.treg.shape[0],order+1),device=device,dtype=dtype)\n",
    "#         self.x_int = torch.ones((2,order+1),device=device,dtype=dtype)\n",
    "#         for idx in range(1,order+1):\n",
    "#             self.x_mat[:,idx] = self.treg**idx\n",
    "#             self.x_int[:,idx] = self.treg_int**(idx+1)\n",
    "            \n",
    "# #         self.x_int = self.x_mat*self.treg[:,None]\n",
    "        \n",
    "#         self.p_fit = torch.matmul(self.x_mat,self.poly_coef)\n",
    "#         self.p_int = torch.matmul(self.x_int,self.int_coef)\n",
    "        \n",
    "#         # define actual fit coefficients\n",
    "#         # torch.zeros(order+1,1,dtype=dtype,device=device)\n",
    "#         self.fit_coeff = torch.nn.Parameter(torch.rand((order+1,1),dtype=dtype,device=device))\n",
    "\n",
    "#     def forward(self):\n",
    "#         \"\"\"\n",
    "#         Forward model the profile for input time t.\n",
    "#         Also return the integral.\n",
    "#         \"\"\"\n",
    "#         # calculate all the actual fit parameters\n",
    "#         model_out = torch.nn.functional.relu(torch.matmul(self.p_fit,self.fit_coeff))+1e-20\n",
    "        \n",
    "#         integral = torch.matmul(self.p_int,self.fit_coeff)\n",
    "        \n",
    "#         integral_out = integral[1] - integral[0]\n",
    "        \n",
    "#         return model_out, integral_out\n",
    "    \n",
    "#     def set_vld(self,t):\n",
    "        \n",
    "#         treg = self.reg_time(t)\n",
    "#         self.x_mat_vld = self.x_matrix(treg)\n",
    "#         self.p_fit_vld = torch.matmul(self.x_mat_vld,self.poly_coef)\n",
    "        \n",
    "#     def eval_vld(self):\n",
    "        \n",
    "#         model_out = torch.nn.functional.relu(torch.matmul(self.p_fit_vld,self.fit_coeff))+1e-20\n",
    "        \n",
    "#         integral = torch.matmul(self.p_int,self.fit_coeff)\n",
    "        \n",
    "#         integral_out = integral[1] - integral[0]\n",
    "        \n",
    "#         return model_out, integral_out\n",
    "        \n",
    "    \n",
    "#     def reg_time(self,t):\n",
    "#         return (t - 0.5*(self.t_max+self.t_min))/(self.t_max-self.t_min)\n",
    "    \n",
    "#     def x_matrix(self,treg):\n",
    "#         x_mat = torch.ones((treg.shape[0],self.order+1),device=device,dtype=dtype)\n",
    "#         for idx in range(1,self.order+1):\n",
    "#             x_mat[:,idx] = treg**idx\n",
    "            \n",
    "#         return x_mat\n",
    "        \n",
    "#     def eval_new(self,t):\n",
    "#         treg = self.reg_time(t)\n",
    "#         x_mat = self.x_matrix(treg)\n",
    "#         p_fit = torch.matmul(x_mat,self.poly_coef)\n",
    "#         model_out = torch.nn.functional.relu(torch.matmul(p_fit,self.fit_coeff))+1e-20\n",
    "        \n",
    "#         integral = torch.matmul(self.p_int,self.fit_coeff)\n",
    "        \n",
    "#         integral_out = torch.nn.functional.relu(integral[1] - integral[0])\n",
    "        \n",
    "#         return model_out, integral_out\n",
    "        "
   ]
  },
  {
   "cell_type": "code",
   "execution_count": 20,
   "id": "7c50c230",
   "metadata": {},
   "outputs": [],
   "source": [
    "def pois_loss(prof,integral):\n",
    "    \"\"\"\n",
    "    Poisson point process loss function\n",
    "    prof: estimated photon arrival rate evaluated at\n",
    "        each time tag\n",
    "    integral: integral of prof at t_max\n",
    "    \"\"\"\n",
    "    return integral-torch.sum(torch.log(prof))\n",
    "\n",
    "def pass_loss(loss):\n",
    "    return loss"
   ]
  },
  {
   "cell_type": "code",
   "execution_count": 21,
   "id": "431de2a5",
   "metadata": {},
   "outputs": [],
   "source": [
    "# optimization parameters\n",
    "rel_step_lim = 1e-8  # termination criteria based on step size\n",
    "max_epochs = 1000     # maximum number of iterations/epochs\n",
    "learning_rate = 1e-1  # ADAM learning rate\n",
    "term_persist = 20     # relative step size averaging interval in iterations"
   ]
  },
  {
   "cell_type": "code",
   "execution_count": 22,
   "id": "b96b6d88",
   "metadata": {},
   "outputs": [],
   "source": [
    "# initialize for fit loop\n",
    "fit_model = Fit_Poly_Poisson(t_phot_fit_tnsr,min_time*1e-12,max_time*1e-12,Ntrn,10,eps=100.0)\n",
    "fit_model.set_vld(t_phot_val_tnsr,Nvld)\n",
    "optimizer = torch.optim.Adam(fit_model.parameters(),lr=learning_rate)\n",
    "epoch=0\n",
    "rel_step = 1e3*rel_step_lim\n",
    "train_loss_lst = []\n",
    "valid_loss_lst = []\n",
    "rel_step_lst = []"
   ]
  },
  {
   "cell_type": "code",
   "execution_count": 24,
   "id": "e2efc94f",
   "metadata": {},
   "outputs": [
    {
     "data": {
      "text/plain": [
       "[<matplotlib.lines.Line2D at 0x7facc99c9940>]"
      ]
     },
     "execution_count": 24,
     "metadata": {},
     "output_type": "execute_result"
    },
    {
     "data": {
      "image/png": "[encoded data removed]",
      "text/plain": [
       "<Figure size 432x288 with 1 Axes>"
      ]
     },
     "metadata": {
      "needs_background": "light"
     },
     "output_type": "display_data"
    }
   ],
   "source": [
    "pred_curve0,integral = fit_model.eval_new(torch.tensor(t_plt,dtype=dtype,device=device))\n",
    "plt.figure()\n",
    "plt.plot(t_plt*1e9,pred_curve0.detach().numpy()*Ntrn,'-',label='$f(x)$',linewidth=3) # dh_bins*"
   ]
  },
  {
   "cell_type": "code",
   "execution_count": 25,
   "id": "39a67653",
   "metadata": {},
   "outputs": [
    {
     "data": {
      "text/plain": [
       "Parameter containing:\n",
       "tensor([[ 5.3937],\n",
       "        [-5.2457],\n",
       "        [-2.8724],\n",
       "        [-0.5478],\n",
       "        [ 5.0581],\n",
       "        [ 3.4523],\n",
       "        [ 3.7256],\n",
       "        [ 0.5008],\n",
       "        [ 2.3741],\n",
       "        [-5.5439],\n",
       "        [-5.2671]], dtype=torch.float64, requires_grad=True)"
      ]
     },
     "execution_count": 25,
     "metadata": {},
     "output_type": "execute_result"
    }
   ],
   "source": [
    "fit_model.fit_coeff"
   ]
  },
  {
   "cell_type": "code",
   "execution_count": 26,
   "id": "6733cc2c",
   "metadata": {},
   "outputs": [
    {
     "data": {
      "text/plain": [
       "tensor(-0.4643, dtype=torch.float64)"
      ]
     },
     "execution_count": 26,
     "metadata": {},
     "output_type": "execute_result"
    }
   ],
   "source": [
    "fit_model.treg.min()"
   ]
  },
  {
   "cell_type": "code",
   "execution_count": 27,
   "id": "9d674ce7",
   "metadata": {},
   "outputs": [],
   "source": [
    "# set the loss function to use a \n",
    "# Poisson point process likelihood function\n",
    "# loss_fn = pois_loss\n",
    "loss_fn = pass_loss"
   ]
  },
  {
   "cell_type": "code",
   "execution_count": 28,
   "id": "ef6b9a7b",
   "metadata": {},
   "outputs": [],
   "source": [
    "# perform fit\n",
    "epoch=0\n",
    "while rel_step > rel_step_lim and epoch < max_epochs:\n",
    "    fit_model.train()\n",
    "    loss = fit_model()\n",
    "#     pred,integral = fit_model()\n",
    "#     loss = loss_fn(pred,integral*Ntrn)  # add regularization here\n",
    "    train_loss_lst +=[loss.item()]\n",
    "\n",
    "    # calculate relative step as an average over the last\n",
    "    # term_persist iterations\n",
    "    if epoch == 0:\n",
    "        rel_step_lst+=[1e3*rel_step_lim]\n",
    "        rel_step = 1e3*rel_step_lim\n",
    "    else:\n",
    "        rel_step_lst+=[(train_loss_lst[-2]-train_loss_lst[-1])/np.abs(train_loss_lst[-2])]\n",
    "        rel_step = np.abs(np.array(rel_step_lst)[-term_persist:].mean())\n",
    "    \n",
    "    # calculate validation loss... for fun\n",
    "#     pred_val,integral_val = fit_model.eval_vld()\n",
    "#     loss_val = loss_fn(pred_val,integral_val*Nvld)\n",
    "    loss_val = fit_model.vld_loss()\n",
    "    valid_loss_lst +=[loss_val.item()]\n",
    "\n",
    "    # update estimated parameters\n",
    "    loss.backward()\n",
    "    optimizer.step()\n",
    "    \n",
    "    # zero out the gradient for the next step\n",
    "    optimizer.zero_grad()\n",
    "\n",
    "#     print(f\"{train_loss_lst[-1]}\")\n",
    "    \n",
    "    epoch+=1"
   ]
  },
  {
   "cell_type": "code",
   "execution_count": 29,
   "id": "f57f209e",
   "metadata": {},
   "outputs": [
    {
     "name": "stdout",
     "output_type": "stream",
     "text": [
      "Validation Loss: tensor([-27824033.4607], dtype=torch.float64, grad_fn=<SubBackward0>)\n"
     ]
    }
   ],
   "source": [
    "# calculate the validation loss.\n",
    "# we would use this to determine optimimal tuning parameters\n",
    "# if we had any (e.g. Polynomial Order)\n",
    "loss_val = fit_model.vld_loss()\n",
    "# pred_val,integral_val = fit_model.eval_vld()\n",
    "# loss_val = loss_fn(pred_val,integral_val*Nvld)\n",
    "print(f\"Validation Loss: {loss_val}\")"
   ]
  },
  {
   "cell_type": "code",
   "execution_count": 30,
   "id": "05530c1a",
   "metadata": {},
   "outputs": [
    {
     "data": {
      "text/plain": [
       "1.4419767131210115e-07"
      ]
     },
     "execution_count": 30,
     "metadata": {},
     "output_type": "execute_result"
    }
   ],
   "source": [
    "rel_step"
   ]
  },
  {
   "cell_type": "code",
   "execution_count": 31,
   "id": "acd704df",
   "metadata": {},
   "outputs": [
    {
     "data": {
      "text/plain": [
       "<matplotlib.legend.Legend at 0x7facc9a15370>"
      ]
     },
     "execution_count": 31,
     "metadata": {},
     "output_type": "execute_result"
    },
    {
     "data": {
      "image/png": "[encoded data removed]",
      "text/plain": [
       "<Figure size 432x288 with 1 Axes>"
      ]
     },
     "metadata": {
      "needs_background": "light"
     },
     "output_type": "display_data"
    }
   ],
   "source": [
    "# plot the loss over iterations\n",
    "plt.figure()\n",
    "plt.plot(train_loss_lst,label='fit loss')\n",
    "plt.plot(valid_loss_lst,label='validation loss')\n",
    "plt.xlabel('fit iteration')\n",
    "plt.ylabel('Poisson NLL')\n",
    "plt.legend()"
   ]
  },
  {
   "cell_type": "code",
   "execution_count": 32,
   "id": "1f4b16b6",
   "metadata": {},
   "outputs": [
    {
     "data": {
      "text/plain": [
       "<matplotlib.legend.Legend at 0x7fad081330a0>"
      ]
     },
     "execution_count": 32,
     "metadata": {},
     "output_type": "execute_result"
    },
    {
     "data": {
      "image/png": "[encoded data removed]",
      "text/plain": [
       "<Figure size 432x288 with 1 Axes>"
      ]
     },
     "metadata": {
      "needs_background": "light"
     },
     "output_type": "display_data"
    }
   ],
   "source": [
    "h_phot = np.histogram(t_det_trn,bins=np.arange(t_plt[0],t_plt[-1],100e-12))\n",
    "dh_bins = np.median(np.diff(h_phot[1]))\n",
    "pred_curve,integral = fit_model.eval_new(torch.tensor(t_plt,dtype=dtype,device=device))\n",
    "plt.figure()\n",
    "plt.bar(1e9*h_phot[1][:-1],h_phot[0],label='$y$',align='edge',width=1e9*np.diff(h_phot[1]),alpha=0.3)\n",
    "plt.plot(t_plt*1e9,pred_curve.detach().numpy()*dh_bins*Ntrn,'-',label='$f(x)$',linewidth=3) # /cnt_phot_fit\n",
    "plt.xlabel('time [ns]')\n",
    "plt.ylabel('Photon Counts')\n",
    "plt.legend()"
   ]
  },
  {
   "cell_type": "code",
   "execution_count": 33,
   "id": "386c64bc",
   "metadata": {},
   "outputs": [
    {
     "data": {
      "text/plain": [
       "[<matplotlib.lines.Line2D at 0x7facc98ef8e0>]"
      ]
     },
     "execution_count": 33,
     "metadata": {},
     "output_type": "execute_result"
    },
    {
     "data": {
      "image/png": "[encoded data removed]",
      "text/plain": [
       "<Figure size 432x288 with 1 Axes>"
      ]
     },
     "metadata": {
      "needs_background": "light"
     },
     "output_type": "display_data"
    }
   ],
   "source": [
    "plt.figure()\n",
    "plt.plot(fit_model.treg.detach().numpy(),fit_model.eval_model()[0].detach().numpy(),'.')"
   ]
  },
  {
   "cell_type": "code",
   "execution_count": 34,
   "id": "ee1ad626",
   "metadata": {},
   "outputs": [],
   "source": [
    "pred_curve2,integral2 = fit_model.eval_model()"
   ]
  },
  {
   "cell_type": "code",
   "execution_count": 35,
   "id": "3c3dea6d",
   "metadata": {},
   "outputs": [
    {
     "data": {
      "text/plain": [
       "[<matplotlib.lines.Line2D at 0x7facc9fb5b20>]"
      ]
     },
     "execution_count": 35,
     "metadata": {},
     "output_type": "execute_result"
    },
    {
     "data": {
      "image/png": "[encoded data removed]",
      "text/plain": [
       "<Figure size 432x288 with 1 Axes>"
      ]
     },
     "metadata": {
      "needs_background": "light"
     },
     "output_type": "display_data"
    }
   ],
   "source": [
    "plt.figure()\n",
    "plt.plot(fit_model.treg_int.detach().numpy(),integral.detach().numpy()*fit_model.dt_int)\n",
    "plt.plot(fit_model.reg_time(t_plt),np.cumsum(pred_curve.detach().numpy())*np.mean(np.diff(t_plt)))\n",
    "plt.plot(fit_model.treg_int.detach().numpy(),integral2.detach().numpy()*fit_model.dt_int)"
   ]
  },
  {
   "cell_type": "code",
   "execution_count": 36,
   "id": "ec524b26",
   "metadata": {},
   "outputs": [
    {
     "data": {
      "text/plain": [
       "0.9973123765805061"
      ]
     },
     "execution_count": 36,
     "metadata": {},
     "output_type": "execute_result"
    }
   ],
   "source": [
    "np.trapz(pred_curve.detach().numpy().flatten(),t_plt)"
   ]
  },
  {
   "cell_type": "code",
   "execution_count": 37,
   "id": "88925c82",
   "metadata": {},
   "outputs": [
    {
     "data": {
      "text/plain": [
       "3.5035035035037535e-12"
      ]
     },
     "execution_count": 37,
     "metadata": {},
     "output_type": "execute_result"
    }
   ],
   "source": [
    "fit_model.dt_int"
   ]
  },
  {
   "cell_type": "code",
   "execution_count": 38,
   "id": "48765a9b",
   "metadata": {},
   "outputs": [
    {
     "data": {
      "text/plain": [
       "tensor(2.1117e-15, dtype=torch.float64, grad_fn=<MinBackward1>)"
      ]
     },
     "execution_count": 38,
     "metadata": {},
     "output_type": "execute_result"
    }
   ],
   "source": [
    "pred_curve.min()"
   ]
  },
  {
   "cell_type": "markdown",
   "id": "32b8a68a",
   "metadata": {},
   "source": [
    "## Gaussian Fit"
   ]
  },
  {
   "cell_type": "code",
   "execution_count": 29,
   "id": "025e5ec0",
   "metadata": {},
   "outputs": [],
   "source": [
    "# build the fit model as a NN module\n",
    "class Fit_Pulse_Poisson(torch.nn.Module):\n",
    "    def __init__(self,t_min,t_max):\n",
    "        \"\"\"\n",
    "        Instantiate and initialize the fit parameters.\n",
    "        \"\"\"\n",
    "        super().__init__()\n",
    "        self.log_A = torch.nn.Parameter(7*torch.ones(()))   # Gaussian amplitude\n",
    "        self.log_mu = torch.nn.Parameter(-17.28*torch.ones(()))  # Gaussian mean\n",
    "        self.log_sig = torch.nn.Parameter(-21.4*torch.ones(())) # Gaussian std\n",
    "#         self.log_b = torch.nn.Parameter(0*torch.ones(()))      # background\n",
    "\n",
    "        self.t_min = t_min # maximum time evaluated in integral term\n",
    "        self.t_max = t_max # maximum time evaluated in integral term\n",
    "        \n",
    "        self.sqrt_2pi = torch.sqrt(torch.tensor(2*np.pi))\n",
    "        self.sqrt_2  = torch.sqrt(torch.tensor(2.0))\n",
    "        \n",
    "\n",
    "    def forward(self, t):\n",
    "        \"\"\"\n",
    "        Forward model the profile for input time t.\n",
    "        Also return the integral.\n",
    "        \"\"\"\n",
    "        # calculate all the actual fit parameters\n",
    "        A = torch.exp(self.log_A)\n",
    "        mu = torch.exp(self.log_mu)\n",
    "        sig = torch.exp(self.log_sig)\n",
    "#         b = torch.exp(self.log_b)\n",
    "        \n",
    "        # calculate the forward model\n",
    "        model_out = A*torch.exp(-(t-mu)**2/(2*sig**2)) # + b\n",
    "        \n",
    "        # calculate the integral\n",
    "        integral_out_max = 0.5*A*sig*self.sqrt_2pi \\\n",
    "                        + 0.5*A*sig*self.sqrt_2pi\\\n",
    "                            *torch.special.erf((self.t_max-mu)/(sig*self.sqrt_2)) # + b*self.t_max\n",
    "        \n",
    "        integral_out_min = 0.5*A*sig*self.sqrt_2pi \\\n",
    "                        + 0.5*A*sig*self.sqrt_2pi\\\n",
    "                            *torch.special.erf((self.t_min-mu)/(sig*self.sqrt_2)) # + b*self.t_max\n",
    "        \n",
    "        integral_out = integral_out_max - integral_out_min\n",
    "        \n",
    "        return model_out, integral_out\n",
    "    \n",
    "# build the fit model as a NN module\n",
    "class Fit_Pulse_Deadtime(torch.nn.Module):\n",
    "    def __init__(self,t_max):\n",
    "        \"\"\"\n",
    "        Instantiate and initialize the fit parameters.\n",
    "        \"\"\"\n",
    "        super().__init__()\n",
    "        self.log_A = torch.nn.Parameter(7*torch.ones(()))   # Gaussian amplitude\n",
    "        self.log_mu = torch.nn.Parameter(-17.28*torch.ones(()))  # Gaussian mean\n",
    "        self.log_sig = torch.nn.Parameter(-21.4*torch.ones(())) # Gaussian std\n",
    "#         self.log_b = torch.nn.Parameter(0*torch.ones(()))      # background\n",
    "        self.t_max = t_max # maximum time evaluated in integral term\n",
    "        \n",
    "        self.sqrt_2pi = torch.sqrt(torch.tensor(2*np.pi))\n",
    "        self.sqrt_2  = torch.sqrt(torch.tensor(2.0))\n",
    "        \n",
    "\n",
    "    def forward(self, t_det, t_arm):\n",
    "        \"\"\"\n",
    "        Forward model the profile for input time t.\n",
    "        Also return the integral.\n",
    "        \"\"\"\n",
    "        # calculate all the actual fit parameters\n",
    "        A = torch.exp(self.log_A)\n",
    "        mu = torch.exp(self.log_mu)\n",
    "        sig = torch.exp(self.log_sig)\n",
    "#         b = torch.exp(self.log_b)\n",
    "        \n",
    "        # calculate the forward model\n",
    "        model_out = A*torch.exp(-(t_det-mu)**2/(2*sig**2)) # + b\n",
    "        \n",
    "        # calculate the integral\n",
    "        integral_out_det = 0.5*A*sig*self.sqrt_2pi \\\n",
    "                        + 0.5*A*sig*self.sqrt_2pi\\\n",
    "                            *torch.special.erf((t_det-mu)/(sig*self.sqrt_2)) # + b*self.t_max\n",
    "        \n",
    "        integral_out_arm = 0.5*A*sig*self.sqrt_2pi \\\n",
    "                        + 0.5*A*sig*self.sqrt_2pi\\\n",
    "                            *torch.special.erf((t_arm-mu)/(sig*self.sqrt_2))\n",
    "        \n",
    "        integral_out = integral_out_det - integral_out_arm\n",
    "        \n",
    "        return model_out, integral_out"
   ]
  },
  {
   "cell_type": "code",
   "execution_count": 30,
   "id": "e997c380",
   "metadata": {},
   "outputs": [],
   "source": [
    "def pois_loss(prof,integral):\n",
    "    \"\"\"\n",
    "    Poisson point process loss function\n",
    "    prof: estimated photon arrival rate evaluated at\n",
    "        each time tag\n",
    "    integral: integral of prof at t_max\n",
    "    \"\"\"\n",
    "    return integral-torch.sum(torch.log(prof))"
   ]
  },
  {
   "cell_type": "code",
   "execution_count": 31,
   "id": "30abd2d7",
   "metadata": {},
   "outputs": [],
   "source": [
    "# optimization parameters\n",
    "rel_step_lim = 1e-8  # termination criteria based on step size\n",
    "max_epochs = 5000     # maximum number of iterations/epochs\n",
    "learning_rate = 1e-1  # ADAM learning rate\n",
    "term_persist = 20     # relative step size averaging interval in iterations"
   ]
  },
  {
   "cell_type": "code",
   "execution_count": 32,
   "id": "d4729aae",
   "metadata": {},
   "outputs": [],
   "source": [
    "# initialize for fit loop\n",
    "fit_model = Fit_Pulse_Poisson(min_time*1e-12,max_time*1e-12)\n",
    "optimizer = torch.optim.Adam(fit_model.parameters(),lr=learning_rate)\n",
    "epoch=0\n",
    "rel_step = 1e3*rel_step_lim\n",
    "train_loss_lst = []\n",
    "valid_loss_lst = []\n",
    "rel_step_lst = []"
   ]
  },
  {
   "cell_type": "code",
   "execution_count": 33,
   "id": "c624480b",
   "metadata": {},
   "outputs": [],
   "source": [
    "# set the loss function to use a \n",
    "# Poisson point process likelihood function\n",
    "loss_fn = pois_loss"
   ]
  },
  {
   "cell_type": "code",
   "execution_count": 34,
   "id": "fe7a5660",
   "metadata": {},
   "outputs": [],
   "source": [
    "# perform fit\n",
    "while rel_step > rel_step_lim and epoch < max_epochs:\n",
    "    fit_model.train()\n",
    "    pred,integral = fit_model(t_phot_fit_tnsr)\n",
    "    loss = loss_fn(pred,integral*Ntrn)  # add regularization here\n",
    "    train_loss_lst +=[loss.item()]\n",
    "\n",
    "    # calculate relative step as an average over the last\n",
    "    # term_persist iterations\n",
    "    if epoch == 0:\n",
    "        rel_step_lst+=[1e3*rel_step_lim]\n",
    "        rel_step = 1e3*rel_step_lim\n",
    "    else:\n",
    "        rel_step_lst+=[(train_loss_lst[-2]-train_loss_lst[-1])/np.abs(train_loss_lst[-2])]\n",
    "        rel_step = np.abs(np.array(rel_step_lst)[-term_persist:].mean())\n",
    "    \n",
    "    # calculate validation loss... for fun\n",
    "    pred_val,integral_val = fit_model(t_phot_val_tnsr)\n",
    "    loss_val = loss_fn(pred_val,integral_val*Nvld)\n",
    "    valid_loss_lst +=[loss_val.item()]\n",
    "\n",
    "    # update estimated parameters\n",
    "    loss.backward()\n",
    "    optimizer.step()\n",
    "    \n",
    "    # zero out the gradient for the next step\n",
    "    optimizer.zero_grad()\n",
    "\n",
    "#     print(f\"{train_loss_lst[-1]}\")\n",
    "    \n",
    "    epoch+=1"
   ]
  },
  {
   "cell_type": "code",
   "execution_count": 35,
   "id": "c4c6514d",
   "metadata": {},
   "outputs": [
    {
     "name": "stdout",
     "output_type": "stream",
     "text": [
      "Validation Loss: -11029614.977834657\n"
     ]
    }
   ],
   "source": [
    "# calculate the validation loss.\n",
    "# we would use this to determine optimimal tuning parameters\n",
    "# if we had any (e.g. more Gaussian targets)\n",
    "pred_val,integral_val = fit_model(t_phot_val_tnsr)\n",
    "loss_val = loss_fn(pred_val,integral_val*Nvld)\n",
    "print(f\"Validation Loss: {loss_val}\")"
   ]
  },
  {
   "cell_type": "code",
   "execution_count": 36,
   "id": "6df0d477",
   "metadata": {},
   "outputs": [
    {
     "data": {
      "text/plain": [
       "<matplotlib.legend.Legend at 0x7fe63748f760>"
      ]
     },
     "execution_count": 36,
     "metadata": {},
     "output_type": "execute_result"
    },
    {
     "data": {
      "image/png": "[encoded data removed]",
      "text/plain": [
       "<Figure size 432x288 with 1 Axes>"
      ]
     },
     "metadata": {
      "needs_background": "light"
     },
     "output_type": "display_data"
    }
   ],
   "source": [
    "# plot the loss over iterations\n",
    "plt.figure()\n",
    "plt.plot(train_loss_lst,label='fit loss')\n",
    "plt.plot(valid_loss_lst,label='validation loss')\n",
    "plt.xlabel('fit iteration')\n",
    "plt.ylabel('Poisson NLL')\n",
    "plt.legend()"
   ]
  },
  {
   "cell_type": "markdown",
   "id": "babec314",
   "metadata": {},
   "source": [
    "Display the resulting estimate"
   ]
  },
  {
   "cell_type": "code",
   "execution_count": 37,
   "id": "f0591146",
   "metadata": {},
   "outputs": [],
   "source": [
    "t_plt = np.linspace(min_time*1e-12,max_time*1e-12,200)\n",
    "pred_mod_full,integral_full = fit_model(torch.tensor(t_plt))"
   ]
  },
  {
   "cell_type": "code",
   "execution_count": 38,
   "id": "f243b554",
   "metadata": {},
   "outputs": [
    {
     "data": {
      "text/plain": [
       "<matplotlib.legend.Legend at 0x7fe612957e20>"
      ]
     },
     "execution_count": 38,
     "metadata": {},
     "output_type": "execute_result"
    },
    {
     "data": {
      "image/png": "[encoded data removed]",
      "text/plain": [
       "<Figure size 432x288 with 1 Axes>"
      ]
     },
     "metadata": {
      "needs_background": "light"
     },
     "output_type": "display_data"
    }
   ],
   "source": [
    "plt.figure()\n",
    "# plt.plot(t_sim*1e9,photon_rate_arr*1e-6,label='Actual')\n",
    "plt.plot(t_plt*1e9,pred_mod_full.detach().numpy()*1e-6,'--',label='Fit') # /cnt_phot_fit\n",
    "plt.xlabel('time [ns]')\n",
    "plt.ylabel('Photon Arrival Rate [MHz]')\n",
    "plt.legend()"
   ]
  },
  {
   "cell_type": "code",
   "execution_count": 39,
   "id": "9c8c2683",
   "metadata": {},
   "outputs": [
    {
     "data": {
      "text/plain": [
       "<matplotlib.legend.Legend at 0x7fe5f0b8f0d0>"
      ]
     },
     "execution_count": 39,
     "metadata": {},
     "output_type": "execute_result"
    },
    {
     "data": {
      "image/png": "[encoded data removed]",
      "text/plain": [
       "<Figure size 432x288 with 1 Axes>"
      ]
     },
     "metadata": {
      "needs_background": "light"
     },
     "output_type": "display_data"
    }
   ],
   "source": [
    "h_phot = np.histogram(t_det_trn,bins=np.arange(t_plt[0],t_plt[-1],100e-12))\n",
    "dh_bins = np.median(np.diff(h_phot[1]))\n",
    "plt.figure()\n",
    "plt.bar(1e9*h_phot[1][:-1],h_phot[0],label='$y$',align='edge',width=1e9*np.diff(h_phot[1]),alpha=0.3)\n",
    "plt.plot(t_plt*1e9,pred_mod_full.detach().numpy()*dh_bins*Ntrn,'-',label='$f(x)$',linewidth=3) # /cnt_phot_fit\n",
    "plt.xlabel('time [ns]')\n",
    "plt.ylabel('Photon Counts')\n",
    "plt.legend()\n",
    "# plt.xlim([400,1000])"
   ]
  },
  {
   "cell_type": "code",
   "execution_count": 324,
   "id": "cf132b0a",
   "metadata": {},
   "outputs": [
    {
     "data": {
      "text/plain": [
       "1.000000000000009e-10"
      ]
     },
     "execution_count": 324,
     "metadata": {},
     "output_type": "execute_result"
    }
   ],
   "source": [
    "dh_bins"
   ]
  },
  {
   "cell_type": "code",
   "execution_count": 325,
   "id": "eba08b97",
   "metadata": {},
   "outputs": [],
   "source": [
    "# calculate the modeled values at each photon arrival\n",
    "pred_mod_fit_pts,integral_fit_pts = fit_model(t_phot_fit_tnsr)\n",
    "pred_mod_val_pts,integral_val_pts = fit_model(t_phot_val_tnsr)"
   ]
  },
  {
   "cell_type": "code",
   "execution_count": 326,
   "id": "2dcf4196",
   "metadata": {},
   "outputs": [
    {
     "data": {
      "text/plain": [
       "<matplotlib.legend.Legend at 0x7fe5512f4fa0>"
      ]
     },
     "execution_count": 326,
     "metadata": {},
     "output_type": "execute_result"
    },
    {
     "data": {
      "image/png": "[encoded data removed]",
      "text/plain": [
       "<Figure size 432x288 with 1 Axes>"
      ]
     },
     "metadata": {
      "needs_background": "light"
     },
     "output_type": "display_data"
    }
   ],
   "source": [
    "plt.figure()\n",
    "# plt.plot(t_sim*1e9,photon_rate_arr*1e-6,label='Actual',color='k',alpha=0.3)\n",
    "plt.scatter(t_phot_fit_tnsr.detach().numpy()*1e9,pred_mod_fit_pts.detach().numpy()*1e-6,s=2,label='Fit')\n",
    "plt.scatter(t_phot_val_tnsr.detach().numpy()*1e9,pred_mod_val_pts.detach().numpy()*1e-6,s=2,label='Validation',c='tab:red')\n",
    "plt.xlabel('time [ns]')\n",
    "plt.ylabel('Photon Arrival Rate [MHz]')\n",
    "plt.legend()"
   ]
  },
  {
   "cell_type": "markdown",
   "id": "8d42e0bb",
   "metadata": {},
   "source": [
    "# Multi Gaussian Model"
   ]
  },
  {
   "cell_type": "code",
   "execution_count": 327,
   "id": "7afc1bcb",
   "metadata": {},
   "outputs": [],
   "source": [
    "# convert training and validation data to \n",
    "# tensor type\n",
    "# t_phot_fit_tnsr = torch.tensor(t_phot_fit)\n",
    "# t_phot_val_tnsr = torch.tensor(t_phot_val)"
   ]
  },
  {
   "cell_type": "code",
   "execution_count": 328,
   "id": "c201ac1c",
   "metadata": {},
   "outputs": [],
   "source": [
    "# build the fit model as a NN module\n",
    "class Fit_MultiPulse(torch.nn.Module):\n",
    "    def __init__(self,t_min,t_max,num_gaus):\n",
    "        \"\"\"\n",
    "        Instantiate and initialize the fit parameters.\n",
    "        \"\"\"\n",
    "        super().__init__()\n",
    "        self.log_A = torch.nn.Parameter(7+torch.randn(num_gaus))   # Gaussian amplitude\n",
    "        self.log_mu = torch.nn.Parameter(-17.28+0.1*torch.ones(num_gaus))  # Gaussian mean\n",
    "        self.log_sig = torch.nn.Parameter(-21.4+0.1*torch.ones(num_gaus)) # Gaussian std\n",
    "#         self.log_b = torch.nn.Parameter(3+torch.randn(1))      # background\n",
    "        self.t_max = t_max # maximum time evaluated in integral term\n",
    "        self.t_min = t_min # maximum time evaluated in integral term\n",
    "        \n",
    "        self.sqrt_2pi = torch.sqrt(torch.tensor(2*np.pi))\n",
    "        self.sqrt_2  = torch.sqrt(torch.tensor(2.0))\n",
    "        \n",
    "\n",
    "    def forward(self, t):\n",
    "        \"\"\"\n",
    "        Forward model the profile for input time t.\n",
    "        Also return the integral.\n",
    "        \"\"\"\n",
    "        # calculate all the actual fit parameters\n",
    "        A = torch.exp(self.log_A)[None,:]\n",
    "        mu = torch.exp(self.log_mu)[None,:]\n",
    "        sig = torch.exp(self.log_sig)[None,:]\n",
    "#         b = torch.exp(self.log_b)\n",
    "        \n",
    "        # calculate the forward model\n",
    "        model_out = torch.sum(A*torch.exp(-(t[:,None]-mu)**2/(2*sig**2)),dim=1) # + b\n",
    "        \n",
    "        # calculate the integral\n",
    "        integral_out_max = torch.sum(0.5*A*sig*self.sqrt_2pi \\\n",
    "                        + 0.5*A*sig*self.sqrt_2pi\\\n",
    "                            *torch.special.erf((self.t_max-mu)/(sig*self.sqrt_2)),dim=1) # + b*self.t_max\n",
    "        integral_out_min = torch.sum(0.5*A*sig*self.sqrt_2pi \\\n",
    "                        + 0.5*A*sig*self.sqrt_2pi\\\n",
    "                            *torch.special.erf((self.t_min-mu)/(sig*self.sqrt_2)),dim=1) # + b*self.t_max\n",
    "        \n",
    "        integral_out = integral_out_max - integral_out_min\n",
    "        \n",
    "        return model_out, integral_out"
   ]
  },
  {
   "cell_type": "code",
   "execution_count": 329,
   "id": "281938e4",
   "metadata": {},
   "outputs": [],
   "source": [
    "def pois_loss(prof,integral):\n",
    "    \"\"\"\n",
    "    Poisson point process loss function\n",
    "    prof: estimated photon arrival rate evaluated at\n",
    "        each time tag\n",
    "    integral: integral of prof at t_max\n",
    "    \"\"\"\n",
    "    return integral-torch.sum(torch.log(prof))"
   ]
  },
  {
   "cell_type": "code",
   "execution_count": 330,
   "id": "c0231e2e",
   "metadata": {},
   "outputs": [],
   "source": [
    "# optimization parameters\n",
    "rel_step_lim = 1e-15  # termination criteria based on step size\n",
    "max_epochs = 5000     # maximum number of iterations/epochs\n",
    "learning_rate = 1e-1  # ADAM learning rate\n",
    "term_persist = 20     # relative step size averaging interval in iterations"
   ]
  },
  {
   "cell_type": "code",
   "execution_count": 331,
   "id": "d459c31a",
   "metadata": {},
   "outputs": [],
   "source": [
    "# initialize for fit loop\n",
    "fit_model = Fit_MultiPulse(min_time*1e-12,max_time*1e-12,3)\n",
    "optimizer = torch.optim.Adam(fit_model.parameters(),lr=learning_rate)\n",
    "epoch=0\n",
    "rel_step = 1e3*rel_step_lim\n",
    "train_loss_lst = []\n",
    "valid_loss_lst = []\n",
    "rel_step_lst = []"
   ]
  },
  {
   "cell_type": "code",
   "execution_count": 332,
   "id": "1ae32628",
   "metadata": {},
   "outputs": [],
   "source": [
    "# set the loss function to use a \n",
    "# Poisson point process likelihood function\n",
    "loss_fn = pois_loss"
   ]
  },
  {
   "cell_type": "code",
   "execution_count": 333,
   "id": "d634fe07",
   "metadata": {},
   "outputs": [],
   "source": [
    "# perform fit\n",
    "while rel_step > rel_step_lim and epoch < max_epochs:\n",
    "    fit_model.train()\n",
    "    pred,integral = fit_model(t_phot_fit_tnsr)\n",
    "    loss = loss_fn(pred,integral*Ntrn)  # add regularization here\n",
    "    train_loss_lst +=[loss.item()]\n",
    "\n",
    "    # calculate relative step as an average over the last\n",
    "    # term_persist iterations\n",
    "    if epoch == 0:\n",
    "        rel_step_lst+=[1e3*rel_step_lim]\n",
    "        rel_step = 1e3*rel_step_lim\n",
    "    else:\n",
    "        rel_step_lst+=[(train_loss_lst[-2]-train_loss_lst[-1])/np.abs(train_loss_lst[-2])]\n",
    "        rel_step = np.abs(np.array(rel_step_lst)[-term_persist:].mean())\n",
    "    \n",
    "    # calculate validation loss... for fun\n",
    "    pred_val,integral_val = fit_model(t_phot_val_tnsr)\n",
    "    loss_val = loss_fn(pred_val,integral_val*Nvld)\n",
    "    valid_loss_lst +=[loss_val.item()]\n",
    "\n",
    "    # update estimated parameters\n",
    "    loss.backward()\n",
    "    optimizer.step()\n",
    "    \n",
    "    # zero out the gradient for the next step\n",
    "    optimizer.zero_grad()\n",
    "\n",
    "#     print(f\"{train_loss_lst[-1]}\")\n",
    "    \n",
    "    epoch+=1"
   ]
  },
  {
   "cell_type": "code",
   "execution_count": 334,
   "id": "dcf9b2aa",
   "metadata": {},
   "outputs": [
    {
     "name": "stdout",
     "output_type": "stream",
     "text": [
      "Validation Loss: tensor([-5128184.5000], grad_fn=<SubBackward0>)\n"
     ]
    }
   ],
   "source": [
    "# calculate the validation loss.\n",
    "# we would use this to determine optimimal tuning parameters\n",
    "# if we had any (e.g. more Gaussian targets)\n",
    "pred_val,integral_val = fit_model(t_phot_val_tnsr)\n",
    "loss_val = loss_fn(pred_val,integral_val*Nvld)\n",
    "print(f\"Validation Loss: {loss_val}\")"
   ]
  },
  {
   "cell_type": "code",
   "execution_count": 335,
   "id": "2164f63b",
   "metadata": {},
   "outputs": [
    {
     "data": {
      "text/plain": [
       "<matplotlib.legend.Legend at 0x7fe513afdfd0>"
      ]
     },
     "execution_count": 335,
     "metadata": {},
     "output_type": "execute_result"
    },
    {
     "data": {
      "image/png": "[encoded data removed]",
      "text/plain": [
       "<Figure size 432x288 with 1 Axes>"
      ]
     },
     "metadata": {
      "needs_background": "light"
     },
     "output_type": "display_data"
    }
   ],
   "source": [
    "# plot the loss over iterations\n",
    "plt.figure()\n",
    "plt.plot(train_loss_lst,label='fit loss')\n",
    "plt.plot(valid_loss_lst,label='validation loss')\n",
    "plt.xlabel('fit iteration')\n",
    "plt.ylabel('Poisson NLL')\n",
    "plt.legend()"
   ]
  },
  {
   "cell_type": "markdown",
   "id": "3b5401fc",
   "metadata": {},
   "source": [
    "Display the resulting estimate"
   ]
  },
  {
   "cell_type": "code",
   "execution_count": 336,
   "id": "d3d8bb8b",
   "metadata": {},
   "outputs": [],
   "source": [
    "pred_mod_full,integral_full = fit_model(torch.tensor(t_plt))"
   ]
  },
  {
   "cell_type": "code",
   "execution_count": 337,
   "id": "93c38407",
   "metadata": {},
   "outputs": [
    {
     "data": {
      "text/plain": [
       "Parameter containing:\n",
       "tensor([20.3081, 19.0101, 20.3757], requires_grad=True)"
      ]
     },
     "execution_count": 337,
     "metadata": {},
     "output_type": "execute_result"
    }
   ],
   "source": [
    "fit_model.log_A"
   ]
  },
  {
   "cell_type": "code",
   "execution_count": 338,
   "id": "172eb8b3",
   "metadata": {},
   "outputs": [
    {
     "data": {
      "text/plain": [
       "<matplotlib.legend.Legend at 0x7fe591fed400>"
      ]
     },
     "execution_count": 338,
     "metadata": {},
     "output_type": "execute_result"
    },
    {
     "data": {
      "image/png": "[encoded data removed]",
      "text/plain": [
       "<Figure size 432x288 with 1 Axes>"
      ]
     },
     "metadata": {
      "needs_background": "light"
     },
     "output_type": "display_data"
    }
   ],
   "source": [
    "plt.figure()\n",
    "# plt.plot(t_sim*1e9,photon_rate_arr*1e-6,label='Actual')\n",
    "plt.plot(t_plt*1e9,pred_mod_full.detach().numpy()*1e-6,'--',label='Fit') # /cnt_phot_fit\n",
    "plt.xlabel('time [ns]')\n",
    "plt.ylabel('Photon Arrival Rate [MHz]')\n",
    "plt.legend()"
   ]
  },
  {
   "cell_type": "code",
   "execution_count": 339,
   "id": "639285ae",
   "metadata": {},
   "outputs": [
    {
     "data": {
      "text/plain": [
       "<matplotlib.legend.Legend at 0x7fe5923211f0>"
      ]
     },
     "execution_count": 339,
     "metadata": {},
     "output_type": "execute_result"
    },
    {
     "data": {
      "image/png": "[encoded data removed]",
      "text/plain": [
       "<Figure size 432x288 with 1 Axes>"
      ]
     },
     "metadata": {
      "needs_background": "light"
     },
     "output_type": "display_data"
    }
   ],
   "source": [
    "h_phot = np.histogram(t_det_trn,bins=np.arange(t_plt[0],t_plt[-1],110e-12))\n",
    "dh_bins = np.median(np.diff(h_phot[1]))\n",
    "plt.figure()\n",
    "plt.bar(1e9*h_phot[1][:-1],h_phot[0],label='$y$',align='edge',width=1e9*np.diff(h_phot[1]),alpha=0.3)\n",
    "plt.plot(t_plt*1e9,pred_mod_full.detach().numpy()*dh_bins*Ntrn,'-',label='$f(x)$',linewidth=3) # /cnt_phot_fit\n",
    "plt.xlabel('time [ns]')\n",
    "plt.ylabel('Photon Counts')\n",
    "plt.legend()"
   ]
  },
  {
   "cell_type": "code",
   "execution_count": 340,
   "id": "41ee1a8c",
   "metadata": {},
   "outputs": [],
   "source": [
    "# calculate the modeled values at each photon arrival\n",
    "pred_mod_fit_pts,integral_fit_pts = fit_model(t_phot_fit_tnsr)\n",
    "pred_mod_val_pts,integral_val_pts = fit_model(t_phot_val_tnsr)"
   ]
  },
  {
   "cell_type": "code",
   "execution_count": 341,
   "id": "950333c2",
   "metadata": {},
   "outputs": [
    {
     "data": {
      "text/plain": [
       "<matplotlib.legend.Legend at 0x7fe560348fd0>"
      ]
     },
     "execution_count": 341,
     "metadata": {},
     "output_type": "execute_result"
    },
    {
     "data": {
      "image/png": "[encoded data removed]",
      "text/plain": [
       "<Figure size 432x288 with 1 Axes>"
      ]
     },
     "metadata": {
      "needs_background": "light"
     },
     "output_type": "display_data"
    }
   ],
   "source": [
    "plt.figure()\n",
    "# plt.plot(t_sim*1e9,photon_rate_arr*1e-6,label='Actual',color='k',alpha=0.3)\n",
    "plt.scatter(t_phot_fit_tnsr.detach().numpy()*1e9,pred_mod_fit_pts.detach().numpy()*1e-6,s=2,label='Fit')\n",
    "plt.scatter(t_phot_val_tnsr.detach().numpy()*1e9,pred_mod_val_pts.detach().numpy()*1e-6,s=2,label='Validation',c='tab:red')\n",
    "plt.xlabel('time [ns]')\n",
    "plt.ylabel('Photon Arrival Rate [MHz]')\n",
    "plt.legend()"
   ]
  },
  {
   "cell_type": "markdown",
   "id": "b13ac487",
   "metadata": {},
   "source": [
    "## Optimize number of Gaussians"
   ]
  },
  {
   "cell_type": "code",
   "execution_count": 342,
   "id": "050e33a0",
   "metadata": {},
   "outputs": [],
   "source": [
    "def pois_loss(prof,integral):\n",
    "    \"\"\"\n",
    "    Poisson point process loss function\n",
    "    prof: estimated photon arrival rate evaluated at\n",
    "        each time tag\n",
    "    integral: integral of prof at t_max\n",
    "    \"\"\"\n",
    "    return integral-torch.sum(torch.log(prof))"
   ]
  },
  {
   "cell_type": "code",
   "execution_count": 343,
   "id": "665e74dc",
   "metadata": {},
   "outputs": [],
   "source": [
    "# optimization parameters\n",
    "rel_step_lim = 1e-8  # termination criteria based on step size\n",
    "max_epochs = 5000     # maximum number of iterations/epochs\n",
    "learning_rate = 1e-1  # ADAM learning rate\n",
    "term_persist = 20     # relative step size averaging interval in iterations\n",
    "repeat_count = 30     # number of times to repeat the initialization\n",
    "max_mode_count = 10   # max number of Gaussian modes to evaluate"
   ]
  },
  {
   "cell_type": "code",
   "execution_count": 344,
   "id": "1d53cc2d",
   "metadata": {},
   "outputs": [],
   "source": [
    "# set the loss function to use a \n",
    "# Poisson point process likelihood function\n",
    "loss_fn = pois_loss"
   ]
  },
  {
   "cell_type": "code",
   "execution_count": 345,
   "id": "6aed6710",
   "metadata": {},
   "outputs": [],
   "source": [
    "sol_lst = []\n",
    "fit_lst = []\n",
    "vld_lst = []\n",
    "epoch_lst = []\n",
    "num_gaus_lst = []"
   ]
  },
  {
   "cell_type": "code",
   "execution_count": null,
   "id": "5e59bce8",
   "metadata": {},
   "outputs": [
    {
     "name": "stdout",
     "output_type": "stream",
     "text": [
      "1 modes\n",
      "2 modes\n",
      "3 modes\n",
      "4 modes\n",
      "5 modes\n"
     ]
    }
   ],
   "source": [
    "for num_gaussian in range(1,max_mode_count):\n",
    "    for init_cnt in range(repeat_count):\n",
    "        # initialize for fit loop\n",
    "        fit_model = Fit_MultiPulse(min_time*1e-12,max_time*1e-12,num_gaussian)\n",
    "        optimizer = torch.optim.Adam(fit_model.parameters(),lr=learning_rate)\n",
    "        epoch=0\n",
    "        rel_step = 1e3*rel_step_lim\n",
    "        train_loss_lst = []\n",
    "        valid_loss_lst = []\n",
    "        rel_step_lst = []\n",
    "\n",
    "        # perform fit\n",
    "        while rel_step > rel_step_lim and epoch < max_epochs:\n",
    "            fit_model.train()\n",
    "            pred,integral = fit_model(t_phot_fit_tnsr)\n",
    "            loss = loss_fn(pred,integral*Ntrn)  # add regularization here\n",
    "            train_loss_lst +=[loss.item()]\n",
    "\n",
    "            # calculate relative step as an average over the last\n",
    "            # term_persist iterations\n",
    "            if epoch == 0:\n",
    "                rel_step_lst+=[1e3*rel_step_lim]\n",
    "                rel_step = 1e3*rel_step_lim\n",
    "            else:\n",
    "                rel_step_lst+=[(train_loss_lst[-2]-train_loss_lst[-1])/np.abs(train_loss_lst[-2])]\n",
    "                rel_step = np.abs(np.array(rel_step_lst)[-term_persist:].mean())\n",
    "\n",
    "            # calculate validation loss... for fun\n",
    "            pred_val,integral_val = fit_model(t_phot_val_tnsr)\n",
    "            loss_val = loss_fn(pred_val,integral_val*Nvld)\n",
    "            valid_loss_lst +=[loss_val.item()]\n",
    "\n",
    "            # update estimated parameters\n",
    "            loss.backward()\n",
    "            optimizer.step()\n",
    "\n",
    "            # zero out the gradient for the next step\n",
    "            optimizer.zero_grad()\n",
    "\n",
    "        #     print(f\"{train_loss_lst[-1]}\")\n",
    "\n",
    "            epoch+=1\n",
    "\n",
    "        # calculate the validation loss.\n",
    "        # we would use this to determine optimimal tuning parameters\n",
    "        # if we had any (e.g. more Gaussian targets)\n",
    "        pred_val,integral_val = fit_model(t_phot_val_tnsr)\n",
    "        loss_val = loss_fn(pred_val,integral_val*Nvld)\n",
    "#         print(f\"{num_gaussian} modes, Validation Loss: {loss_val.item()}\")\n",
    "\n",
    "        pred_mod_full,integral_full = fit_model(torch.tensor(t_plt))\n",
    "\n",
    "        sol_lst.append(fit_model.parameters())\n",
    "        fit_lst.append(pred_mod_full)\n",
    "        vld_lst.append(loss_val.item())\n",
    "        num_gaus_lst.append(num_gaussian)\n",
    "        epoch_lst.append(epoch)\n",
    "    print(f\"{num_gaussian} modes\")"
   ]
  },
  {
   "cell_type": "code",
   "execution_count": null,
   "id": "3e6c786f",
   "metadata": {},
   "outputs": [],
   "source": [
    "isol = np.argmin(vld_lst)"
   ]
  },
  {
   "cell_type": "code",
   "execution_count": null,
   "id": "31a7e6f2",
   "metadata": {},
   "outputs": [],
   "source": [
    "vld_arr = np.array(vld_lst).reshape(-1,repeat_count)\n",
    "# num_gaus_arr = np.array(num_gaus_lst).reshape(-1,repeat_count,)"
   ]
  },
  {
   "cell_type": "code",
   "execution_count": null,
   "id": "c22fa305",
   "metadata": {},
   "outputs": [],
   "source": [
    "plt.figure()\n",
    "plt.plot(num_gaus_lst[isol],vld_lst[isol],'o',color='tab:orange')\n",
    "plt.plot(num_gaus_lst,vld_lst,'.',color='tab:blue')\n",
    "plt.xlabel(\"Gaussian Modes\")\n",
    "plt.ylabel(\"Validation NLL\")\n",
    "\n",
    "\n",
    "# plt.figure()\n",
    "# # plt.plot(num_gaus_lst[isol],vld_lst[isol],'o',color='tab:orange')\n",
    "# plt.plot(np.mean(num_gaus_arr,axis=1),np.min(vld_arr,axis=1),'.',color='tab:blue')\n",
    "# plt.xlabel(\"Gaussian Modes\")\n",
    "# plt.ylabel(\"Validation NLL\")\n",
    "\n"
   ]
  },
  {
   "cell_type": "code",
   "execution_count": null,
   "id": "ecf34635",
   "metadata": {},
   "outputs": [],
   "source": [
    "plt.figure()\n",
    "# plt.plot(t_sim*1e9,photon_rate_arr*1e-6,label='Actual')\n",
    "plt.plot(t_plt*1e9,fit_lst[isol].detach().numpy()*1e-6,'--',label='Fit') # /cnt_phot_fit\n",
    "plt.xlabel('time [ns]')\n",
    "plt.ylabel('Photon Arrival Rate [MHz]')\n",
    "plt.legend()"
   ]
  },
  {
   "cell_type": "code",
   "execution_count": null,
   "id": "5b153a41",
   "metadata": {},
   "outputs": [],
   "source": [
    "for param in sol_lst[isol]:\n",
    "    print(torch.exp(param))"
   ]
  },
  {
   "cell_type": "code",
   "execution_count": null,
   "id": "00be5f33",
   "metadata": {},
   "outputs": [],
   "source": [
    "sol_lst[isol]"
   ]
  },
  {
   "cell_type": "code",
   "execution_count": null,
   "id": "42c0e314",
   "metadata": {},
   "outputs": [],
   "source": [
    "h_phot = np.histogram(t_det_trn,bins=np.arange(t_plt[0],t_plt[-1],110e-12))\n",
    "dh_bins = np.median(np.diff(h_phot[1]))\n",
    "plt.figure()\n",
    "plt.bar(1e9*h_phot[1][:-1],h_phot[0],label='$y$',align='edge',width=1e9*np.diff(h_phot[1]),alpha=0.3)\n",
    "plt.plot(t_plt*1e9,fit_lst[isol].detach().numpy()*dh_bins*Ntrn,'-',label='$f(x)$',linewidth=3) # /cnt_phot_fit\n",
    "plt.xlabel('time [ns]')\n",
    "plt.ylabel('Photon Counts')\n",
    "plt.legend()"
   ]
  },
  {
   "cell_type": "code",
   "execution_count": 193,
   "id": "5ad4c940",
   "metadata": {},
   "outputs": [],
   "source": [
    "ds.close()"
   ]
  },
  {
   "cell_type": "code",
   "execution_count": null,
   "id": "6088999e",
   "metadata": {},
   "outputs": [],
   "source": []
  }
 ],
 "metadata": {
  "kernelspec": {
   "display_name": "Python 3",
   "language": "python",
   "name": "python3"
  },
  "language_info": {
   "codemirror_mode": {
    "name": "ipython",
    "version": 3
   },
   "file_extension": ".py",
   "mimetype": "text/x-python",
   "name": "python",
   "nbconvert_exporter": "python",
   "pygments_lexer": "ipython3",
   "version": "3.8.8"
  }
 },
 "nbformat": 4,
 "nbformat_minor": 5
}
