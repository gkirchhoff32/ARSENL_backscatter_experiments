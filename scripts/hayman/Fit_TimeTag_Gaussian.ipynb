{
 "cells": [
  {
   "cell_type": "code",
   "execution_count": 1,
   "id": "20c836e2",
   "metadata": {},
   "outputs": [],
   "source": [
    "import os,sys\n",
    "import numpy as np\n",
    "import torch\n",
    "import matplotlib.pyplot as plt\n",
    "# import glob"
   ]
  },
  {
   "cell_type": "code",
   "execution_count": 410,
   "id": "24ecce86",
   "metadata": {},
   "outputs": [],
   "source": [
    "dtype = torch.float64\n",
    "device = torch.device(\"cpu\")"
   ]
  },
  {
   "cell_type": "code",
   "execution_count": 3,
   "id": "72d9c9d8",
   "metadata": {},
   "outputs": [],
   "source": [
    "# import library for simulating Poisson point processes\n",
    "dirP_str = os.path.join(os.environ['HOME'], \n",
    "                    'Documents',\n",
    "                    'GitHub',\n",
    "                    'deadtime-sim-ptv',\n",
    "                    'python',\n",
    "                    'library')\n",
    "if dirP_str not in sys.path:\n",
    "    sys.path.append(dirP_str)\n",
    "    \n",
    "import sim_deadtime_utils as sim"
   ]
  },
  {
   "cell_type": "markdown",
   "id": "b23afaf0",
   "metadata": {},
   "source": [
    "# Generate Simulated Data"
   ]
  },
  {
   "cell_type": "code",
   "execution_count": 516,
   "id": "692627e6",
   "metadata": {},
   "outputs": [],
   "source": [
    "# simulation resolution settings\n",
    "t_sim_min = 0\n",
    "t_sim_max = 1e-6\n",
    "dt_sim = 1e-12\n",
    "\n",
    "tD = 200e-9 # deadtime\n",
    "Nshot = 500 # number of laser shots\n",
    "wrap_deadtime = True  # wrap deadtime between shots\n",
    "\n",
    "laser_pulse_width = 20e-9 # laser pulse width in seconds\n",
    "target_time = 700e-9\n",
    "target_amplitude = 5e6 # target peak count rate\n",
    "background = 1e4  # background count rate"
   ]
  },
  {
   "cell_type": "code",
   "execution_count": 517,
   "id": "d170c172",
   "metadata": {},
   "outputs": [],
   "source": [
    "# generate the simulated scene time axis\n",
    "t_sim = np.arange(t_sim_min,t_sim_max,dt_sim)           # simulation time\n",
    "t_sim_bins = np.concatenate((t_sim,t_sim[-1:]+dt_sim))  # simulation time histogram bins"
   ]
  },
  {
   "cell_type": "code",
   "execution_count": 518,
   "id": "e438e96d",
   "metadata": {},
   "outputs": [],
   "source": [
    "# generate the photon arrival rate of the profile\n",
    "# Gaussian target with constant background\n",
    "photon_rate_arr = target_amplitude*np.exp(-(t_sim - target_time)**2/(2*laser_pulse_width**2))+background"
   ]
  },
  {
   "cell_type": "code",
   "execution_count": 519,
   "id": "649d44a0",
   "metadata": {},
   "outputs": [],
   "source": [
    "# generate photon counts\n",
    "\n",
    "# lists of photon arrivals per\n",
    "# laser shot\n",
    "t_det_lst = []  # detected photons (includes deadtime)\n",
    "t_phot_lst = [] # actual photons (no dead time)\n",
    "\n",
    "t_det_last = -100.0  # last photon detection event\n",
    "for n in range(Nshot):\n",
    "    # simulate a laser shot\n",
    "    ptime,ctime = sim.photon_count_generator(t_sim_bins, \n",
    "                                            photon_rate_arr, \n",
    "                                            tau_d_flt=tD,\n",
    "                                            last_photon_flt=t_det_last)\n",
    "    if wrap_deadtime:\n",
    "        if len(ctime) > 0:\n",
    "            t_det_last = ctime[-1]\n",
    "        t_det_last -= t_sim_bins[-1]\n",
    "        \n",
    "    t_det_lst += [ctime]  # detection time tags (including deadtime)\n",
    "    t_phot_lst += [ptime] # photon time tags"
   ]
  },
  {
   "cell_type": "code",
   "execution_count": 520,
   "id": "3976421f",
   "metadata": {},
   "outputs": [
    {
     "data": {
      "text/plain": [
       "Text(0.5, 1.0, 'Detected Photons')"
      ]
     },
     "execution_count": 520,
     "metadata": {},
     "output_type": "execute_result"
    },
    {
     "data": {
      "image/png": "[encoded data removed]",
      "text/plain": [
       "<Figure size 432x288 with 1 Axes>"
      ]
     },
     "metadata": {
      "needs_background": "light"
     },
     "output_type": "display_data"
    },
    {
     "data": {
      "image/png": "[encoded data removed]",
      "text/plain": [
       "<Figure size 432x288 with 1 Axes>"
      ]
     },
     "metadata": {
      "needs_background": "light"
     },
     "output_type": "display_data"
    }
   ],
   "source": [
    "phot_arr = np.array(sorted(np.concatenate(t_phot_lst)))\n",
    "plt.figure()\n",
    "plt.stem(phot_arr,np.ones(phot_arr.size))\n",
    "plt.title('Photons')\n",
    "\n",
    "\n",
    "cnt_arr = np.array(sorted(np.concatenate(t_det_lst)))\n",
    "plt.figure()\n",
    "plt.stem(cnt_arr,np.ones(cnt_arr.size))\n",
    "plt.title('Detected Photons')"
   ]
  },
  {
   "cell_type": "code",
   "execution_count": 521,
   "id": "01a7e56f",
   "metadata": {},
   "outputs": [],
   "source": [
    "# split data into fit and validation sets\n",
    "split_index = int(len(t_phot_lst)//2)\n",
    "cnt_phot_fit = len(t_phot_lst[:split_index])\n",
    "cnt_phot_val = len(t_phot_lst[:split_index])\n",
    "t_phot_fit = np.concatenate(t_phot_lst[:split_index])\n",
    "t_phot_val = np.concatenate(t_phot_lst[split_index:])"
   ]
  },
  {
   "cell_type": "markdown",
   "id": "8f321cec",
   "metadata": {},
   "source": [
    "Double check the integral approximation using erf()"
   ]
  },
  {
   "cell_type": "code",
   "execution_count": 522,
   "id": "535bf56d",
   "metadata": {},
   "outputs": [],
   "source": [
    "t_torch = torch.tensor(t_sim)\n",
    "integral_est = torch.tensor(t_sim*background) \\\n",
    "        + 0.5*target_amplitude*laser_pulse_width*np.sqrt(2*np.pi) \\\n",
    "        + 0.5*target_amplitude*laser_pulse_width*np.sqrt(2*np.pi)\\\n",
    "            *torch.special.erf((t_torch-target_time)/(laser_pulse_width*np.sqrt(2)))"
   ]
  },
  {
   "cell_type": "code",
   "execution_count": 523,
   "id": "a9b203ab",
   "metadata": {},
   "outputs": [
    {
     "data": {
      "text/plain": [
       "[<matplotlib.lines.Line2D at 0x7f838fd59c70>]"
      ]
     },
     "execution_count": 523,
     "metadata": {},
     "output_type": "execute_result"
    },
    {
     "data": {
      "image/png": "[encoded data removed]",
      "text/plain": [
       "<Figure size 432x288 with 1 Axes>"
      ]
     },
     "metadata": {
      "needs_background": "light"
     },
     "output_type": "display_data"
    },
    {
     "data": {
      "image/png": "[encoded data removed]",
      "text/plain": [
       "<Figure size 432x288 with 1 Axes>"
      ]
     },
     "metadata": {
      "needs_background": "light"
     },
     "output_type": "display_data"
    }
   ],
   "source": [
    "plt.figure()\n",
    "plt.plot(t_sim,photon_rate_arr)\n",
    "\n",
    "plt.figure()\n",
    "plt.plot(t_sim,np.cumsum(photon_rate_arr)*dt_sim)\n",
    "plt.plot(t_sim,integral_est.numpy(),'--')"
   ]
  },
  {
   "cell_type": "markdown",
   "id": "ca5c62da",
   "metadata": {},
   "source": [
    "# Perform Fit Using PyTorch\n",
    "Assume the target is described by a Gaussian with a constant background"
   ]
  },
  {
   "cell_type": "code",
   "execution_count": 537,
   "id": "11888182",
   "metadata": {},
   "outputs": [],
   "source": [
    "# convert training and validation data to \n",
    "# tensor type\n",
    "t_phot_fit_tnsr = torch.tensor(t_phot_fit)\n",
    "t_phot_val_tnsr = torch.tensor(t_phot_val)"
   ]
  },
  {
   "cell_type": "code",
   "execution_count": 538,
   "id": "146da976",
   "metadata": {},
   "outputs": [],
   "source": [
    "class Fit_Pulse(torch.nn.Module):\n",
    "    def __init__(self,t_max):\n",
    "        \"\"\"\n",
    "        Instantiate and initialize the fit parameters.\n",
    "        \"\"\"\n",
    "        super().__init__()\n",
    "        self.log_A = torch.nn.Parameter(5*torch.ones(()))   # Gaussian amplitude\n",
    "        self.log_mu = torch.nn.Parameter(-9*torch.ones(()))  # Gaussian mean\n",
    "        self.log_sig = torch.nn.Parameter(-9*torch.ones(())) # Gaussian std\n",
    "        self.log_b = torch.nn.Parameter(3*torch.ones(()))      # background\n",
    "        self.t_max = t_max # maximum time evaluated in integral term\n",
    "        \n",
    "        self.sqrt_2pi = torch.sqrt(torch.tensor(2*np.pi))\n",
    "        self.sqrt_2  = torch.sqrt(torch.tensor(2.0))\n",
    "        \n",
    "\n",
    "    def forward(self, t):\n",
    "        \"\"\"\n",
    "        Forward model the profile for input time t\n",
    "        \"\"\"\n",
    "        \n",
    "        \n",
    "        A = torch.exp(self.log_A)\n",
    "        mu = torch.exp(self.log_mu)\n",
    "        sig = torch.exp(self.log_sig)\n",
    "        b = torch.exp(self.log_b)\n",
    "        \n",
    "        \n",
    "        model_out = A*torch.exp(-(t-mu)**2/(2*sig**2)) + b\n",
    "        \n",
    "        integral_out = b*self.t_max \\\n",
    "                        + 0.5*A*sig*self.sqrt_2pi \\\n",
    "                        + 0.5*A*sig*self.sqrt_2pi\\\n",
    "                            *torch.special.erf((self.t_max-mu)/(sig*self.sqrt_2))\n",
    "        return model_out, integral_out"
   ]
  },
  {
   "cell_type": "code",
   "execution_count": 539,
   "id": "e8d874e6",
   "metadata": {},
   "outputs": [],
   "source": [
    "def pois_loss(prof,integral):\n",
    "    return integral-torch.sum(torch.log(prof))"
   ]
  },
  {
   "cell_type": "code",
   "execution_count": 540,
   "id": "d15644ea",
   "metadata": {},
   "outputs": [],
   "source": [
    "rel_step_lim = 1e-15\n",
    "max_epochs = 5000\n",
    "learning_rate = 1e-1\n",
    "term_persist = 20"
   ]
  },
  {
   "cell_type": "code",
   "execution_count": 541,
   "id": "54ed4dc2",
   "metadata": {},
   "outputs": [],
   "source": [
    "fit_model = Fit_Pulse(t_sim[-1])\n",
    "optimizer = torch.optim.Adam(fit_model.parameters(),lr=learning_rate)\n",
    "epoch=0\n",
    "rel_step = 1e3*rel_step_lim\n",
    "train_loss_lst = []\n",
    "valid_loss_lst = []\n",
    "rel_step_lst = []"
   ]
  },
  {
   "cell_type": "code",
   "execution_count": 542,
   "id": "24625e66",
   "metadata": {},
   "outputs": [],
   "source": [
    "loss_fn = pois_loss"
   ]
  },
  {
   "cell_type": "code",
   "execution_count": 543,
   "id": "bb549f49",
   "metadata": {},
   "outputs": [],
   "source": [
    "while rel_step > rel_step_lim and epoch < max_epochs:\n",
    "    fit_model.train()\n",
    "    pred,integral = fit_model(t_phot_fit_tnsr)\n",
    "    loss = loss_fn(pred,integral*cnt_phot_fit)  # add regularization here\n",
    "    train_loss_lst +=[loss.item()]\n",
    "\n",
    "    if epoch == 0:\n",
    "        rel_step_lst+=[1e3*rel_step_lim]\n",
    "        rel_step = 1e3*rel_step_lim\n",
    "    else:\n",
    "        rel_step_lst+=[(train_loss_lst[-2]-train_loss_lst[-1])/np.abs(train_loss_lst[-2])]\n",
    "        rel_step = np.abs(np.array(rel_step_lst)[-term_persist:].mean())\n",
    "    \n",
    "    # calculate validation loss... for fun\n",
    "    pred_val,integral_val = fit_model(t_phot_val_tnsr)\n",
    "    loss_val = loss_fn(pred_val,integral_val*cnt_phot_val)\n",
    "    valid_loss_lst +=[loss_val.item()]\n",
    "\n",
    "    loss.backward()\n",
    "    optimizer.step()\n",
    "    optimizer.zero_grad()\n",
    "\n",
    "#     print(f\"{train_loss_lst[-1]}\")\n",
    "    \n",
    "    epoch+=1\n",
    "    \n",
    "#     sol_lst += [{'cos_coef':fit_model.cos_coef,\n",
    "#               'sin_coef':fit_model.sin_coef,\n",
    "#               'dc':fit_model.dc}]\n",
    "#     val_loss_lst +=[loss_fn(pred*cnt_vld,y_vld).item()]\n",
    "#     trn_lst_sets+=[train_loss_lst]\n",
    "#     trn_rel_step_lst+=[rel_step_lst]\n",
    "#         print(f\"{l1_reg}: {val_loss_lst[-1]}, {epoch} iterations\")"
   ]
  },
  {
   "cell_type": "code",
   "execution_count": 544,
   "id": "aefec49e",
   "metadata": {},
   "outputs": [
    {
     "name": "stdout",
     "output_type": "stream",
     "text": [
      "Validation Loss: -962.4580878017837\n"
     ]
    }
   ],
   "source": [
    "pred_val,integral_val = fit_model(t_phot_val_tnsr)\n",
    "loss_val = loss_fn(pred_val,integral_val*cnt_phot_val)\n",
    "print(f\"Validation Loss: {loss_val}\")"
   ]
  },
  {
   "cell_type": "code",
   "execution_count": 545,
   "id": "833b0bc2",
   "metadata": {},
   "outputs": [
    {
     "data": {
      "text/plain": [
       "<matplotlib.legend.Legend at 0x7f83cec9ae80>"
      ]
     },
     "execution_count": 545,
     "metadata": {},
     "output_type": "execute_result"
    },
    {
     "data": {
      "image/png": "[encoded data removed]",
      "text/plain": [
       "<Figure size 432x288 with 1 Axes>"
      ]
     },
     "metadata": {
      "needs_background": "light"
     },
     "output_type": "display_data"
    }
   ],
   "source": [
    "plt.figure()\n",
    "plt.plot(train_loss_lst,label='fit loss')\n",
    "plt.plot(valid_loss_lst,label='validation loss')\n",
    "plt.xlabel('fit iteration')\n",
    "plt.ylabel('Poisson NLL')\n",
    "plt.legend()"
   ]
  },
  {
   "cell_type": "markdown",
   "id": "e3ba6773",
   "metadata": {},
   "source": [
    "Display the resulting estimate"
   ]
  },
  {
   "cell_type": "code",
   "execution_count": 546,
   "id": "52d2288d",
   "metadata": {},
   "outputs": [],
   "source": [
    "pred_mod_full,integral_full = fit_model(torch.tensor(t_sim))"
   ]
  },
  {
   "cell_type": "code",
   "execution_count": 547,
   "id": "93ec5c96",
   "metadata": {},
   "outputs": [
    {
     "data": {
      "text/plain": [
       "Text(0, 0.5, 'Photon Arrival Rate [MHz]')"
      ]
     },
     "execution_count": 547,
     "metadata": {},
     "output_type": "execute_result"
    },
    {
     "data": {
      "image/png": "[encoded data removed]",
      "text/plain": [
       "<Figure size 432x288 with 1 Axes>"
      ]
     },
     "metadata": {
      "needs_background": "light"
     },
     "output_type": "display_data"
    }
   ],
   "source": [
    "plt.figure()\n",
    "plt.plot(t_sim*1e9,photon_rate_arr*1e-6,label='Actual')\n",
    "plt.plot(t_sim*1e9,pred_mod_full.detach().numpy()*1e-6,'--',label='Fit') # /cnt_phot_fit\n",
    "plt.xlabel('time [ns]')\n",
    "plt.ylabel('Photon Arrival Rate [MHz]')"
   ]
  },
  {
   "cell_type": "code",
   "execution_count": 548,
   "id": "1e58c205",
   "metadata": {},
   "outputs": [],
   "source": [
    "pred_mod_fit_pts,integral_fit_pts = fit_model(t_phot_fit_tnsr)\n",
    "pred_mod_val_pts,integral_val_pts = fit_model(t_phot_val_tnsr)"
   ]
  },
  {
   "cell_type": "code",
   "execution_count": 549,
   "id": "739aeb94",
   "metadata": {},
   "outputs": [
    {
     "data": {
      "text/plain": [
       "<matplotlib.legend.Legend at 0x7f839c28ccd0>"
      ]
     },
     "execution_count": 549,
     "metadata": {},
     "output_type": "execute_result"
    },
    {
     "data": {
      "image/png": "[encoded data removed]",
      "text/plain": [
       "<Figure size 432x288 with 1 Axes>"
      ]
     },
     "metadata": {
      "needs_background": "light"
     },
     "output_type": "display_data"
    }
   ],
   "source": [
    "plt.figure()\n",
    "plt.plot(t_sim*1e9,photon_rate_arr*1e-6,label='Actual',color='k',alpha=0.3)\n",
    "plt.scatter(t_phot_fit_tnsr.detach().numpy()*1e9,pred_mod_fit_pts.detach().numpy()*1e-6,label='Fit')\n",
    "plt.scatter(t_phot_val_tnsr.detach().numpy()*1e9,pred_mod_val_pts.detach().numpy()*1e-6,label='Validation',c='tab:red')\n",
    "plt.xlabel('time [ns]')\n",
    "plt.ylabel('Photon Arrival Rate [MHz]')\n",
    "plt.legend()"
   ]
  },
  {
   "cell_type": "code",
   "execution_count": null,
   "id": "cdb3fb3a",
   "metadata": {},
   "outputs": [],
   "source": []
  },
  {
   "cell_type": "code",
   "execution_count": null,
   "id": "b08a0ee4",
   "metadata": {},
   "outputs": [],
   "source": []
  }
 ],
 "metadata": {
  "kernelspec": {
   "display_name": "Python 3",
   "language": "python",
   "name": "python3"
  },
  "language_info": {
   "codemirror_mode": {
    "name": "ipython",
    "version": 3
   },
   "file_extension": ".py",
   "mimetype": "text/x-python",
   "name": "python",
   "nbconvert_exporter": "python",
   "pygments_lexer": "ipython3",
   "version": "3.8.8"
  }
 },
 "nbformat": 4,
 "nbformat_minor": 5
}
