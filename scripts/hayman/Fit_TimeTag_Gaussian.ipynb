{
 "cells": [
  {
   "cell_type": "markdown",
   "id": "6b9ecadb",
   "metadata": {},
   "source": [
    "# Fitting to time tag data natively\n",
    "\n",
    "This notebook is intended to give an example of how to fit an estimated photon arrival rate to time tags (without binning).  \n",
    "\n",
    "This notebook uses simulated data which.  To generate this data, you will need a function in the repo\n",
    "\n",
    "    NCAR/deadtime-sim-ptv\n",
    "    \n",
    "This notebook utilizes PyTorch to perform the fitting routine.\n",
    "\n",
    "Our aim is to obtain an estimate of $\\lambda(t)$, the photon arrival rate, as a function of time $t$ (relative to laser pulse firing).  We obtain this using a list of $N$ time tags where photons arrived $\\mathbf{t} =  \\lbrace t_n \\rbrace_{n=1}^N$.\n",
    "\n",
    "For a Poisson point process the probability that the random photon arrivals $\\mathbf{T}$ correspond the observations is\n",
    "\n",
    "$\\mathbb{P}\\left( \\lbrace T_n = t_n \\rbrace_{n=1}^N \\right) = e^{-\\Lambda(t_{max})}\\prod_{n=1}^{N} \\lambda(t_n)$\n",
    "\n",
    "where\n",
    "\n",
    "$\\Lambda(t) = \\int_0^{t} \\lambda(t') dt'$\n",
    "\n",
    "and $t_{max}$ is the maximum time in the retrieval.\n",
    "\n",
    "The above probability accounts for one laser shot.  For multiple shots, the PDFs should be multiplied.  In that case, for $L$ laser shots we obtain\n",
    "\n",
    "$\\mathbb{P}\\left( \\lbrace T_n = t_n \\rbrace_{n=1}^N \\right) = e^{-L \\Lambda(t_{max})}\\prod_{n=1}^{N} \\lambda(t_n)$\n",
    "\n",
    "where the list of photons comprises all arrivals from all laser shots.\n",
    "\n",
    "In order to perform a fit, we aim to minimize the negative log-likelihood of the PDF.  This gives the loss function\n",
    "\n",
    "$\\mathcal{L}[\\lambda(t)] = L \\Lambda(t_{max}) - \\sum_{n=1}^{N} \\ln\\lambda(t_n)$\n",
    "\n",
    "From the above definition, it becomes clear that it is useful to have basis functions for $\\lambda(t)$ that can be integrated analytically.  For this example, we use a Gaussian target in a constant background\n",
    "\n",
    "$\\lambda(t) = A \\exp\\left( -\\frac{(t-\\mu)^2}{2\\sigma^2}\\right) + b$\n",
    "\n",
    "where the parameters $A$, $\\mu$, $\\sigma$ and $b$ must be estimated in the fitting routine.  The integral of the above arrival rate basis function is\n",
    "\n",
    "$\\Lambda(t) = \\frac{1}{2} A \\sigma \\sqrt{2\\pi} \\left[1 + erf\\left(\\frac{t-\\mu}{\\sigma\\sqrt{2}}\\right)\\right] + b t$\n",
    "\n",
    "where $erf$ is the Gauss Error Function."
   ]
  },
  {
   "cell_type": "code",
   "execution_count": 1,
   "id": "e2a3d84d",
   "metadata": {},
   "outputs": [],
   "source": [
    "import os,sys\n",
    "import numpy as np\n",
    "import torch\n",
    "import matplotlib.pyplot as plt\n",
    "\n",
    "import xarray as xr\n",
    "import datetime"
   ]
  },
  {
   "cell_type": "code",
   "execution_count": 2,
   "id": "47df1de5",
   "metadata": {},
   "outputs": [],
   "source": [
    "dtype = torch.float64\n",
    "device = torch.device(\"cpu\")"
   ]
  },
  {
   "cell_type": "code",
   "execution_count": 3,
   "id": "93fc8394",
   "metadata": {},
   "outputs": [],
   "source": [
    "# import library for simulating Poisson point processes\n",
    "dirP_str = os.path.join(os.environ['HOME'], \n",
    "                    'Documents',\n",
    "                    'GitHub',\n",
    "                    'deadtime-sim-ptv',\n",
    "                    'python',\n",
    "                    'library')\n",
    "if dirP_str not in sys.path:\n",
    "    sys.path.append(dirP_str)\n",
    "    \n",
    "import sim_deadtime_utils as sim"
   ]
  },
  {
   "cell_type": "markdown",
   "id": "0c8dda42",
   "metadata": {},
   "source": [
    "# Generate Simulated Data"
   ]
  },
  {
   "cell_type": "code",
   "execution_count": 137,
   "id": "4e0b4ce7",
   "metadata": {},
   "outputs": [],
   "source": [
    "# simulation resolution settings\n",
    "t_sim_min = 0\n",
    "t_sim_max = 1e-6\n",
    "dt_sim = 1e-12\n",
    "\n",
    "tD = 200e-9 # deadtime\n",
    "Nshot = 100 # number of laser shots\n",
    "wrap_deadtime = True  # wrap deadtime between shots\n",
    "\n",
    "laser_pulse_width = 60e-9 # laser pulse width in seconds\n",
    "target_time = 700e-9\n",
    "target_amplitude = 5e6 # target peak count rate\n",
    "background = 1e5  # background count rate"
   ]
  },
  {
   "cell_type": "code",
   "execution_count": 138,
   "id": "06cb7df1",
   "metadata": {},
   "outputs": [],
   "source": [
    "# generate the simulated scene time axis\n",
    "t_sim = np.arange(t_sim_min,t_sim_max,dt_sim)           # simulation time\n",
    "t_sim_bins = np.concatenate((t_sim,t_sim[-1:]+dt_sim))  # simulation time histogram bins"
   ]
  },
  {
   "cell_type": "code",
   "execution_count": 139,
   "id": "006a43da",
   "metadata": {},
   "outputs": [],
   "source": [
    "# generate the photon arrival rate of the profile\n",
    "# Gaussian target with constant background\n",
    "photon_rate_arr = target_amplitude*np.exp(-(t_sim - target_time)**2/(2*laser_pulse_width**2))+background"
   ]
  },
  {
   "cell_type": "code",
   "execution_count": 182,
   "id": "23ee028f",
   "metadata": {},
   "outputs": [],
   "source": [
    "# define vars for saving data\n",
    "data_date_str = datetime.datetime.now().strftime('%Y%m%dT%H%M%S')\n",
    "save_data_path = os.path.join(os.environ['HOME'],'Documents/MPD/DataForMLEPaper/')"
   ]
  },
  {
   "cell_type": "code",
   "execution_count": 140,
   "id": "5cc926dc",
   "metadata": {},
   "outputs": [],
   "source": [
    "# generate photon counts\n",
    "\n",
    "# lists of photon arrivals per\n",
    "# laser shot\n",
    "t_det_lst = []  # detected photons (includes deadtime)\n",
    "t_phot_lst = [] # actual photons (no dead time)\n",
    "\n",
    "t_det_last = -100.0  # last photon detection event\n",
    "for n in range(Nshot):\n",
    "    # simulate a laser shot\n",
    "    ptime,ctime = sim.photon_count_generator(t_sim_bins, \n",
    "                                            photon_rate_arr, \n",
    "                                            tau_d_flt=tD,\n",
    "                                            last_photon_flt=t_det_last)\n",
    "    if wrap_deadtime:\n",
    "        if len(ctime) > 0:\n",
    "            t_det_last = ctime[-1]\n",
    "        t_det_last -= t_sim_bins[-1]\n",
    "        \n",
    "    t_det_lst += [ctime]  # detection time tags (including deadtime)\n",
    "    t_phot_lst += [ptime] # photon time tags"
   ]
  },
  {
   "cell_type": "code",
   "execution_count": 141,
   "id": "a791c0e6",
   "metadata": {},
   "outputs": [
    {
     "data": {
      "text/plain": [
       "Text(0.5, 1.0, 'Detected Photons')"
      ]
     },
     "execution_count": 141,
     "metadata": {},
     "output_type": "execute_result"
    },
    {
     "data": {
      "image/png": "[encoded data removed]",
      "text/plain": [
       "<Figure size 432x288 with 1 Axes>"
      ]
     },
     "metadata": {
      "needs_background": "light"
     },
     "output_type": "display_data"
    },
    {
     "data": {
      "image/png": "[encoded data removed]",
      "text/plain": [
       "<Figure size 432x288 with 1 Axes>"
      ]
     },
     "metadata": {
      "needs_background": "light"
     },
     "output_type": "display_data"
    }
   ],
   "source": [
    "phot_arr = np.array(sorted(np.concatenate(t_phot_lst)))\n",
    "plt.figure()\n",
    "plt.stem(phot_arr,np.ones(phot_arr.size))\n",
    "plt.title('Photons')\n",
    "\n",
    "\n",
    "cnt_arr = np.array(sorted(np.concatenate(t_det_lst)))\n",
    "plt.figure()\n",
    "plt.stem(cnt_arr,np.ones(cnt_arr.size))\n",
    "plt.title('Detected Photons')"
   ]
  },
  {
   "cell_type": "code",
   "execution_count": 142,
   "id": "66b7eff1",
   "metadata": {},
   "outputs": [
    {
     "data": {
      "text/plain": [
       "Text(0, 0.5, 'Arrival Rate [MHz]')"
      ]
     },
     "execution_count": 142,
     "metadata": {},
     "output_type": "execute_result"
    },
    {
     "data": {
      "image/png": "[encoded data removed]",
      "text/plain": [
       "<Figure size 720x288 with 2 Axes>"
      ]
     },
     "metadata": {
      "needs_background": "light"
     },
     "output_type": "display_data"
    }
   ],
   "source": [
    "fig,ax = plt.subplots(1,1,figsize=(10,4))\n",
    "(markers, stemlines, baseline) = ax.stem(1e9*phot_arr,np.ones(phot_arr.shape),markerfmt='w',basefmt='C0')\n",
    "plt.setp(markers, marker='o', markersize=6, markeredgecolor=\"C0\", markeredgewidth=1)\n",
    "ax.plot([t_sim.min()*1e9,t_sim.max()*1e9],[0,0],'C0')\n",
    "ax.plot([t_sim.min()*1e9,t_sim.max()*1e9],[2,2],'w')\n",
    "\n",
    "ax2 = ax.twinx()\n",
    "ax2.plot(1e9*t_sim,1e-6*photon_rate_arr,label='Actual',color='k',alpha=0.3,linewidth=4)\n",
    "ax2.set_ylabel(\"Arrival Rate [MHz]\")"
   ]
  },
  {
   "cell_type": "code",
   "execution_count": 143,
   "id": "00439b3e",
   "metadata": {},
   "outputs": [],
   "source": [
    "# split data into fit and validation sets\n",
    "# since we are assuming a fixed target between shots\n",
    "# we can just split the data in chunks.\n",
    "split_index = int(len(t_phot_lst)//2)\n",
    "cnt_phot_fit = len(t_phot_lst[:split_index])\n",
    "cnt_phot_val = len(t_phot_lst[split_index:])\n",
    "t_phot_fit = np.concatenate(t_phot_lst[:split_index])\n",
    "t_phot_val = np.concatenate(t_phot_lst[split_index:])"
   ]
  },
  {
   "cell_type": "markdown",
   "id": "ffb3e526",
   "metadata": {},
   "source": [
    "Double check the integral approximation using erf()"
   ]
  },
  {
   "cell_type": "code",
   "execution_count": 144,
   "id": "8953a05a",
   "metadata": {},
   "outputs": [],
   "source": [
    "t_torch = torch.tensor(t_sim)\n",
    "integral_est = torch.tensor(t_sim*background) \\\n",
    "        + 0.5*target_amplitude*laser_pulse_width*np.sqrt(2*np.pi) \\\n",
    "        + 0.5*target_amplitude*laser_pulse_width*np.sqrt(2*np.pi)\\\n",
    "            *torch.special.erf((t_torch-target_time)/(laser_pulse_width*np.sqrt(2)))"
   ]
  },
  {
   "cell_type": "code",
   "execution_count": 145,
   "id": "8633bf1b",
   "metadata": {},
   "outputs": [
    {
     "data": {
      "text/plain": [
       "[<matplotlib.lines.Line2D at 0x7fe0cab6c3d0>]"
      ]
     },
     "execution_count": 145,
     "metadata": {},
     "output_type": "execute_result"
    },
    {
     "data": {
      "image/png": "[encoded data removed]",
      "text/plain": [
       "<Figure size 432x288 with 1 Axes>"
      ]
     },
     "metadata": {
      "needs_background": "light"
     },
     "output_type": "display_data"
    },
    {
     "data": {
      "image/png": "[encoded data removed]",
      "text/plain": [
       "<Figure size 432x288 with 1 Axes>"
      ]
     },
     "metadata": {
      "needs_background": "light"
     },
     "output_type": "display_data"
    }
   ],
   "source": [
    "plt.figure()\n",
    "plt.plot(t_sim,photon_rate_arr)\n",
    "\n",
    "plt.figure()\n",
    "plt.plot(t_sim,np.cumsum(photon_rate_arr)*dt_sim)\n",
    "plt.plot(t_sim,integral_est.numpy(),'--')"
   ]
  },
  {
   "cell_type": "markdown",
   "id": "4c8a4b4b",
   "metadata": {},
   "source": [
    "# Perform Fit Using PyTorch\n",
    "Assume the target is described by a Gaussian with a constant background"
   ]
  },
  {
   "cell_type": "code",
   "execution_count": 146,
   "id": "90864389",
   "metadata": {},
   "outputs": [],
   "source": [
    "# convert training and validation data to \n",
    "# tensor type\n",
    "t_phot_fit_tnsr = torch.tensor(t_phot_fit)\n",
    "t_phot_val_tnsr = torch.tensor(t_phot_val)"
   ]
  },
  {
   "cell_type": "code",
   "execution_count": 147,
   "id": "025e5ec0",
   "metadata": {},
   "outputs": [],
   "source": [
    "# build the fit model as a NN module\n",
    "class Fit_Pulse(torch.nn.Module):\n",
    "    def __init__(self,t_max):\n",
    "        \"\"\"\n",
    "        Instantiate and initialize the fit parameters.\n",
    "        \"\"\"\n",
    "        super().__init__()\n",
    "        self.log_A = torch.nn.Parameter(6*torch.ones(()))   # Gaussian amplitude\n",
    "        self.log_mu = torch.nn.Parameter(-9*torch.ones(()))  # Gaussian mean\n",
    "        self.log_sig = torch.nn.Parameter(-8*torch.ones(())) # Gaussian std\n",
    "        self.log_b = torch.nn.Parameter(4*torch.ones(()))      # background\n",
    "        self.t_max = t_max # maximum time evaluated in integral term\n",
    "        \n",
    "        self.sqrt_2pi = torch.sqrt(torch.tensor(2*np.pi))\n",
    "        self.sqrt_2  = torch.sqrt(torch.tensor(2.0))\n",
    "        \n",
    "\n",
    "    def forward(self, t):\n",
    "        \"\"\"\n",
    "        Forward model the profile for input time t.\n",
    "        Also return the integral.\n",
    "        \"\"\"\n",
    "        # calculate all the actual fit parameters\n",
    "        A = torch.exp(self.log_A)\n",
    "        mu = torch.exp(self.log_mu)\n",
    "        sig = torch.exp(self.log_sig)\n",
    "        b = torch.exp(self.log_b)\n",
    "        \n",
    "        # calculate the forward model\n",
    "        model_out = A*torch.exp(-(t-mu)**2/(2*sig**2)) + b\n",
    "        \n",
    "        # calculate the integral\n",
    "        integral_out = b*self.t_max \\\n",
    "                        + 0.5*A*sig*self.sqrt_2pi \\\n",
    "                        + 0.5*A*sig*self.sqrt_2pi\\\n",
    "                            *torch.special.erf((self.t_max-mu)/(sig*self.sqrt_2))\n",
    "        \n",
    "        return model_out, integral_out"
   ]
  },
  {
   "cell_type": "code",
   "execution_count": 148,
   "id": "e997c380",
   "metadata": {},
   "outputs": [],
   "source": [
    "def pois_loss(prof,integral):\n",
    "    \"\"\"\n",
    "    Poisson point process loss function\n",
    "    prof: estimated photon arrival rate evaluated at\n",
    "        each time tag\n",
    "    integral: integral of prof at t_max\n",
    "    \"\"\"\n",
    "    return integral-torch.sum(torch.log(prof))"
   ]
  },
  {
   "cell_type": "code",
   "execution_count": 149,
   "id": "30abd2d7",
   "metadata": {},
   "outputs": [],
   "source": [
    "# optimization parameters\n",
    "rel_step_lim = 1e-15  # termination criteria based on step size\n",
    "max_epochs = 5000     # maximum number of iterations/epochs\n",
    "learning_rate = 1e-1  # ADAM learning rate\n",
    "term_persist = 20     # relative step size averaging interval in iterations"
   ]
  },
  {
   "cell_type": "code",
   "execution_count": 150,
   "id": "d4729aae",
   "metadata": {},
   "outputs": [],
   "source": [
    "# initialize for fit loop\n",
    "fit_model = Fit_Pulse(t_sim[-1])\n",
    "optimizer = torch.optim.Adam(fit_model.parameters(),lr=learning_rate)\n",
    "epoch=0\n",
    "rel_step = 1e3*rel_step_lim\n",
    "train_loss_lst = []\n",
    "valid_loss_lst = []\n",
    "rel_step_lst = []"
   ]
  },
  {
   "cell_type": "code",
   "execution_count": 151,
   "id": "c624480b",
   "metadata": {},
   "outputs": [],
   "source": [
    "# set the loss function to use a \n",
    "# Poisson point process likelihood function\n",
    "loss_fn = pois_loss"
   ]
  },
  {
   "cell_type": "code",
   "execution_count": 152,
   "id": "fe7a5660",
   "metadata": {},
   "outputs": [],
   "source": [
    "# perform fit\n",
    "while rel_step > rel_step_lim and epoch < max_epochs:\n",
    "    fit_model.train()\n",
    "    pred,integral = fit_model(t_phot_fit_tnsr)\n",
    "    loss = loss_fn(pred,integral*cnt_phot_fit)  # add regularization here\n",
    "    train_loss_lst +=[loss.item()]\n",
    "\n",
    "    # calculate relative step as an average over the last\n",
    "    # term_persist iterations\n",
    "    if epoch == 0:\n",
    "        rel_step_lst+=[1e3*rel_step_lim]\n",
    "        rel_step = 1e3*rel_step_lim\n",
    "    else:\n",
    "        rel_step_lst+=[(train_loss_lst[-2]-train_loss_lst[-1])/np.abs(train_loss_lst[-2])]\n",
    "        rel_step = np.abs(np.array(rel_step_lst)[-term_persist:].mean())\n",
    "    \n",
    "    # calculate validation loss... for fun\n",
    "    pred_val,integral_val = fit_model(t_phot_val_tnsr)\n",
    "    loss_val = loss_fn(pred_val,integral_val*cnt_phot_val)\n",
    "    valid_loss_lst +=[loss_val.item()]\n",
    "\n",
    "    # update estimated parameters\n",
    "    loss.backward()\n",
    "    optimizer.step()\n",
    "    \n",
    "    # zero out the gradient for the next step\n",
    "    optimizer.zero_grad()\n",
    "\n",
    "#     print(f\"{train_loss_lst[-1]}\")\n",
    "    \n",
    "    epoch+=1"
   ]
  },
  {
   "cell_type": "code",
   "execution_count": 153,
   "id": "c4c6514d",
   "metadata": {},
   "outputs": [
    {
     "name": "stdout",
     "output_type": "stream",
     "text": [
      "Validation Loss: -520.4147559526867\n"
     ]
    }
   ],
   "source": [
    "# calculate the validation loss.\n",
    "# we would use this to determine optimimal tuning parameters\n",
    "# if we had any (e.g. more Gaussian targets)\n",
    "pred_val,integral_val = fit_model(t_phot_val_tnsr)\n",
    "loss_val = loss_fn(pred_val,integral_val*cnt_phot_val)\n",
    "print(f\"Validation Loss: {loss_val}\")"
   ]
  },
  {
   "cell_type": "code",
   "execution_count": 154,
   "id": "6df0d477",
   "metadata": {},
   "outputs": [
    {
     "data": {
      "text/plain": [
       "<matplotlib.legend.Legend at 0x7fe0cab7aa30>"
      ]
     },
     "execution_count": 154,
     "metadata": {},
     "output_type": "execute_result"
    },
    {
     "data": {
      "image/png": "[encoded data removed]",
      "text/plain": [
       "<Figure size 432x288 with 1 Axes>"
      ]
     },
     "metadata": {
      "needs_background": "light"
     },
     "output_type": "display_data"
    }
   ],
   "source": [
    "# plot the loss over iterations\n",
    "plt.figure()\n",
    "plt.plot(train_loss_lst,label='fit loss')\n",
    "plt.plot(valid_loss_lst,label='validation loss')\n",
    "plt.xlabel('fit iteration')\n",
    "plt.ylabel('Poisson NLL')\n",
    "plt.legend()"
   ]
  },
  {
   "cell_type": "markdown",
   "id": "babec314",
   "metadata": {},
   "source": [
    "Display the resulting estimate"
   ]
  },
  {
   "cell_type": "code",
   "execution_count": 155,
   "id": "f0591146",
   "metadata": {},
   "outputs": [],
   "source": [
    "pred_mod_full,integral_full = fit_model(torch.tensor(t_sim))"
   ]
  },
  {
   "cell_type": "code",
   "execution_count": 156,
   "id": "f243b554",
   "metadata": {},
   "outputs": [
    {
     "data": {
      "text/plain": [
       "<matplotlib.legend.Legend at 0x7fe0f1498df0>"
      ]
     },
     "execution_count": 156,
     "metadata": {},
     "output_type": "execute_result"
    },
    {
     "data": {
      "image/png": "[encoded data removed]",
      "text/plain": [
       "<Figure size 432x288 with 1 Axes>"
      ]
     },
     "metadata": {
      "needs_background": "light"
     },
     "output_type": "display_data"
    }
   ],
   "source": [
    "plt.figure()\n",
    "plt.plot(t_sim*1e9,photon_rate_arr*1e-6,label='Actual')\n",
    "plt.plot(t_sim*1e9,pred_mod_full.detach().numpy()*1e-6,'--',label='Fit') # /cnt_phot_fit\n",
    "plt.xlabel('time [ns]')\n",
    "plt.ylabel('Photon Arrival Rate [MHz]')\n",
    "plt.legend()"
   ]
  },
  {
   "cell_type": "code",
   "execution_count": 197,
   "id": "adb6dbc8",
   "metadata": {},
   "outputs": [],
   "source": [
    "init_model = Fit_Pulse(t_sim[-1])\n",
    "init_mod_full,init_integral_full = init_model(torch.tensor(t_sim))"
   ]
  },
  {
   "cell_type": "code",
   "execution_count": 193,
   "id": "9c8c2683",
   "metadata": {},
   "outputs": [
    {
     "data": {
      "text/plain": [
       "(400.0, 1000.0)"
      ]
     },
     "execution_count": 193,
     "metadata": {},
     "output_type": "execute_result"
    },
    {
     "data": {
      "image/png": "[encoded data removed]",
      "text/plain": [
       "<Figure size 432x288 with 1 Axes>"
      ]
     },
     "metadata": {
      "needs_background": "light"
     },
     "output_type": "display_data"
    }
   ],
   "source": [
    "h_phot = np.histogram(t_phot_fit,bins=np.linspace(0,1000e-9,41))\n",
    "dh_bins = np.median(np.diff(h_phot[1]))\n",
    "plt.figure()\n",
    "plt.bar(1e9*h_phot[1][:-1],h_phot[0],label='$y$',align='edge',width=1e9*np.diff(h_phot[1]),alpha=0.3)\n",
    "plt.plot(t_sim*1e9,0.5*pred_mod_full.detach().numpy()*dh_bins*Nshot,'-',label=r'$\\tilde{f}(x)$',linewidth=3) # /cnt_phot_fit\n",
    "plt.plot(t_sim*1e9,0.5*photon_rate_arr*dh_bins*Nshot,'-',label='$f(x)$',linewidth=3,color='k',alpha=0.3)\n",
    "plt.xlabel('time [ns]')\n",
    "plt.ylabel('Photon Counts')\n",
    "plt.legend()\n",
    "plt.xlim([400,1000])"
   ]
  },
  {
   "cell_type": "code",
   "execution_count": 200,
   "id": "6cb22612",
   "metadata": {},
   "outputs": [
    {
     "data": {
      "text/plain": [
       "<matplotlib.legend.Legend at 0x7fe0f529fa00>"
      ]
     },
     "execution_count": 200,
     "metadata": {},
     "output_type": "execute_result"
    },
    {
     "data": {
      "image/png": "[encoded data removed]",
      "text/plain": [
       "<Figure size 720x288 with 2 Axes>"
      ]
     },
     "metadata": {
      "needs_background": "light"
     },
     "output_type": "display_data"
    }
   ],
   "source": [
    "fig,ax = plt.subplots(1,1,figsize=(10,4))\n",
    "ax2 = ax.twinx()\n",
    "\n",
    "stem_color_str = \"k\"\n",
    "(markers, stemlines, baseline) = ax2.stem(1e9*t_phot_fit,np.ones(t_phot_fit.shape),markerfmt='none',basefmt=stem_color_str,bottom=0)\n",
    "plt.setp(markers, marker='o', markersize=6, markeredgecolor=stem_color_str, markeredgewidth=1,markerfacecolor='w')\n",
    "plt.setp(stemlines,color=stem_color_str)\n",
    "# ax2.plot([t_sim.min()*1e9,t_sim.max()*1e9],[0,0],'C0')\n",
    "# ax2.plot([t_sim.min()*1e9,t_sim.max()*1e9],[5,5],'w')\n",
    "ax2.set_yticklabels([])\n",
    "ax2.set_yticks([])\n",
    "ax2.set_ylim([0,10])\n",
    "\n",
    "ax.bar(1e9*h_phot[1][:-1],2e-6*h_phot[0]/dh_bins/Nshot,label='Histogram',\n",
    "       align='edge',width=1e9*np.diff(h_phot[1]),\n",
    "       facecolor='w',edgecolor='k',linewidth=1.0)\n",
    "\n",
    "ax.plot(1e9*t_sim,1e-6*photon_rate_arr,label='Actual',color='k',alpha=0.3,linewidth=4)\n",
    "ax.plot(t_sim*1e9,1e-6*pred_mod_full.detach().numpy(),'C3--',label=r'MLE Estimate',linewidth=3)\n",
    "# ax.plot(t_sim*1e9,1e-6*init_mod_full.detach().numpy(),'C2:',label=r'Initial Estimate',linewidth=3)\n",
    "\n",
    "ax.set_ylabel(\"Arrival Rate [MHz]\")\n",
    "ax.set_xlabel(\"Arrival Time [ns]\")\n",
    "\n",
    "ax.legend()\n",
    "\n",
    "# plt.savefig(os.path.join(save_data_path,'Plot_Fit_Results_'+data_date_str+'.tif'),dpi=300)\n",
    "# plt.savefig(os.path.join(save_data_path,'Plot_Fit_Results_'+data_date_str+'.png'),dpi=300)"
   ]
  },
  {
   "cell_type": "code",
   "execution_count": 201,
   "id": "6c7d88c2",
   "metadata": {},
   "outputs": [],
   "source": [
    "ds = xr.Dataset({},attrs={'tD':tD,'Nshot':Nshot,'laser_pulse_width':laser_pulse_width,\n",
    "                         'target_time':target_time,\n",
    "                         'target_amplitude':target_amplitude,\n",
    "                         'background':background,\n",
    "                         'fit_target_amplitude':np.exp(fit_model.log_A.detach().numpy()),\n",
    "                         'fit_target_time':np.exp(fit_model.log_mu.detach().numpy()),\n",
    "                         'fit_laser_pulse_width':np.exp(fit_model.log_sig.detach().numpy()),\n",
    "                         'fig_background':np.exp(fit_model.log_b.detach().numpy()),\n",
    "                         'init_target_amplitude':np.exp(init_model.log_A.detach().numpy()),\n",
    "                         'init_target_time':np.exp(init_model.log_mu.detach().numpy()),\n",
    "                         'init_laser_pulse_width':np.exp(init_model.log_sig.detach().numpy()),\n",
    "                         'init_background':np.exp(init_model.log_b.detach().numpy())\n",
    "                         })\n",
    "\n",
    "ds['t_phot_fit'] = xr.DataArray(t_phot_fit,dims=('t_phot_fit'),\n",
    "                               attrs={\n",
    "                                   'units':'s',\n",
    "                                   'description':'photon arrival times for fit data'})\n",
    "ds['t_phot_val'] = xr.DataArray(t_phot_val,dims=('t_phot_val'),\n",
    "                               attrs={\n",
    "                                   'units':'s',\n",
    "                                   'description':'photon arrival times for validation data'})\n",
    "\n",
    "ds['t_sim'] = xr.DataArray(t_sim,dims=('t_sim'),\n",
    "                          attrs={\n",
    "                              'units':'s',\n",
    "                              'description':'time axis used for simulation and plotting fit data'\n",
    "                          })\n",
    "\n",
    "ds['photon_rate_arr'] = xr.DataArray(photon_rate_arr,dims=('t_sim'),\n",
    "                                  coords={'t_sim':ds['t_sim']},\n",
    "                                  attrs={\n",
    "                                      'units':'Hz',\n",
    "                                      'description':'True photon arrival rate used in simulation'\n",
    "                                  })\n",
    "\n",
    "ds['est_photon_rate_arr'] = xr.DataArray(pred_mod_full.detach().numpy(),dims=('t_sim'),\n",
    "                                  coords={'t_sim':ds['t_sim']},\n",
    "                                  attrs={\n",
    "                                      'units':'Hz',\n",
    "                                      'description':'Estimated photon arrival rate from fit data'\n",
    "                                  })"
   ]
  },
  {
   "cell_type": "code",
   "execution_count": 202,
   "id": "e85feb7d",
   "metadata": {},
   "outputs": [
    {
     "name": "stdout",
     "output_type": "stream",
     "text": [
      "mean: 686.1790940466157 ns\n",
      "std: 107.71929925068727 ns\n",
      "std: 851.3567755772532 ns\n"
     ]
    }
   ],
   "source": [
    "print(f'mean: {np.mean(t_phot_fit)*1e9} ns')\n",
    "print(f'std: {np.std(t_phot_fit)*1e9} ns')\n",
    "print(f'std: {np.max(t_phot_fit)*1e9} ns')"
   ]
  },
  {
   "cell_type": "code",
   "execution_count": 203,
   "id": "cb126644",
   "metadata": {},
   "outputs": [
    {
     "data": {
      "text/plain": [
       "2.4999999999999986e-08"
      ]
     },
     "execution_count": 203,
     "metadata": {},
     "output_type": "execute_result"
    }
   ],
   "source": [
    "dh_bins"
   ]
  },
  {
   "cell_type": "code",
   "execution_count": 204,
   "id": "b8545feb",
   "metadata": {},
   "outputs": [],
   "source": [
    "ds.to_netcdf(os.path.join(save_data_path,'Fit_Results_'+data_date_str+'.nc'))"
   ]
  },
  {
   "cell_type": "code",
   "execution_count": 205,
   "id": "a478bf8c",
   "metadata": {},
   "outputs": [
    {
     "data": {
      "text/plain": [
       "{'tD': 2e-07,\n",
       " 'Nshot': 100,\n",
       " 'laser_pulse_width': 6e-08,\n",
       " 'target_time': 7e-07,\n",
       " 'target_amplitude': 5000000.0,\n",
       " 'background': 100000.0,\n",
       " 'fit_target_amplitude': 4600707.0,\n",
       " 'fit_target_time': 7.1617757e-07,\n",
       " 'fit_laser_pulse_width': 5.6081987e-08,\n",
       " 'fig_background': 113247.5,\n",
       " 'init_target_amplitude': 403.42877,\n",
       " 'init_target_time': 0.0001234098,\n",
       " 'init_laser_pulse_width': 0.00033546262,\n",
       " 'init_background': 54.59815}"
      ]
     },
     "execution_count": 205,
     "metadata": {},
     "output_type": "execute_result"
    }
   ],
   "source": [
    "ds.attrs"
   ]
  },
  {
   "cell_type": "code",
   "execution_count": 548,
   "id": "eba08b97",
   "metadata": {},
   "outputs": [],
   "source": [
    "# calculate the modeled values at each photon arrival\n",
    "pred_mod_fit_pts,integral_fit_pts = fit_model(t_phot_fit_tnsr)\n",
    "pred_mod_val_pts,integral_val_pts = fit_model(t_phot_val_tnsr)"
   ]
  },
  {
   "cell_type": "code",
   "execution_count": 551,
   "id": "2dcf4196",
   "metadata": {},
   "outputs": [
    {
     "data": {
      "text/plain": [
       "<matplotlib.legend.Legend at 0x7f838fe0e970>"
      ]
     },
     "execution_count": 551,
     "metadata": {},
     "output_type": "execute_result"
    },
    {
     "data": {
      "image/png": "[encoded data removed]",
      "text/plain": [
       "<Figure size 432x288 with 1 Axes>"
      ]
     },
     "metadata": {
      "needs_background": "light"
     },
     "output_type": "display_data"
    }
   ],
   "source": [
    "plt.figure()\n",
    "plt.plot(t_sim*1e9,photon_rate_arr*1e-6,label='Actual',color='k',alpha=0.3)\n",
    "plt.scatter(t_phot_fit_tnsr.detach().numpy()*1e9,pred_mod_fit_pts.detach().numpy()*1e-6,s=2,label='Fit')\n",
    "plt.scatter(t_phot_val_tnsr.detach().numpy()*1e9,pred_mod_val_pts.detach().numpy()*1e-6,s=2,label='Validation',c='tab:red')\n",
    "plt.xlabel('time [ns]')\n",
    "plt.ylabel('Photon Arrival Rate [MHz]')\n",
    "plt.legend()"
   ]
  },
  {
   "cell_type": "markdown",
   "id": "8d42e0bb",
   "metadata": {},
   "source": [
    "# Multi Gaussian Model"
   ]
  },
  {
   "cell_type": "code",
   "execution_count": 554,
   "id": "7afc1bcb",
   "metadata": {},
   "outputs": [],
   "source": [
    "# convert training and validation data to \n",
    "# tensor type\n",
    "t_phot_fit_tnsr = torch.tensor(t_phot_fit)\n",
    "t_phot_val_tnsr = torch.tensor(t_phot_val)"
   ]
  },
  {
   "cell_type": "code",
   "execution_count": 555,
   "id": "c201ac1c",
   "metadata": {},
   "outputs": [],
   "source": [
    "# build the fit model as a NN module\n",
    "class Fit_MultiPulse(torch.nn.Module):\n",
    "    def __init__(self,t_max,num_gaus):\n",
    "        \"\"\"\n",
    "        Instantiate and initialize the fit parameters.\n",
    "        \"\"\"\n",
    "        super().__init__()\n",
    "        self.log_A = torch.nn.Parameter(5+torch.randn(num_gaus))   # Gaussian amplitude\n",
    "        self.log_mu = torch.nn.Parameter(-9+torch.ones(num_gaus))  # Gaussian mean\n",
    "        self.log_sig = torch.nn.Parameter(-9+torch.ones(num_gaus)) # Gaussian std\n",
    "        self.log_b = torch.nn.Parameter(3+torch.randn(1))      # background\n",
    "        self.t_max = t_max # maximum time evaluated in integral term\n",
    "        \n",
    "        self.sqrt_2pi = torch.sqrt(torch.tensor(2*np.pi))\n",
    "        self.sqrt_2  = torch.sqrt(torch.tensor(2.0))\n",
    "        \n",
    "\n",
    "    def forward(self, t):\n",
    "        \"\"\"\n",
    "        Forward model the profile for input time t.\n",
    "        Also return the integral.\n",
    "        \"\"\"\n",
    "        # calculate all the actual fit parameters\n",
    "        A = torch.exp(self.log_A)[None,:]\n",
    "        mu = torch.exp(self.log_mu)[None,:]\n",
    "        sig = torch.exp(self.log_sig)[None,:]\n",
    "        b = torch.exp(self.log_b)\n",
    "        \n",
    "        # calculate the forward model\n",
    "        model_out = torch.sum(A*torch.exp(-(t[:,None]-mu)**2/(2*sig**2)),dim=1) + b\n",
    "        \n",
    "        # calculate the integral\n",
    "        integral_out = b*self.t_max \\\n",
    "                        + torch.sum(0.5*A*sig*self.sqrt_2pi \\\n",
    "                        + 0.5*A*sig*self.sqrt_2pi\\\n",
    "                            *torch.special.erf((self.t_max-mu)/(sig*self.sqrt_2)),dim=1)\n",
    "        \n",
    "        return model_out, integral_out"
   ]
  },
  {
   "cell_type": "code",
   "execution_count": 556,
   "id": "281938e4",
   "metadata": {},
   "outputs": [],
   "source": [
    "def pois_loss(prof,integral):\n",
    "    \"\"\"\n",
    "    Poisson point process loss function\n",
    "    prof: estimated photon arrival rate evaluated at\n",
    "        each time tag\n",
    "    integral: integral of prof at t_max\n",
    "    \"\"\"\n",
    "    return integral-torch.sum(torch.log(prof))"
   ]
  },
  {
   "cell_type": "code",
   "execution_count": 557,
   "id": "c0231e2e",
   "metadata": {},
   "outputs": [],
   "source": [
    "# optimization parameters\n",
    "rel_step_lim = 1e-15  # termination criteria based on step size\n",
    "max_epochs = 5000     # maximum number of iterations/epochs\n",
    "learning_rate = 1e-1  # ADAM learning rate\n",
    "term_persist = 20     # relative step size averaging interval in iterations"
   ]
  },
  {
   "cell_type": "code",
   "execution_count": 558,
   "id": "d459c31a",
   "metadata": {},
   "outputs": [],
   "source": [
    "# initialize for fit loop\n",
    "fit_model = Fit_MultiPulse(t_sim[-1],3)\n",
    "optimizer = torch.optim.Adam(fit_model.parameters(),lr=learning_rate)\n",
    "epoch=0\n",
    "rel_step = 1e3*rel_step_lim\n",
    "train_loss_lst = []\n",
    "valid_loss_lst = []\n",
    "rel_step_lst = []"
   ]
  },
  {
   "cell_type": "code",
   "execution_count": 559,
   "id": "1ae32628",
   "metadata": {},
   "outputs": [],
   "source": [
    "# set the loss function to use a \n",
    "# Poisson point process likelihood function\n",
    "loss_fn = pois_loss"
   ]
  },
  {
   "cell_type": "code",
   "execution_count": 560,
   "id": "d634fe07",
   "metadata": {},
   "outputs": [],
   "source": [
    "# perform fit\n",
    "while rel_step > rel_step_lim and epoch < max_epochs:\n",
    "    fit_model.train()\n",
    "    pred,integral = fit_model(t_phot_fit_tnsr)\n",
    "    loss = loss_fn(pred,integral*cnt_phot_fit)  # add regularization here\n",
    "    train_loss_lst +=[loss.item()]\n",
    "\n",
    "    # calculate relative step as an average over the last\n",
    "    # term_persist iterations\n",
    "    if epoch == 0:\n",
    "        rel_step_lst+=[1e3*rel_step_lim]\n",
    "        rel_step = 1e3*rel_step_lim\n",
    "    else:\n",
    "        rel_step_lst+=[(train_loss_lst[-2]-train_loss_lst[-1])/np.abs(train_loss_lst[-2])]\n",
    "        rel_step = np.abs(np.array(rel_step_lst)[-term_persist:].mean())\n",
    "    \n",
    "    # calculate validation loss... for fun\n",
    "    pred_val,integral_val = fit_model(t_phot_val_tnsr)\n",
    "    loss_val = loss_fn(pred_val,integral_val*cnt_phot_val)\n",
    "    valid_loss_lst +=[loss_val.item()]\n",
    "\n",
    "    # update estimated parameters\n",
    "    loss.backward()\n",
    "    optimizer.step()\n",
    "    \n",
    "    # zero out the gradient for the next step\n",
    "    optimizer.zero_grad()\n",
    "\n",
    "#     print(f\"{train_loss_lst[-1]}\")\n",
    "    \n",
    "    epoch+=1"
   ]
  },
  {
   "cell_type": "code",
   "execution_count": 561,
   "id": "dcf9b2aa",
   "metadata": {},
   "outputs": [
    {
     "name": "stdout",
     "output_type": "stream",
     "text": [
      "Validation Loss: tensor([-962.2623], grad_fn=<SubBackward0>)\n"
     ]
    }
   ],
   "source": [
    "# calculate the validation loss.\n",
    "# we would use this to determine optimimal tuning parameters\n",
    "# if we had any (e.g. more Gaussian targets)\n",
    "pred_val,integral_val = fit_model(t_phot_val_tnsr)\n",
    "loss_val = loss_fn(pred_val,integral_val*cnt_phot_val)\n",
    "print(f\"Validation Loss: {loss_val}\")"
   ]
  },
  {
   "cell_type": "code",
   "execution_count": 562,
   "id": "2164f63b",
   "metadata": {},
   "outputs": [
    {
     "data": {
      "text/plain": [
       "<matplotlib.legend.Legend at 0x7f839c4259a0>"
      ]
     },
     "execution_count": 562,
     "metadata": {},
     "output_type": "execute_result"
    },
    {
     "data": {
      "image/png": "[encoded data removed]",
      "text/plain": [
       "<Figure size 432x288 with 1 Axes>"
      ]
     },
     "metadata": {
      "needs_background": "light"
     },
     "output_type": "display_data"
    }
   ],
   "source": [
    "# plot the loss over iterations\n",
    "plt.figure()\n",
    "plt.plot(train_loss_lst,label='fit loss')\n",
    "plt.plot(valid_loss_lst,label='validation loss')\n",
    "plt.xlabel('fit iteration')\n",
    "plt.ylabel('Poisson NLL')\n",
    "plt.legend()"
   ]
  },
  {
   "cell_type": "markdown",
   "id": "3b5401fc",
   "metadata": {},
   "source": [
    "Display the resulting estimate"
   ]
  },
  {
   "cell_type": "code",
   "execution_count": 563,
   "id": "d3d8bb8b",
   "metadata": {},
   "outputs": [],
   "source": [
    "pred_mod_full,integral_full = fit_model(torch.tensor(t_sim))"
   ]
  },
  {
   "cell_type": "code",
   "execution_count": 564,
   "id": "172eb8b3",
   "metadata": {},
   "outputs": [
    {
     "data": {
      "text/plain": [
       "<matplotlib.legend.Legend at 0x7f83abbee4c0>"
      ]
     },
     "execution_count": 564,
     "metadata": {},
     "output_type": "execute_result"
    },
    {
     "data": {
      "image/png": "[encoded data removed]",
      "text/plain": [
       "<Figure size 432x288 with 1 Axes>"
      ]
     },
     "metadata": {
      "needs_background": "light"
     },
     "output_type": "display_data"
    }
   ],
   "source": [
    "plt.figure()\n",
    "plt.plot(t_sim*1e9,photon_rate_arr*1e-6,label='Actual')\n",
    "plt.plot(t_sim*1e9,pred_mod_full.detach().numpy()*1e-6,'--',label='Fit') # /cnt_phot_fit\n",
    "plt.xlabel('time [ns]')\n",
    "plt.ylabel('Photon Arrival Rate [MHz]')\n",
    "plt.legend()"
   ]
  },
  {
   "cell_type": "code",
   "execution_count": 565,
   "id": "41ee1a8c",
   "metadata": {},
   "outputs": [],
   "source": [
    "# calculate the modeled values at each photon arrival\n",
    "pred_mod_fit_pts,integral_fit_pts = fit_model(t_phot_fit_tnsr)\n",
    "pred_mod_val_pts,integral_val_pts = fit_model(t_phot_val_tnsr)"
   ]
  },
  {
   "cell_type": "code",
   "execution_count": 566,
   "id": "950333c2",
   "metadata": {},
   "outputs": [
    {
     "data": {
      "text/plain": [
       "<matplotlib.legend.Legend at 0x7f82bb813bb0>"
      ]
     },
     "execution_count": 566,
     "metadata": {},
     "output_type": "execute_result"
    },
    {
     "data": {
      "image/png": "[encoded data removed]",
      "text/plain": [
       "<Figure size 432x288 with 1 Axes>"
      ]
     },
     "metadata": {
      "needs_background": "light"
     },
     "output_type": "display_data"
    }
   ],
   "source": [
    "plt.figure()\n",
    "plt.plot(t_sim*1e9,photon_rate_arr*1e-6,label='Actual',color='k',alpha=0.3)\n",
    "plt.scatter(t_phot_fit_tnsr.detach().numpy()*1e9,pred_mod_fit_pts.detach().numpy()*1e-6,s=2,label='Fit')\n",
    "plt.scatter(t_phot_val_tnsr.detach().numpy()*1e9,pred_mod_val_pts.detach().numpy()*1e-6,s=2,label='Validation',c='tab:red')\n",
    "plt.xlabel('time [ns]')\n",
    "plt.ylabel('Photon Arrival Rate [MHz]')\n",
    "plt.legend()"
   ]
  },
  {
   "cell_type": "markdown",
   "id": "b13ac487",
   "metadata": {},
   "source": [
    "## Optimize number of Gaussians"
   ]
  },
  {
   "cell_type": "code",
   "execution_count": 698,
   "id": "050e33a0",
   "metadata": {},
   "outputs": [],
   "source": [
    "def pois_loss(prof,integral):\n",
    "    \"\"\"\n",
    "    Poisson point process loss function\n",
    "    prof: estimated photon arrival rate evaluated at\n",
    "        each time tag\n",
    "    integral: integral of prof at t_max\n",
    "    \"\"\"\n",
    "    return integral-torch.sum(torch.log(prof))"
   ]
  },
  {
   "cell_type": "code",
   "execution_count": 699,
   "id": "665e74dc",
   "metadata": {},
   "outputs": [],
   "source": [
    "# optimization parameters\n",
    "rel_step_lim = 1e-15  # termination criteria based on step size\n",
    "max_epochs = 5000     # maximum number of iterations/epochs\n",
    "learning_rate = 1e-1  # ADAM learning rate\n",
    "term_persist = 20     # relative step size averaging interval in iterations\n",
    "repeat_count = 30     # number of times to repeat the initialization\n",
    "max_mode_count = 10   # max number of Gaussian modes to evaluate"
   ]
  },
  {
   "cell_type": "code",
   "execution_count": 700,
   "id": "1d53cc2d",
   "metadata": {},
   "outputs": [],
   "source": [
    "# set the loss function to use a \n",
    "# Poisson point process likelihood function\n",
    "loss_fn = pois_loss"
   ]
  },
  {
   "cell_type": "code",
   "execution_count": 701,
   "id": "6aed6710",
   "metadata": {},
   "outputs": [],
   "source": [
    "sol_lst = []\n",
    "fit_lst = []\n",
    "vld_lst = []\n",
    "epoch_lst = []\n",
    "num_gaus_lst = []"
   ]
  },
  {
   "cell_type": "code",
   "execution_count": 702,
   "id": "5e59bce8",
   "metadata": {},
   "outputs": [
    {
     "name": "stdout",
     "output_type": "stream",
     "text": [
      "1 modes\n",
      "2 modes\n",
      "3 modes\n",
      "4 modes\n",
      "5 modes\n",
      "6 modes\n",
      "7 modes\n",
      "8 modes\n",
      "9 modes\n"
     ]
    }
   ],
   "source": [
    "for num_gaussian in range(1,max_mode_count):\n",
    "    for init_cnt in range(repeat_count):\n",
    "        # initialize for fit loop\n",
    "        fit_model = Fit_MultiPulse(t_sim[-1],num_gaussian)\n",
    "        optimizer = torch.optim.Adam(fit_model.parameters(),lr=learning_rate)\n",
    "        epoch=0\n",
    "        rel_step = 1e3*rel_step_lim\n",
    "        train_loss_lst = []\n",
    "        valid_loss_lst = []\n",
    "        rel_step_lst = []\n",
    "\n",
    "        # perform fit\n",
    "        while rel_step > rel_step_lim and epoch < max_epochs:\n",
    "            fit_model.train()\n",
    "            pred,integral = fit_model(t_phot_fit_tnsr)\n",
    "            loss = loss_fn(pred,integral*cnt_phot_fit)  # add regularization here\n",
    "            train_loss_lst +=[loss.item()]\n",
    "\n",
    "            # calculate relative step as an average over the last\n",
    "            # term_persist iterations\n",
    "            if epoch == 0:\n",
    "                rel_step_lst+=[1e3*rel_step_lim]\n",
    "                rel_step = 1e3*rel_step_lim\n",
    "            else:\n",
    "                rel_step_lst+=[(train_loss_lst[-2]-train_loss_lst[-1])/np.abs(train_loss_lst[-2])]\n",
    "                rel_step = np.abs(np.array(rel_step_lst)[-term_persist:].mean())\n",
    "\n",
    "            # calculate validation loss... for fun\n",
    "            pred_val,integral_val = fit_model(t_phot_val_tnsr)\n",
    "            loss_val = loss_fn(pred_val,integral_val*cnt_phot_val)\n",
    "            valid_loss_lst +=[loss_val.item()]\n",
    "\n",
    "            # update estimated parameters\n",
    "            loss.backward()\n",
    "            optimizer.step()\n",
    "\n",
    "            # zero out the gradient for the next step\n",
    "            optimizer.zero_grad()\n",
    "\n",
    "        #     print(f\"{train_loss_lst[-1]}\")\n",
    "\n",
    "            epoch+=1\n",
    "\n",
    "        # calculate the validation loss.\n",
    "        # we would use this to determine optimimal tuning parameters\n",
    "        # if we had any (e.g. more Gaussian targets)\n",
    "        pred_val,integral_val = fit_model(t_phot_val_tnsr)\n",
    "        loss_val = loss_fn(pred_val,integral_val*cnt_phot_val)\n",
    "#         print(f\"{num_gaussian} modes, Validation Loss: {loss_val.item()}\")\n",
    "\n",
    "        pred_mod_full,integral_full = fit_model(torch.tensor(t_sim))\n",
    "\n",
    "        sol_lst.append(fit_model.parameters())\n",
    "        fit_lst.append(pred_mod_full)\n",
    "        vld_lst.append(loss_val.item())\n",
    "        num_gaus_lst.append(num_gaussian)\n",
    "        epoch_lst.append(epoch)\n",
    "    print(f\"{num_gaussian} modes\")"
   ]
  },
  {
   "cell_type": "code",
   "execution_count": 703,
   "id": "3e6c786f",
   "metadata": {},
   "outputs": [],
   "source": [
    "isol = np.argmin(vld_lst)"
   ]
  },
  {
   "cell_type": "code",
   "execution_count": 704,
   "id": "31a7e6f2",
   "metadata": {},
   "outputs": [],
   "source": [
    "vld_arr = np.array(vld_lst).reshape(-1,repeat_count)\n",
    "num_gaus_arr = np.array(num_gaus_lst).reshape(-1,repeat_count,)"
   ]
  },
  {
   "cell_type": "code",
   "execution_count": 705,
   "id": "c22fa305",
   "metadata": {},
   "outputs": [
    {
     "data": {
      "text/plain": [
       "Text(0, 0.5, 'Validation NLL')"
      ]
     },
     "execution_count": 705,
     "metadata": {},
     "output_type": "execute_result"
    },
    {
     "data": {
      "image/png": "[encoded data removed]",
      "text/plain": [
       "<Figure size 432x288 with 1 Axes>"
      ]
     },
     "metadata": {
      "needs_background": "light"
     },
     "output_type": "display_data"
    },
    {
     "data": {
      "image/png": "[encoded data removed]",
      "text/plain": [
       "<Figure size 432x288 with 1 Axes>"
      ]
     },
     "metadata": {
      "needs_background": "light"
     },
     "output_type": "display_data"
    }
   ],
   "source": [
    "plt.figure()\n",
    "plt.plot(num_gaus_lst[isol],vld_lst[isol],'o',color='tab:orange')\n",
    "plt.plot(num_gaus_lst,vld_lst,'.',color='tab:blue')\n",
    "plt.xlabel(\"Gaussian Modes\")\n",
    "plt.ylabel(\"Validation NLL\")\n",
    "\n",
    "\n",
    "plt.figure()\n",
    "# plt.plot(num_gaus_lst[isol],vld_lst[isol],'o',color='tab:orange')\n",
    "plt.plot(np.mean(num_gaus_arr,axis=1),np.min(vld_arr,axis=1),'.',color='tab:blue')\n",
    "plt.xlabel(\"Gaussian Modes\")\n",
    "plt.ylabel(\"Validation NLL\")\n",
    "\n"
   ]
  },
  {
   "cell_type": "code",
   "execution_count": 706,
   "id": "ecf34635",
   "metadata": {},
   "outputs": [
    {
     "data": {
      "text/plain": [
       "<matplotlib.legend.Legend at 0x7f83bd6ab580>"
      ]
     },
     "execution_count": 706,
     "metadata": {},
     "output_type": "execute_result"
    },
    {
     "data": {
      "image/png": "[encoded data removed]",
      "text/plain": [
       "<Figure size 432x288 with 1 Axes>"
      ]
     },
     "metadata": {
      "needs_background": "light"
     },
     "output_type": "display_data"
    }
   ],
   "source": [
    "plt.figure()\n",
    "plt.plot(t_sim*1e9,photon_rate_arr*1e-6,label='Actual')\n",
    "plt.plot(t_sim*1e9,fit_lst[isol].detach().numpy()*1e-6,'--',label='Fit') # /cnt_phot_fit\n",
    "plt.xlabel('time [ns]')\n",
    "plt.ylabel('Photon Arrival Rate [MHz]')\n",
    "plt.legend()"
   ]
  },
  {
   "cell_type": "code",
   "execution_count": 707,
   "id": "5b153a41",
   "metadata": {},
   "outputs": [
    {
     "name": "stdout",
     "output_type": "stream",
     "text": [
      "Parameter containing:\n",
      "tensor([10.1906, 15.4976, 13.1262, 10.5598], requires_grad=True)\n",
      "Parameter containing:\n",
      "tensor([-14.0238, -14.1743, -12.9632, -14.1937], requires_grad=True)\n",
      "Parameter containing:\n",
      "tensor([-23.8347, -17.7832, -19.9467, -16.3025], requires_grad=True)\n",
      "Parameter containing:\n",
      "tensor([9.4755], requires_grad=True)\n"
     ]
    }
   ],
   "source": [
    "for param in sol_lst[isol]:\n",
    "    print(param)"
   ]
  },
  {
   "cell_type": "code",
   "execution_count": 639,
   "id": "00be5f33",
   "metadata": {},
   "outputs": [],
   "source": [
    "# epoch_lst"
   ]
  },
  {
   "cell_type": "code",
   "execution_count": null,
   "id": "42c0e314",
   "metadata": {},
   "outputs": [],
   "source": []
  },
  {
   "cell_type": "code",
   "execution_count": null,
   "id": "5ad4c940",
   "metadata": {},
   "outputs": [],
   "source": []
  },
  {
   "cell_type": "code",
   "execution_count": null,
   "id": "6088999e",
   "metadata": {},
   "outputs": [],
   "source": []
  }
 ],
 "metadata": {
  "kernelspec": {
   "display_name": "Python 3",
   "language": "python",
   "name": "python3"
  },
  "language_info": {
   "codemirror_mode": {
    "name": "ipython",
    "version": 3
   },
   "file_extension": ".py",
   "mimetype": "text/x-python",
   "name": "python",
   "nbconvert_exporter": "python",
   "pygments_lexer": "ipython3",
   "version": "3.8.8"
  }
 },
 "nbformat": 4,
 "nbformat_minor": 5
}
