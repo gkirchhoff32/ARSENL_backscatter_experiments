{
 "cells": [
  {
   "cell_type": "code",
   "execution_count": 13,
   "id": "ac648cc2",
   "metadata": {},
   "outputs": [],
   "source": [
    "import os,sys\n",
    "import numpy as np\n",
    "import matplotlib.pyplot as plt\n",
    "import glob"
   ]
  },
  {
   "cell_type": "code",
   "execution_count": 14,
   "id": "8987c8cf",
   "metadata": {},
   "outputs": [],
   "source": [
    "data_path = os.path.join(os.environ['HOME'],'Documents','CUBL','initial_test_data')"
   ]
  },
  {
   "cell_type": "code",
   "execution_count": 15,
   "id": "7df100f5",
   "metadata": {},
   "outputs": [
    {
     "name": "stdout",
     "output_type": "stream",
     "text": [
      "0.) Dev_0_-_2022-02-18_10.47.06.ARSENL\n",
      "1.) Dev_0_-_2022-02-18_10.48.52.ARSENL\n",
      "2.) Dev_1_-_2022-02-18_10.47.06.ARSENL\n",
      "3.) Dev_1_-_2022-02-18_10.48.52.ARSENL\n"
     ]
    }
   ],
   "source": [
    "file_lst = sorted(glob.glob(os.path.join(data_path,'*.ARSENL')))\n",
    "for fidx,file in enumerate(file_lst):\n",
    "    print(f\"{fidx}.) \"+file.split(os.sep)[-1])"
   ]
  },
  {
   "cell_type": "code",
   "execution_count": 16,
   "id": "d530bb14",
   "metadata": {},
   "outputs": [],
   "source": [
    "file_sel = 3"
   ]
  },
  {
   "cell_type": "code",
   "execution_count": 18,
   "id": "e4472866",
   "metadata": {},
   "outputs": [],
   "source": [
    "# device, unix time, unix time usec, flag1, flag2, dtime, not_decoded_data\n",
    "data = np.genfromtxt(file_lst[file_sel], delimiter=',',skip_header=1)"
   ]
  },
  {
   "cell_type": "code",
   "execution_count": null,
   "id": "080e43d4",
   "metadata": {},
   "outputs": [],
   "source": []
  },
  {
   "cell_type": "code",
   "execution_count": null,
   "id": "b71bcdb1",
   "metadata": {},
   "outputs": [],
   "source": []
  },
  {
   "cell_type": "code",
   "execution_count": null,
   "id": "a533c921",
   "metadata": {},
   "outputs": [],
   "source": []
  }
 ],
 "metadata": {
  "kernelspec": {
   "display_name": "Python 3",
   "language": "python",
   "name": "python3"
  },
  "language_info": {
   "codemirror_mode": {
    "name": "ipython",
    "version": 3
   },
   "file_extension": ".py",
   "mimetype": "text/x-python",
   "name": "python",
   "nbconvert_exporter": "python",
   "pygments_lexer": "ipython3",
   "version": "3.8.8"
  }
 },
 "nbformat": 4,
 "nbformat_minor": 5
}
