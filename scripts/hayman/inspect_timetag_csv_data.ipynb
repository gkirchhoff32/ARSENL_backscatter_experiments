{
 "cells": [
  {
   "cell_type": "code",
   "execution_count": 13,
   "id": "c894761f",
   "metadata": {},
   "outputs": [],
   "source": [
    "import os,sys\n",
    "import numpy as np\n",
    "import matplotlib.pyplot as plt\n",
    "import glob"
   ]
  },
  {
   "cell_type": "code",
   "execution_count": 14,
   "id": "172a0817",
   "metadata": {},
   "outputs": [],
   "source": [
    "data_path = os.path.join(os.environ['HOME'],'Documents','CUBL','initial_test_data')"
   ]
  },
  {
   "cell_type": "code",
   "execution_count": 15,
   "id": "e4f3eacd",
   "metadata": {},
   "outputs": [
    {
     "name": "stdout",
     "output_type": "stream",
     "text": [
      "0.) Dev_0_-_2022-02-18_10.47.06.ARSENL\n",
      "1.) Dev_0_-_2022-02-18_10.48.52.ARSENL\n",
      "2.) Dev_1_-_2022-02-18_10.47.06.ARSENL\n",
      "3.) Dev_1_-_2022-02-18_10.48.52.ARSENL\n"
     ]
    }
   ],
   "source": [
    "file_lst = sorted(glob.glob(os.path.join(data_path,'*.ARSENL')))\n",
    "for fidx,file in enumerate(file_lst):\n",
    "    print(f\"{fidx}.) \"+file.split(os.sep)[-1])"
   ]
  },
  {
   "cell_type": "code",
   "execution_count": 16,
   "id": "bfcf23ce",
   "metadata": {},
   "outputs": [],
   "source": [
    "file_sel = 3"
   ]
  },
  {
   "cell_type": "code",
   "execution_count": 18,
   "id": "b7ed2099",
   "metadata": {},
   "outputs": [],
   "source": [
    "# device, unix time, unix time usec, flag1, flag2, dtime, not_decoded_data\n",
    "# differential time x 25 ps to get actual time\n",
    "data = np.genfromtxt(file_lst[file_sel], delimiter=',',skip_header=1)"
   ]
  },
  {
   "cell_type": "code",
   "execution_count": 21,
   "id": "721dfc00",
   "metadata": {},
   "outputs": [
    {
     "data": {
      "text/plain": [
       "array([1.00000000e+00, 1.64520654e+09, 8.11800000e+03, 1.00000000e+00,\n",
       "       0.00000000e+00, 2.34860600e+06, 2.14983225e+09])"
      ]
     },
     "execution_count": 21,
     "metadata": {},
     "output_type": "execute_result"
    }
   ],
   "source": [
    "data[0,:]"
   ]
  },
  {
   "cell_type": "code",
   "execution_count": null,
   "id": "7aed469b",
   "metadata": {},
   "outputs": [],
   "source": []
  },
  {
   "cell_type": "code",
   "execution_count": null,
   "id": "fc448f21",
   "metadata": {},
   "outputs": [],
   "source": []
  }
 ],
 "metadata": {
  "kernelspec": {
   "display_name": "Python 3",
   "language": "python",
   "name": "python3"
  },
  "language_info": {
   "codemirror_mode": {
    "name": "ipython",
    "version": 3
   },
   "file_extension": ".py",
   "mimetype": "text/x-python",
   "name": "python",
   "nbconvert_exporter": "python",
   "pygments_lexer": "ipython3",
   "version": "3.8.8"
  }
 },
 "nbformat": 4,
 "nbformat_minor": 5
}
