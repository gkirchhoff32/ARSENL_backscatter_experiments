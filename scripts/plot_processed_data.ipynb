{
 "cells": [
  {
   "cell_type": "markdown",
   "id": "3bea0d0f",
   "metadata": {},
   "source": [
    "# ARSENL Backscatter Experiments Plotting\n",
    "\n",
    "Grant Kirchhoff\n",
    "Last Updated: 09-30-2022\n",
    "University of Colorado Boulder\n",
    "\n",
    "Plot post-processed data from 'fit_histogram_polynomial_complexity_iteration.ipynb'\n",
    "\n",
    "Note: Make sure to set 'OD_str' parameter to appropriate dataset OD"
   ]
  },
  {
   "cell_type": "code",
   "execution_count": 1,
   "id": "46936d0a",
   "metadata": {},
   "outputs": [],
   "source": [
    "import numpy as np\n",
    "import pandas as pd\n",
    "import time\n",
    "import pickle\n",
    "import matplotlib.pyplot as plt\n",
    "import torch\n",
    "from scipy import stats\n",
    "import os\n",
    "import xarray as xr\n",
    "import sys\n",
    "\n",
    "# cwd = os.getcwd()\n",
    "# dirLib = cwd + r'/library'\n",
    "# if dirLib not in sys.path:\n",
    "#     sys.path.append(dirLib)\n",
    "\n",
    "# import fit_polynomial_methods as fit\n",
    "# import data_organize as dorg"
   ]
  },
  {
   "cell_type": "code",
   "execution_count": 2,
   "id": "cb6fd716",
   "metadata": {},
   "outputs": [],
   "source": [
    "load_dir = r'C:\\Users\\Grant\\OneDrive - UCB-O365\\ARSENL\\Experiments\\Deadtime_Experiments\\Data\\Postprocessed_Data'\n",
    "files = os.listdir(load_dir)\n",
    "\n",
    "ODs = np.zeros(len(files)).astype(str)\n",
    "flight_time = {}\n",
    "t_fine = {}\n",
    "fit_rate_seg = {}\n",
    "n_shots = {}\n",
    "for i in range(len(files)):\n",
    "    processed_data = xr.open_dataset(load_dir + r'\\{}'.format(files[i]))\n",
    "    key = files[i].split('_')[1][0:4]\n",
    "    ODs[i] = key\n",
    "    flight_time['{}'.format(key)] = processed_data.flight_time.values\n",
    "    t_fine['{}'.format(key)] = processed_data.t_fine.values\n",
    "    fit_rate_seg['{}'.format(key)] = processed_data.fit_rate_seg.values\n",
    "    n_shots['{}'.format(key)] = processed_data.n_shots.values\n",
    "    "
   ]
  },
  {
   "cell_type": "code",
   "execution_count": 5,
   "id": "f6c20845",
   "metadata": {},
   "outputs": [
    {
     "data": {
      "image/png": "[encoded data removed]",
      "text/plain": [
       "<Figure size 432x288 with 1 Axes>"
      ]
     },
     "metadata": {
      "needs_background": "light"
     },
     "output_type": "display_data"
    }
   ],
   "source": [
    "# Plot histograms on same plot\n",
    "\n",
    "fig = plt.figure()\n",
    "ax = fig.add_subplot(111)\n",
    "\n",
    "for i in range(len(flight_time)):\n",
    "    OD_key = ODs[i]\n",
    "    n, bins = np.histogram(flight_time[OD_key], bins=28)\n",
    "    binwidth = np.diff(bins)[0]\n",
    "    N = n / binwidth / n_shots[OD_key]  # [Hz] Scaling counts to arrival rate\n",
    "    center = 0.5 * (bins[:-1] + bins[1:])\n",
    "    ax.bar(center, N, align='center', width=binwidth, alpha=0.7, label=OD_key)\n",
    "\n",
    "ax.set_title('Arrival Rate Histograms')\n",
    "ax.set_xlabel('time [s]')\n",
    "ax.set_ylabel('Photon Arrival Rate [Hz]')\n",
    "ax.legend()\n",
    "plt.tight_layout()\n",
    "plt.show()\n"
   ]
  },
  {
   "cell_type": "code",
   "execution_count": null,
   "id": "8c8fc4ec",
   "metadata": {},
   "outputs": [],
   "source": []
  }
 ],
 "metadata": {
  "kernelspec": {
   "display_name": "Python [conda env:arsenl-conda]",
   "language": "python",
   "name": "conda-env-arsenl-conda-py"
  },
  "language_info": {
   "codemirror_mode": {
    "name": "ipython",
    "version": 3
   },
   "file_extension": ".py",
   "mimetype": "text/x-python",
   "name": "python",
   "nbconvert_exporter": "python",
   "pygments_lexer": "ipython3",
   "version": "3.10.5"
  }
 },
 "nbformat": 4,
 "nbformat_minor": 5
}
