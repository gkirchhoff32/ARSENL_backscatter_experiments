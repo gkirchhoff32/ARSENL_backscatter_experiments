{
 "cells": [
  {
   "cell_type": "code",
   "execution_count": 36,
   "id": "da31bf25",
   "metadata": {},
   "outputs": [],
   "source": [
    "import matplotlib.pyplot as plt\n",
    "import matplotlib.ticker as mticker\n",
    "import pandas as pd\n",
    "import os, sys\n",
    "import numpy as np\n",
    "from pathlib import Path\n",
    "import pickle\n",
    "import matplotlib as mpl\n",
    "\n",
    "cwd = os.getcwd()\n",
    "dirLib = cwd + r'/library'\n",
    "if dirLib not in sys.path:\n",
    "    sys.path.append(dirLib)\n",
    "\n",
    "from load_ARSENL_data import load_INPHAMIS_data, set_binwidth\n",
    "\n",
    "mpl.rcParams.update({\"figure.facecolor\": \"white\"})"
   ]
  },
  {
   "cell_type": "code",
   "execution_count": 12,
   "id": "0d9cbded",
   "metadata": {},
   "outputs": [],
   "source": [
    "home = str(Path.home())\n",
    "\n",
    "load_dir = home + r'\\OneDrive - UCB-O365\\ARSENL\\Experiments\\SPCM\\evaluation_loss'\n",
    "\n",
    "fname_dead_fit = r'\\eval_loss_dtimeTrue_OD1.7E+00-3.4E+00_order7-21_shots2.50E+02_best_fit_run#1.csv'\n",
    "fname_pois_fit = r'\\eval_loss_dtimeFalse_OD1.7E+00-3.4E+00_order7-21_shots2.50E+02_best_fit_run#1.csv'\n",
    "\n",
    "fname_ttag = r'\\fit_figures\\eval_loss_dtimeTrue_OD1.7E+00-3.4E+00_order7-21_ref_shots6.00E+06_lsr_shots2.50E+02_best_fit_run#1.pkl'\n",
    "\n"
   ]
  },
  {
   "cell_type": "code",
   "execution_count": 13,
   "id": "d381a20a",
   "metadata": {},
   "outputs": [],
   "source": [
    "df_dead_fit = pd.read_csv(load_dir + fname_dead_fit)\n",
    "df_pois_fit = pd.read_csv(load_dir + fname_pois_fit)\n",
    "\n",
    "infile_ttag = open(load_dir + fname_ttag, 'rb')\n",
    "load_ttag = pickle.load(infile_ttag)"
   ]
  },
  {
   "cell_type": "code",
   "execution_count": 58,
   "id": "83516a8d",
   "metadata": {},
   "outputs": [
    {
     "name": "stdout",
     "output_type": "stream",
     "text": [
      "OD values investigated: [1.7, 1.8, 1.9, 2.0, 2.1, 2.2, 2.3, 2.4, 2.5, 2.6, 2.7, 2.8, 2.9, 3.0, 3.1, 3.2, 3.3, 3.4]\n"
     ]
    }
   ],
   "source": [
    "OD_lst = []\n",
    "OD_name_lst = []\n",
    "for column in df_dead_fit:\n",
    "    if column[:2] == 'OD':    \n",
    "        OD_lst.append(float(column[2:]))\n",
    "        OD_name_lst.append(column)\n",
    "print('OD values investigated: {}'.format(OD_lst))"
   ]
  },
  {
   "cell_type": "code",
   "execution_count": 119,
   "id": "7160943b",
   "metadata": {},
   "outputs": [],
   "source": [
    "idx = 12\n",
    "\n",
    "t_fine = df_dead_fit['time vector'].to_numpy()\n",
    "dead_fit = df_dead_fit[OD_name_lst[idx]]\n",
    "pois_fit = df_pois_fit[OD_name_lst[idx]]\n",
    "\n",
    "flight_time = load_ttag[0][idx].to_numpy()\n",
    "n_shots = load_ttag[5]"
   ]
  },
  {
   "cell_type": "code",
   "execution_count": 120,
   "id": "0e81c18a",
   "metadata": {},
   "outputs": [],
   "source": [
    "t_min = t_fine[0]\n",
    "t_max = t_fine[-1]\n",
    "dt = np.diff(t_fine)[0]"
   ]
  },
  {
   "cell_type": "code",
   "execution_count": 121,
   "id": "b78b49bb",
   "metadata": {},
   "outputs": [
    {
     "data": {
      "image/png": "[encoded data removed]",
      "text/plain": [
       "<Figure size 432x288 with 1 Axes>"
      ]
     },
     "metadata": {},
     "output_type": "display_data"
    }
   ],
   "source": [
    "fig = plt.figure()\n",
    "ax = fig.add_subplot(111)\n",
    "ax.plot(t_fine, dead_fit, label='deadtime', color='#003366')\n",
    "ax.plot(t_fine, pois_fit, label='Poisson', color='#E31B23')\n",
    "\n",
    "bin_array = set_binwidth(t_min, t_max, dt)\n",
    "n, bins = np.histogram(flight_time, bins=bin_array)\n",
    "binwidth = np.diff(bins)[0]\n",
    "N = n / binwidth / n_shots  # [Hz]\n",
    "center = 0.5 * (bins[:-1] + bins[1:])\n",
    "ax.bar(center, N, align='center', color='blue', width=binwidth, alpha=0.5, label='detections')\n",
    "\n",
    "ax.set_ylabel('Arrival Rate [Hz]')\n",
    "ax.set_xlabel('Time of Flight [s]')\n",
    "ax.set_title('Transmission: {:.4f}'.format(10**-float(OD_name_lst[idx][-3:])))\n",
    "plt.legend()\n",
    "plt.show()"
   ]
  },
  {
   "cell_type": "code",
   "execution_count": null,
   "id": "e1c23abe",
   "metadata": {},
   "outputs": [],
   "source": []
  }
 ],
 "metadata": {
  "kernelspec": {
   "display_name": "Python [conda env:arsenl-conda]",
   "language": "python",
   "name": "conda-env-arsenl-conda-py"
  },
  "language_info": {
   "codemirror_mode": {
    "name": "ipython",
    "version": 3
   },
   "file_extension": ".py",
   "mimetype": "text/x-python",
   "name": "python",
   "nbconvert_exporter": "python",
   "pygments_lexer": "ipython3",
   "version": "3.10.4"
  }
 },
 "nbformat": 4,
 "nbformat_minor": 5
}
