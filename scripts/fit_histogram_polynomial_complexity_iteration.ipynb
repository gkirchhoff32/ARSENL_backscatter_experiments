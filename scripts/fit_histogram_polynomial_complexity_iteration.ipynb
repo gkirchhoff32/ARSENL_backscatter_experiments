{
 "cells": [
  {
   "cell_type": "markdown",
   "id": "0a79049c",
   "metadata": {},
   "source": [
    "\n",
    "# ARSENL Backscatter Experiments\n",
    "\n",
    "Grant Kirchhoff\n",
    "06-23-2022\n",
    "University of Colorado Boulder\n",
    "\n",
    "Fit the photon arrival rate to exponentiated polynomial profiles from ARSENL INPHAMIS lidar. \n",
    "\n",
    "IMPORTANT: Set data path settings in\n",
    "'load_ARSENL_data.py' first."
   ]
  },
  {
   "cell_type": "code",
   "execution_count": 1,
   "id": "9209fcc0",
   "metadata": {},
   "outputs": [],
   "source": [
    "import numpy as np\n",
    "import pandas as pd\n",
    "import time\n",
    "import pickle\n",
    "import matplotlib.pyplot as plt\n",
    "import torch\n",
    "from scipy import stats\n",
    "import os\n",
    "import xarray as xr"
   ]
  },
  {
   "cell_type": "code",
   "execution_count": 74,
   "id": "a6cb3eb9",
   "metadata": {},
   "outputs": [],
   "source": [
    "### CONSTANTS ####\n",
    "c = 299792458                      # [m/s] Speed of light\n",
    "tstamp_int = 25                    # Timestamp interval (e.g., timestamp recorded in intervals of 25)\n",
    "max_rollover = 2**25 * tstamp_int  # [ps] the maximum timestamp before instrument timer rolls over\n",
    "scale = 1e-12                      # Scale from psec --> sec\n",
    "\n",
    "### PARAMETERS ###\n",
    "exclude_bnd = [30e-9, 32e-9]       # [s] Set boundaries for binning to exclude outliers\n",
    "exclude = True                     # Set TRUE to exclude data to work with smaller dataset\n",
    "excl_val = 100                   # Include up to certain sample number\n",
    "deadtime = 8e-9                  # [s] Acquisition deadtime\n",
    "\n",
    "cwd = os.getcwd()\n",
    "data_dir = cwd + r'/../Data/Deadtime_Experiments_HiFi'\n",
    "fname = r'/Dev_0_-_2022-04-15_11.02.33.ARSENL.OD05.ARSENL.nc'"
   ]
  },
  {
   "cell_type": "code",
   "execution_count": 75,
   "id": "9dc1632e",
   "metadata": {},
   "outputs": [],
   "source": [
    "# Some bookeeping. Organizes data into structures and variables required.\n",
    "\n",
    "# Load and organize xarray dataset\n",
    "ds = xr.open_dataset(data_dir + fname)\n",
    "\n",
    "flight_time = ds.time_tag * tstamp_int * scale  # [s] Convert time tags to flight times\n",
    "flight_time = flight_time[np.where((flight_time >= exclude_bnd[0]) \\\n",
    "                                   & (flight_time < exclude_bnd[1]))]  # Exclude specified t.o.f. bins\n",
    "tstamp_diff = ds.time_tag_diff * tstamp_int * scale  # [s] Elapsed time since previous time tag\n",
    "\n",
    "lsr_shots = ds.sync_index.to_numpy()\n",
    "timetag_sync_idx = ds.time_tag_sync_index\n",
    "\n",
    "if exclude:\n",
    "    flight_time = flight_time[0:excl_val]\n",
    "    tstamp_diff = tstamp_diff[0:excl_val]\n",
    "    \n",
    "    init_sync_cnt = ds.sync_index[0].item()  # Grab initial sync counter value\n",
    "    num_syncs = ds.time_tag_sync_index[excl_val].item() - init_sync_cnt  # Normalize counter values to start at 0 (then increment by 1s)\n",
    "    cnt_phot = num_syncs\n",
    "    \n",
    "    lsr_shots = lsr_shots[:excl_val]\n",
    "else:\n",
    "    cnt_phot = len(ds.sync_index)\n",
    "    \n",
    "# Generate nested list of arrays, where each array contains the detections per laser shot\n",
    "t_det_lst = []\n",
    "for i in range(len(lsr_shots)):\n",
    "    total_det = ds.time_tag[np.where(timetag_sync_idx==lsr_shots[i])[0]]\n",
    "    total_det = total_det*(tstamp_int*scale)  # Convert from 25ps intervals to seconds\n",
    "    t_det_lst.append(total_det)"
   ]
  },
  {
   "cell_type": "code",
   "execution_count": 76,
   "id": "5e273659",
   "metadata": {
    "scrolled": true
   },
   "outputs": [
    {
     "data": {
      "image/png": "[encoded data removed]",
      "text/plain": [
       "<Figure size 432x288 with 1 Axes>"
      ]
     },
     "metadata": {
      "needs_background": "light"
     },
     "output_type": "display_data"
    }
   ],
   "source": [
    "lsr_interval = np.mean(ds.sync_delta) * 25e-12  # [s] Laser shot period\n",
    "deadtime = 8e-9  # [s]\n",
    "bnd = [30e-9, 32e-9]  # [s] Fitting window bounds\n",
    "t_min = bnd[0]\n",
    "t_max = bnd[1]\n",
    "n_bins = 10000\n",
    "bin_edges, dt = np.linspace(t_min, t_max, n_bins+1, endpoint=False, retstep=True)\n",
    "intgrl_hst = np.zeros(len(bin_edges)-1)\n",
    "deadtime_n_bins = np.floor(deadtime / dt).astype(int)  # Number of bins that deadtime occupies\n",
    "\n",
    "for shot_num in range(len(t_det_lst)):\n",
    "    intgrl_hst += 1\n",
    "    total_det = t_det_lst[shot_num]\n",
    "    \n",
    "    if total_det.size == 0:\n",
    "        continue\n",
    "    else:\n",
    "        for det in total_det:\n",
    "            det_time = det.item()  # Time tag of detection that occurred during laser shot\n",
    "            \n",
    "            if det_time>=(t_min-deadtime) and det_time<=t_max:  # Only include detections that fall within fitting window\n",
    "                det_bin_idx = np.argmin(abs(det_time - bin_edges))  # Bin that detection falls into\n",
    "                final_dead_bin = det_bin_idx + deadtime_n_bins  # Final bin index that deadtime occupies\n",
    "                \n",
    "                # If final dead bin surpasses fit window, set it to the window upper bound\n",
    "                if final_dead_bin > len(intgrl_hst):\n",
    "                    final_dead_bin = len(intgrl_hst)\n",
    "                # If initial dead bin (detection) precedes fit window, set it to the window lower bound\n",
    "                if det_time < t_min:\n",
    "                    det_bin_idx = 0\n",
    "                intgrl_hst[det_bin_idx:final_dead_bin+1] -=1  # Remove \"dead\" region\n",
    "        \n",
    "        \n",
    "intgrl_hst /= len(lsr_shots)\n",
    "plt.plot(bin_edges[:-1], intgrl_hst)\n",
    "plt.xlabel('Arrival time [s]')\n",
    "plt.ylabel('\"Active-Bin\" Fraction')\n",
    "plt.title('Fraction of Laser Shots where Time Bin is Active')\n",
    "plt.show()\n"
   ]
  },
  {
   "cell_type": "code",
   "execution_count": 77,
   "id": "db171cf1",
   "metadata": {},
   "outputs": [
    {
     "data": {
      "image/png": "[encoded data removed]",
      "text/plain": [
       "<Figure size 432x288 with 1 Axes>"
      ]
     },
     "metadata": {
      "needs_background": "light"
     },
     "output_type": "display_data"
    }
   ],
   "source": [
    "# Scaled time-of-flight histogram\n",
    "fig = plt.figure()\n",
    "ax = fig.add_subplot(111)\n",
    "n, bin_edges = np.histogram(flight_time, bins=20)\n",
    "binwidth = np.diff(bin_edges)[0]\n",
    "N = n / binwidth / cnt_phot  # [Hz] Scale counts to arrival rate\n",
    "center = (bin_edges[:-1] + bin_edges[1:]) / 2\n",
    "ax.bar(center, N/1e6, align='center', width=binwidth, color='b')\n",
    "ax.set_title('Arrival Rate Histogram')\n",
    "ax.set_xlabel('time [s]')\n",
    "ax.set_ylabel('Photon Arrival Rate [MHz]')\n",
    "plt.show()"
   ]
  },
  {
   "cell_type": "code",
   "execution_count": 78,
   "id": "b4dfbd0e",
   "metadata": {
    "scrolled": true
   },
   "outputs": [],
   "source": [
    "# plt.figure()\n",
    "# plt.stem(flight_time, np.ones(flight_time.size))\n",
    "# plt.title('Photons')\n",
    "# plt.xlabel('Time [ps]')\n",
    "# plt.show()"
   ]
  },
  {
   "cell_type": "markdown",
   "id": "3fb8d53b",
   "metadata": {},
   "source": [
    "### Now applying the curve_fit routine to my data. Code pulled from Matt Hayman's \"Fit_TimeTag_Gaussian.ipynb\" and adapted to fit to arbitrary exponentiated polynomials."
   ]
  },
  {
   "cell_type": "code",
   "execution_count": 79,
   "id": "499dbc62",
   "metadata": {},
   "outputs": [],
   "source": [
    "# Chebyshev polynomial matrix generator\n",
    "def cheby_poly(x, M):\n",
    "    \"\"\"\n",
    "    Parameters:\n",
    "    x (torch array): Values to be evaluated on in chebyshev polynomial      \\\\ [Nx1]\n",
    "    M (int)        : *Highest* order term of polynomial (e.g., x^2 --> M=2) \\\\ []\n",
    "    Returns:\n",
    "    chebyshev polynomial matrix (torch array): Evaluated polynomial \\\\ [NxM]\n",
    "    \"\"\"\n",
    "    \n",
    "    def cheby(x, m):\n",
    "        \"\"\"\n",
    "        Helper to calculate value of specific chebyshev order\n",
    "        \"\"\"\n",
    "        T0 = x**0\n",
    "        T1 = x**1\n",
    "        if m == 0:   return T0\n",
    "        elif m == 1: return T1\n",
    "        else:        return 2*x*cheby(x, m-1) - cheby(x, m-2)\n",
    "    \n",
    "    N = len(x)\n",
    "    model_out = torch.zeros((N, M+1), dtype=float)\n",
    "    for i in range(M+1):\n",
    "        model_out[:, i] = cheby(x, i)\n",
    "    \n",
    "    return model_out"
   ]
  },
  {
   "cell_type": "code",
   "execution_count": 91,
   "id": "71dba4b5",
   "metadata": {},
   "outputs": [],
   "source": [
    "# build the fit model as a NN module\n",
    "class Fit_Pulse(torch.nn.Module):\n",
    "    def __init__(self, M, t_min, t_max, deadtime):\n",
    "        \"\"\"\n",
    "        Instantiate and initialize the fit parameters.\n",
    "        \"\"\"\n",
    "        super().__init__()\n",
    "        self.M = M          # Polynomial order\n",
    "        self.C = torch.nn.Parameter(-1*torch.ones(M+1, 1, dtype=float))  # Coefficients to be optimized\n",
    "        self.t_max = t_max  # Fit upper bound\n",
    "        self.t_min = t_min  # Fit lower bound\n",
    "        self.deadtime = deadtime\n",
    "        \n",
    "    # Helpers for numerical integration (Riemann and trapezoidal method)\n",
    "    @staticmethod\n",
    "    def trapezoid(vals, dx):\n",
    "        trap_intgrl = 2*torch.sum(vals) - vals[0] - vals[-1]\n",
    "        trap_intgrl *= dx/2\n",
    "        return trap_intgrl\n",
    "    \n",
    "    @staticmethod\n",
    "    def riemann(vals, dx):\n",
    "        riem_intgrl = torch.sum(vals) * dx\n",
    "        return riem_intgrl\n",
    "    \n",
    "    def deadtime_adjust_vals(self, intgrl_N, t_det_lst):\n",
    "        bin_edges, dt = np.linspace(self.t_min, self.t_max, intgrl_N+1, endpoint=False, retstep=True)\n",
    "        active_hst = np.zeros(len(bin_edges)-1)\n",
    "        deadtime_n_bins = np.floor(self.deadtime / dt).astype(int)  # Number of bins that deadtime occupies\n",
    "\n",
    "        for shot_num in range(len(t_det_lst)):\n",
    "            active_hst += 1\n",
    "            total_det = t_det_lst[shot_num]\n",
    "\n",
    "            if total_det.size == 0: continue\n",
    "            else:\n",
    "                for det in total_det:\n",
    "                    det_time = det.item()  # Time tag of detection that occurred during laser shot\n",
    "\n",
    "                    # Only include detections that fall within fitting window\n",
    "                    if det_time>=(t_min-self.deadtime) and det_time<=t_max:\n",
    "                        det_bin_idx = np.argmin(abs(det_time - bin_edges))  # Bin that detection falls into\n",
    "                        final_dead_bin = det_bin_idx + deadtime_n_bins  # Final bin index that deadtime occupies\n",
    "\n",
    "                        # If final dead bin surpasses fit window, set it to the window upper bin\n",
    "                        if final_dead_bin > len(active_hst):\n",
    "                            final_dead_bin = len(active_hst)\n",
    "                        # If initial dead bin (detection bin) precedes fit window, set it to the window lower bin\n",
    "                        if det_time < t_min:\n",
    "                            det_bin_idx = 0\n",
    "                        active_hst[det_bin_idx:final_dead_bin+1] -= 1  # Remove \"dead\" region\n",
    "\n",
    "        active_hst /= len(t_det_lst)  # Normalize\n",
    "        \n",
    "        return active_hst, dt\n",
    "\n",
    "    def forward(self, t, intgrl_N, t_det_lst):\n",
    "        \"\"\"\n",
    "        Forward model the profile for input time t of polynomial order M (e.g., x^2 --> M=2).\n",
    "        Also return the integral.\n",
    "        Parameters:\n",
    "        t (torch array): time stamps (unnormalized)               \\\\ [Nx1]\n",
    "        intgrl_N  (int): number of steps in numerical integration \\\\ []\n",
    "        Returns:\n",
    "        model_out    (torch array): forward model                    \\\\ [Nx1]\n",
    "        integral_out (torch array): finite numerical integral output \\\\ float\n",
    "        \"\"\"\n",
    "        \n",
    "        # orthonormalize by leveraging chebyshev polynomials, then calculate forward model\n",
    "        t_norm = (t-self.t_min) / (self.t_max-self.t_min)  # Normalize timestamps along [0,1]\n",
    "        t_poly_cheb = cheby_poly(t_norm, self.M)                # Generate chebyshev timestamp basis\n",
    "        poly = t_poly_cheb @ self.C\n",
    "        model_out = torch.exp(poly)                        # Forward model        \n",
    "        \n",
    "        # calculate the integral\n",
    "        t_pts = torch.linspace(0, 1, intgrl_N)\n",
    "#         dx = (self.t_max-self.t_min) / intgrl_N        # Step size\n",
    "        t_poly_cheb = cheby_poly(t_pts, self.M)\n",
    "        poly = t_poly_cheb @ self.C\n",
    "        eval_model = torch.exp(poly)\n",
    "        \n",
    "        active_hst, dt = self.deadtime_adjust_vals(intgrl_N, t_det_lst)\n",
    "        assert(len(eval_model)==len(active_hst))\n",
    "        eval_model = eval_model*torch.from_numpy(active_hst)\n",
    "        integral_out = self.riemann(eval_model, dt)  # Numerically integrate\n",
    "\n",
    "        return model_out, integral_out"
   ]
  },
  {
   "cell_type": "code",
   "execution_count": 92,
   "id": "572ed04e",
   "metadata": {},
   "outputs": [],
   "source": [
    "def pois_loss(prof,integral):\n",
    "    \"\"\"\n",
    "    Non-homogenous Poisson point process loss function\n",
    "    \"\"\"\n",
    "    return integral-torch.sum(torch.log(prof))"
   ]
  },
  {
   "cell_type": "code",
   "execution_count": 93,
   "id": "49eeca43",
   "metadata": {},
   "outputs": [],
   "source": [
    "# Generate fit and validation sets\n",
    "# The target is assumed to be stationary so I can split the data in halves\n",
    "split_value = int(len(flight_time)//2)\n",
    "t_phot_fit = flight_time[:split_value]\n",
    "t_phot_val = flight_time[split_value:]\n",
    "cnt_phot_fit = len(t_phot_fit)\n",
    "cnt_phot_val = len(t_phot_val)\n",
    "\n",
    "t_phot_fit_tnsr = torch.tensor(t_phot_fit.to_numpy())\n",
    "t_phot_val_tnsr = torch.tensor(t_phot_val.to_numpy())"
   ]
  },
  {
   "cell_type": "code",
   "execution_count": 94,
   "id": "79402874",
   "metadata": {},
   "outputs": [],
   "source": [
    "# optimization parameters\n",
    "\n",
    "rel_step_lim = 1e-8  # termination criteria based on step size\n",
    "max_epochs = 1000     # maximum number of iterations/epochs\n",
    "learning_rate = 1e-1  # ADAM learning rate\n",
    "term_persist = 20     # relative step size averaging interval in iterations\n",
    "intgrl_N = 10000        # Set number of steps in numerical integration"
   ]
  },
  {
   "cell_type": "code",
   "execution_count": 95,
   "id": "d0b766b1",
   "metadata": {},
   "outputs": [],
   "source": [
    "# I define the max/min times as fixed values. They are the upper/lower bounds of the fit.\n",
    "# Time vector per shot\n",
    "t_min = exclude_bnd[0]\n",
    "t_max = exclude_bnd[1]\n",
    "dt = tstamp_int * 1e-12   # [s]\n",
    "t_fine = np.arange(t_min, t_max, dt)"
   ]
  },
  {
   "cell_type": "code",
   "execution_count": 96,
   "id": "2e1d3587",
   "metadata": {},
   "outputs": [],
   "source": [
    "# Set iterate to True if you want to iterate through increasing complexity. \n",
    "# Otherwise set to False if you want to check a single polynomial order.\n",
    "single_step_iter = False\n",
    "M_max = 8  # Max polynomial complexity to test if iterating\n",
    "M_lst = [3]\n"
   ]
  },
  {
   "cell_type": "code",
   "execution_count": null,
   "id": "e4809a8c",
   "metadata": {},
   "outputs": [
    {
     "name": "stdout",
     "output_type": "stream",
     "text": [
      "Time elapsed:\n",
      "\n"
     ]
    }
   ],
   "source": [
    "if single_step_iter:\n",
    "    M_lst = range(M_max)\n",
    "else:\n",
    "    M_lst = M_lst\n",
    "    M_max = np.max(M_lst)\n",
    "\n",
    "iter_len = len(M_lst)\n",
    "fig = plt.figure()\n",
    "val_loss_arr = np.zeros(M_max+1)\n",
    "coeffs = np.zeros((M_max+1, M_max+1))\n",
    "fit_rate_fine = np.zeros((M_max+1, len(t_fine)))\n",
    "print('Time elapsed:\\n')\n",
    "\n",
    "# Iterate through increasing polynomial complexity. \n",
    "# Compare fit w/ validation set and use minimum loss find optimal polynomial order.\n",
    "for i in range(len(M_lst)):    \n",
    "    # initialize for fit loop\n",
    "    M = M_lst[i]  # Polynomial order  (e.g., x^2 --> M=2)\n",
    "    fit_model = Fit_Pulse(M, t_min, t_max, deadtime)\n",
    "    optimizer = torch.optim.Adam(fit_model.parameters(), lr=learning_rate)\n",
    "    epoch = 0\n",
    "    rel_step = 1e3*rel_step_lim\n",
    "    fit_loss_lst = []\n",
    "    val_loss_lst = []\n",
    "    rel_step_lst = []\n",
    "\n",
    "    init_C = np.zeros(M+1)\n",
    "    for j in range(M+1):\n",
    "        init_C[j] = fit_model.C[j].item()\n",
    "\n",
    "    # set the loss function to use a Poisson point process likelihood function\n",
    "    loss_fn = pois_loss\n",
    "\n",
    "    # perform fit\n",
    "    start = time.time()\n",
    "    while rel_step > rel_step_lim and epoch < max_epochs:\n",
    "        fit_model.train()\n",
    "        pred_fit, integral_fit = fit_model(t_phot_fit_tnsr, intgrl_N, t_det_lst)\n",
    "        loss_fit = loss_fn(pred_fit, integral_fit*cnt_phot_fit)  # add regularization here\n",
    "        fit_loss_lst += [loss_fit.item()]\n",
    "\n",
    "        # calculate relative step as an average over the last\n",
    "        # term_persist iterations\n",
    "        if epoch == 0:\n",
    "            rel_step_lst+=[1e3*rel_step_lim]\n",
    "            rel_step = 1e3*rel_step_lim\n",
    "        else:\n",
    "            rel_step_lst+=[(fit_loss_lst[-2]-fit_loss_lst[-1])/np.abs(fit_loss_lst[-2])]\n",
    "            rel_step = np.abs(np.array(rel_step_lst)[-term_persist:].mean())\n",
    "\n",
    "        # update estimated parameters\n",
    "        loss_fit.backward()\n",
    "        optimizer.step()\n",
    "\n",
    "        # zero out the gradient for the next step\n",
    "        optimizer.zero_grad()\n",
    "\n",
    "        epoch+=1\n",
    "\n",
    "    # Calculate validation loss\n",
    "    # Using fit from fit set, calculate loss when applied to validation set\n",
    "    pred_val, integral_val = fit_model(t_phot_val_tnsr, intgrl_N, t_det_lst)\n",
    "    loss_val = loss_fn(pred_val,integral_val*cnt_phot_val)\n",
    "    val_loss_arr[M] = loss_val\n",
    "        \n",
    "    end = time.time()\n",
    "    print('Order={}: {:.2f} sec'.format(M, end-start))\n",
    "    \n",
    "    coeffs[M, 0:M+1] = fit_model.C.detach().numpy().T\n",
    "    plt.plot(fit_loss_lst, label='Order {}'.format(M))\n",
    "    \n",
    "    pred_mod_seg, __ = fit_model(torch.tensor(t_fine), intgrl_N, t_det_lst)\n",
    "    fit_rate_fine[M, :] = pred_mod_seg.detach().numpy().T\n",
    "\n",
    "plt.ylabel('Loss')\n",
    "plt.xlabel('Iterations')\n",
    "plt.suptitle('Fit loss')\n",
    "plt.tight_layout()\n",
    "plt.legend()\n",
    "plt.show()"
   ]
  },
  {
   "cell_type": "code",
   "execution_count": 87,
   "id": "f1b3ee1f",
   "metadata": {
    "scrolled": true
   },
   "outputs": [
    {
     "name": "stdout",
     "output_type": "stream",
     "text": [
      "Final validation loss value for order 3: -998.41\n"
     ]
    }
   ],
   "source": [
    "for i in range(len(M_lst)):\n",
    "    print('Final validation loss value for order {}: {:.2f}'.format(M_lst[i], val_loss_arr[M_lst[i]]))"
   ]
  },
  {
   "cell_type": "code",
   "execution_count": 88,
   "id": "9e7ba454",
   "metadata": {},
   "outputs": [
    {
     "data": {
      "image/png": "[encoded data removed]",
      "text/plain": [
       "<Figure size 432x288 with 1 Axes>"
      ]
     },
     "metadata": {
      "needs_background": "light"
     },
     "output_type": "display_data"
    }
   ],
   "source": [
    "minx, miny = np.argmin(val_loss_arr), min(val_loss_arr)\n",
    "\n",
    "plt.plot(M_lst, val_loss_arr[M_lst], 'b.')\n",
    "plt.scatter(minx, miny,c='r', label='minimum')\n",
    "plt.title('Validation Loss vs Complexity')\n",
    "plt.ylabel('Loss')\n",
    "plt.xlabel('Polynomial order')\n",
    "plt.legend()\n",
    "plt.show()"
   ]
  },
  {
   "cell_type": "code",
   "execution_count": 89,
   "id": "f831ac0c",
   "metadata": {},
   "outputs": [
    {
     "name": "stdout",
     "output_type": "stream",
     "text": [
      "Final C0: 7.3181\n",
      "Final C1: 10.4782\n",
      "Final C2: 2.4393\n",
      "Final C3: -9.1267\n"
     ]
    }
   ],
   "source": [
    "# Choose order to investigate\n",
    "order = 3\n",
    "try:\n",
    "    model = coeffs[order, 0:order+1]\n",
    "    for i in range(order+1):\n",
    "        print('Final C{}: {:.4f}'.format(i, model[i]))\n",
    "except:\n",
    "    print(\"\\nERROR: Order exceeds maximum complexity iteration value.\\n\")"
   ]
  },
  {
   "cell_type": "code",
   "execution_count": 90,
   "id": "3bcd0d5e",
   "metadata": {},
   "outputs": [
    {
     "data": {
      "image/png": "[encoded data removed]",
      "text/plain": [
       "<Figure size 432x288 with 1 Axes>"
      ]
     },
     "metadata": {
      "needs_background": "light"
     },
     "output_type": "display_data"
    }
   ],
   "source": [
    "fig = plt.figure()\n",
    "ax = fig.add_subplot(111)\n",
    "\n",
    "# Scaled histogram\n",
    "scale = 1e-12\n",
    "n, bins = np.histogram(flight_time, bins=20)\n",
    "binwidth = np.diff(bins)[0]\n",
    "N = n / binwidth / cnt_phot  # [Hz] Scaling counts to arrival rate\n",
    "center = 0.5 * (bins[:-1] + bins[1:])\n",
    "ax.bar(center, N, align='center', width=binwidth, color='b', alpha=0.5)\n",
    "\n",
    "# Arrival rate fit\n",
    "t_fine = np.arange(t_min, t_max, dt)\n",
    "fit_rate_seg = fit_rate_fine[order, :]\n",
    "ax.plot(t_fine, fit_rate_seg, 'r--')\n",
    "ax.set_title('Arrival Rate Fit')\n",
    "ax.set_xlabel('time [s]')\n",
    "ax.set_ylabel('Photon Arrival Rate [Hz]')\n",
    "props = dict(boxstyle='round', facecolor='wheat', alpha=0.5)\n",
    "ax.text(0.1, 0.90, 'Polynomial order: {}'.format(order), transform=ax.transAxes, fontsize=14,\n",
    "        verticalalignment='top', bbox=props)\n",
    "plt.tight_layout()\n",
    "plt.show()\n"
   ]
  },
  {
   "cell_type": "code",
   "execution_count": null,
   "id": "42e4a794",
   "metadata": {},
   "outputs": [],
   "source": []
  },
  {
   "cell_type": "code",
   "execution_count": null,
   "id": "7e4d7286",
   "metadata": {},
   "outputs": [],
   "source": []
  },
  {
   "cell_type": "code",
   "execution_count": null,
   "id": "47ed8928",
   "metadata": {},
   "outputs": [],
   "source": []
  },
  {
   "cell_type": "code",
   "execution_count": null,
   "id": "c2c3331b",
   "metadata": {},
   "outputs": [],
   "source": []
  },
  {
   "cell_type": "code",
   "execution_count": null,
   "id": "ff6b6399",
   "metadata": {},
   "outputs": [],
   "source": []
  },
  {
   "cell_type": "code",
   "execution_count": null,
   "id": "7860fab1",
   "metadata": {},
   "outputs": [],
   "source": []
  },
  {
   "cell_type": "code",
   "execution_count": null,
   "id": "456581ba",
   "metadata": {},
   "outputs": [],
   "source": []
  },
  {
   "cell_type": "code",
   "execution_count": null,
   "id": "03e7c248",
   "metadata": {},
   "outputs": [],
   "source": []
  },
  {
   "cell_type": "code",
   "execution_count": null,
   "id": "8e2cc297",
   "metadata": {},
   "outputs": [],
   "source": []
  },
  {
   "cell_type": "code",
   "execution_count": null,
   "id": "cc4cd3b4",
   "metadata": {},
   "outputs": [],
   "source": []
  },
  {
   "cell_type": "code",
   "execution_count": null,
   "id": "e7f451cf",
   "metadata": {},
   "outputs": [],
   "source": []
  },
  {
   "cell_type": "markdown",
   "id": "e1c93b34",
   "metadata": {},
   "source": [
    "### Graveyard ###"
   ]
  },
  {
   "cell_type": "code",
   "execution_count": 93,
   "id": "a2d44d93",
   "metadata": {},
   "outputs": [],
   "source": [
    "class NumericalIntegrator:\n",
    "    def riemann(f, eval_pts, dx):\n",
    "        integral = 0\n",
    "        for i in range(len(eval_pts)):\n",
    "            integral += f(eval_pts[i])\n",
    "        integral *= dx\n",
    "        return integral\n",
    "\n",
    "    def trapezoidal(f, eval_pts, dx):\n",
    "        integral = 0\n",
    "        for i in range(len(eval_pts)-1):\n",
    "            integral += f(eval_pts[i]) + f(eval_pts[i+1])\n",
    "        integral *= dx / 2\n",
    "        return integral\n",
    "\n",
    "    def simpsons(f, eval_pts, dx):\n",
    "        integral = 0\n",
    "        for i in range(len(eval_pts)-2):\n",
    "            integral += f(eval_pts[i]) + 4*f(eval_pts[i+1]) + f(eval_pts[i+2])\n",
    "        integral *= dx / 2 / 3\n",
    "        return integral\n"
   ]
  },
  {
   "cell_type": "code",
   "execution_count": null,
   "id": "1790eb12",
   "metadata": {},
   "outputs": [],
   "source": []
  }
 ],
 "metadata": {
  "kernelspec": {
   "display_name": "Python [conda env:arsenl-conda]",
   "language": "python",
   "name": "conda-env-arsenl-conda-py"
  },
  "language_info": {
   "codemirror_mode": {
    "name": "ipython",
    "version": 3
   },
   "file_extension": ".py",
   "mimetype": "text/x-python",
   "name": "python",
   "nbconvert_exporter": "python",
   "pygments_lexer": "ipython3",
   "version": "3.10.5"
  }
 },
 "nbformat": 4,
 "nbformat_minor": 5
}
