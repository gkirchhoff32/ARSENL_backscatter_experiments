{
 "cells": [
  {
   "cell_type": "markdown",
   "id": "0a79049c",
   "metadata": {},
   "source": [
    "\n",
    "# ARSENL Backscatter Experiments\n",
    "\n",
    "Grant Kirchhoff\n",
    "06-23-2022\n",
    "University of Colorado Boulder\n",
    "\n",
    "Fit the photon arrival rate to exponentiated polynomial profiles from ARSENL INPHAMIS lidar. \n",
    "\n",
    "IMPORTANT: Set data path settings in\n",
    "'load_ARSENL_data.py' first."
   ]
  },
  {
   "cell_type": "code",
   "execution_count": 1,
   "id": "9209fcc0",
   "metadata": {},
   "outputs": [],
   "source": [
    "import numpy as np\n",
    "import pandas as pd\n",
    "import time\n",
    "import pickle\n",
    "import matplotlib.pyplot as plt\n",
    "import torch\n",
    "from scipy import stats\n",
    "import os\n",
    "import xarray as xr"
   ]
  },
  {
   "cell_type": "code",
   "execution_count": 2,
   "id": "a6cb3eb9",
   "metadata": {},
   "outputs": [],
   "source": [
    "### CONSTANTS ####\n",
    "c = 299792458                      # [m/s] Speed of light\n",
    "tstamp_int = 25                    # Timestamp interval (e.g., timestamp recorded in intervals of 25)\n",
    "max_rollover = 2**25 * tstamp_int  # [ps] the maximum timestamp before instrument timer rolls over\n",
    "\n",
    "### PARAMETERS ###\n",
    "exclude_bnd = [30000, 32000]           # Set boundaries for binning to exclude outliers\n",
    "exclude = True                     # Set TRUE to exclude data to work with smaller dataset\n",
    "excl_val = 10000                  # Include up to certain value\n",
    "\n",
    "cwd = os.getcwd()\n",
    "data_dir = cwd + r'/../Data/Deadtime_Experiments_HiFi'\n",
    "fname = r'/Dev_0_-_2022-04-15_10.49.58.ARSENL.OD00.ARSENL.nc'"
   ]
  },
  {
   "cell_type": "code",
   "execution_count": 3,
   "id": "9dc1632e",
   "metadata": {},
   "outputs": [],
   "source": [
    "ds = xr.open_dataset(data_dir+fname)                                   # xarray Dataset\n",
    "\n",
    "flight_time = ds.time_tag * tstamp_int\n",
    "distance = flight_time / 1e12 * c / 2\n",
    "\n",
    "flight_time = flight_time[np.where((flight_time >= exclude_bnd[0]) \\\n",
    "                                   & (flight_time < exclude_bnd[1]))]  # Exclude specified t.o.f. bins\n",
    "\n",
    "cnt_phot = len(ds.sync_index)\n",
    "\n",
    "if exclude:\n",
    "    flight_time = flight_time[:excl_val]\n",
    "    cnt_phot = ds.sync_index[ds.time_tag_sync_index[excl_val].item()].item()"
   ]
  },
  {
   "cell_type": "code",
   "execution_count": 4,
   "id": "db171cf1",
   "metadata": {},
   "outputs": [
    {
     "ename": "NameError",
     "evalue": "name 'cnt_phot_fit' is not defined",
     "output_type": "error",
     "traceback": [
      "\u001b[1;31m---------------------------------------------------------------------------\u001b[0m",
      "\u001b[1;31mNameError\u001b[0m                                 Traceback (most recent call last)",
      "Input \u001b[1;32mIn [4]\u001b[0m, in \u001b[0;36m<cell line: 7>\u001b[1;34m()\u001b[0m\n\u001b[0;32m      5\u001b[0m n, bins \u001b[38;5;241m=\u001b[39m np\u001b[38;5;241m.\u001b[39mhistogram(flight_time\u001b[38;5;241m*\u001b[39mscale, bins\u001b[38;5;241m=\u001b[39m\u001b[38;5;241m40\u001b[39m)\n\u001b[0;32m      6\u001b[0m binwidth \u001b[38;5;241m=\u001b[39m np\u001b[38;5;241m.\u001b[39mdiff(bins)[\u001b[38;5;241m0\u001b[39m]\n\u001b[1;32m----> 7\u001b[0m N \u001b[38;5;241m=\u001b[39m n \u001b[38;5;241m/\u001b[39m binwidth \u001b[38;5;241m/\u001b[39m \u001b[43mcnt_phot_fit\u001b[49m  \u001b[38;5;66;03m# [Hz] Scale counts to arrival rate\u001b[39;00m\n\u001b[0;32m      8\u001b[0m center \u001b[38;5;241m=\u001b[39m \u001b[38;5;241m0.5\u001b[39m \u001b[38;5;241m*\u001b[39m (bins[:\u001b[38;5;241m-\u001b[39m\u001b[38;5;241m1\u001b[39m] \u001b[38;5;241m+\u001b[39m bins[\u001b[38;5;241m1\u001b[39m:])\n\u001b[0;32m      9\u001b[0m ax\u001b[38;5;241m.\u001b[39mbar(center, N\u001b[38;5;241m/\u001b[39m\u001b[38;5;241m1e6\u001b[39m, align\u001b[38;5;241m=\u001b[39m\u001b[38;5;124m'\u001b[39m\u001b[38;5;124mcenter\u001b[39m\u001b[38;5;124m'\u001b[39m, width\u001b[38;5;241m=\u001b[39mbinwidth, color\u001b[38;5;241m=\u001b[39m\u001b[38;5;124m'\u001b[39m\u001b[38;5;124mb\u001b[39m\u001b[38;5;124m'\u001b[39m)\n",
      "\u001b[1;31mNameError\u001b[0m: name 'cnt_phot_fit' is not defined"
     ]
    },
    {
     "data": {
      "image/png": "[encoded data removed]",
      "text/plain": [
       "<Figure size 432x288 with 1 Axes>"
      ]
     },
     "metadata": {
      "needs_background": "light"
     },
     "output_type": "display_data"
    }
   ],
   "source": [
    "# Scaled time-of-flight histogram\n",
    "fig = plt.figure()\n",
    "ax = fig.add_subplot(111)\n",
    "scale = 1e-12  # Scaling from psec --> sec\n",
    "n, bins = np.histogram(flight_time*scale, bins=40)\n",
    "binwidth = np.diff(bins)[0]\n",
    "N = n / binwidth / cnt_phot_fit  # [Hz] Scale counts to arrival rate\n",
    "center = 0.5 * (bins[:-1] + bins[1:])\n",
    "ax.bar(center, N/1e6, align='center', width=binwidth, color='b')\n",
    "ax.set_title('Arrival Rate Histogram')\n",
    "ax.set_xlabel('time [s]')\n",
    "ax.set_ylabel('Photon Arrival Rate [MHz]')\n",
    "plt.show()"
   ]
  },
  {
   "cell_type": "code",
   "execution_count": null,
   "id": "b4dfbd0e",
   "metadata": {},
   "outputs": [],
   "source": [
    "plt.figure()\n",
    "plt.stem(flight_time, np.ones(flight_time.size))\n",
    "plt.title('Photons')\n",
    "plt.xlabel('Time [ps]')\n",
    "plt.show()"
   ]
  },
  {
   "cell_type": "markdown",
   "id": "3fb8d53b",
   "metadata": {},
   "source": [
    "### Now applying the curve_fit routine to my data. Code pulled from Matt Hayman's \"Fit_TimeTag_Gaussian.ipynb\" and adapted to fit to arbitrary exponentiated polynomials."
   ]
  },
  {
   "cell_type": "code",
   "execution_count": 9,
   "id": "499dbc62",
   "metadata": {},
   "outputs": [],
   "source": [
    "# Chebyshev polynomial matrix generator\n",
    "def cheby_poly(x, M):\n",
    "    \"\"\"\n",
    "    Parameters:\n",
    "    x (array-like): Values to be evaluated on in chebyshev polynomial      \\\\ [Nx1]\n",
    "    M (int)        : *Highest* order term of polynomial (e.g., x^2 --> M = 2) \\\\ []\n",
    "    Returns:\n",
    "    chebyshev polynomial matrix (array-like): Evaluated polynomial \\\\ [NxM]\n",
    "    \"\"\"\n",
    "    \n",
    "    def cheby(x, m):\n",
    "        \"\"\"\n",
    "        Helper to calculate value of specific chebyshev order\n",
    "        \"\"\"\n",
    "        T0 = x**0\n",
    "        T1 = x**1\n",
    "        if m == 0:   return T0\n",
    "        elif m == 1: return T1\n",
    "        else:        return 2*x*cheby(x, m-1) - cheby(x, m-2)\n",
    "    \n",
    "    N = len(x)\n",
    "    model_out = np.zeros((N, M+1))\n",
    "    for i in range(M+1):\n",
    "        model_out[:, i] = cheby(x, i)\n",
    "    \n",
    "    return torch.tensor(model_out)"
   ]
  },
  {
   "cell_type": "code",
   "execution_count": 10,
   "id": "71dba4b5",
   "metadata": {},
   "outputs": [],
   "source": [
    "# build the fit model as a NN module\n",
    "class Fit_Pulse(torch.nn.Module):\n",
    "    def __init__(self, M, t_min, t_max):\n",
    "        \"\"\"\n",
    "        Instantiate and initialize the fit parameters.\n",
    "        \"\"\"\n",
    "        super().__init__()\n",
    "        self.M = M\n",
    "        self.C = torch.nn.Parameter(-1*torch.ones(M+1, 1, dtype=float))\n",
    "        self.t_max = t_max  # Fit upper bound\n",
    "        self.t_min = t_min  # Fit lower bound\n",
    "        \n",
    "    # Helper for numerical integration (trapezoidal method)\n",
    "    @staticmethod\n",
    "    def trapezoid(vals, dx):\n",
    "        trap_intgrl = 0\n",
    "        for i in range(len(vals)-1):\n",
    "            trap_intgrl += vals[i] + vals[i+1]\n",
    "        trap_intgrl *= dx/2\n",
    "        return trap_intgrl\n",
    "\n",
    "    def forward(self, t, intgrl_N):\n",
    "        \"\"\"\n",
    "        Forward model the profile for input time t of polynomial order M (e.g., x^2 --> M=2).\n",
    "        Also return the integral.\n",
    "        t (array-like): time stamps (unnormalized)               \\\\ [Nx1]\n",
    "        intgrl_N (int): number of steps in numerical integration \\\\ []\n",
    "        \"\"\"\n",
    "        M = self.M\n",
    "        C = self.C\n",
    "        \n",
    "        # orthonormalize by leveraging chebyshev polynomials, then calculate forward model\n",
    "        t_norm = 2*(t-self.t_min) / (self.t_max-self.t_min) - 1       # Normalize timestamps \n",
    "        t_poly_cheb = cheby_poly(t_norm, M)           # Generate chebyshev timestamp basis\n",
    "        poly = t_poly_cheb @ C\n",
    "        model_out = torch.exp(poly)             # Forward model\n",
    "        \n",
    "        # calculate the integral\n",
    "        t_pts, dx = np.linspace(-1, 1, intgrl_N, retstep=True)  # Normalized time vector\n",
    "        t_poly_cheb = cheby_poly(t_pts, M)                        # Generate chebyshev time basis\n",
    "        poly = t_poly_cheb @ C\n",
    "        eval_model = torch.exp(poly)\n",
    "        integral_out = self.trapezoid(eval_model, dx)            # Numerically integrate (trapezoidal)\n",
    "            \n",
    "        return model_out, integral_out"
   ]
  },
  {
   "cell_type": "code",
   "execution_count": 11,
   "id": "572ed04e",
   "metadata": {},
   "outputs": [],
   "source": [
    "def pois_loss(prof,integral):\n",
    "    \"\"\"\n",
    "    Poisson point process loss function\n",
    "    prof: estimated photon arrival rate evaluated at\n",
    "        each time tag\n",
    "    integral: integral of prof at t_max\n",
    "    \"\"\"\n",
    "#     print(integral)\n",
    "#     print(torch.sum(torch.log(prof)))\n",
    "    return integral-torch.sum(torch.log(prof))"
   ]
  },
  {
   "cell_type": "code",
   "execution_count": 12,
   "id": "49eeca43",
   "metadata": {},
   "outputs": [],
   "source": [
    "# Generate fit and validation sets\n",
    "# The target is assumed to be stationary so I can split the data in two\n",
    "split_value = int(len(flight_time)//2)\n",
    "t_phot_fit = flight_time[:split_value] * 1e-12  # Convert to seconds\n",
    "t_phot_val = flight_time[split_value:] * 1e-12  # Convert to seconds\n",
    "cnt_phot_fit = len(t_phot_fit)\n",
    "cnt_phot_val = len(t_phot_val)\n",
    "\n",
    "t_phot_fit_tnsr = torch.tensor(t_phot_fit.to_numpy())\n",
    "t_phot_val_tnsr = torch.tensor(t_phot_val.to_numpy())"
   ]
  },
  {
   "cell_type": "code",
   "execution_count": 13,
   "id": "79402874",
   "metadata": {},
   "outputs": [],
   "source": [
    "# optimization parameters\n",
    "\n",
    "rel_step_lim = 1e-5  # termination criteria based on step size\n",
    "max_epochs = 250     # maximum number of iterations/epochs\n",
    "learning_rate = 1e-1  # ADAM learning rate\n",
    "term_persist = 20     # relative step size averaging interval in iterations\n",
    "intgrl_N = 100                   # Set number of steps in numerical integration"
   ]
  },
  {
   "cell_type": "code",
   "execution_count": 14,
   "id": "d0b766b1",
   "metadata": {},
   "outputs": [],
   "source": [
    "# I define the max/min times as fixed values. They are the upper/lower bounds of the fit.\n",
    "# Time vector per shot (sync event)\n",
    "t_min = exclude_bnd[0] * 1e-12\n",
    "t_max = exclude_bnd[1] * 1e-12\n",
    "dt = tstamp_int * 1e-12                                    # [s]\n",
    "t_fine = np.arange(t_min, t_max, dt)"
   ]
  },
  {
   "cell_type": "code",
   "execution_count": 15,
   "id": "de88dde1",
   "metadata": {},
   "outputs": [],
   "source": [
    "# # initialize for fit loop\n",
    "# M = 4  # Polynomial order  (e.g., x^2 --> M=2)\n",
    "# fit_model = Fit_Pulse(M, t_min, t_max)\n",
    "# optimizer = torch.optim.Adam(fit_model.parameters(), lr=learning_rate)\n",
    "# epoch = 0\n",
    "# rel_step = 1e3*rel_step_lim\n",
    "# fit_loss_lst = []\n",
    "# val_loss_lst = []\n",
    "# rel_step_lst = []\n",
    "\n",
    "# init_C = np.zeros(M+1)\n",
    "# for i in range(M+1):\n",
    "#     init_C[i] = fit_model.C[i].item()"
   ]
  },
  {
   "cell_type": "code",
   "execution_count": 16,
   "id": "9831a09b",
   "metadata": {},
   "outputs": [],
   "source": [
    "# # set the loss function to use a \n",
    "# # Poisson point process likelihood function\n",
    "# loss_fn = pois_loss"
   ]
  },
  {
   "cell_type": "code",
   "execution_count": 17,
   "id": "ccc31ee3",
   "metadata": {},
   "outputs": [],
   "source": [
    "# # perform fit\n",
    "# start = time.time()\n",
    "# while rel_step > rel_step_lim and epoch < max_epochs:\n",
    "#     fit_model.train()\n",
    "#     pred_fit, integral_fit = fit_model(t_phot_fit_tnsr, intgrl_N)\n",
    "#     loss_fit = loss_fn(pred_fit, integral_fit*cnt_phot_fit)  # add regularization here\n",
    "#     fit_loss_lst += [loss_fit.item()]\n",
    "    \n",
    "#     # Calculate validation loss\n",
    "#     # Using fit from fit set, calculate loss when applied to validation set\n",
    "#     pred_val, integral_val = fit_model(t_phot_val_tnsr, intgrl_N)\n",
    "#     loss_val = loss_fn(pred_val,integral_val*cnt_phot_val)\n",
    "#     val_loss_lst += [loss_val.item()]\n",
    "\n",
    "#     # calculate relative step as an average over the last\n",
    "#     # term_persist iterations\n",
    "#     if epoch == 0:\n",
    "#         rel_step_lst+=[1e3*rel_step_lim]\n",
    "#         rel_step = 1e3*rel_step_lim\n",
    "#     else:\n",
    "#         rel_step_lst+=[(train_loss_lst[-2]-train_loss_lst[-1])/np.abs(train_loss_lst[-2])]\n",
    "#         rel_step = np.abs(np.array(rel_step_lst)[-term_persist:].mean())\n",
    "\n",
    "#     # update estimated parameters\n",
    "#     loss_fit.backward()\n",
    "#     optimizer.step()\n",
    "    \n",
    "#     # zero out the gradient for the next step\n",
    "#     optimizer.zero_grad()\n",
    "    \n",
    "#     epoch+=1\n",
    "\n",
    "# end = time.time()\n",
    "# print('Time elapsed: {:.2f} sec'.format(end-start))"
   ]
  },
  {
   "cell_type": "code",
   "execution_count": 18,
   "id": "e4809a8c",
   "metadata": {},
   "outputs": [
    {
     "name": "stdout",
     "output_type": "stream",
     "text": [
      "Time elapsed:\n",
      "\n",
      "Order=0: 0.18 sec\n",
      "Order=1: 0.23 sec\n",
      "Order=2: 1.67 sec\n",
      "Order=3: 1.73 sec\n",
      "Order=4: 1.73 sec\n",
      "Order=5: 1.97 sec\n",
      "Order=6: 2.19 sec\n",
      "Order=7: 2.79 sec\n",
      "Order=8: 4.67 sec\n",
      "Order=9: 5.49 sec\n",
      "Order=10: 8.46 sec\n",
      "Order=11: 11.83 sec\n",
      "Order=12: 17.24 sec\n",
      "Order=13: 28.37 sec\n",
      "Order=14: 43.22 sec\n",
      "Order=15: 68.55 sec\n",
      "Order=16: 111.91 sec\n",
      "Order=17: 178.27 sec\n",
      "Order=18: 261.01 sec\n",
      "Order=19: 411.07 sec\n",
      "Order=20: 654.18 sec\n",
      "Order=21: 1041.22 sec\n",
      "Order=22: 1648.04 sec\n",
      "Order=23: 2677.77 sec\n",
      "Order=24: 4215.05 sec\n",
      "Order=25: 6809.67 sec\n"
     ]
    }
   ],
   "source": [
    "M_max = 25\n",
    "val_loss_arr = np.zeros(M_max+1)\n",
    "print('Time elapsed:\\n')\n",
    "# Iterate through increasing polynomial complexity. Compare fit w/ validation set and minimize to find optimal polynomial order.\n",
    "for i in range(M_max+1):\n",
    "    # initialize for fit loop\n",
    "    M = i  # Polynomial order  (e.g., x^2 --> M=2)\n",
    "    fit_model = Fit_Pulse(M, t_min, t_max)\n",
    "    optimizer = torch.optim.Adam(fit_model.parameters(), lr=learning_rate)\n",
    "    epoch = 0\n",
    "    rel_step = 1e3*rel_step_lim\n",
    "    fit_loss_lst = []\n",
    "    val_loss_lst = []\n",
    "    rel_step_lst = []\n",
    "\n",
    "    init_C = np.zeros(M+1)\n",
    "    for i in range(M+1):\n",
    "        init_C[i] = fit_model.C[i].item()\n",
    "\n",
    "    # set the loss function to use a \n",
    "    # Poisson point process likelihood function\n",
    "    loss_fn = pois_loss\n",
    "\n",
    "    # perform fit\n",
    "    start = time.time()\n",
    "    while rel_step > rel_step_lim and epoch < max_epochs:\n",
    "        fit_model.train()\n",
    "        pred_fit, integral_fit = fit_model(t_phot_fit_tnsr, intgrl_N)\n",
    "        loss_fit = loss_fn(pred_fit, integral_fit*cnt_phot_fit)  # add regularization here\n",
    "        fit_loss_lst += [loss_fit.item()]\n",
    "\n",
    "#         # Calculate validation loss\n",
    "#         # Using fit from fit set, calculate loss when applied to validation set\n",
    "#         pred_val, integral_val = fit_model(t_phot_val_tnsr, intgrl_N)\n",
    "#         loss_val = loss_fn(pred_val,integral_val*cnt_phot_val)\n",
    "#         val_loss_lst += [loss_val.item()]\n",
    "\n",
    "        # calculate relative step as an average over the last\n",
    "        # term_persist iterations\n",
    "        if epoch == 0:\n",
    "            rel_step_lst+=[1e3*rel_step_lim]\n",
    "            rel_step = 1e3*rel_step_lim\n",
    "        else:\n",
    "            rel_step_lst+=[(fit_loss_lst[-2]-fit_loss_lst[-1])/np.abs(fit_loss_lst[-2])]\n",
    "            rel_step = np.abs(np.array(rel_step_lst)[-term_persist:].mean())\n",
    "\n",
    "        # update estimated parameters\n",
    "        loss_fit.backward()\n",
    "        optimizer.step()\n",
    "\n",
    "        # zero out the gradient for the next step\n",
    "        optimizer.zero_grad()\n",
    "\n",
    "        epoch+=1\n",
    "\n",
    "    # Calculate validation loss\n",
    "    # Using fit from fit set, calculate loss when applied to validation set\n",
    "    pred_val, integral_val = fit_model(t_phot_val_tnsr, intgrl_N)\n",
    "    loss_val = loss_fn(pred_val,integral_val*cnt_phot_val)\n",
    "    val_loss_arr[i] = loss_val\n",
    "        \n",
    "    end = time.time()\n",
    "    print('Order={}: {:.2f} sec'.format(i, end-start))"
   ]
  },
  {
   "cell_type": "code",
   "execution_count": 19,
   "id": "f1b3ee1f",
   "metadata": {},
   "outputs": [
    {
     "name": "stdout",
     "output_type": "stream",
     "text": [
      "[8470.73432357 8356.53678676 1204.26302381  921.42013541  577.94764501\n",
      "  577.29969436  513.46926681  525.22615397  517.15808641  520.0841143\n",
      "  517.74994475  515.42122786  514.59626566  519.78605232  521.20784493\n",
      "  517.16014274  515.72670262  518.65583356  520.80208357  519.23242808\n",
      "  518.70743578  524.47649378  529.35994054  528.92451148  525.4812266\n",
      "  522.09755058]\n"
     ]
    }
   ],
   "source": [
    "print(val_loss_arr)"
   ]
  },
  {
   "cell_type": "code",
   "execution_count": 24,
   "id": "9e7ba454",
   "metadata": {},
   "outputs": [
    {
     "data": {
      "image/png": "[encoded data removed]",
      "text/plain": [
       "<Figure size 432x288 with 1 Axes>"
      ]
     },
     "metadata": {
      "needs_background": "light"
     },
     "output_type": "display_data"
    }
   ],
   "source": [
    "plt.plot(val_loss_arr)\n",
    "plt.title('Validation Loss vs Complexity')\n",
    "plt.ylabel('Loss')\n",
    "plt.xlabel('Polynomial order')\n",
    "plt.show()"
   ]
  },
  {
   "cell_type": "code",
   "execution_count": 21,
   "id": "c7a204dc",
   "metadata": {
    "scrolled": true
   },
   "outputs": [],
   "source": [
    "# # plot the loss over iterations\n",
    "# plt.figure()\n",
    "# plt.plot(fit_loss_lst,label='fit loss')\n",
    "# plt.plot(val_loss_lst,label='validation loss')\n",
    "# plt.xlabel('fit iteration')\n",
    "# plt.ylabel('Poisson NLL')\n",
    "# plt.legend()"
   ]
  },
  {
   "cell_type": "code",
   "execution_count": 22,
   "id": "f831ac0c",
   "metadata": {},
   "outputs": [
    {
     "name": "stdout",
     "output_type": "stream",
     "text": [
      "Initial C0: -1.0\n",
      "Initial C1: -1.0\n",
      "Initial C2: -1.0\n",
      "Initial C3: -1.0\n",
      "Initial C4: -1.0\n",
      "Initial C5: -1.0\n",
      "Initial C6: -1.0\n",
      "Initial C7: -1.0\n",
      "Initial C8: -1.0\n",
      "Initial C9: -1.0\n",
      "Initial C10: -1.0\n",
      "Initial C11: -1.0\n",
      "Initial C12: -1.0\n",
      "Initial C13: -1.0\n",
      "Initial C14: -1.0\n",
      "Initial C15: -1.0\n",
      "Initial C16: -1.0\n",
      "Initial C17: -1.0\n",
      "Initial C18: -1.0\n",
      "Initial C19: -1.0\n",
      "Initial C20: -1.0\n",
      "Initial C21: -1.0\n",
      "Initial C22: -1.0\n",
      "Initial C23: -1.0\n",
      "Initial C24: -1.0\n",
      "Initial C25: -1.0\n",
      "\n",
      "\n",
      "Final C0: -4.3833\n",
      "Final C1: -0.5154\n",
      "Final C2: -2.1146\n",
      "Final C3: -1.9642\n",
      "Final C4: 1.1207\n",
      "Final C5: 0.3142\n",
      "Final C6: -1.2258\n",
      "Final C7: -1.4704\n",
      "Final C8: -0.1606\n",
      "Final C9: -0.4058\n",
      "Final C10: -0.6118\n",
      "Final C11: -0.5745\n",
      "Final C12: -0.2595\n",
      "Final C13: -0.4896\n",
      "Final C14: -0.4488\n",
      "Final C15: -0.2711\n",
      "Final C16: -0.2452\n",
      "Final C17: -0.2366\n",
      "Final C18: -0.2819\n",
      "Final C19: -0.1348\n",
      "Final C20: -0.2699\n",
      "Final C21: -0.0033\n",
      "Final C22: -0.1506\n",
      "Final C23: 0.1187\n",
      "Final C24: -0.0919\n",
      "Final C25: 0.0619\n"
     ]
    }
   ],
   "source": [
    "for i in range(M+1):\n",
    "    print('Initial C{}: {}'.format(i, init_C[i]))\n",
    "print('\\n')\n",
    "for i in range(M+1):\n",
    "    print('Final C{}: {:.4f}'.format(i, fit_model.C[i].item()))"
   ]
  },
  {
   "cell_type": "code",
   "execution_count": 23,
   "id": "3bcd0d5e",
   "metadata": {},
   "outputs": [
    {
     "data": {
      "image/png": "[encoded data removed]",
      "text/plain": [
       "<Figure size 432x288 with 1 Axes>"
      ]
     },
     "metadata": {
      "needs_background": "light"
     },
     "output_type": "display_data"
    }
   ],
   "source": [
    "fig = plt.figure()\n",
    "ax = fig.add_subplot(111)\n",
    "\n",
    "# Scaled histogram\n",
    "scale = 1e-12\n",
    "n, bins = np.histogram(flight_time*scale, bins=40)\n",
    "binwidth = np.diff(bins)[0]\n",
    "N = n / binwidth / cnt_phot  # [Hz] Scaling counts to arrival rate\n",
    "center = 0.5 * (bins[:-1] + bins[1:])\n",
    "ax.bar(center, N, align='center', width=binwidth, color='b', alpha=0.5)\n",
    "\n",
    "# Arrival rate fit\n",
    "t_seg_fine = np.arange(exclude_bnd[0]*1e-12, exclude_bnd[1]*1e-12, dt)\n",
    "pred_mod_seg, __ = fit_model(torch.tensor(t_seg_fine), intgrl_N)\n",
    "fit_rate_seg = pred_mod_seg.detach().numpy()  # [Hz] Fitted arrival rate\n",
    "# TODO: CHECK SCALING. Not sure why scale 1e9.\n",
    "fit_rate_seg *= 1e9  # Rescale for nanoseconds\n",
    "ax.plot(t_seg_fine, fit_rate_seg,'r--')\n",
    "ax.set_title('Arrival Rate Fit')\n",
    "ax.set_xlabel('time [s]')\n",
    "ax.set_ylabel('Photon Arrival Rate [Hz]')\n",
    "# textstr = '\\n'.join((\n",
    "#     r'$C0=%.8f$' % (fit_model.C0),\n",
    "#     r'$C1=%.8f$' % (fit_model.C1),\n",
    "#     r'$C2=%.8f$' % (fit_model.C2)))\n",
    "# props = dict(boxstyle='round', facecolor='wheat', alpha=0.5)\n",
    "# ax.text(0.55, 0.90, textstr, transform=ax.transAxes, fontsize=14,\n",
    "#         verticalalignment='top', bbox=props)\n",
    "props = dict(boxstyle='round', facecolor='wheat', alpha=0.5)\n",
    "ax.text(0.1, 0.90, 'Polynomial order: {}'.format(M), transform=ax.transAxes, fontsize=14,\n",
    "        verticalalignment='top', bbox=props)\n",
    "plt.tight_layout()\n",
    "plt.show()\n"
   ]
  },
  {
   "cell_type": "code",
   "execution_count": null,
   "id": "42e4a794",
   "metadata": {},
   "outputs": [],
   "source": []
  },
  {
   "cell_type": "code",
   "execution_count": null,
   "id": "7e4d7286",
   "metadata": {},
   "outputs": [],
   "source": []
  },
  {
   "cell_type": "code",
   "execution_count": null,
   "id": "47ed8928",
   "metadata": {},
   "outputs": [],
   "source": []
  },
  {
   "cell_type": "code",
   "execution_count": null,
   "id": "c2c3331b",
   "metadata": {},
   "outputs": [],
   "source": []
  },
  {
   "cell_type": "code",
   "execution_count": null,
   "id": "ff6b6399",
   "metadata": {},
   "outputs": [],
   "source": []
  },
  {
   "cell_type": "code",
   "execution_count": null,
   "id": "7860fab1",
   "metadata": {},
   "outputs": [],
   "source": []
  },
  {
   "cell_type": "code",
   "execution_count": null,
   "id": "456581ba",
   "metadata": {},
   "outputs": [],
   "source": []
  },
  {
   "cell_type": "code",
   "execution_count": null,
   "id": "03e7c248",
   "metadata": {},
   "outputs": [],
   "source": []
  },
  {
   "cell_type": "code",
   "execution_count": null,
   "id": "8e2cc297",
   "metadata": {},
   "outputs": [],
   "source": []
  },
  {
   "cell_type": "code",
   "execution_count": null,
   "id": "cc4cd3b4",
   "metadata": {},
   "outputs": [],
   "source": []
  },
  {
   "cell_type": "code",
   "execution_count": null,
   "id": "e7f451cf",
   "metadata": {},
   "outputs": [],
   "source": []
  },
  {
   "cell_type": "markdown",
   "id": "e1c93b34",
   "metadata": {},
   "source": [
    "### Graveyard ###"
   ]
  },
  {
   "cell_type": "code",
   "execution_count": 93,
   "id": "a2d44d93",
   "metadata": {},
   "outputs": [],
   "source": [
    "class NumericalIntegrator:\n",
    "    def riemann(f, eval_pts, dx):\n",
    "        integral = 0\n",
    "        for i in range(len(eval_pts)):\n",
    "            integral += f(eval_pts[i])\n",
    "        integral *= dx\n",
    "        return integral\n",
    "\n",
    "    def trapezoidal(f, eval_pts, dx):\n",
    "        integral = 0\n",
    "        for i in range(len(eval_pts)-1):\n",
    "            integral += f(eval_pts[i]) + f(eval_pts[i+1])\n",
    "        integral *= dx / 2\n",
    "        return integral\n",
    "\n",
    "    def simpsons(f, eval_pts, dx):\n",
    "        integral = 0\n",
    "        for i in range(len(eval_pts)-2):\n",
    "            integral += f(eval_pts[i]) + 4*f(eval_pts[i+1]) + f(eval_pts[i+2])\n",
    "        integral *= dx / 2 / 3\n",
    "        return integral\n"
   ]
  },
  {
   "cell_type": "code",
   "execution_count": null,
   "id": "1790eb12",
   "metadata": {},
   "outputs": [],
   "source": []
  }
 ],
 "metadata": {
  "kernelspec": {
   "display_name": "Python [conda env:arsenl-conda]",
   "language": "python",
   "name": "conda-env-arsenl-conda-py"
  },
  "language_info": {
   "codemirror_mode": {
    "name": "ipython",
    "version": 3
   },
   "file_extension": ".py",
   "mimetype": "text/x-python",
   "name": "python",
   "nbconvert_exporter": "python",
   "pygments_lexer": "ipython3",
   "version": "3.10.5"
  }
 },
 "nbformat": 4,
 "nbformat_minor": 5
}
