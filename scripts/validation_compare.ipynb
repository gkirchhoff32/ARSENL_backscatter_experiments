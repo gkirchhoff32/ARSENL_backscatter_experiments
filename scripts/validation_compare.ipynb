{
 "cells": [
  {
   "cell_type": "code",
   "execution_count": 2,
   "id": "229d5a23",
   "metadata": {},
   "outputs": [],
   "source": [
    "import numpy as np\n",
    "import pandas as pd\n",
    "import time\n",
    "import pickle\n",
    "import matplotlib.pyplot as plt\n",
    "import torch\n",
    "from scipy import stats\n",
    "import os\n",
    "import xarray as xr\n",
    "import sys\n",
    "\n",
    "cwd = os.getcwd()\n",
    "dirLib = cwd + r'/library'\n",
    "if dirLib not in sys.path:\n",
    "    sys.path.append(dirLib)\n",
    "\n",
    "import fit_polynomial_methods as fit\n",
    "import data_organize as dorg"
   ]
  },
  {
   "cell_type": "code",
   "execution_count": 38,
   "id": "c61d1bca",
   "metadata": {},
   "outputs": [],
   "source": [
    "# Adjust parameters here to customize run\n",
    "\n",
    "### CONSTANTS ####\n",
    "c = 2.99792458e8                      # [m/s] Speed of light\n",
    "dt = 25e-12                   # [s] TCSPC resolution\n",
    "\n",
    "### PARAMETERS ###\n",
    "window_bnd = [30e-9, 33e-9]       # [s] Set boundaries for binning to exclude outliers\n",
    "exclude_shots = True                     # Set TRUE to exclude data to work with smaller dataset\n",
    "max_lsr_shot1 = 10007\n",
    "max_lsr_shot2 = 1005993                   # Include up to certain number of laser shots\n",
    "deadtime = 25e-9                  # [s] Acquisition deadtime\n",
    "\n",
    "# Make sure file location is accurate\n",
    "cwd = os.getcwd()\n",
    "data_dir = cwd + r'/../Data/Deadtime_Experiments_HiFi'\n",
    "fname1 = r'/Dev_0_-_2022-04-15_11.10.35.ARSENL.OD10.ARSENL.nc'\n",
    "fname2 = r'/Dev_0_-_2022-04-15_11.24.55.ARSENL.OD30.ARSENL.nc'"
   ]
  },
  {
   "cell_type": "code",
   "execution_count": 39,
   "id": "8c6bc2ae",
   "metadata": {},
   "outputs": [],
   "source": [
    "flight_time1, n_shots1, t_det_lst1 = dorg.data_organize(dt, data_dir, fname1, window_bnd, max_lsr_shot1, exclude_shots)\n",
    "flight_time2, n_shots2, t_det_lst2 = dorg.data_organize(dt, data_dir, fname2, window_bnd, max_lsr_shot2, exclude_shots)"
   ]
  },
  {
   "cell_type": "code",
   "execution_count": 45,
   "id": "08c2d089",
   "metadata": {},
   "outputs": [
    {
     "name": "stdout",
     "output_type": "stream",
     "text": [
      "\n",
      "OD10:\n",
      "Number of detections: 4730\n",
      "Number of laser shots: 10007\n",
      "\n",
      "OD30:\n",
      "Number of detections: 3387\n",
      "Number of laser shots: 1005993\n"
     ]
    }
   ],
   "source": [
    "print('\\n{}:'.format(fname1[36:40]))\n",
    "print('Number of detections: {}'.format(len(flight_time1)))\n",
    "print('Number of laser shots: {}'.format(n_shots1))\n",
    "print('\\n{}:'.format(fname2[36:40]))\n",
    "print('Number of detections: {}'.format(len(flight_time2)))\n",
    "print('Number of laser shots: {}'.format(n_shots2))"
   ]
  },
  {
   "cell_type": "code",
   "execution_count": 49,
   "id": "b6491ebe",
   "metadata": {},
   "outputs": [
    {
     "data": {
      "image/png": "[encoded data removed]",
      "text/plain": [
       "<Figure size 432x288 with 1 Axes>"
      ]
     },
     "metadata": {
      "needs_background": "light"
     },
     "output_type": "display_data"
    }
   ],
   "source": [
    "# Scaled time-of-flight histogram\n",
    "fig = plt.figure()\n",
    "ax = fig.add_subplot(111)\n",
    "n, bin_edges = np.histogram(flight_time1, bins=34)\n",
    "binwidth = np.diff(bin_edges)[0]\n",
    "N = n / binwidth / n_shots1  # [Hz] Scale counts to arrival rate\n",
    "center = (bin_edges[:-1]+bin_edges[1:]) / 2\n",
    "ax.bar(center, N/1e6, align='center', width=binwidth, color='b', alpha=0.7, label=fname1[36:40])\n",
    "n, bin_edges = np.histogram(flight_time2, bins=34)\n",
    "binwidth = np.diff(bin_edges)[0]\n",
    "N = n / binwidth / n_shots2  # [Hz] Scale counts to arrival rate\n",
    "center = (bin_edges[:-1]+bin_edges[1:]) / 2\n",
    "ax.bar(center, N/1e6, align='center', width=binwidth, color='r', alpha=0.7, label=fname2[36:40])\n",
    "ax.set_title('Arrival Rate Histogram')\n",
    "ax.set_xlabel('time [s]')\n",
    "ax.set_ylabel('Photon Arrival Rate [MHz]')\n",
    "ax.legend()\n",
    "plt.show()"
   ]
  },
  {
   "cell_type": "markdown",
   "id": "396d939a",
   "metadata": {},
   "source": [
    "## Now applying the curve_fit routine to my data. Code designed after Matt Hayman's \"Fit_TimeTag_Gaussian.ipynb\" and adapted to fit to N-order exponentiated polynomial."
   ]
  },
  {
   "cell_type": "code",
   "execution_count": 95,
   "id": "a004cef5",
   "metadata": {},
   "outputs": [],
   "source": [
    "# Generate fit and validation sets\n",
    "# The target is assumed to be stationary so I can split the data into halves\n",
    "split_value = int(len(flight_time1)//2)\n",
    "t_phot_fit = flight_time1[:split_value]\n",
    "t_phot_val = flight_time1[split_value:]\n",
    "t_phot_no_dtime = flight_time2[:]\n",
    "# t_phot_fit = flight_time1[:]\n",
    "# t_phot_val = flight_time2[:]\n",
    "\n",
    "# Adjust number of laser shots corresponding to fit and val sets\n",
    "ratio_fit_split = len(t_phot_fit) / len(flight_time1)\n",
    "ratio_val_split = len(t_phot_val) / len(flight_time2)\n",
    "n_shots_fit = np.floor(n_shots1*ratio_fit_split).astype(int)\n",
    "n_shots_val = np.floor(n_shots1*ratio_val_split).astype(int)\n",
    "n_shots_no_dtime = n_shots2\n",
    "# n_shots_fit = n_shots1\n",
    "# n_shots_val = n_shots2\n",
    "\n",
    "t_phot_fit_tnsr = torch.tensor(t_phot_fit.to_numpy())\n",
    "t_phot_val_tnsr = torch.tensor(t_phot_val.to_numpy())\n",
    "t_phot_no_dtime_tnsr = torch.tensor(t_phot_no_dtime.to_numpy())"
   ]
  },
  {
   "cell_type": "code",
   "execution_count": 96,
   "id": "d470a0b5",
   "metadata": {},
   "outputs": [],
   "source": [
    "# optimization parameters\n",
    "\n",
    "rel_step_lim = 1e-8  # termination criteria based on step size\n",
    "max_epochs = 400     # maximum number of iterations/epochs\n",
    "learning_rate = 1e-1  # ADAM learning rate\n",
    "term_persist = 20     # relative step size averaging interval in iterations\n",
    "intgrl_N = 10000        # Set number of steps in numerical integration"
   ]
  },
  {
   "cell_type": "code",
   "execution_count": 97,
   "id": "f81152cc",
   "metadata": {},
   "outputs": [],
   "source": [
    "# I define the max/min times as fixed values. They are the upper/lower bounds of the fit.\n",
    "# Time vector per shot\n",
    "t_min = window_bnd[0]\n",
    "t_max = window_bnd[1]\n",
    "dt = dt\n",
    "t_fine = np.arange(t_min, t_max, dt)"
   ]
  },
  {
   "cell_type": "code",
   "execution_count": 98,
   "id": "1278b7c0",
   "metadata": {},
   "outputs": [],
   "source": [
    "# Set iterate to True if you want to iterate through increasing complexity. \n",
    "# Otherwise set to False if you want to check a single polynomial order.\n",
    "single_step_iter = True\n",
    "M_max = 21  # Max polynomial complexity to test if iterating\n",
    "M_lst = np.arange(5, 19, 1)\n",
    "\n",
    "# Set True to include deadtime in noise model\n",
    "include_deadtime = True"
   ]
  },
  {
   "cell_type": "code",
   "execution_count": 99,
   "id": "833f51f1",
   "metadata": {},
   "outputs": [],
   "source": [
    "# Generate \"active-ratio histogram\" that adjusts the histogram proportionally according to how many bins the detector was \"active vs dead\"\n",
    "active_ratio_hst1 = fit.deadtime_noise_hist(t_min, t_max, intgrl_N, deadtime, t_det_lst1)\n",
    "if not include_deadtime:\n",
    "    active_ratio_hst1 = torch.ones(len(active_ratio_hst))    \n",
    "    \n",
    "active_ratio_hst2 = fit.deadtime_noise_hist(t_min, t_max, intgrl_N, deadtime, t_det_lst2)\n",
    "if not include_deadtime:\n",
    "    active_ratio_hst2 = torch.ones(len(active_ratio_hst))    \n",
    "    "
   ]
  },
  {
   "cell_type": "code",
   "execution_count": 100,
   "id": "214c39db",
   "metadata": {},
   "outputs": [
    {
     "name": "stdout",
     "output_type": "stream",
     "text": [
      "Time elapsed:\n",
      "\n",
      "Order=1: 0.56 sec\n",
      "Order=2: 0.71 sec\n",
      "Order=3: 0.63 sec\n",
      "Order=4: 0.28 sec\n",
      "Order=5: 0.61 sec\n",
      "Order=6: 0.79 sec\n",
      "Order=7: 0.64 sec\n",
      "Order=8: 0.75 sec\n",
      "Order=9: 0.81 sec\n",
      "Order=10: 0.92 sec\n",
      "Order=11: 1.01 sec\n",
      "Order=12: 1.17 sec\n",
      "Order=13: 1.02 sec\n",
      "Order=14: 1.40 sec\n",
      "Order=15: 1.96 sec\n",
      "Order=16: 2.88 sec\n",
      "Order=17: 3.66 sec\n",
      "Order=18: 5.00 sec\n",
      "Order=19: 9.09 sec\n",
      "Order=20: 12.45 sec\n"
     ]
    },
    {
     "data": {
      "image/png": "[encoded data removed]",
      "text/plain": [
       "<Figure size 432x288 with 1 Axes>"
      ]
     },
     "metadata": {
      "needs_background": "light"
     },
     "output_type": "display_data"
    }
   ],
   "source": [
    "if single_step_iter:\n",
    "    M_lst = np.arange(1, M_max, 1)\n",
    "else:\n",
    "    M_lst = M_lst\n",
    "    M_max = max(M_lst)\n",
    "\n",
    "iter_len = len(M_lst)\n",
    "fig = plt.figure()\n",
    "val_loss_arr = np.zeros(M_max+1)\n",
    "no_dtime_loss_arr = np.zeros(M_max+1)\n",
    "coeffs = np.zeros((M_max+1, M_max+1))\n",
    "fit_rate_fine = np.zeros((M_max+1, len(t_fine)))\n",
    "print('Time elapsed:\\n')\n",
    "\n",
    "# Iterate through increasing polynomial complexity. \n",
    "# Compare fit w/ validation set and use minimum loss find optimal polynomial order.\n",
    "for i in range(len(M_lst)):    \n",
    "    # initialize for fit loop\n",
    "    M = M_lst[i]  # Polynomial order  (e.g., x^2 --> M=2)\n",
    "    fit_model = fit.Fit_Pulse(M, t_min, t_max)\n",
    "    optimizer = torch.optim.Adam(fit_model.parameters(), lr=learning_rate)\n",
    "    epoch = 0\n",
    "    rel_step = 1e3*rel_step_lim\n",
    "    fit_loss_lst = []\n",
    "    val_loss_lst = []\n",
    "    rel_step_lst = []\n",
    "\n",
    "    init_C = np.zeros(M+1)\n",
    "    for j in range(M+1):\n",
    "        init_C[j] = fit_model.C[j].item()\n",
    "\n",
    "    # set the loss function to use a Poisson point process likelihood function\n",
    "    loss_fn = fit.pois_loss\n",
    "\n",
    "    # perform fit\n",
    "    start = time.time()\n",
    "    t_fit_norm = fit_model.tstamp_condition(t_phot_fit_tnsr, t_min, t_max)\n",
    "    t_val_norm = fit_model.tstamp_condition(t_phot_val_tnsr, t_min, t_max)\n",
    "    t_no_dtime_norm = fit_model.tstamp_condition(t_phot_no_dtime_tnsr, t_min, t_max)\n",
    "    t_intgrl = fit.cheby_poly(torch.linspace(0, 1, intgrl_N), M)\n",
    "    while rel_step > rel_step_lim and epoch < max_epochs:\n",
    "        fit_model.train()\n",
    "        pred_fit, integral_fit = fit_model(intgrl_N, active_ratio_hst1, t_fit_norm, t_intgrl, cheby=True)\n",
    "        loss_fit = loss_fn(pred_fit, integral_fit*n_shots_fit)  # add regularization here\n",
    "        fit_loss_lst += [loss_fit.item()]\n",
    "\n",
    "        # calculate relative step as an average over the last term_persist iterations\n",
    "        if epoch == 0:\n",
    "            rel_step_lst+=[1e3*rel_step_lim]\n",
    "            rel_step = 1e3*rel_step_lim\n",
    "        else:\n",
    "            rel_step_lst+=[(fit_loss_lst[-2]-fit_loss_lst[-1])/np.abs(fit_loss_lst[-2])]\n",
    "            rel_step = np.abs(np.array(rel_step_lst)[-term_persist:].mean())\n",
    "\n",
    "        # update estimated parameters\n",
    "        loss_fit.backward()\n",
    "        optimizer.step()\n",
    "\n",
    "        # zero out the gradient for the next step\n",
    "        optimizer.zero_grad()\n",
    "\n",
    "        epoch+=1\n",
    "\n",
    "    pred_mod_seg, __ = fit_model(intgrl_N, active_ratio_hst1, torch.tensor(t_fine), t_intgrl, cheby=False)\n",
    "    fit_rate_fine[M, :] = pred_mod_seg.detach().numpy().T\n",
    "    coeffs[M, 0:M+1] = fit_model.C.detach().numpy().T\n",
    "    \n",
    "    # Calculate validation loss\n",
    "    # Using fit generated from fit set, calculate loss when applied to validation set\n",
    "    pred_val, integral_val = fit_model(intgrl_N, active_ratio_hst1, t_val_norm, t_intgrl, cheby=True)\n",
    "    loss_val = loss_fn(pred_val, integral_val*n_shots_fit)\n",
    "    val_loss_arr[M] = loss_val\n",
    "    # Now use the generated fit and validate against reference set (e.g., no deadtime, high-OD data)\n",
    "    pred_no_dtime, integral_no_dtime = fit_model(intgrl_N, active_ratio_hst2, t_no_dtime_norm, t_intgrl, cheby=True)\n",
    "    loss_no_dtime = loss_fn(pred_no_dtime, integral_no_dtime*n_shots_fit)\n",
    "    no_dtime_loss_arr[M] = loss_no_dtime\n",
    "        \n",
    "    end = time.time()\n",
    "    print('Order={}: {:.2f} sec'.format(M, end-start))\n",
    "    \n",
    "    plt.plot(fit_loss_lst, label='Order {}'.format(M))\n",
    "\n",
    "plt.ylabel('Loss')\n",
    "plt.xlabel('Iterations')\n",
    "plt.suptitle('Fit loss')\n",
    "plt.tight_layout()\n",
    "plt.legend()\n",
    "plt.show()"
   ]
  },
  {
   "cell_type": "code",
   "execution_count": 101,
   "id": "ba1885b3",
   "metadata": {},
   "outputs": [
    {
     "name": "stdout",
     "output_type": "stream",
     "text": [
      "Final validation loss value for order 1: -42985.72\n",
      "Final validation loss value for order 2: -44574.03\n",
      "Final validation loss value for order 3: -45278.67\n",
      "Final validation loss value for order 4: -45227.18\n",
      "Final validation loss value for order 5: -45222.69\n",
      "Final validation loss value for order 6: -45238.15\n",
      "Final validation loss value for order 7: -45357.80\n",
      "Final validation loss value for order 8: -45416.47\n",
      "Final validation loss value for order 9: -45393.37\n",
      "Final validation loss value for order 10: -45396.23\n",
      "Final validation loss value for order 11: -45360.95\n",
      "Final validation loss value for order 12: -45287.31\n",
      "Final validation loss value for order 13: -45276.19\n",
      "Final validation loss value for order 14: -45285.60\n",
      "Final validation loss value for order 15: -45342.56\n",
      "Final validation loss value for order 16: -45333.41\n",
      "Final validation loss value for order 17: -45333.99\n",
      "Final validation loss value for order 18: -45301.11\n",
      "Final validation loss value for order 19: -45327.33\n",
      "Final validation loss value for order 20: -45312.87\n"
     ]
    }
   ],
   "source": [
    "for i in range(len(M_lst)):\n",
    "    print('Final validation loss value for order {}: {:.2f}'.format(M_lst[i], val_loss_arr[M_lst[i]]))"
   ]
  },
  {
   "cell_type": "code",
   "execution_count": 102,
   "id": "fae08c43",
   "metadata": {},
   "outputs": [
    {
     "name": "stdout",
     "output_type": "stream",
     "text": [
      "Final validation loss (vs high OD) value for order 1: -61682.20\n",
      "Final validation loss (vs high OD) value for order 2: -63796.93\n",
      "Final validation loss (vs high OD) value for order 3: -64019.30\n",
      "Final validation loss (vs high OD) value for order 4: -63780.72\n",
      "Final validation loss (vs high OD) value for order 5: -63356.82\n",
      "Final validation loss (vs high OD) value for order 6: -63442.46\n",
      "Final validation loss (vs high OD) value for order 7: -63765.47\n",
      "Final validation loss (vs high OD) value for order 8: -63933.40\n",
      "Final validation loss (vs high OD) value for order 9: -63836.30\n",
      "Final validation loss (vs high OD) value for order 10: -63788.95\n",
      "Final validation loss (vs high OD) value for order 11: -63515.94\n",
      "Final validation loss (vs high OD) value for order 12: -63200.60\n",
      "Final validation loss (vs high OD) value for order 13: -63157.70\n",
      "Final validation loss (vs high OD) value for order 14: -63173.21\n",
      "Final validation loss (vs high OD) value for order 15: -63400.22\n",
      "Final validation loss (vs high OD) value for order 16: -63294.53\n",
      "Final validation loss (vs high OD) value for order 17: -63325.55\n",
      "Final validation loss (vs high OD) value for order 18: -63106.96\n",
      "Final validation loss (vs high OD) value for order 19: -63227.86\n",
      "Final validation loss (vs high OD) value for order 20: -63105.25\n"
     ]
    }
   ],
   "source": [
    "for i in range(len(M_lst)):\n",
    "    print('Final validation loss (vs high OD) value for order {}: {:.2f}'.format(M_lst[i], no_dtime_loss_arr[M_lst[i]]))"
   ]
  },
  {
   "cell_type": "code",
   "execution_count": 105,
   "id": "c2e67579",
   "metadata": {},
   "outputs": [
    {
     "data": {
      "image/png": "[encoded data removed]",
      "text/plain": [
       "<Figure size 432x288 with 1 Axes>"
      ]
     },
     "metadata": {
      "needs_background": "light"
     },
     "output_type": "display_data"
    }
   ],
   "source": [
    "minx, miny = np.argmin(val_loss_arr), min(val_loss_arr)\n",
    "\n",
    "plt.plot(M_lst, val_loss_arr[M_lst], 'b.')\n",
    "plt.scatter(minx, miny,c='r', label='minimum')\n",
    "plt.title('Validation Loss vs Complexity')\n",
    "plt.ylabel('Loss')\n",
    "plt.xlabel('Polynomial order')\n",
    "plt.legend()\n",
    "plt.show()"
   ]
  },
  {
   "cell_type": "code",
   "execution_count": 106,
   "id": "b03260a4",
   "metadata": {},
   "outputs": [
    {
     "name": "stdout",
     "output_type": "stream",
     "text": [
      "Final C0: 5.4621\n",
      "Final C1: 5.8872\n",
      "Final C2: -6.0414\n",
      "Final C3: -6.0692\n",
      "Final C4: -6.7878\n",
      "Final C5: 1.3753\n",
      "Final C6: 0.3857\n",
      "Final C7: -3.0940\n",
      "Final C8: -0.1491\n"
     ]
    }
   ],
   "source": [
    "# Choose order to investigate\n",
    "order = 8\n",
    "try:\n",
    "    model = coeffs[order, 0:order+1]\n",
    "    for i in range(order+1):\n",
    "        print('Final C{}: {:.4f}'.format(i, model[i]))\n",
    "except:\n",
    "    print(\"\\nERROR: Order exceeds maximum complexity iteration value.\\n\")"
   ]
  },
  {
   "cell_type": "code",
   "execution_count": 107,
   "id": "e6cb57ef",
   "metadata": {},
   "outputs": [
    {
     "data": {
      "image/png": "[encoded data removed]",
      "text/plain": [
       "<Figure size 432x288 with 1 Axes>"
      ]
     },
     "metadata": {
      "needs_background": "light"
     },
     "output_type": "display_data"
    }
   ],
   "source": [
    "fig = plt.figure()\n",
    "ax = fig.add_subplot(111)\n",
    "\n",
    "n, bins = np.histogram(flight_time1, bins=34)\n",
    "binwidth = np.diff(bins)[0]\n",
    "N = n / binwidth / n_shots1  # [Hz] Scaling counts to arrival rate\n",
    "center = 0.5 * (bins[:-1] + bins[1:])\n",
    "ax.bar(center, N, align='center', width=binwidth, color='b', alpha=0.5)\n",
    "\n",
    "# Arrival rate fit\n",
    "t_fine = np.arange(t_min, t_max, dt)\n",
    "fit_rate_seg = fit_rate_fine[order, :]\n",
    "ax.plot(t_fine, fit_rate_seg, 'r--')\n",
    "ax.set_title('Arrival Rate Fit')\n",
    "ax.set_xlabel('time [s]')\n",
    "ax.set_ylabel('Photon Arrival Rate [Hz]')\n",
    "props = dict(boxstyle='round', facecolor='wheat', alpha=0.5)\n",
    "ax.text(0.1, 0.90, 'Polynomial order: {}'.format(order), transform=ax.transAxes, fontsize=14,\n",
    "        verticalalignment='top', bbox=props)\n",
    "plt.tight_layout()\n",
    "plt.show()\n"
   ]
  },
  {
   "cell_type": "code",
   "execution_count": null,
   "id": "36a7da56",
   "metadata": {},
   "outputs": [],
   "source": []
  }
 ],
 "metadata": {
  "kernelspec": {
   "display_name": "Python [conda env:arsenl-conda]",
   "language": "python",
   "name": "conda-env-arsenl-conda-py"
  },
  "language_info": {
   "codemirror_mode": {
    "name": "ipython",
    "version": 3
   },
   "file_extension": ".py",
   "mimetype": "text/x-python",
   "name": "python",
   "nbconvert_exporter": "python",
   "pygments_lexer": "ipython3",
   "version": "3.10.5"
  }
 },
 "nbformat": 4,
 "nbformat_minor": 5
}
