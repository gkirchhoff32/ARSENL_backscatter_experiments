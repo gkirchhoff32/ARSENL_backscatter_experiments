{
 "cells": [
  {
   "cell_type": "code",
   "execution_count": 2,
   "id": "c8883c98",
   "metadata": {},
   "outputs": [],
   "source": [
    "import numpy as np\n",
    "import matplotlib.pyplot as plt\n",
    "import torch\n",
    "import os\n",
    "import sys\n",
    "import time\n",
    "import pandas as pd\n",
    "import xarray as xr\n",
    "import pickle\n",
    "\n",
    "start = time.time()\n",
    "\n",
    "cwd = os.getcwd()\n",
    "dirLib = cwd + r'/../library'\n",
    "if dirLib not in sys.path:\n",
    "    sys.path.append(dirLib)\n",
    "\n",
    "import fit_polynomial_utils as fit\n",
    "import data_organize as dorg"
   ]
  },
  {
   "cell_type": "markdown",
   "id": "ff9c526e",
   "metadata": {},
   "source": [
    "# My simulated"
   ]
  },
  {
   "cell_type": "code",
   "execution_count": 3,
   "id": "399d0513",
   "metadata": {},
   "outputs": [],
   "source": [
    "# Only need to change this file location if using simulated data generated from \"generate_sim_data.py\"\n",
    "load_sim_pkl_dir = r'C:\\Users\\Grant\\OneDrive - UCB-O365\\ARSENL\\Experiments\\Deadtime_Experiments\\Data\\Simulated\\Select'\n",
    "fname_sim_pkl_ref = r'C:\\Users\\Grant\\OneDrive - UCB-O365\\ARSENL\\Experiments\\Deadtime_Experiments\\Data\\Simulated\\sim_amp1.0E+06_nshot1.0E+06.pkl'\n",
    "infile_ref = open(fname_sim_pkl_ref, 'rb')\n",
    "df = pickle.load(infile_ref)\n",
    "infile_ref.close()\n",
    "\n",
    "flight_time_ref = xr.DataArray(df.flight_time.data)\n",
    "true_flight_time_ref = xr.DataArray(df.true_flight_time.data)\n",
    "n_shots_ref = df.n_shots.data\n",
    "t_det_lst_ref = df.t_det_lst.data\n",
    "t_phot_lst_ref = df.t_phot_lst.data\n",
    "target_amplitude_ref = df.target_amplitude.data\n",
    "target_time_ref = df.target_time.data\n",
    "laser_pulse_width_ref = df.laser_pulse_width.data\n",
    "window_bnd_ref = df.window_bnd.data\n",
    "background_ref = df.background.data"
   ]
  },
  {
   "cell_type": "code",
   "execution_count": null,
   "id": "618cfb98",
   "metadata": {},
   "outputs": [],
   "source": []
  },
  {
   "cell_type": "code",
   "execution_count": null,
   "id": "ae5aaf51",
   "metadata": {},
   "outputs": [],
   "source": []
  },
  {
   "cell_type": "code",
   "execution_count": null,
   "id": "89ef1bd4",
   "metadata": {},
   "outputs": [],
   "source": []
  },
  {
   "cell_type": "markdown",
   "id": "6227ba8d",
   "metadata": {},
   "source": [
    "# netcdf converted from .ARSENL"
   ]
  },
  {
   "cell_type": "code",
   "execution_count": 4,
   "id": "95a5a19b",
   "metadata": {},
   "outputs": [],
   "source": [
    "### PATH VARIABLES ###\n",
    "load_dir = r'C:\\Users\\Grant\\OneDrive - UCB-O365\\ARSENL\\Experiments\\SPCM\\SPCM_Data_2023.01.31\\netcdf'  # Where the data is loaded from\n",
    "fname_ref = r'\\OD50_Dev_0_-_2023-01-31_16.43.48_OD5.0.ARSENL.nc'  # The dataset that will serve as the high-fidelity reference when evaluating"
   ]
  },
  {
   "cell_type": "code",
   "execution_count": null,
   "id": "5f735552",
   "metadata": {},
   "outputs": [],
   "source": []
  },
  {
   "cell_type": "code",
   "execution_count": null,
   "id": "2e61bf54",
   "metadata": {},
   "outputs": [],
   "source": []
  },
  {
   "cell_type": "code",
   "execution_count": null,
   "id": "1362d392",
   "metadata": {},
   "outputs": [],
   "source": []
  }
 ],
 "metadata": {
  "kernelspec": {
   "display_name": "Python [conda env:arsenl-conda]",
   "language": "python",
   "name": "conda-env-arsenl-conda-py"
  },
  "language_info": {
   "codemirror_mode": {
    "name": "ipython",
    "version": 3
   },
   "file_extension": ".py",
   "mimetype": "text/x-python",
   "name": "python",
   "nbconvert_exporter": "python",
   "pygments_lexer": "ipython3",
   "version": "3.10.5"
  }
 },
 "nbformat": 4,
 "nbformat_minor": 5
}
