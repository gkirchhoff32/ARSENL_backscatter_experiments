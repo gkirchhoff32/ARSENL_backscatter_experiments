{
 "cells": [
  {
   "cell_type": "code",
   "execution_count": 1,
   "id": "2ff60069",
   "metadata": {},
   "outputs": [],
   "source": [
    "import xarray as xr\n",
    "import numpy as np\n",
    "import matplotlib.pyplot as plt\n",
    "import os, sys\n",
    "\n",
    "cwd = os.getcwd()\n",
    "dirLib = cwd + r'/../library'\n",
    "if dirLib not in sys.path:\n",
    "    sys.path.append(dirLib)\n",
    "\n",
    "from load_ARSENL_data import set_binwidth"
   ]
  },
  {
   "cell_type": "code",
   "execution_count": 2,
   "id": "50be6cf9",
   "metadata": {},
   "outputs": [],
   "source": [
    "data_dir = r'C:\\Users\\Grant\\OneDrive - UCB-O365\\ARSENL\\Experiments\\SPCM\\Data\\SPCM_Data_2023.03.06'\n",
    "fname = r'\\Dev_0_-_2023-03-06_13.20.53_OD3.2.ARSENL.nc'\n",
    "\n",
    "window_bnd = [32e-9, 40e-9]  # [s]\n",
    "dt = 25e-12  # [s]"
   ]
  },
  {
   "cell_type": "code",
   "execution_count": 3,
   "id": "1a8ab35f",
   "metadata": {},
   "outputs": [],
   "source": [
    "ds = xr.open_dataset(data_dir + fname)"
   ]
  },
  {
   "cell_type": "code",
   "execution_count": 4,
   "id": "99ea43ca",
   "metadata": {},
   "outputs": [],
   "source": [
    "cnts = ds.time_tag\n",
    "flight_time = cnts * dt  # [s]\n",
    "# Exclude specified t.o.f. bins\n",
    "flight_time = flight_time[np.where((flight_time >= window_bnd[0]) & (flight_time < window_bnd[1]))]\n",
    "\n",
    "n_shots = len(ds.sync_index)"
   ]
  },
  {
   "cell_type": "code",
   "execution_count": 5,
   "id": "12ef704f",
   "metadata": {},
   "outputs": [],
   "source": [
    "t_min = window_bnd[0]\n",
    "t_max = window_bnd[1]"
   ]
  },
  {
   "cell_type": "code",
   "execution_count": 6,
   "id": "837f4846",
   "metadata": {},
   "outputs": [
    {
     "data": {
      "image/png": "[encoded data removed]",
      "text/plain": [
       "<Figure size 432x288 with 1 Axes>"
      ]
     },
     "metadata": {
      "needs_background": "light"
     },
     "output_type": "display_data"
    }
   ],
   "source": [
    "fig = plt.figure()\n",
    "ax = fig.add_subplot(111)\n",
    "\n",
    "bin_array = set_binwidth(t_min, t_max, dt)\n",
    "n, bins = np.histogram(flight_time, bins=bin_array)\n",
    "binwidth = np.diff(bins)[0]\n",
    "N = n / binwidth / n_shots  # [Hz] Scaling counts to arrival rate\n",
    "center = 0.5 * (bins[:-1] + bins[1:])\n",
    "ax.bar(center, N, align='center', width=binwidth, color='b', alpha=0.5)\n",
    "ax.set_title('Time of flight')\n",
    "ax.set_xlabel('Time of flight [s]')\n",
    "ax.set_ylabel('Arrival rate [Hz]')\n",
    "plt.show()"
   ]
  },
  {
   "cell_type": "code",
   "execution_count": null,
   "id": "8ec661b3",
   "metadata": {},
   "outputs": [],
   "source": []
  },
  {
   "cell_type": "code",
   "execution_count": null,
   "id": "d438170a",
   "metadata": {},
   "outputs": [],
   "source": []
  }
 ],
 "metadata": {
  "kernelspec": {
   "display_name": "Python [conda env:arsenl-conda]",
   "language": "python",
   "name": "conda-env-arsenl-conda-py"
  },
  "language_info": {
   "codemirror_mode": {
    "name": "ipython",
    "version": 3
   },
   "file_extension": ".py",
   "mimetype": "text/x-python",
   "name": "python",
   "nbconvert_exporter": "python",
   "pygments_lexer": "ipython3",
   "version": "3.10.5"
  }
 },
 "nbformat": 4,
 "nbformat_minor": 5
}
