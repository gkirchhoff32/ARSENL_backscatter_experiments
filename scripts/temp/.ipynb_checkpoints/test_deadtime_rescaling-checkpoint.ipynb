{
 "cells": [
  {
   "cell_type": "markdown",
   "id": "7a1d477f",
   "metadata": {},
   "source": [
    "The loss function for the deadtime model Poisson point process is:\n",
    "\n",
    "$$ L = \\sum_{m=1}^{M}{[N_{shots}\\lambda(t_m)\\Delta t H_{m}^{(I)} - ln(\\lambda(t_m)) H_{m}^{(P)}]} $$\n",
    "\n",
    "Please refer to Matt Hayman's reference notes on this topic for a description of the terms. Basically $H_{m}^{(I)}$ is the histogram (normalized) of the active time of the detector (this is where the Poisson point process inherits the effect of deadtime). $H_{m}^{(P(}$ is the detection histogram.\n",
    "\n",
    "Analytically minimizing the loss function per grid bin $m$ (assuming Riemann sum for $\\Lambda$):\n",
    "\n",
    "$$ \\frac{dL}{d\\lambda(t_m)} = 0 = N_{shots}\\Delta t H_{m}^{(I)} - \\frac{1}{\\lambda(t_m)}H_{m}^{(P)} $$\n",
    "$$ \\lambda(t_m) =  \\frac{H_{m}^{(P)}}{N_{shots}\\Delta t H_{m}^{(I)}}$$\n",
    "\n",
    "I'm doing this by treating each time bin essentially as its own independent detector. The result will be a noisy fit compared to the maximum likelihood gradient descent approach that constrains the entire function as a sum over the bins, but this can be analytically solved and should at least show an approximation of what the function should \"generally\" look like."
   ]
  },
  {
   "cell_type": "code",
   "execution_count": 469,
   "id": "8cedfe37",
   "metadata": {},
   "outputs": [
    {
     "ename": "NameError",
     "evalue": "name 'mpl' is not defined",
     "output_type": "error",
     "traceback": [
      "\u001b[1;31m---------------------------------------------------------------------------\u001b[0m",
      "\u001b[1;31mNameError\u001b[0m                                 Traceback (most recent call last)",
      "Input \u001b[1;32mIn [469]\u001b[0m, in \u001b[0;36m<cell line: 17>\u001b[1;34m()\u001b[0m\n\u001b[0;32m     14\u001b[0m \u001b[38;5;28;01mimport\u001b[39;00m \u001b[38;5;21;01mdata_organize\u001b[39;00m \u001b[38;5;28;01mas\u001b[39;00m \u001b[38;5;21;01mdorg\u001b[39;00m\n\u001b[0;32m     15\u001b[0m \u001b[38;5;28;01mimport\u001b[39;00m \u001b[38;5;21;01mfit_polynomial_utils\u001b[39;00m \u001b[38;5;28;01mas\u001b[39;00m \u001b[38;5;21;01mfit\u001b[39;00m\n\u001b[1;32m---> 17\u001b[0m \u001b[43mmpl\u001b[49m\u001b[38;5;241m.\u001b[39mrcParams\u001b[38;5;241m.\u001b[39mupdate({\u001b[38;5;124m\"\u001b[39m\u001b[38;5;124mfigure.facecolor\u001b[39m\u001b[38;5;124m\"\u001b[39m: \u001b[38;5;124m\"\u001b[39m\u001b[38;5;124mwhite\u001b[39m\u001b[38;5;124m\"\u001b[39m})\n",
      "\u001b[1;31mNameError\u001b[0m: name 'mpl' is not defined"
     ]
    }
   ],
   "source": [
    "import numpy as np\n",
    "import time\n",
    "import pickle\n",
    "import matplotlib.pyplot as plt\n",
    "import os, sys\n",
    "import xarray as xr\n",
    "\n",
    "cwd = os.getcwd()\n",
    "dirLib = cwd + r'/../library'\n",
    "if dirLib not in sys.path:\n",
    "    sys.path.append(dirLib)\n",
    "\n",
    "from load_ARSENL_data import load_INPHAMIS_data, set_binwidth\n",
    "import data_organize as dorg\n",
    "import fit_polynomial_utils as fit\n",
    "\n",
    "mpl.rcParams.update({\"figure.facecolor\": \"white\"})"
   ]
  },
  {
   "cell_type": "markdown",
   "id": "f585222a",
   "metadata": {},
   "source": [
    "### First obtain $H_{m}^{(P)}$"
   ]
  },
  {
   "cell_type": "code",
   "execution_count": 459,
   "id": "e12f5acc",
   "metadata": {},
   "outputs": [],
   "source": [
    "# Constants\n",
    "c = 299792458  # [m/s] Speed of light\n",
    "\n",
    "# Parameters\n",
    "create_csv = False  # Set TRUE to generate a .csv from .ARSENL data\n",
    "load_data = True  # Set TRUE to load data into a DataFrame and serialize into a pickle object\n",
    "window_bnd = [30e-9, 40e-9]  # [s] Set temporal boundaries for binning\n",
    "dt = 25e-12  # [s] Resolution\n",
    "deadtime = 29.1e-9  # [s]\n",
    "\n",
    "data_dir = r'C:\\Users\\Grant\\OneDrive - UCB-O365\\ARSENL\\Experiments\\SPCM\\Data\\SPCM_Data_2023.03.06'\n",
    "fname = r'\\OD39_Dev_0_-_2023-03-06_14.23.19_OD3.9.ARSENL.nc'\n",
    "OD = float(fname[3:5])/10\n",
    "\n",
    "max_lsr_num = int(1e5)\n",
    "exclude_shots = True"
   ]
  },
  {
   "cell_type": "code",
   "execution_count": 460,
   "id": "9ca1bedc",
   "metadata": {},
   "outputs": [],
   "source": [
    "ds = xr.open_dataset(data_dir + fname)\n",
    "\n",
    "t_min = window_bnd[0]\n",
    "t_max = window_bnd[1]\n",
    "\n",
    "cnts = ds.time_tag\n",
    "flight_time = cnts * dt  # [s]\n",
    "# Exclude specified t.o.f. bins\n",
    "flight_time = flight_time[np.where((flight_time >= window_bnd[0]) & (flight_time < window_bnd[1]))]\n",
    "\n",
    "n_shots = len(ds.sync_index)"
   ]
  },
  {
   "cell_type": "code",
   "execution_count": 461,
   "id": "1ef95e49",
   "metadata": {},
   "outputs": [
    {
     "data": {
      "image/png": "[encoded data removed]",
      "text/plain": [
       "<Figure size 432x288 with 1 Axes>"
      ]
     },
     "metadata": {
      "needs_background": "light"
     },
     "output_type": "display_data"
    }
   ],
   "source": [
    "### Histogram of time of flight ###\n",
    "fig = plt.figure()\n",
    "ax1 = fig.add_subplot(111)\n",
    "bin_array = set_binwidth(t_min, t_max, dt)\n",
    "n, bins = np.histogram(flight_time, bins=bin_array)\n",
    "binwidth = np.diff(bins)[0]\n",
    "N = n / binwidth / n_shots\n",
    "center = 0.5 * (bins[:-1]+bins[1:])\n",
    "ax1.bar(center, N/1e6, align='center', width=binwidth, color='b', alpha=0.75)\n",
    "ax1.set_xlabel('Time of flight [s]')\n",
    "ax1.set_ylabel('Arrival rate [MHz]')\n",
    "ax1.set_title('Time of flight for INPHAMIS backscatter')\n",
    "plt.tight_layout()\n",
    "plt.show()"
   ]
  },
  {
   "cell_type": "code",
   "execution_count": 462,
   "id": "b319ccb5",
   "metadata": {},
   "outputs": [],
   "source": [
    "H_P = n"
   ]
  },
  {
   "cell_type": "markdown",
   "id": "83461ae6",
   "metadata": {},
   "source": [
    "### Next obtain $H_{m}^{(I)}$"
   ]
  },
  {
   "cell_type": "code",
   "execution_count": 463,
   "id": "09f783e8",
   "metadata": {},
   "outputs": [],
   "source": [
    "intgrl_N = len(n)"
   ]
  },
  {
   "cell_type": "code",
   "execution_count": 464,
   "id": "780fc478",
   "metadata": {},
   "outputs": [
    {
     "name": "stdout",
     "output_type": "stream",
     "text": [
      "Last sync event doesn't correspond to a detection event. Choosing nearest corresponding sync event (index: 100005)...\n"
     ]
    }
   ],
   "source": [
    "flight_time, n_shots, t_det_lst = dorg.data_organize(dt, data_dir, fname, window_bnd, max_lsr_num,\n",
    "                                                                 exclude_shots)\n",
    "\n",
    "active_ratio_hst_ref = fit.deadtime_noise_hist(t_min, t_max, intgrl_N, deadtime, t_det_lst, n_shots)"
   ]
  },
  {
   "cell_type": "code",
   "execution_count": 465,
   "id": "fdaf5824",
   "metadata": {},
   "outputs": [],
   "source": [
    "H_I = active_ratio_hst_ref"
   ]
  },
  {
   "cell_type": "code",
   "execution_count": 466,
   "id": "9df5eb09",
   "metadata": {},
   "outputs": [
    {
     "data": {
      "image/png": "[encoded data removed]",
      "text/plain": [
       "<Figure size 432x288 with 1 Axes>"
      ]
     },
     "metadata": {
      "needs_background": "light"
     },
     "output_type": "display_data"
    }
   ],
   "source": [
    "plt.plot(active_ratio_hst_ref)\n",
    "plt.show()"
   ]
  },
  {
   "cell_type": "markdown",
   "id": "1bd611da",
   "metadata": {},
   "source": [
    "### Now generate analytic solution to minimized loss function"
   ]
  },
  {
   "cell_type": "code",
   "execution_count": 467,
   "id": "2a19ec15",
   "metadata": {},
   "outputs": [],
   "source": [
    "lamb = H_P/H_I/dt/n_shots  # [Hz]"
   ]
  },
  {
   "cell_type": "code",
   "execution_count": 468,
   "id": "a6b82b99",
   "metadata": {},
   "outputs": [
    {
     "data": {
      "image/png": "[encoded data removed]",
      "text/plain": [
       "<Figure size 432x288 with 1 Axes>"
      ]
     },
     "metadata": {
      "needs_background": "light"
     },
     "output_type": "display_data"
    }
   ],
   "source": [
    "### Histogram of time of flight ###\n",
    "fig = plt.figure()\n",
    "ax1 = fig.add_subplot(111)\n",
    "bin_array = set_binwidth(t_min, t_max, dt)\n",
    "n, bins = np.histogram(flight_time, bins=bin_array)\n",
    "binwidth = np.diff(bins)[0]\n",
    "N = n / binwidth / n_shots\n",
    "center = 0.5 * (bins[:-1]+bins[1:])\n",
    "ax1.bar(center, N/1e6, align='center', width=binwidth, color='b', alpha=0.75)\n",
    "ax1.plot(center, N/H_I/1e6, 'r--')\n",
    "ax1.set_xlabel('Time of flight [s]')\n",
    "ax1.set_ylabel('Arrival rate [MHz]')\n",
    "ax1.set_title('Time of flight for INPHAMIS backscatter')\n",
    "plt.tight_layout()\n",
    "\n",
    "save_loc = r'C:\\Users\\Grant\\OneDrive - UCB-O365\\ARSENL\\Experiments\\SPCM\\Figures\\scale_bins_deadtime_03.06.23_data'\n",
    "save_name = r'\\OD{}.png'.format(OD)\n",
    "plt.savefig(save_loc+save_name)\n",
    "plt.show()"
   ]
  },
  {
   "cell_type": "code",
   "execution_count": null,
   "id": "5bf5146d",
   "metadata": {},
   "outputs": [],
   "source": []
  }
 ],
 "metadata": {
  "kernelspec": {
   "display_name": "Python [conda env:arsenl-conda]",
   "language": "python",
   "name": "conda-env-arsenl-conda-py"
  },
  "language_info": {
   "codemirror_mode": {
    "name": "ipython",
    "version": 3
   },
   "file_extension": ".py",
   "mimetype": "text/x-python",
   "name": "python",
   "nbconvert_exporter": "python",
   "pygments_lexer": "ipython3",
   "version": "3.10.5"
  }
 },
 "nbformat": 4,
 "nbformat_minor": 5
}
