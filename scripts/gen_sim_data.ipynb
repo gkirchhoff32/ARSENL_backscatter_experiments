{
 "cells": [
  {
   "cell_type": "code",
   "execution_count": 2,
   "id": "ba0b0512",
   "metadata": {},
   "outputs": [],
   "source": [
    "import os, sys\n",
    "import numpy as np\n",
    "import time\n",
    "import matplotlib.pyplot as plt\n",
    "import xarray as xr\n",
    "from pathlib import Path\n",
    "\n",
    "from generate_sim_data import gen_rho, gen_sim_data"
   ]
  },
  {
   "cell_type": "code",
   "execution_count": 101,
   "id": "a4e3e5e8",
   "metadata": {},
   "outputs": [],
   "source": [
    "home = str(Path.home())\n",
    "save_dir = home + r'\\OneDrive - UCB-O365\\ARSENL\\Experiments\\SPCM\\Data\\Simulated\\manuscript_revise_distributed'\n",
    "\n",
    "# amplitude = np.logspace(7.1, 10, 20)\n",
    "amplitude = np.array([1e8, 3e8, 6e8, 1.2e9])  # [Hz]\n",
    "# amplitude = np.array([1e8])\n",
    "\n",
    "# simulation resolution settings\n",
    "t_sim_min = 0  # [s]\n",
    "t_sim_max = 40e-9  # [s]\n",
    "dt_sim = 25e-12  # [s]\n",
    "\n",
    "tD = 25e-9  # [s] deadtime\n",
    "Nshot = int(1e3)  # number of laser shots\n",
    "wrap_deadtime = True  # wrap deadtime between shots\n",
    "window_bnd = np.array([28e-9, 34e-9])  # [s] time-of-flight bounds\n",
    "laser_pulse_width = 5e-10  # [s] laser pulse width (sigma) \n",
    "target_time = 31.2e-9  # [s] target location in time\n",
    "background = 1e1  # [Hz] background count rate (dark count)"
   ]
  },
  {
   "cell_type": "code",
   "execution_count": 102,
   "id": "ec87e01f",
   "metadata": {},
   "outputs": [],
   "source": [
    "# To iterate at different widths and scales\n",
    "scale = 10\n",
    "target_time *= scale  # [s]\n",
    "laser_pulse_width *= scale  # [s] laser pulse width (sigma) \n",
    "window_bnd *= scale  # [s] time-of-flight bounds\n",
    "t_sim_max *= scale  # [s]\n",
    "dt_sim *= scale  # [s]"
   ]
  },
  {
   "cell_type": "code",
   "execution_count": 103,
   "id": "f18df350",
   "metadata": {
    "scrolled": false
   },
   "outputs": [
    {
     "name": "stdout",
     "output_type": "stream",
     "text": [
      "time elapsed: 0.7128558158874512\n",
      "time elapsed: 2.322800397872925\n",
      "time elapsed: 3.907776355743408\n",
      "time elapsed: 6.447546482086182\n",
      "(First 10) Time tags: [1220.665454976914, 1221.573215647288, 1217.2597721045408, 1210.8178897900839, 1219.31892928682, 1215.8083629338714, 1229.4494244145867, 1215.505443819943, 1219.9615088516466, 1196.1079334823592]\n"
     ]
    }
   ],
   "source": [
    "for i in range(len(amplitude)):\n",
    "    \n",
    "    target_amplitude = amplitude[i]\n",
    "    \n",
    "    ### GENERATE SIMULATED DATA ###\n",
    "    det_idx, phot_idx, sync_idx, det_sync_idx, phot_sync_idx, det_events, phot_events = gen_sim_data(t_sim_max, dt_sim,\n",
    "                                                                                                     tD, Nshot,\n",
    "                                                                                                     wrap_deadtime,\n",
    "                                                                                                     window_bnd,\n",
    "                                                                                                     laser_pulse_width,\n",
    "                                                                                                     target_time,\n",
    "                                                                                                     target_amplitude,\n",
    "                                                                                                     background)\n",
    "\n",
    "    time_tag_index = det_idx\n",
    "    true_time_tag_index = phot_idx\n",
    "    sync_index = sync_idx\n",
    "    time_tag = det_events\n",
    "    true_time_tag = phot_events\n",
    "    time_tag_sync_index = det_sync_idx\n",
    "    true_time_tag_sync_index = phot_sync_idx\n",
    "\n",
    "    # Save simulated data to netCDF\n",
    "    sim_data = xr.Dataset(\n",
    "        data_vars=dict(\n",
    "            time_tag=(['time_tag_index'], time_tag),\n",
    "            time_tag_sync_index=(['time_tag_index'], time_tag_sync_index),\n",
    "            true_time_tag=(['true_time_tag_index'], true_time_tag),\n",
    "            true_time_tag_sync_index=(['true_time_tag_index'], true_time_tag_sync_index),\n",
    "            laser_pulse_width=laser_pulse_width,\n",
    "            target_time=target_time,\n",
    "            target_amplitude=target_amplitude,\n",
    "            background=background,\n",
    "            window_bnd=window_bnd,\n",
    "            dt_sim=dt_sim\n",
    "        ),\n",
    "        coords=dict(\n",
    "            sync_index=(['sync_index'], sync_index)\n",
    "        )\n",
    "    )\n",
    "\n",
    "    fname = r'\\sim_amp{:.1E}_nshot{:.1E}_width{:.1E}_dt{:.1E}.nc'.format(target_amplitude, Nshot, laser_pulse_width, dt_sim)\n",
    "    sim_data.to_netcdf(save_dir+fname)\n",
    "    \n",
    "print('(First 10) Time tags:', time_tag[:10])"
   ]
  },
  {
   "cell_type": "code",
   "execution_count": null,
   "id": "dc5f1f7b",
   "metadata": {},
   "outputs": [],
   "source": []
  },
  {
   "cell_type": "code",
   "execution_count": null,
   "id": "e3e8ff32",
   "metadata": {},
   "outputs": [],
   "source": []
  },
  {
   "cell_type": "code",
   "execution_count": null,
   "id": "e5eb275a",
   "metadata": {},
   "outputs": [],
   "source": []
  }
 ],
 "metadata": {
  "kernelspec": {
   "display_name": "Python [conda env:arsenl-conda]",
   "language": "python",
   "name": "conda-env-arsenl-conda-py"
  },
  "language_info": {
   "codemirror_mode": {
    "name": "ipython",
    "version": 3
   },
   "file_extension": ".py",
   "mimetype": "text/x-python",
   "name": "python",
   "nbconvert_exporter": "python",
   "pygments_lexer": "ipython3",
   "version": "3.10.5"
  }
 },
 "nbformat": 4,
 "nbformat_minor": 5
}
