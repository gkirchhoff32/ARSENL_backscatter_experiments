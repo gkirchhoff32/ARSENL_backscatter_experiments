{
 "cells": [
  {
   "cell_type": "code",
   "execution_count": 4,
   "id": "ba0b0512",
   "metadata": {},
   "outputs": [],
   "source": [
    "import os, sys\n",
    "import numpy as np\n",
    "import time\n",
    "import matplotlib.pyplot as plt\n",
    "import xarray as xr\n",
    "from pathlib import Path\n",
    "\n",
    "from generate_sim_data import gen_rho, gen_sim_data"
   ]
  },
  {
   "cell_type": "code",
   "execution_count": 13,
   "id": "a4e3e5e8",
   "metadata": {},
   "outputs": [],
   "source": [
    "home = str(Path.home())\n",
    "save_dir = home + r'\\OneDrive - UCB-O365\\ARSENL\\Experiments\\SPCM\\Data\\Simulated'\n",
    "\n",
    "# amplitude = np.logspace(7.1, 10, 20)\n",
    "amplitude = np.array([1.0e8])\n",
    "# amplitude = np.array([1e3])\n",
    "\n",
    "# simulation resolution settings\n",
    "t_sim_min = 0  # [s]\n",
    "t_sim_max = 40e-9  # [s]\n",
    "dt_sim = 25e-12  # [s]\n",
    "\n",
    "tD = 25e-9  # [s] deadtime\n",
    "Nshot = int(1e6)  # number of laser shots\n",
    "wrap_deadtime = True  # wrap deadtime between shots\n",
    "window_bnd = [26e-9, 34e-9]  # [s] time-of-flight bounds\n",
    "laser_pulse_width = 500e-12  # [s] laser pulse width\n",
    "target_time = 31.2e-9  # [s] target location in time\n",
    "background = 1e1  # [Hz] background count rate (dark count)"
   ]
  },
  {
   "cell_type": "code",
   "execution_count": 14,
   "id": "f18df350",
   "metadata": {
    "scrolled": false
   },
   "outputs": [
    {
     "name": "stdout",
     "output_type": "stream",
     "text": [
      "time elapsed: 169.72022128105164\n"
     ]
    }
   ],
   "source": [
    "for i in range(len(amplitude)):\n",
    "    \n",
    "    target_amplitude = amplitude[i]\n",
    "    \n",
    "    ### GENERATE SIMULATED DATA ###\n",
    "    det_idx, phot_idx, sync_idx, det_sync_idx, phot_sync_idx, det_events, phot_events = gen_sim_data(t_sim_max, dt_sim,\n",
    "                                                                                                     tD, Nshot,\n",
    "                                                                                                     wrap_deadtime,\n",
    "                                                                                                     window_bnd,\n",
    "                                                                                                     laser_pulse_width,\n",
    "                                                                                                     target_time,\n",
    "                                                                                                     target_amplitude,\n",
    "                                                                                                     background)\n",
    "\n",
    "    time_tag_index = det_idx\n",
    "    true_time_tag_index = phot_idx\n",
    "    sync_index = sync_idx\n",
    "    time_tag = det_events\n",
    "    true_time_tag = phot_events\n",
    "    time_tag_sync_index = det_sync_idx\n",
    "    true_time_tag_sync_index = phot_sync_idx\n",
    "\n",
    "    # Save simulated data to netCDF\n",
    "    sim_data = xr.Dataset(\n",
    "        data_vars=dict(\n",
    "            time_tag=(['time_tag_index'], time_tag),\n",
    "            time_tag_sync_index=(['time_tag_index'], time_tag_sync_index),\n",
    "            true_time_tag=(['true_time_tag_index'], true_time_tag),\n",
    "            true_time_tag_sync_index=(['true_time_tag_index'], true_time_tag_sync_index),\n",
    "            laser_pulse_width=laser_pulse_width,\n",
    "            target_time=target_time,\n",
    "            target_amplitude=target_amplitude,\n",
    "            background=background\n",
    "        ),\n",
    "        coords=dict(\n",
    "            sync_index=(['sync_index'], sync_index)\n",
    "        )\n",
    "    )\n",
    "\n",
    "    fname = r'\\sim_amp{:.1E}_nshot{:.1E}.nc'.format(target_amplitude, Nshot)\n",
    "    sim_data.to_netcdf(save_dir+fname)"
   ]
  },
  {
   "cell_type": "code",
   "execution_count": null,
   "id": "6eb7cf24",
   "metadata": {},
   "outputs": [],
   "source": []
  }
 ],
 "metadata": {
  "kernelspec": {
   "display_name": "Python [conda env:arsenl-conda]",
   "language": "python",
   "name": "conda-env-arsenl-conda-py"
  },
  "language_info": {
   "codemirror_mode": {
    "name": "ipython",
    "version": 3
   },
   "file_extension": ".py",
   "mimetype": "text/x-python",
   "name": "python",
   "nbconvert_exporter": "python",
   "pygments_lexer": "ipython3",
   "version": "3.10.4"
  }
 },
 "nbformat": 4,
 "nbformat_minor": 5
}
