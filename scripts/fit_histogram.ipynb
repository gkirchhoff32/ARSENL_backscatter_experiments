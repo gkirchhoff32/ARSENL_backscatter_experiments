{
 "cells": [
  {
   "cell_type": "markdown",
   "id": "0a79049c",
   "metadata": {},
   "source": [
    "\n",
    "# ARSENL Backscatter Experiments\n",
    "\n",
    "Grant Kirchhoff\n",
    "05-31-2022\n",
    "University of Colorado Boulder\n",
    "\n",
    "Fit the photon arrival time tags to Gaussian profiles from ARSENL INPHAMIS lidar. \n",
    "\n",
    "IMPORTANT: Set data path settings in\n",
    "'load_ARSENL_data.py' first."
   ]
  },
  {
   "cell_type": "code",
   "execution_count": 1,
   "id": "9209fcc0",
   "metadata": {},
   "outputs": [],
   "source": [
    "import numpy as np\n",
    "import pandas as pd\n",
    "import time\n",
    "import pickle\n",
    "import matplotlib.pyplot as plt\n",
    "import torch\n",
    "from scipy import stats\n",
    "\n",
    "from load_ARSENL_data import load_INPHAMIS_data, data_dir, fname, picklename"
   ]
  },
  {
   "cell_type": "code",
   "execution_count": 2,
   "id": "25861608",
   "metadata": {},
   "outputs": [
    {
     "data": {
      "text/plain": [
       "'C:\\\\Users\\\\jason\\\\OneDrive - UCB-O365\\\\ARSENL\\\\Experiments\\\\ARSENL_backscatter_experiments\\\\scripts/../Data/Initial_Tests'"
      ]
     },
     "execution_count": 2,
     "metadata": {},
     "output_type": "execute_result"
    }
   ],
   "source": [
    "data_dir"
   ]
  },
  {
   "cell_type": "code",
   "execution_count": 5,
   "id": "b818b247",
   "metadata": {},
   "outputs": [],
   "source": [
    "### CONSTANTS ####\n",
    "c = 299792458                      # [m/s] Speed of light\n",
    "tstamp_int = 25                    # Timestamp interval (e.g., timestamp recorded in intervals of 25)\n",
    "max_rollover = 2**25 * tstamp_int  # [ps] the maximum timestamp before instrument timer rolls over\n",
    "\n",
    "### PARAMETERS ###\n",
    "create_csv = True             # Set true to generate a .csv from .ARSENL data\n",
    "load_data = True          # Set true to load data into a DataFrame and serialize into a pickle object\n",
    "irregular_data = True      # Set true if data has gaps (i.e., dtime is 0 for many clock cycles)\n",
    "exclude_bnd = [26000, 40000]   # Set boundaries for binning\n"
   ]
  },
  {
   "cell_type": "code",
   "execution_count": 6,
   "id": "1e6354ec",
   "metadata": {},
   "outputs": [
    {
     "name": "stdout",
     "output_type": "stream",
     "text": [
      "Elapsed time (read pd): 1.8461244106292725 sec\n",
      "Elapsed time (create csv): 10.849960327148438 sec\n"
     ]
    }
   ],
   "source": [
    "# Load INPHAMIS .ARSENL data if not yet serialized\n",
    "if load_data:\n",
    "    load_INPHAMIS_data(data_dir, fname, picklename, create_csv)\n",
    "\n",
    "# Unpickle the data to DataFrame object\n",
    "infile = open('{}/{}'.format(data_dir, picklename), 'rb')\n",
    "df_orig = pickle.load(infile)\n",
    "infile.close()"
   ]
  },
  {
   "cell_type": "code",
   "execution_count": 7,
   "id": "afc4f7fe",
   "metadata": {},
   "outputs": [],
   "source": [
    "# Extract detection and sync events\n",
    "\n",
    "df_clean = df_orig.loc[df_orig['dtime'] != 0]  # Ignore data gaps\n",
    "df_clean = df_clean[0:100000]\n",
    "\n",
    "rollover = df_clean.loc[(df_clean['overflow'] == 1) & \\\n",
    "                        (df_clean['channel'] == 63)]  # Rollover event (\"overflow\",\"channel\") = (1,63)\n",
    "detect = df_clean.loc[(df_clean['overflow'] == 0) & \\\n",
    "                      (df_clean['channel'] == 0)]     # Detection events (\"overflow\",\"channel\") = (0,0)\n",
    "sync = df_clean.loc[(df_clean['overflow'] == 1) & \\\n",
    "                    (df_clean['channel'] == 0)]       # Sync events (\"overflow\",\"channel\") = (1,0)\n",
    "\n",
    "sync_detect_idx = df_orig.index.searchsorted(detect.index, side='left') - 1  # Return idx of sync pulse that caused detection event\n",
    "sync_detect = df_orig.loc[sync_detect_idx]\n",
    "\n",
    "# If data has gaps then ignore detection events that occur immediately following a data gap,\n",
    "# else the sync event prior to the data gap will be adjoined inadvertently.\n",
    "if irregular_data:\n",
    "    sync_detect = sync_detect.loc[sync_detect['dtime'] != 0]\n",
    "    detect = df_clean.loc[sync_detect.index + 1]"
   ]
  },
  {
   "cell_type": "code",
   "execution_count": 8,
   "id": "43ce3221",
   "metadata": {},
   "outputs": [
    {
     "name": "stdout",
     "output_type": "stream",
     "text": [
      "Number of\n",
      "\n",
      "\tsync events: 59026\n",
      "\tdetection events: 36049\n",
      "\trollovers: 4797\n"
     ]
    }
   ],
   "source": [
    "print(\"Number of\\n\")\n",
    "print(\"\\tsync events: {}\".format(len(sync.index)))\n",
    "print(\"\\tdetection events: {}\".format(len(detect.index)))\n",
    "print(\"\\trollovers: {}\".format(len(rollover.index)))"
   ]
  },
  {
   "cell_type": "code",
   "execution_count": 9,
   "id": "b5bdf5b0",
   "metadata": {},
   "outputs": [],
   "source": [
    "# Convert sync/detection events to flight times\n",
    "\n",
    "detect_time = detect['dtime'].to_numpy()\n",
    "sync_detect_time = sync_detect['dtime'].to_numpy()\n",
    "\n",
    "flight_time = (detect_time - sync_detect_time) * tstamp_int  # [ps] Time is in segments of 25 ps\n",
    "flight_time = flight_time[np.where((flight_time >= exclude_bnd[0]) \\\n",
    "                                   & (flight_time < exclude_bnd[1]))]  # Exclude specified t.o.f. bins\n",
    "\n",
    "distance = flight_time / 1e12 * c / 2"
   ]
  },
  {
   "cell_type": "code",
   "execution_count": 10,
   "id": "dd6c6433",
   "metadata": {},
   "outputs": [
    {
     "name": "stderr",
     "output_type": "stream",
     "text": [
      "C:\\Users\\jason\\AppData\\Local\\Temp\\ipykernel_17740\\1503525518.py:12: UserWarning: FixedFormatter should only be used together with FixedLocator\n",
      "  ax2.set_xticklabels(ticklabels)\n"
     ]
    },
    {
     "data": {
      "image/png": "[encoded data removed]",
      "text/plain": [
       "<Figure size 432x288 with 2 Axes>"
      ]
     },
     "metadata": {
      "needs_background": "light"
     },
     "output_type": "display_data"
    }
   ],
   "source": [
    "# Time-of-flight histogram\n",
    "\n",
    "fig = plt.figure()\n",
    "ax1 = fig.add_subplot(111)\n",
    "ax2 = ax1.twiny()\n",
    "n1, bins1, patches1 = ax1.hist(flight_time, bins=200)\n",
    "n2, bins2, patches2 = ax2.hist(distance, bins=200)\n",
    "ticklabels = ax2.get_xticks()\n",
    "ax2.cla()\n",
    "ax1.set_xlabel('Time of flight [ps]')\n",
    "ax1.set_title('Time of flight for INPHAMIS backscatter')\n",
    "ax2.set_xticklabels(ticklabels)\n",
    "ax2.set_xlabel('Range [m]')\n",
    "plt.tight_layout()\n",
    "plt.show()"
   ]
  },
  {
   "cell_type": "code",
   "execution_count": 11,
   "id": "b4dfbd0e",
   "metadata": {},
   "outputs": [
    {
     "data": {
      "image/png": "[encoded data removed]",
      "text/plain": [
       "<Figure size 432x288 with 1 Axes>"
      ]
     },
     "metadata": {
      "needs_background": "light"
     },
     "output_type": "display_data"
    }
   ],
   "source": [
    "plt.figure()\n",
    "plt.stem(flight_time, np.ones(flight_time.size))\n",
    "plt.title('Photons')\n",
    "plt.xlabel('Time [ps]')\n",
    "plt.show()"
   ]
  },
  {
   "cell_type": "markdown",
   "id": "3fb8d53b",
   "metadata": {},
   "source": [
    "#### Now transitioning to applying the curve_fit routine to my data. Code pulled from Matt Hayman's \"Fit_TimeTag_Gaussian.ipynb\""
   ]
  },
  {
   "cell_type": "code",
   "execution_count": 123,
   "id": "71dba4b5",
   "metadata": {},
   "outputs": [],
   "source": [
    "# build the fit model as a NN module\n",
    "class Fit_Pulse(torch.nn.Module):\n",
    "    def __init__(self,t_max):\n",
    "        \"\"\"\n",
    "        Instantiate and initialize the fit parameters.\n",
    "        \"\"\"\n",
    "        super().__init__()\n",
    "        self.log_A = torch.nn.Parameter(6.45*torch.ones(()))    # Gaussian amplitude\n",
    "        self.log_mu = torch.nn.Parameter(-17.5*torch.ones(()))  # Gaussian mean\n",
    "        self.log_sig = torch.nn.Parameter(-22*torch.ones(()))   # Gaussian std\n",
    "        self.log_b = torch.nn.Parameter(1*torch.ones(()))       # background\n",
    "        self.t_max = t_max  # Time elapsed per shot\n",
    "        \n",
    "        self.sqrt_2pi = torch.sqrt(torch.tensor(2*np.pi))\n",
    "        self.sqrt_2  = torch.sqrt(torch.tensor(2.0))\n",
    "        \n",
    "\n",
    "    def forward(self, t):\n",
    "        \"\"\"\n",
    "        Forward model the profile for input time t.\n",
    "        Also return the integral.\n",
    "        \"\"\"\n",
    "        # calculate all the actual fit parameters\n",
    "        A = torch.exp(self.log_A)\n",
    "        mu = torch.exp(self.log_mu)\n",
    "        sig = torch.exp(self.log_sig)\n",
    "        b = torch.exp(self.log_b)\n",
    "        \n",
    "        # calculate the forward model\n",
    "        model_out = A*torch.exp(-1*(t-mu)**2/(2*sig**2)) + b\n",
    "        \n",
    "        # calculate the integral\n",
    "        integral_out = b*self.t_max \\\n",
    "                        + 0.5*A*sig*self.sqrt_2pi \\\n",
    "                        + 0.5*A*sig*self.sqrt_2pi\\\n",
    "                            *torch.special.erf((self.t_max-mu)/(sig*self.sqrt_2))\n",
    "            \n",
    "        return model_out, integral_out"
   ]
  },
  {
   "cell_type": "code",
   "execution_count": 124,
   "id": "572ed04e",
   "metadata": {},
   "outputs": [],
   "source": [
    "def pois_loss(prof,integral):\n",
    "    \"\"\"\n",
    "    Poisson point process loss function\n",
    "    prof: estimated photon arrival rate evaluated at\n",
    "        each time tag\n",
    "    integral: integral of prof at t_max\n",
    "    \"\"\"\n",
    "    return integral-torch.sum(torch.log(prof))"
   ]
  },
  {
   "cell_type": "code",
   "execution_count": 125,
   "id": "79402874",
   "metadata": {},
   "outputs": [],
   "source": [
    "# optimization parameters\n",
    "\n",
    "rel_step_lim = 1e-15  # termination criteria based on step size\n",
    "max_epochs = 5000     # maximum number of iterations/epochs\n",
    "learning_rate = 1e-2  # ADAM learning rate\n",
    "term_persist = 20     # relative step size averaging interval in iterations"
   ]
  },
  {
   "cell_type": "markdown",
   "id": "6c05661e",
   "metadata": {},
   "source": [
    "In data set, the frequency of the sync pulses is ~14.2kHz. Therefore, t_max ~= 70.2043 usec. Might need to look into having this dynamically adjusted."
   ]
  },
  {
   "cell_type": "code",
   "execution_count": 126,
   "id": "d05753e0",
   "metadata": {},
   "outputs": [],
   "source": [
    "# Idefine the maximum time as a fixed value. This is the mode of the recorded elapsed time between shots.\n",
    "# Time vector per shot (sync event)\n",
    "t_min = 0\n",
    "sync_diff = np.diff(sync_detect_time) * tstamp_int / 1e12  # [s]\n",
    "t_max = stats.mode(sync_diff).mode.item()\n",
    "dt = tstamp_int * 1e-12                                    # [s]\n",
    "t_fine = np.arange(t_min, t_max, dt)"
   ]
  },
  {
   "cell_type": "code",
   "execution_count": 127,
   "id": "de88dde1",
   "metadata": {},
   "outputs": [],
   "source": [
    "# initialize for fit loop\n",
    "fit_model = Fit_Pulse(t_max)\n",
    "optimizer = torch.optim.Adam(fit_model.parameters(), lr=learning_rate)\n",
    "epoch = 0\n",
    "rel_step = 1e3*rel_step_lim\n",
    "train_loss_lst = []\n",
    "rel_step_lst = []\n",
    "\n",
    "init_log_A = fit_model.log_A.item()\n",
    "init_log_mu = fit_model.log_mu.item()\n",
    "init_log_sig = fit_model.log_sig.item()\n",
    "init_log_b = fit_model.log_b.item()"
   ]
  },
  {
   "cell_type": "code",
   "execution_count": 128,
   "id": "9831a09b",
   "metadata": {},
   "outputs": [],
   "source": [
    "# set the loss function to use a \n",
    "# Poisson point process likelihood function\n",
    "loss_fn = pois_loss"
   ]
  },
  {
   "cell_type": "code",
   "execution_count": 129,
   "id": "fe4a5f1c",
   "metadata": {},
   "outputs": [],
   "source": [
    "t_phot_fit = flight_time * 1e-12  # [s] convert to seconds\n",
    "t_phot_fit_tnsr = torch.tensor(t_phot_fit)\n",
    "cnt_phot_fit = len(sync.index)"
   ]
  },
  {
   "cell_type": "code",
   "execution_count": 130,
   "id": "ccc31ee3",
   "metadata": {},
   "outputs": [],
   "source": [
    "# perform fit\n",
    "while rel_step > rel_step_lim and epoch < max_epochs:\n",
    "    \n",
    "    fit_model.train()\n",
    "    pred, integral = fit_model(t_phot_fit_tnsr)\n",
    "    loss = loss_fn(pred, integral*cnt_phot_fit)  # add regularization here\n",
    "    train_loss_lst += [loss.item()]\n",
    "\n",
    "    # calculate relative step as an average over the last\n",
    "    # term_persist iterations\n",
    "    if epoch == 0:\n",
    "        rel_step_lst+=[1e3*rel_step_lim]\n",
    "        rel_step = 1e3*rel_step_lim\n",
    "    else:\n",
    "        rel_step_lst+=[(train_loss_lst[-2]-train_loss_lst[-1])/np.abs(train_loss_lst[-2])]\n",
    "        rel_step = np.abs(np.array(rel_step_lst)[-term_persist:].mean())\n",
    "\n",
    "    # update estimated parameters\n",
    "    loss.backward()\n",
    "    optimizer.step()\n",
    "    \n",
    "    # zero out the gradient for the next step\n",
    "    optimizer.zero_grad()\n",
    "    \n",
    "    epoch+=1\n",
    "    "
   ]
  },
  {
   "cell_type": "code",
   "execution_count": 131,
   "id": "c7a204dc",
   "metadata": {},
   "outputs": [
    {
     "data": {
      "text/plain": [
       "<matplotlib.legend.Legend at 0x247339a6d90>"
      ]
     },
     "execution_count": 131,
     "metadata": {},
     "output_type": "execute_result"
    },
    {
     "data": {
      "image/png": "[encoded data removed]",
      "text/plain": [
       "<Figure size 432x288 with 1 Axes>"
      ]
     },
     "metadata": {
      "needs_background": "light"
     },
     "output_type": "display_data"
    }
   ],
   "source": [
    "# plot the loss over iterations\n",
    "plt.figure()\n",
    "plt.plot(train_loss_lst,label='fit loss')\n",
    "plt.xlabel('fit iteration')\n",
    "plt.ylabel('Poisson NLL')\n",
    "plt.legend()"
   ]
  },
  {
   "cell_type": "code",
   "execution_count": 132,
   "id": "144cf18f",
   "metadata": {},
   "outputs": [],
   "source": [
    "pred_mod_full, integral_full = fit_model(torch.tensor(t_fine))"
   ]
  },
  {
   "cell_type": "code",
   "execution_count": 133,
   "id": "f831ac0c",
   "metadata": {},
   "outputs": [
    {
     "name": "stdout",
     "output_type": "stream",
     "text": [
      "Initial A: 632.7021721338796\n",
      "Initial mu: 2.510999155743982e-08\n",
      "Initial sig: 3.775134544279098e-11\n",
      "Initial b: 2.718281828459045\n",
      "\n",
      "Final A: 49.21265411376953\n",
      "Final mu: 2.51099923076481e-08\n",
      "Final sig: 2.936439069331498e-12\n",
      "Final b: 7783.650390625\n"
     ]
    }
   ],
   "source": [
    "print('Initial A: {}'.format(np.exp(init_log_A)))\n",
    "print('Initial mu: {}'.format(np.exp(init_log_mu)))\n",
    "print('Initial sig: {}'.format(np.exp(init_log_sig)))\n",
    "print('Initial b: {}\\n'.format(np.exp(init_log_b)))\n",
    "\n",
    "print('Final A: {}'.format(torch.exp(fit_model.log_A)))\n",
    "print('Final mu: {}'.format(torch.exp(fit_model.log_mu)))\n",
    "print('Final sig: {}'.format(torch.exp(fit_model.log_sig)))\n",
    "print('Final b: {}'.format(torch.exp(fit_model.log_b)))"
   ]
  },
  {
   "cell_type": "code",
   "execution_count": 110,
   "id": "e58cd0f6",
   "metadata": {},
   "outputs": [
    {
     "name": "stdout",
     "output_type": "stream",
     "text": [
      "Sample average arrival time: 30.8184 ns\n"
     ]
    }
   ],
   "source": [
    "print(\"Sample average arrival time: {:.4f} ns\".format(torch.mean(t_phot_fit_tnsr)*1e9))"
   ]
  },
  {
   "cell_type": "code",
   "execution_count": 111,
   "id": "10db7180",
   "metadata": {},
   "outputs": [
    {
     "data": {
      "image/png": "[encoded data removed]",
      "text/plain": [
       "<Figure size 432x288 with 1 Axes>"
      ]
     },
     "metadata": {
      "needs_background": "light"
     },
     "output_type": "display_data"
    }
   ],
   "source": [
    "fig = plt.figure()\n",
    "ax = fig.add_subplot(111)\n",
    "\n",
    "# Scaled histogram\n",
    "n, bins = np.histogram(flight_time/1000, bins=200)\n",
    "binwidth = np.diff(bins)[0]\n",
    "N = n / binwidth / 1e-9 / cnt_phot_fit  # [Hz] Scaling counts to arrival rate\n",
    "center = 0.5 * (bins[:-1] + bins[1:])\n",
    "ax.bar(center, N/1e6, align='center', width=binwidth, color='b', alpha=0.5)\n",
    "\n",
    "# Arrival rate fit\n",
    "fit_rate = pred_mod_full.detach().numpy()  # [Hz] Fitted arrival rate\n",
    "ax.plot(t_fine*1e9, fit_rate/1e6,'r--')\n",
    "ax.set_xlim([26, 40])\n",
    "ax.set_title('Arrival Rate Fit')\n",
    "ax.set_xlabel('time [ns]')\n",
    "ax.set_ylabel('Photon Arrival Rate [MHz]')\n",
    "textstr = '\\n'.join((\n",
    "    r'$A=%.2f$ MHz' % (torch.exp(fit_model.log_A)*1e-6, ),\n",
    "    r'$\\mu=%.2f$ ns' % (torch.exp(fit_model.log_mu)*1e9, ),\n",
    "    r'$\\sigma=%.2f$ ns' % (torch.exp(fit_model.log_sig)*1e9, ),\n",
    "    r'$b=%.2f$ Hz' % (torch.exp(fit_model.log_b))))\n",
    "props = dict(boxstyle='round', facecolor='wheat', alpha=0.5)\n",
    "ax.text(0.55, 0.90, textstr, transform=ax.transAxes, fontsize=14,\n",
    "        verticalalignment='top', bbox=props)\n",
    "plt.tight_layout()\n",
    "plt.show()\n",
    "\n"
   ]
  },
  {
   "cell_type": "code",
   "execution_count": null,
   "id": "ff6b6399",
   "metadata": {},
   "outputs": [],
   "source": []
  }
 ],
 "metadata": {
  "kernelspec": {
   "display_name": "arsenl_backscatter",
   "language": "python",
   "name": "arsenl_backscatter"
  },
  "language_info": {
   "codemirror_mode": {
    "name": "ipython",
    "version": 3
   },
   "file_extension": ".py",
   "mimetype": "text/x-python",
   "name": "python",
   "nbconvert_exporter": "python",
   "pygments_lexer": "ipython3",
   "version": "3.9.7"
  }
 },
 "nbformat": 4,
 "nbformat_minor": 5
}
