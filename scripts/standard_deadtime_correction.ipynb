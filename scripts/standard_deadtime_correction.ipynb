{
 "cells": [
  {
   "cell_type": "code",
   "execution_count": 1,
   "id": "638de6c4",
   "metadata": {},
   "outputs": [
    {
     "name": "stderr",
     "output_type": "stream",
     "text": [
      "C:\\Users\\Grant\\anaconda3\\envs\\arsenl-conda\\lib\\site-packages\\torch\\cuda\\__init__.py:83: UserWarning: CUDA initialization: CUDA unknown error - this may be due to an incorrectly set up environment, e.g. changing env variable CUDA_VISIBLE_DEVICES after program start. Setting the available devices to be zero. (Triggered internally at  C:\\cb\\pytorch_1000000000000\\work\\c10\\cuda\\CUDAFunctions.cpp:109.)\n",
      "  return torch._C._cuda_getDeviceCount() > 0\n"
     ]
    }
   ],
   "source": [
    "import numpy as np\n",
    "import pandas as pd\n",
    "import time\n",
    "import pickle\n",
    "import matplotlib.pyplot as plt\n",
    "import torch\n",
    "from scipy import stats\n",
    "import os\n",
    "import xarray as xr\n",
    "import sys\n",
    "import csv\n",
    "from generate_sim_data import gen_sim_data\n",
    "\n",
    "cwd = os.getcwd()\n",
    "dirLib = cwd + r'/library'\n",
    "if dirLib not in sys.path:\n",
    "    sys.path.append(dirLib)\n",
    "\n",
    "import fit_polynomial_methods as fit\n",
    "import data_organize as dorg"
   ]
  },
  {
   "cell_type": "code",
   "execution_count": 2,
   "id": "0616e458",
   "metadata": {},
   "outputs": [],
   "source": [
    "## Start by loading and organizing the data in preparation for the fit."
   ]
  },
  {
   "cell_type": "code",
   "execution_count": 3,
   "id": "735400eb",
   "metadata": {},
   "outputs": [],
   "source": [
    "# Adjust parameters here to customize run\n",
    "\n",
    "### CONSTANTS ####\n",
    "c = 2.99792458e8                      # [m/s] Speed of light\n",
    "dt = 25e-12                   # [s] TCSPC resolution\n",
    "\n",
    "### PARAMETERS ###\n",
    "window_bnd = [29.5e-9, 33e-9]       # [s] Set boundaries for binning to exclude outliers\n",
    "exclude_shots = True                     # Set TRUE to exclude data to work with smaller dataset\n",
    "max_lsr_num = int(5e5)                   # If set_max_det set to FALSE, include up to certain number of laser shots\n",
    "max_det_num = 2000                       # If set_max_det set to TRUE, include up to a certain number of detections\n",
    "set_max_det = False                          # Set TRUE if data limiter is number of detections instead of laser shots.\n",
    "deadtime = 25e-9                  # [s] Acquisition deadtime\n",
    "use_stop_idx = True               # Set TRUE if you want to use up to the OD value preceding the reference OD\n",
    "run_full = True                   # Set TRUE if you want to run the fits against all ODs. Otherwise, it will just load the reference data.\n",
    "include_deadtime = True  # Set True to include deadtime in noise model\n",
    "use_poisson_eval = True  # Set TRUE if you want to use the Poisson model for the evaluation loss\n",
    "use_sim_data = True  # Set TRUE if using simulated data from 'generate_sim_data.py'\n",
    "\n",
    "# Make sure file location is accurate\n",
    "cwd = os.getcwd()\n",
    "data_dir = cwd + r'/../Data/Deadtime_Experiments_HiFi'\n",
    "fname = r'/Dev_0_-_2022-04-15_11.17.49.ARSENL.OD20.ARSENL.nc'\n"
   ]
  },
  {
   "cell_type": "code",
   "execution_count": 22,
   "id": "ae80ac50",
   "metadata": {},
   "outputs": [
    {
     "name": "stdout",
     "output_type": "stream",
     "text": [
      "Number of detections: 46613\n",
      "Number of laser shots: 100000\n"
     ]
    }
   ],
   "source": [
    "# Load / generate important data structures from simulated / real datsets \n",
    "# NOTE: If user wants to test different parameters with simulated data, look into \"generate_sim_data.py\"\n",
    "\n",
    "if use_sim_data:\n",
    "    # Only need to change this file location if using simulated data generated from \"generate_sim_data.py\"\n",
    "    load_sim_pkl_dir = r'C:\\Users\\Grant\\OneDrive - UCB-O365\\ARSENL\\Experiments\\Deadtime_Experiments\\Data\\simulated'\n",
    "    fname_sim_pkl = r'\\sim_amp5.0E+08_nshot1.0E+05.pkl'\n",
    "    infile = open(load_sim_pkl_dir+fname_sim_pkl, 'rb')\n",
    "    df = pickle.load(infile)\n",
    "    infile.close()\n",
    "    \n",
    "    flight_time = xr.DataArray(df.flight_time.data)\n",
    "    true_flight_time = xr.DataArray(df.true_flight_time.data)\n",
    "    n_shots = df.n_shots.data\n",
    "    t_det_lst = df.t_det_lst.data\n",
    "    t_phot_lst = df.t_phot_lst.data\n",
    "    target_amplitude = df.target_amplitude.data\n",
    "    target_time = df.target_time.data\n",
    "    laser_pulse_width = df.laser_pulse_width.data\n",
    "    window_bnd = df.window_bnd.data\n",
    "    background = df.background.data\n",
    "else:\n",
    "    flight_time, n_shots, t_det_lst = dorg.data_organize(dt, data_dir, fname, window_bnd, \n",
    "                                                         max_lsr_num, max_det_num, \n",
    "                                                         set_max_det, exclude_shots)\n",
    "    \n",
    "print('Number of detections: {}'.format(len(flight_time)))\n",
    "print('Number of laser shots: {}'.format(n_shots))"
   ]
  },
  {
   "cell_type": "code",
   "execution_count": 23,
   "id": "66d2d3f9",
   "metadata": {},
   "outputs": [
    {
     "data": {
      "image/png": "[encoded data removed]",
      "text/plain": [
       "<Figure size 432x288 with 1 Axes>"
      ]
     },
     "metadata": {
      "needs_background": "light"
     },
     "output_type": "display_data"
    }
   ],
   "source": [
    "# Scaled time-of-flight histogram\n",
    "fig = plt.figure()\n",
    "ax = fig.add_subplot(111)\n",
    "\n",
    "bin_array = np.arange(window_bnd[0]*1e9, (window_bnd[1]+25e-12)*1e9, 25e-12*1e9)\n",
    "if use_sim_data:\n",
    "    n, bins = np.histogram(true_flight_time*1e9, bins=bin_array)\n",
    "    binwidth = np.diff(bins)[0]\n",
    "    N = n / binwidth / 1e-9 / n_shots  # [Hz] Scaling counts to arrival rate\n",
    "    center = 0.5 * (bins[:-1] + bins[1:])\n",
    "    ax.bar(center, N, align='center', width=binwidth, color='r', alpha=0.5, label='true photons')\n",
    "n, bins = np.histogram(flight_time*1e9, bins=bin_array)\n",
    "binwidth = np.diff(bins)[0]\n",
    "N = n / binwidth / 1e-9 / n_shots  # [Hz] Scaling counts to arrival rate\n",
    "center = 0.5 * (bins[:-1] + bins[1:])\n",
    "ax.bar(center, N, align='center', width=binwidth, color='b', alpha=0.75, label='detected photons')\n",
    "ax.set_xlim(window_bnd*1e9)\n",
    "ax.set_title('Arrival Rate Histogram')\n",
    "ax.set_xlabel('time [ns]')\n",
    "ax.set_ylabel('Photon Arrival Rate [Hz]')\n",
    "plt.legend()\n",
    "plt.show()"
   ]
  },
  {
   "cell_type": "code",
   "execution_count": null,
   "id": "22ae45e8",
   "metadata": {},
   "outputs": [],
   "source": []
  }
 ],
 "metadata": {
  "kernelspec": {
   "display_name": "Python [conda env:arsenl-conda]",
   "language": "python",
   "name": "conda-env-arsenl-conda-py"
  },
  "language_info": {
   "codemirror_mode": {
    "name": "ipython",
    "version": 3
   },
   "file_extension": ".py",
   "mimetype": "text/x-python",
   "name": "python",
   "nbconvert_exporter": "python",
   "pygments_lexer": "ipython3",
   "version": "3.10.5"
  }
 },
 "nbformat": 4,
 "nbformat_minor": 5
}
