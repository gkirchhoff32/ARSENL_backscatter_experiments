{
 "cells": [
  {
   "cell_type": "markdown",
   "id": "0a79049c",
   "metadata": {},
   "source": [
    "\n",
    "# ARSENL Backscatter Experiments\n",
    "\n",
    "Grant Kirchhoff\n",
    "06-23-2022\n",
    "University of Colorado Boulder\n",
    "\n",
    "Fit the photon arrival rate to exponentiated polynomial profiles from ARSENL INPHAMIS lidar. \n",
    "\n",
    "IMPORTANT: Set data path settings in\n",
    "'load_ARSENL_data.py' first."
   ]
  },
  {
   "cell_type": "code",
   "execution_count": 1,
   "id": "9209fcc0",
   "metadata": {},
   "outputs": [],
   "source": [
    "import numpy as np\n",
    "import pandas as pd\n",
    "import time\n",
    "import pickle\n",
    "import matplotlib.pyplot as plt\n",
    "import torch\n",
    "from scipy import stats\n",
    "import os\n",
    "import xarray as xr"
   ]
  },
  {
   "cell_type": "code",
   "execution_count": 2,
   "id": "a6cb3eb9",
   "metadata": {},
   "outputs": [],
   "source": [
    "### CONSTANTS ####\n",
    "c = 299792458                      # [m/s] Speed of light\n",
    "tstamp_int = 25                    # Timestamp interval (e.g., timestamp recorded in intervals of 25)\n",
    "max_rollover = 2**25 * tstamp_int  # [ps] the maximum timestamp before instrument timer rolls over\n",
    "\n",
    "### PARAMETERS ###\n",
    "exclude_bnd = [30000, 32000]           # Set boundaries for binning to exclude outliers\n",
    "exclude = True                     # Set TRUE to exclude data to work with smaller dataset\n",
    "excl_val = 10000                  # Include up to certain value\n",
    "\n",
    "cwd = os.getcwd()\n",
    "data_dir = cwd + r'/../Data/Deadtime_Experiments_HiFi'\n",
    "fname = r'/Dev_0_-_2022-04-15_10.49.58.ARSENL.OD00.ARSENL.nc'"
   ]
  },
  {
   "cell_type": "code",
   "execution_count": 3,
   "id": "9dc1632e",
   "metadata": {},
   "outputs": [],
   "source": [
    "ds = xr.open_dataset(data_dir+fname)                                   # xarray Dataset\n",
    "\n",
    "flight_time = ds.time_tag * tstamp_int\n",
    "distance = flight_time / 1e12 * c / 2\n",
    "\n",
    "flight_time = flight_time[np.where((flight_time >= exclude_bnd[0]) \\\n",
    "                                   & (flight_time < exclude_bnd[1]))]  # Exclude specified t.o.f. bins\n",
    "\n",
    "cnt_phot_fit = len(ds.sync_index)\n",
    "\n",
    "if exclude:\n",
    "    flight_time = flight_time[:excl_val]\n",
    "    cnt_phot_fit = ds.sync_index[ds.time_tag_sync_index[excl_val].item()].item()"
   ]
  },
  {
   "cell_type": "code",
   "execution_count": 6,
   "id": "db171cf1",
   "metadata": {},
   "outputs": [
    {
     "data": {
      "image/png": "[encoded data removed]",
      "text/plain": [
       "<Figure size 432x288 with 1 Axes>"
      ]
     },
     "metadata": {
      "needs_background": "light"
     },
     "output_type": "display_data"
    }
   ],
   "source": [
    "# Scaled time-of-flight histogram\n",
    "fig = plt.figure()\n",
    "ax = fig.add_subplot(111)\n",
    "scale = 1e-12  # Scaling from psec --> sec\n",
    "n, bins = np.histogram(flight_time*scale, bins=40)\n",
    "binwidth = np.diff(bins)[0]\n",
    "N = n / binwidth / cnt_phot_fit  # [Hz] Scale counts to arrival rate\n",
    "center = 0.5 * (bins[:-1] + bins[1:])\n",
    "ax.bar(center, N/1e6, align='center', width=binwidth, color='b')\n",
    "ax.set_title('Arrival Rate Historam')\n",
    "ax.set_xlabel('time [s]')\n",
    "ax.set_ylabel('Photon Arrival Rate [MHz]')\n",
    "plt.show()"
   ]
  },
  {
   "cell_type": "code",
   "execution_count": 7,
   "id": "b4dfbd0e",
   "metadata": {},
   "outputs": [
    {
     "data": {
      "image/png": "[encoded data removed]",
      "text/plain": [
       "<Figure size 432x288 with 1 Axes>"
      ]
     },
     "metadata": {
      "needs_background": "light"
     },
     "output_type": "display_data"
    }
   ],
   "source": [
    "plt.figure()\n",
    "plt.stem(flight_time, np.ones(flight_time.size))\n",
    "plt.title('Photons')\n",
    "plt.xlabel('Time [ps]')\n",
    "plt.show()"
   ]
  },
  {
   "cell_type": "markdown",
   "id": "3fb8d53b",
   "metadata": {},
   "source": [
    "### Now applying the curve_fit routine to my data. Code pulled from Matt Hayman's \"Fit_TimeTag_Gaussian.ipynb\" and adapted to fit to arbitrary exponentiated polynomials."
   ]
  },
  {
   "cell_type": "code",
   "execution_count": 8,
   "id": "499dbc62",
   "metadata": {},
   "outputs": [],
   "source": [
    "# Chebyshev polynomial matrix generator\n",
    "def cheby_poly(x, M):\n",
    "    \"\"\"\n",
    "    Parameters:\n",
    "    x (array-like): Values to be evaluated on in chebyshev polynomial      \\\\ [Nx1]\n",
    "    M (int)        : *Highest* order term of polynomial (e.g., x^2 --> M = 2) \\\\ []\n",
    "    Returns:\n",
    "    chebyshev polynomial matrix (array-like): Evaluated polynomial \\\\ [NxM]\n",
    "    \"\"\"\n",
    "    \n",
    "    def cheby(x, m):\n",
    "        \"\"\"\n",
    "        Helper to calculate value of specific chebyshev order\n",
    "        \"\"\"\n",
    "        T0 = x**0\n",
    "        T1 = x**1\n",
    "        if m == 0:   return T0\n",
    "        elif m == 1: return T1\n",
    "        else:        return 2*x*cheby(x, m-1) - cheby(x, m-2)\n",
    "    \n",
    "    N = len(x)\n",
    "    model_out = np.zeros((N, M+1))\n",
    "    for i in range(M+1):\n",
    "        model_out[:, i] = cheby(x, i)\n",
    "    \n",
    "    return torch.tensor(model_out)"
   ]
  },
  {
   "cell_type": "code",
   "execution_count": 9,
   "id": "71dba4b5",
   "metadata": {},
   "outputs": [],
   "source": [
    "# build the fit model as a NN module\n",
    "class Fit_Pulse(torch.nn.Module):\n",
    "    def __init__(self, M, t_min, t_max):\n",
    "        \"\"\"\n",
    "        Instantiate and initialize the fit parameters.\n",
    "        \"\"\"\n",
    "        super().__init__()\n",
    "        self.M = M\n",
    "        self.C = torch.nn.Parameter(-1*torch.ones(M+1, 1, dtype=float))\n",
    "        self.A = torch.nn.Parameter(1*torch.ones(()))\n",
    "        self.t_max = t_max                                    # Time elapsed per shot\n",
    "        self.t_min = t_min\n",
    "        \n",
    "        self.sqrt_2pi = torch.sqrt(torch.tensor(2*np.pi))\n",
    "        self.sqrt_2  = torch.sqrt(torch.tensor(2.0))\n",
    "        \n",
    "    # Helper for numerical integration (trapezoidal method)\n",
    "    @staticmethod\n",
    "    def trapezoid(vals, dx):\n",
    "        trap_intgrl = 0\n",
    "        for i in range(len(vals)-1):\n",
    "            trap_intgrl += vals[i] + vals[i+1]\n",
    "        trap_intgrl *= dx/2\n",
    "        return trap_intgrl\n",
    "\n",
    "    def forward(self, t, intgrl_N):\n",
    "        \"\"\"\n",
    "        Forward model the profile for input time t of polynomial order M (e.g., x^2 --> M=2).\n",
    "        Also return the integral.\n",
    "        t (array-like): time stamps (unnormalized)               \\\\ [Nx1]\n",
    "        intgrl_N (int): number of steps in numerical integration \\\\ []\n",
    "        \"\"\"\n",
    "        M = self.M\n",
    "        C = self.C\n",
    "        A = self.A\n",
    "        \n",
    "        # orthonormalize by leveraging chebyshev polynomials, then calculate forward model\n",
    "        t_norm = (t-self.t_min) / (self.t_max-self.t_min)       # Normalize timestamps \n",
    "        t_poly_cheb = cheby_poly(t_norm, M)           # Generate chebyshev timestamp basis\n",
    "        poly = t_poly_cheb @ C\n",
    "        model_out = A*torch.exp(poly)             # Forward model\n",
    "        \n",
    "        # calculate the integral\n",
    "        t_pts, dx = np.linspace(0, 1, intgrl_N, retstep=True)  # Normalized time vector\n",
    "        t_poly_cheb = cheby_poly(t_pts, M)                        # Generate chebyshev time basis\n",
    "        poly = t_poly_cheb @ C\n",
    "        eval_model = A*torch.exp(poly)\n",
    "        integral_out = self.trapezoid(eval_model, dx)            # Numerically integrate (trapezoidal)\n",
    "            \n",
    "        return model_out, integral_out"
   ]
  },
  {
   "cell_type": "code",
   "execution_count": 10,
   "id": "572ed04e",
   "metadata": {},
   "outputs": [],
   "source": [
    "def pois_loss(prof,integral):\n",
    "    \"\"\"\n",
    "    Poisson point process loss function\n",
    "    prof: estimated photon arrival rate evaluated at\n",
    "        each time tag\n",
    "    integral: integral of prof at t_max\n",
    "    \"\"\"\n",
    "#     print(integral)\n",
    "#     print(torch.sum(torch.log(prof)))\n",
    "    return integral-torch.sum(torch.log(prof))"
   ]
  },
  {
   "cell_type": "code",
   "execution_count": 97,
   "id": "79402874",
   "metadata": {},
   "outputs": [],
   "source": [
    "# optimization parameters\n",
    "\n",
    "rel_step_lim = 1e-10  # termination criteria based on step size\n",
    "max_epochs = 500     # maximum number of iterations/epochs\n",
    "learning_rate = 1e-1  # ADAM learning rate\n",
    "term_persist = 20     # relative step size averaging interval in iterations"
   ]
  },
  {
   "cell_type": "markdown",
   "id": "6c05661e",
   "metadata": {},
   "source": [
    "In data set, the frequency of the sync pulses is ~14.2kHz. Therefore, t_max ~= 70.2043 usec. Might need to look into having this dynamically adjusted."
   ]
  },
  {
   "cell_type": "code",
   "execution_count": 98,
   "id": "d05753e0",
   "metadata": {},
   "outputs": [],
   "source": [
    "# # I define the maximum time as a fixed value. This is the mode of the recorded elapsed time between shots.\n",
    "# # Time vector per shot (sync event)\n",
    "# t_min = 0\n",
    "# avg_sync_diff = ds.sync_delta.mean() * tstamp_int / 1e12  # [s]\n",
    "# t_max = avg_sync_diff.item()\n",
    "# dt = tstamp_int * 1e-12                                    # [s]\n",
    "# t_fine = np.arange(t_min, t_max, dt)"
   ]
  },
  {
   "cell_type": "code",
   "execution_count": 99,
   "id": "d0b766b1",
   "metadata": {},
   "outputs": [],
   "source": [
    "# I define the maximum time as a fixed value. This is the mode of the recorded elapsed time between shots.\n",
    "# Time vector per shot (sync event)\n",
    "t_min = exclude_bnd[0] * 1e-12\n",
    "t_max = exclude_bnd[1] * 1e-12\n",
    "dt = tstamp_int * 1e-12                                    # [s]\n",
    "t_fine = np.arange(t_min, t_max, dt)"
   ]
  },
  {
   "cell_type": "code",
   "execution_count": 100,
   "id": "de88dde1",
   "metadata": {},
   "outputs": [],
   "source": [
    "# initialize for fit loop\n",
    "M = 7\n",
    "fit_model = Fit_Pulse(M, t_min, t_max)\n",
    "optimizer = torch.optim.Adam(fit_model.parameters(), lr=learning_rate)\n",
    "epoch = 0\n",
    "rel_step = 1e3*rel_step_lim\n",
    "train_loss_lst = []\n",
    "rel_step_lst = []\n",
    "\n",
    "init_C = np.zeros(M+1)\n",
    "for i in range(M+1):\n",
    "    init_C[i] = fit_model.C[i].item()\n",
    "init_A = fit_model.A.item()"
   ]
  },
  {
   "cell_type": "code",
   "execution_count": 101,
   "id": "9831a09b",
   "metadata": {},
   "outputs": [],
   "source": [
    "# set the loss function to use a \n",
    "# Poisson point process likelihood function\n",
    "loss_fn = pois_loss"
   ]
  },
  {
   "cell_type": "code",
   "execution_count": 102,
   "id": "fe4a5f1c",
   "metadata": {},
   "outputs": [],
   "source": [
    "intgrl_N = 100                   # Set number of steps in numerical integration\n",
    "t_phot_fit = flight_time * 1e-12  # [s] convert to seconds\n",
    "t_phot_fit_tnsr = torch.tensor(t_phot_fit.to_numpy())"
   ]
  },
  {
   "cell_type": "code",
   "execution_count": 103,
   "id": "ccc31ee3",
   "metadata": {},
   "outputs": [
    {
     "name": "stdout",
     "output_type": "stream",
     "text": [
      "Time elapsed: 6.83 sec\n"
     ]
    }
   ],
   "source": [
    "# perform fit\n",
    "start = time.time()\n",
    "while rel_step > rel_step_lim and epoch < max_epochs:\n",
    "    fit_model.train()\n",
    "    pred, integral = fit_model(t_phot_fit_tnsr, intgrl_N)\n",
    "    loss = loss_fn(pred, integral*cnt_phot_fit)  # add regularization here\n",
    "    train_loss_lst += [loss.item()]\n",
    "\n",
    "    # calculate relative step as an average over the last\n",
    "    # term_persist iterations\n",
    "    if epoch == 0:\n",
    "        rel_step_lst+=[1e3*rel_step_lim]\n",
    "        rel_step = 1e3*rel_step_lim\n",
    "    else:\n",
    "        rel_step_lst+=[(train_loss_lst[-2]-train_loss_lst[-1])/np.abs(train_loss_lst[-2])]\n",
    "        rel_step = np.abs(np.array(rel_step_lst)[-term_persist:].mean())\n",
    "\n",
    "    # update estimated parameters\n",
    "    loss.backward()\n",
    "    optimizer.step()\n",
    "    \n",
    "    # zero out the gradient for the next step\n",
    "    optimizer.zero_grad()\n",
    "    \n",
    "    epoch+=1\n",
    "\n",
    "end = time.time()\n",
    "print('Time elapsed: {:.2f} sec'.format(end-start))"
   ]
  },
  {
   "cell_type": "code",
   "execution_count": 104,
   "id": "c7a204dc",
   "metadata": {
    "scrolled": true
   },
   "outputs": [
    {
     "data": {
      "text/plain": [
       "<matplotlib.legend.Legend at 0x200ccf3f6d0>"
      ]
     },
     "execution_count": 104,
     "metadata": {},
     "output_type": "execute_result"
    },
    {
     "data": {
      "image/png": "[encoded data removed]",
      "text/plain": [
       "<Figure size 432x288 with 1 Axes>"
      ]
     },
     "metadata": {
      "needs_background": "light"
     },
     "output_type": "display_data"
    }
   ],
   "source": [
    "# plot the loss over iterations\n",
    "plt.figure()\n",
    "plt.plot(train_loss_lst,label='fit loss')\n",
    "plt.xlabel('fit iteration')\n",
    "plt.ylabel('Poisson NLL')\n",
    "plt.legend()"
   ]
  },
  {
   "cell_type": "code",
   "execution_count": 105,
   "id": "144cf18f",
   "metadata": {},
   "outputs": [],
   "source": [
    "t_tot_fine = np.arange(0, 60000*1e-12, dt)\n",
    "pred_mod_full, integral_full = fit_model(torch.tensor(t_tot_fine), intgrl_N)"
   ]
  },
  {
   "cell_type": "code",
   "execution_count": 106,
   "id": "f831ac0c",
   "metadata": {},
   "outputs": [
    {
     "name": "stdout",
     "output_type": "stream",
     "text": [
      "Initial C0: -1.0\n",
      "Initial C1: -1.0\n",
      "Initial C2: -1.0\n",
      "Initial C3: -1.0\n",
      "Initial C4: -1.0\n",
      "Initial C5: -1.0\n",
      "Initial C6: -1.0\n",
      "Initial C7: -1.0\n",
      "Initial A: 1.0\n",
      "\n",
      "\n",
      "Final C0: -3.9068\n",
      "Final C1: -2.0081\n",
      "Final C2: 0.6512\n",
      "Final C3: -2.3945\n",
      "Final C4: -3.5376\n",
      "Final C5: 1.8425\n",
      "Final C6: 2.7008\n",
      "Final C7: 2.9738\n",
      "Final A: 0.0580\n"
     ]
    }
   ],
   "source": [
    "for i in range(M+1):\n",
    "    print('Initial C{}: {}'.format(i, init_C[i]))\n",
    "print('Initial A: {}'.format(init_A))\n",
    "print('\\n')\n",
    "for i in range(M+1):\n",
    "    print('Final C{}: {:.4f}'.format(i, fit_model.C[i].item()))\n",
    "print('Final A: {:.4f}'.format(fit_model.A.item()))"
   ]
  },
  {
   "cell_type": "code",
   "execution_count": 107,
   "id": "3bcd0d5e",
   "metadata": {},
   "outputs": [
    {
     "data": {
      "image/png": "[encoded data removed]",
      "text/plain": [
       "<Figure size 432x288 with 1 Axes>"
      ]
     },
     "metadata": {
      "needs_background": "light"
     },
     "output_type": "display_data"
    }
   ],
   "source": [
    "fig = plt.figure()\n",
    "ax = fig.add_subplot(111)\n",
    "\n",
    "# Scaled histogram\n",
    "scale = 1e-12\n",
    "n, bins = np.histogram(flight_time*scale, bins=40)\n",
    "binwidth = np.diff(bins)[0]\n",
    "N = n / binwidth / cnt_phot_fit  # [Hz] Scaling counts to arrival rate\n",
    "center = 0.5 * (bins[:-1] + bins[1:])\n",
    "ax.bar(center, N, align='center', width=binwidth, color='b', alpha=0.5)\n",
    "# ax.set_ylabel('Photon Arrival Rate [Hz]')\n",
    "\n",
    "# Arrival rate fit\n",
    "t_seg_fine = np.arange(exclude_bnd[0]*1e-12, exclude_bnd[1]*1e-12, dt)\n",
    "pred_mod_seg, __ = fit_model(torch.tensor(t_seg_fine), intgrl_N)\n",
    "fit_rate_seg = pred_mod_seg.detach().numpy()  # [Hz] Fitted arrival rate\n",
    "ax.plot(t_seg_fine, fit_rate_seg*0.5e9,'r--')\n",
    "ax.set_title('Arrival Rate Fit')\n",
    "ax.set_xlabel('time [s]')\n",
    "ax.set_ylabel('Photon Arrival Rate [Hz]')\n",
    "# ax.set_xlim([30e-9,32e-9])\n",
    "# ax.set_ylim([0,10])\n",
    "# textstr = '\\n'.join((\n",
    "#     r'$C0=%.8f$' % (fit_model.C0),\n",
    "#     r'$C1=%.8f$' % (fit_model.C1),\n",
    "#     r'$C2=%.8f$' % (fit_model.C2)))\n",
    "# props = dict(boxstyle='round', facecolor='wheat', alpha=0.5)\n",
    "# ax.text(0.55, 0.90, textstr, transform=ax.transAxes, fontsize=14,\n",
    "#         verticalalignment='top', bbox=props)\n",
    "plt.tight_layout()\n",
    "plt.show()\n"
   ]
  },
  {
   "cell_type": "code",
   "execution_count": null,
   "id": "42e4a794",
   "metadata": {},
   "outputs": [],
   "source": []
  },
  {
   "cell_type": "code",
   "execution_count": null,
   "id": "7e4d7286",
   "metadata": {},
   "outputs": [],
   "source": []
  },
  {
   "cell_type": "code",
   "execution_count": null,
   "id": "47ed8928",
   "metadata": {},
   "outputs": [],
   "source": []
  },
  {
   "cell_type": "code",
   "execution_count": null,
   "id": "c2c3331b",
   "metadata": {},
   "outputs": [],
   "source": []
  },
  {
   "cell_type": "code",
   "execution_count": 144,
   "id": "10db7180",
   "metadata": {},
   "outputs": [
    {
     "data": {
      "image/png": "[encoded data removed]",
      "text/plain": [
       "<Figure size 432x288 with 1 Axes>"
      ]
     },
     "metadata": {
      "needs_background": "light"
     },
     "output_type": "display_data"
    }
   ],
   "source": [
    "fig = plt.figure()\n",
    "ax = fig.add_subplot(111)\n",
    "\n",
    "# Scaled histogram\n",
    "n, bins = np.histogram(flight_time/1000, bins=2000)\n",
    "binwidth = np.diff(bins)[0]\n",
    "N = n / binwidth / 1e-9 / cnt_phot_fit  # [Hz] Scaling counts to arrival rate\n",
    "center = 0.5 * (bins[:-1] + bins[1:])\n",
    "ax.bar(center, N/1e6, align='center', width=binwidth, color='b', alpha=0.5)\n",
    "\n",
    "# Arrival rate fit\n",
    "fit_rate = pred_mod_full.detach().numpy()  # [Hz] Fitted arrival rate\n",
    "ax.plot(t_fine*1e9, fit_rate/1e6,'r--')\n",
    "ax.set_xlim([26, 40])\n",
    "ax.set_title('Arrival Rate Fit')\n",
    "ax.set_xlabel('time [ns]')\n",
    "ax.set_ylabel('Photon Arrival Rate [MHz]')\n",
    "textstr = '\\n'.join((\n",
    "    r'$C0=%.2f$' % (torch.exp(fit_model.C0)),\n",
    "    r'$C1=%.2f$' % (torch.exp(fit_model.C1)),\n",
    "    r'$C2=%.2f$' % (torch.exp(fit_model.C2))))\n",
    "props = dict(boxstyle='round', facecolor='wheat', alpha=0.5)\n",
    "ax.text(0.55, 0.90, textstr, transform=ax.transAxes, fontsize=14,\n",
    "        verticalalignment='top', bbox=props)\n",
    "plt.tight_layout()\n",
    "plt.show()\n",
    "\n"
   ]
  },
  {
   "cell_type": "code",
   "execution_count": null,
   "id": "ff6b6399",
   "metadata": {},
   "outputs": [],
   "source": []
  },
  {
   "cell_type": "code",
   "execution_count": null,
   "id": "7860fab1",
   "metadata": {},
   "outputs": [],
   "source": []
  },
  {
   "cell_type": "code",
   "execution_count": null,
   "id": "456581ba",
   "metadata": {},
   "outputs": [],
   "source": []
  },
  {
   "cell_type": "code",
   "execution_count": null,
   "id": "03e7c248",
   "metadata": {},
   "outputs": [],
   "source": []
  },
  {
   "cell_type": "code",
   "execution_count": null,
   "id": "8e2cc297",
   "metadata": {},
   "outputs": [],
   "source": []
  },
  {
   "cell_type": "code",
   "execution_count": null,
   "id": "cc4cd3b4",
   "metadata": {},
   "outputs": [],
   "source": []
  },
  {
   "cell_type": "code",
   "execution_count": null,
   "id": "e7f451cf",
   "metadata": {},
   "outputs": [],
   "source": []
  },
  {
   "cell_type": "markdown",
   "id": "e1c93b34",
   "metadata": {},
   "source": [
    "### Graveyard ###"
   ]
  },
  {
   "cell_type": "code",
   "execution_count": 93,
   "id": "a2d44d93",
   "metadata": {},
   "outputs": [],
   "source": [
    "class NumericalIntegrator:\n",
    "    def riemann(f, eval_pts, dx):\n",
    "        integral = 0\n",
    "        for i in range(len(eval_pts)):\n",
    "            integral += f(eval_pts[i])\n",
    "        integral *= dx\n",
    "        return integral\n",
    "\n",
    "    def trapezoidal(f, eval_pts, dx):\n",
    "        integral = 0\n",
    "        for i in range(len(eval_pts)-1):\n",
    "            integral += f(eval_pts[i]) + f(eval_pts[i+1])\n",
    "        integral *= dx / 2\n",
    "        return integral\n",
    "\n",
    "    def simpsons(f, eval_pts, dx):\n",
    "        integral = 0\n",
    "        for i in range(len(eval_pts)-2):\n",
    "            integral += f(eval_pts[i]) + 4*f(eval_pts[i+1]) + f(eval_pts[i+2])\n",
    "        integral *= dx / 2 / 3\n",
    "        return integral\n"
   ]
  },
  {
   "cell_type": "code",
   "execution_count": null,
   "id": "1790eb12",
   "metadata": {},
   "outputs": [],
   "source": []
  }
 ],
 "metadata": {
  "kernelspec": {
   "display_name": "Python [conda env:arsenl-conda]",
   "language": "python",
   "name": "conda-env-arsenl-conda-py"
  },
  "language_info": {
   "codemirror_mode": {
    "name": "ipython",
    "version": 3
   },
   "file_extension": ".py",
   "mimetype": "text/x-python",
   "name": "python",
   "nbconvert_exporter": "python",
   "pygments_lexer": "ipython3",
   "version": "3.10.5"
  }
 },
 "nbformat": 4,
 "nbformat_minor": 5
}
