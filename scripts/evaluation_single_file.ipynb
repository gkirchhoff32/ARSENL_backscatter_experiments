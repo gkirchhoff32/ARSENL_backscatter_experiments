{
 "cells": [
  {
   "cell_type": "code",
   "execution_count": 1,
   "id": "229d5a23",
   "metadata": {},
   "outputs": [],
   "source": [
    "import numpy as np\n",
    "import pandas as pd\n",
    "import time\n",
    "import pickle\n",
    "import matplotlib.pyplot as plt\n",
    "import torch\n",
    "from scipy import stats\n",
    "import os\n",
    "import xarray as xr\n",
    "import sys\n",
    "\n",
    "cwd = os.getcwd()\n",
    "dirLib = cwd + r'/library'\n",
    "if dirLib not in sys.path:\n",
    "    sys.path.append(dirLib)\n",
    "\n",
    "import fit_polynomial_methods as fit\n",
    "import data_organize as dorg"
   ]
  },
  {
   "cell_type": "code",
   "execution_count": 2,
   "id": "c61d1bca",
   "metadata": {},
   "outputs": [],
   "source": [
    "# Adjust parameters here to customize run\n",
    "\n",
    "### CONSTANTS ####\n",
    "c = 2.99792458e8  # [m/s] Speed of light\n",
    "dt = 25e-12  # [s] TCSPC resolution\n",
    "\n",
    "### PARAMETERS ###\n",
    "window_bnd = [30e-9, 33e-9]  # [s] Set boundaries for binning to exclude outliers\n",
    "exclude_shots = True  # Set TRUE to exclude data to work with smaller dataset\n",
    "set_max_det = False\n",
    "max_lsr_shot = 100\n",
    "max_lsr_shot_ref = 1005  # Include up to certain number of laser shots\n",
    "deadtime = 25e-9  # [s] Acquisition deadtime\n",
    "\n",
    "# Make sure file location is accurate\n",
    "cwd = os.getcwd()\n",
    "data_dir = cwd + r'/../Data/Deadtime_Experiments_HiFi'\n",
    "fname = r'/Dev_0_-_2022-04-15_11.10.35.ARSENL.OD10.ARSENL.nc'\n",
    "fname_ref = r'/Dev_0_-_2022-04-15_11.17.49.ARSENL.OD20.ARSENL.nc'"
   ]
  },
  {
   "cell_type": "code",
   "execution_count": 3,
   "id": "8c6bc2ae",
   "metadata": {},
   "outputs": [
    {
     "name": "stdout",
     "output_type": "stream",
     "text": [
      "Last sync event doesn't correspond to a detection event. Choosing nearest corresponding sync event (index: 1026)...\n"
     ]
    }
   ],
   "source": [
    "flight_time, n_shots, t_det_lst = dorg.data_organize(dt, data_dir, fname, window_bnd, max_lsr_shot, set_max_det, exclude_shots)\n",
    "flight_time_ref, n_shots_ref, t_det_lst_ref = dorg.data_organize(dt, data_dir, fname_ref, window_bnd, max_lsr_shot_ref, set_max_det, exclude_shots)"
   ]
  },
  {
   "cell_type": "code",
   "execution_count": 4,
   "id": "08c2d089",
   "metadata": {},
   "outputs": [
    {
     "name": "stdout",
     "output_type": "stream",
     "text": [
      "\n",
      "OD10:\n",
      "Number of detections: 47\n",
      "Number of laser shots: 100\n",
      "\n",
      "OD20:\n",
      "Number of detections: 44\n",
      "Number of laser shots: 1026\n"
     ]
    }
   ],
   "source": [
    "print('\\n{}:'.format(fname[36:40]))\n",
    "print('Number of detections: {}'.format(len(flight_time)))\n",
    "print('Number of laser shots: {}'.format(n_shots))\n",
    "print('\\n{}:'.format(fname_ref[36:40]))\n",
    "print('Number of detections: {}'.format(len(flight_time_ref)))\n",
    "print('Number of laser shots: {}'.format(n_shots_ref))"
   ]
  },
  {
   "cell_type": "code",
   "execution_count": 5,
   "id": "b6491ebe",
   "metadata": {
    "scrolled": true
   },
   "outputs": [
    {
     "data": {
      "image/png": "[encoded data removed]",
      "text/plain": [
       "<Figure size 432x288 with 1 Axes>"
      ]
     },
     "metadata": {
      "needs_background": "light"
     },
     "output_type": "display_data"
    }
   ],
   "source": [
    "# Scaled time-of-flight histogram\n",
    "fig = plt.figure()\n",
    "ax = fig.add_subplot(111)\n",
    "n, bin_edges = np.histogram(flight_time, bins=34)\n",
    "binwidth = np.diff(bin_edges)[0]\n",
    "N = n / binwidth / n_shots  # [Hz] Scale counts to arrival rate\n",
    "center = (bin_edges[:-1]+bin_edges[1:]) / 2\n",
    "ax.bar(center, N/1e6, align='center', width=binwidth, color='b', alpha=0.7, label=fname[36:40])\n",
    "n, bin_edges = np.histogram(flight_time_ref, bins=34)\n",
    "binwidth = np.diff(bin_edges)[0]\n",
    "N = n / binwidth / n_shots_ref  # [Hz] Scale counts to arrival rate\n",
    "center = (bin_edges[:-1]+bin_edges[1:]) / 2\n",
    "ax.bar(center, N/1e6, align='center', width=binwidth, color='r', alpha=0.7, label=fname_ref[36:40])\n",
    "ax.set_title('Arrival Rate Histogram')\n",
    "ax.set_xlabel('time [s]')\n",
    "ax.set_ylabel('Photon Arrival Rate [MHz]')\n",
    "ax.legend()\n",
    "plt.show()"
   ]
  },
  {
   "cell_type": "markdown",
   "id": "396d939a",
   "metadata": {},
   "source": [
    "## Now applying the curve_fit routine to my data. Code designed after Matt Hayman's \"Fit_TimeTag_Gaussian.ipynb\" and adapted to fit to N-order exponentiated polynomial."
   ]
  },
  {
   "cell_type": "code",
   "execution_count": 6,
   "id": "a004cef5",
   "metadata": {},
   "outputs": [],
   "source": [
    "# Generate fit and validation sets\n",
    "\n",
    "t_phot_fit_tnsr, t_phot_val_tnsr, t_phot_eval_tnsr, n_shots_fit, n_shots_val, n_shots_eval = fit.generate_fit_val_eval(flight_time, flight_time_ref, n_shots, n_shots_ref)\n"
   ]
  },
  {
   "cell_type": "code",
   "execution_count": 7,
   "id": "d470a0b5",
   "metadata": {},
   "outputs": [],
   "source": [
    "# optimization parameters\n",
    "\n",
    "rel_step_lim = 1e-8  # termination criteria based on step size\n",
    "max_epochs = 400     # maximum number of iterations/epochs\n",
    "learning_rate = 1e-1  # ADAM learning rate\n",
    "term_persist = 20     # relative step size averaging interval in iterations\n",
    "intgrl_N = 10000        # Set number of steps in numerical integration"
   ]
  },
  {
   "cell_type": "code",
   "execution_count": 8,
   "id": "f81152cc",
   "metadata": {},
   "outputs": [],
   "source": [
    "# I define the max/min times as fixed values. They are the upper/lower bounds of the fit.\n",
    "# Time vector per shot\n",
    "t_min = window_bnd[0]\n",
    "t_max = window_bnd[1]\n",
    "dt = dt\n",
    "t_fine = np.arange(t_min, t_max, dt)"
   ]
  },
  {
   "cell_type": "code",
   "execution_count": 9,
   "id": "1278b7c0",
   "metadata": {},
   "outputs": [],
   "source": [
    "# Set iterate to True if you want to iterate through increasing complexity. \n",
    "# Otherwise set to False if you want to check a single polynomial order.\n",
    "single_step_iter = False\n",
    "M_max = 21  # Max polynomial complexity to test if iterating\n",
    "M_lst = np.arange(6, 9, 1)\n",
    "\n",
    "# Set True to include deadtime in noise model\n",
    "include_deadtime = True"
   ]
  },
  {
   "cell_type": "code",
   "execution_count": 10,
   "id": "833f51f1",
   "metadata": {},
   "outputs": [],
   "source": [
    "# Generate \"active-ratio histogram\" that adjusts the histogram proportionally according to how many bins the detector was \"active vs dead\"\n",
    "active_ratio_hst = fit.deadtime_noise_hist(t_min, t_max, intgrl_N, deadtime, t_det_lst)\n",
    "if not include_deadtime:\n",
    "    active_ratio_hst = torch.ones(len(active_ratio_hst))    \n",
    "    \n",
    "active_ratio_hst_ref = fit.deadtime_noise_hist(t_min, t_max, intgrl_N, deadtime, t_det_lst_ref)\n",
    "if not include_deadtime:\n",
    "    active_ratio_hst_ref = torch.ones(len(active_ratio_hst_ref))    \n",
    "    "
   ]
  },
  {
   "cell_type": "code",
   "execution_count": 11,
   "id": "214c39db",
   "metadata": {},
   "outputs": [
    {
     "name": "stdout",
     "output_type": "stream",
     "text": [
      "Time elapsed:\n",
      "\n",
      "Order=6: 0.35 sec\n",
      "Order=7: 0.34 sec\n",
      "Order=8: 0.36 sec\n"
     ]
    },
    {
     "data": {
      "image/png": "[encoded data removed]",
      "text/plain": [
       "<Figure size 432x288 with 1 Axes>"
      ]
     },
     "metadata": {
      "needs_background": "light"
     },
     "output_type": "display_data"
    }
   ],
   "source": [
    "if single_step_iter:\n",
    "    M_lst = np.arange(1, M_max, 1)\n",
    "else:\n",
    "    M_lst = M_lst\n",
    "    M_max = max(M_lst)\n",
    "    \n",
    "ax, val_loss_arr, eval_loss_arr, \\\n",
    "    fit_rate_fine, coeffs = fit.optimize_fit(M_max, M_lst, t_fine, t_phot_fit_tnsr, t_phot_val_tnsr, t_phot_eval_tnsr, active_ratio_hst, \n",
    "                                             active_ratio_hst_ref, n_shots_fit, n_shots_val, n_shots_eval, learning_rate, rel_step_lim, intgrl_N, \n",
    "                                             max_epochs, term_persist)\n",
    "\n",
    "ax.set_ylabel('Loss')\n",
    "ax.set_xlabel('Iterations')\n",
    "plt.suptitle('Fit loss')\n",
    "plt.tight_layout()\n",
    "ax.legend()\n",
    "\n",
    "plt.show()\n",
    "\n",
    "# iter_len = len(M_lst)\n",
    "# val_loss_arr = np.zeros(M_max+1)\n",
    "# eval_loss_arr = np.zeros(M_max+1)\n",
    "# coeffs = np.zeros((M_max+1, M_max+1))\n",
    "# fit_rate_fine = np.zeros((M_max+1, len(t_fine)))\n",
    "# print('Time elapsed:\\n')\n",
    "\n",
    "# fig = plt.figure()\n",
    "# # Iterate through increasing polynomial complexity. \n",
    "# # Compare fit w/ validation set and use minimum loss find optimal polynomial order.\n",
    "# for i in range(len(M_lst)):    \n",
    "#     # initialize for fit loop\n",
    "#     M = M_lst[i]  # Polynomial order  (e.g., x^2 --> M=2)\n",
    "#     fit_model = fit.Fit_Pulse(M, t_min, t_max)\n",
    "#     optimizer = torch.optim.Adam(fit_model.parameters(), lr=learning_rate)\n",
    "#     epoch = 0\n",
    "#     rel_step = 1e3*rel_step_lim\n",
    "#     fit_loss_lst = []\n",
    "#     val_loss_lst = []\n",
    "#     rel_step_lst = []\n",
    "\n",
    "#     init_C = np.zeros(M+1)\n",
    "#     for j in range(M+1):\n",
    "#         init_C[j] = fit_model.C[j].item()\n",
    "\n",
    "#     # set the loss function to use a Poisson point process likelihood function\n",
    "#     loss_fn = fit.pois_loss\n",
    "\n",
    "#     # perform fit\n",
    "#     start = time.time()\n",
    "#     t_fit_norm = fit_model.tstamp_condition(t_phot_fit_tnsr, t_min, t_max)\n",
    "#     t_val_norm = fit_model.tstamp_condition(t_phot_val_tnsr, t_min, t_max)\n",
    "#     t_eval_norm = fit_model.tstamp_condition(t_phot_eval_tnsr, t_min, t_max)\n",
    "#     t_intgrl = fit.cheby_poly(torch.linspace(0, 1, intgrl_N), M)\n",
    "#     while rel_step > rel_step_lim and epoch < max_epochs:\n",
    "#         fit_model.train()\n",
    "#         pred_fit, integral_fit = fit_model(intgrl_N, active_ratio_hst, t_fit_norm, t_intgrl, cheby=True)\n",
    "#         loss_fit = loss_fn(pred_fit, integral_fit*n_shots_fit)  # add regularization here\n",
    "#         fit_loss_lst += [loss_fit.item()]\n",
    "\n",
    "#         # calculate relative step as an average over the last term_persist iterations\n",
    "#         if epoch == 0:\n",
    "#             rel_step_lst+=[1e3*rel_step_lim]\n",
    "#             rel_step = 1e3*rel_step_lim\n",
    "#         else:\n",
    "#             rel_step_lst+=[(fit_loss_lst[-2]-fit_loss_lst[-1])/np.abs(fit_loss_lst[-2])]\n",
    "#             rel_step = np.abs(np.array(rel_step_lst)[-term_persist:].mean())\n",
    "\n",
    "#         # update estimated parameters\n",
    "#         loss_fit.backward()\n",
    "#         optimizer.step()\n",
    "\n",
    "#         # zero out the gradient for the next step\n",
    "#         optimizer.zero_grad()\n",
    "\n",
    "#         epoch+=1\n",
    "\n",
    "#     pred_mod_seg, __ = fit_model(intgrl_N, active_ratio_hst, torch.tensor(t_fine), t_intgrl, cheby=False)\n",
    "#     fit_rate_fine[M, :] = pred_mod_seg.detach().numpy().T\n",
    "#     coeffs[M, 0:M+1] = fit_model.C.detach().numpy().T\n",
    "    \n",
    "#     # Calculate validation loss\n",
    "#     # Using fit generated from fit set, calculate loss when applied to validation set\n",
    "#     pred_val, integral_val = fit_model(intgrl_N, active_ratio_hst, t_val_norm, t_intgrl, cheby=True)\n",
    "#     loss_val = loss_fn(pred_val, integral_val*n_shots_fit)\n",
    "#     val_loss_arr[M] = loss_val\n",
    "    \n",
    "#     # Now use the generated fit and validate against evaluation set (e.g., no deadtime, high-OD data)\n",
    "#     pred_eval, integral_eval = fit_model(intgrl_N, active_ratio_hst_ref, t_eval_norm, t_intgrl, cheby=True)\n",
    "\n",
    "#     # If the number of shots between evaluation set and validation set differ, then arrival rate needs to be scaled accordingly. \n",
    "#     n_det_eval = len(pred_eval)\n",
    "#     C_scale = n_det_eval / n_shots_eval / integral_eval\n",
    "#     loss_eval = loss_fn(C_scale*pred_eval, C_scale*integral_eval*n_shots_eval)\n",
    "#     eval_loss_arr[M] = loss_eval\n",
    "        \n",
    "#     end = time.time()\n",
    "#     print('Order={}: {:.2f} sec'.format(M, end-start))\n",
    "    \n",
    "#     plt.plot(fit_loss_lst, label='Order {}'.format(M))\n",
    "\n",
    "# plt.ylabel('Loss')\n",
    "# plt.xlabel('Iterations')\n",
    "# plt.suptitle('Fit loss')\n",
    "# plt.tight_layout()\n",
    "# plt.legend()\n",
    "# plt.show()"
   ]
  },
  {
   "cell_type": "markdown",
   "id": "26acd895",
   "metadata": {},
   "source": [
    "#### Some definitions:\n",
    "Test data: Fit set. Typically the first half of the data.\n",
    "\n",
    "Validation data: Typically the second half of the data. An independent set that can be used to calculation \"validation loss.\"\n",
    "\n",
    "Evaluation data: High fidelity data. Typically a reference set with data unaffected by deadtime, e.g., high OD dataset."
   ]
  },
  {
   "cell_type": "code",
   "execution_count": 12,
   "id": "ba1885b3",
   "metadata": {},
   "outputs": [
    {
     "name": "stdout",
     "output_type": "stream",
     "text": [
      "Validation loss for\n",
      "\n",
      "Order 6: -465.24546\n",
      "Order 7: -465.23948\n",
      "Order 8: -465.12262\n"
     ]
    }
   ],
   "source": [
    "print('Validation loss for\\n')\n",
    "for i in range(len(M_lst)):\n",
    "    print('Order {}: {:.5f}'.format(M_lst[i], val_loss_arr[M_lst[i]]))"
   ]
  },
  {
   "cell_type": "code",
   "execution_count": 13,
   "id": "fae08c43",
   "metadata": {},
   "outputs": [
    {
     "name": "stdout",
     "output_type": "stream",
     "text": [
      "Evaluation loss for\n",
      "\n",
      "Order 6: -709.44818\n",
      "Order 7: -710.15915\n",
      "Order 8: -714.19759\n"
     ]
    }
   ],
   "source": [
    "print('Evaluation loss for\\n')\n",
    "for i in range(len(M_lst)):\n",
    "    print('Order {}: {:.5f}'.format(M_lst[i], eval_loss_arr[M_lst[i]]))"
   ]
  },
  {
   "cell_type": "code",
   "execution_count": 14,
   "id": "c2e67579",
   "metadata": {},
   "outputs": [
    {
     "data": {
      "image/png": "[encoded data removed]",
      "text/plain": [
       "<Figure size 432x288 with 1 Axes>"
      ]
     },
     "metadata": {
      "needs_background": "light"
     },
     "output_type": "display_data"
    }
   ],
   "source": [
    "minx, miny = np.argmin(val_loss_arr), min(val_loss_arr)\n",
    "\n",
    "plt.plot(M_lst, val_loss_arr[M_lst], 'b.')\n",
    "plt.scatter(minx, miny,c='r', label='minimum')\n",
    "plt.title('Validation Loss vs Complexity')\n",
    "plt.ylabel('Loss')\n",
    "plt.xlabel('Polynomial order')\n",
    "plt.legend()\n",
    "plt.show()"
   ]
  },
  {
   "cell_type": "code",
   "execution_count": 16,
   "id": "b03260a4",
   "metadata": {},
   "outputs": [
    {
     "name": "stdout",
     "output_type": "stream",
     "text": [
      "Final C0: 4.6208\n",
      "Final C1: 4.1419\n",
      "Final C2: -6.8250\n",
      "Final C3: -5.7982\n",
      "Final C4: -3.5186\n",
      "Final C5: 3.2513\n",
      "Final C6: 1.4399\n"
     ]
    }
   ],
   "source": [
    "# Choose order to investigate\n",
    "order = minx\n",
    "try:\n",
    "    model = coeffs[order, 0:order+1]\n",
    "    for i in range(order+1):\n",
    "        print('Final C{}: {:.4f}'.format(i, model[i]))\n",
    "except:\n",
    "    print(\"\\nERROR: Order exceeds maximum complexity iteration value.\\n\")"
   ]
  },
  {
   "cell_type": "code",
   "execution_count": 17,
   "id": "e6cb57ef",
   "metadata": {},
   "outputs": [
    {
     "data": {
      "image/png": "[encoded data removed]",
      "text/plain": [
       "<Figure size 432x288 with 1 Axes>"
      ]
     },
     "metadata": {
      "needs_background": "light"
     },
     "output_type": "display_data"
    }
   ],
   "source": [
    "fig = plt.figure()\n",
    "ax = fig.add_subplot(111)\n",
    "\n",
    "n, bins = np.histogram(flight_time, bins=34)\n",
    "binwidth = np.diff(bins)[0]\n",
    "N = n / binwidth / n_shots  # [Hz] Scaling counts to arrival rate\n",
    "center = 0.5 * (bins[:-1] + bins[1:])\n",
    "ax.bar(center, N, align='center', width=binwidth, color='b', alpha=0.5)\n",
    "\n",
    "# Arrival rate fit\n",
    "t_fine = np.arange(t_min, t_max, dt)\n",
    "fit_rate_seg = fit_rate_fine[order, :]\n",
    "ax.plot(t_fine, fit_rate_seg, 'r--')\n",
    "ax.set_title('Arrival Rate Fit')\n",
    "ax.set_xlabel('time [s]')\n",
    "ax.set_ylabel('Photon Arrival Rate [Hz]')\n",
    "props = dict(boxstyle='round', facecolor='wheat', alpha=0.5)\n",
    "ax.text(0.1, 0.90, 'Polynomial order: {}'.format(order), transform=ax.transAxes, fontsize=14,\n",
    "        verticalalignment='top', bbox=props)\n",
    "plt.tight_layout()\n",
    "plt.show()\n"
   ]
  },
  {
   "cell_type": "code",
   "execution_count": null,
   "id": "36a7da56",
   "metadata": {},
   "outputs": [],
   "source": []
  },
  {
   "cell_type": "code",
   "execution_count": null,
   "id": "213e9fb6",
   "metadata": {},
   "outputs": [],
   "source": []
  },
  {
   "cell_type": "code",
   "execution_count": null,
   "id": "ae9f93d9",
   "metadata": {},
   "outputs": [],
   "source": []
  },
  {
   "cell_type": "code",
   "execution_count": null,
   "id": "74dd44d0",
   "metadata": {},
   "outputs": [],
   "source": []
  },
  {
   "cell_type": "code",
   "execution_count": null,
   "id": "9b95f329",
   "metadata": {},
   "outputs": [],
   "source": []
  },
  {
   "cell_type": "markdown",
   "id": "fdef487e",
   "metadata": {},
   "source": [
    "# Graveyard"
   ]
  },
  {
   "cell_type": "code",
   "execution_count": 4,
   "id": "c379084e",
   "metadata": {},
   "outputs": [],
   "source": [
    "# Rescaling factor optimization routine\n",
    "# def loss_lse(f1, f2):\n",
    "#     return 0.5*(f1 - f2)**2\n",
    "\n",
    "# def C_optimize(loss1, loss_fn, ratio_lim=0.99999999999, max_epochs=10000):\n",
    "#     epoch = 0\n",
    "#     alpha = 0.00000000001\n",
    "#     C = 1\n",
    "#     ratio_step = 0\n",
    "#     while ratio_step<=ratio_lim and epoch<max_epochs:\n",
    "#         n_det_eval = len(pred_eval)\n",
    "#         loss2 = loss_fn(C*pred_eval, C*integral_eval*n_shots_eval)\n",
    "#         cost = loss_lse(loss1, loss2)\n",
    "#         step = -2*(loss1-loss2)*(n_shots_eval*integral_eval - n_det_eval/C)\n",
    "#         C = C - alpha*step\n",
    "\n",
    "#         cost_lst.append(cost.item())\n",
    "#         C_lst.append(C.item())\n",
    "\n",
    "#         if epoch!=0:\n",
    "#             ratio_step = C_lst[-1]/C_lst[-2]\n",
    "\n",
    "#         epoch += 1\n",
    "\n",
    "#     return C\n"
   ]
  },
  {
   "cell_type": "code",
   "execution_count": null,
   "id": "df28d8b4",
   "metadata": {},
   "outputs": [],
   "source": []
  }
 ],
 "metadata": {
  "kernelspec": {
   "display_name": "Python [conda env:arsenl-conda]",
   "language": "python",
   "name": "conda-env-arsenl-conda-py"
  },
  "language_info": {
   "codemirror_mode": {
    "name": "ipython",
    "version": 3
   },
   "file_extension": ".py",
   "mimetype": "text/x-python",
   "name": "python",
   "nbconvert_exporter": "python",
   "pygments_lexer": "ipython3",
   "version": "3.10.4"
  }
 },
 "nbformat": 4,
 "nbformat_minor": 5
}
