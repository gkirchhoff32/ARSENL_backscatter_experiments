{
 "cells": [
  {
   "cell_type": "code",
   "execution_count": 2,
   "id": "cfdd5131",
   "metadata": {},
   "outputs": [],
   "source": [
    "# Check interarrival times for SPCM\n",
    "# Grant Kirchhoff\n",
    "# Last updated: 02.10.2023\n",
    "\n",
    "import numpy as np\n",
    "import pandas as pd\n",
    "import time\n",
    "import pickle\n",
    "import matplotlib.pyplot as plt\n",
    "import os\n",
    "import sys\n",
    "\n",
    "cwd = os.getcwd()\n",
    "sys.path.append(os.getcwd()+'\\..\\library')\n",
    "\n",
    "from load_ARSENL_data import load_INPHAMIS_data"
   ]
  },
  {
   "cell_type": "code",
   "execution_count": 4,
   "id": "a7622a05",
   "metadata": {},
   "outputs": [
    {
     "name": "stdout",
     "output_type": "stream",
     "text": [
      "Elapsed time (read pd): 2.0931556224823 sec\n"
     ]
    }
   ],
   "source": [
    "start = time.time()\n",
    "\n",
    "# Constants\n",
    "c = 299792458  # [m/s] Speed of light\n",
    "\n",
    "# Parameters\n",
    "create_csv = 0  # Set true to generate a .csv from .ARSENL data\n",
    "load_data = True  # Set true to load data into a DataFrame and serialize into a pickle object\n",
    "picklename = 'spcm_OD2.0'\n",
    "\n",
    "data_dir = r'C:\\Users\\Grant\\OneDrive - UCB-O365\\ARSENL\\Experiments\\SPCM\\Data\\SPCM_Data_2023.02.06'\n",
    "fname = r'\\Dev_0_-_2023-02-06_16.44.21_OD2.0.ARSENL'\n",
    "\n",
    "# Load INPHAMIS .ARSENL data if not yet serialized\n",
    "if load_data:\n",
    "    df = load_INPHAMIS_data(data_dir, fname, picklename, create_csv)"
   ]
  },
  {
   "cell_type": "code",
   "execution_count": 5,
   "id": "86e292da",
   "metadata": {},
   "outputs": [],
   "source": [
    "# Unpickle the data to DataFrame object\n",
    "infile = open('{}/{}'.format(data_dir, picklename), 'rb')\n",
    "df = pickle.load(infile)\n",
    "infile.close()"
   ]
  },
  {
   "cell_type": "code",
   "execution_count": 6,
   "id": "7b8c159f",
   "metadata": {},
   "outputs": [],
   "source": [
    "df = df[:100000]"
   ]
  },
  {
   "cell_type": "code",
   "execution_count": 7,
   "id": "dbec13d7",
   "metadata": {},
   "outputs": [],
   "source": [
    "detect = df.loc[(df['overflow'] == 0) & (df['channel'] == 0)]  # Return data for detection event (\"overflow\",\"channel\" = 0,0)\n",
    "sync = df.loc[(df['overflow'] == 1) & (df['channel'] == 0)]\n",
    "rollover = df.loc[(df['overflow'] == 1) & (df['channel'] == 63)]\n",
    "n_shots = len(sync)\n",
    "n_rollover = len(rollover)"
   ]
  },
  {
   "cell_type": "code",
   "execution_count": 8,
   "id": "f51b3271",
   "metadata": {},
   "outputs": [],
   "source": [
    "detect_idx = np.array(detect.index)  # Indices of dark count events\n",
    "sync_detect_idx = np.array(detect_idx) - 1  # Extract index immediately prior to dark count event to match with laser pulse\n",
    "sync_detect = df.loc[sync_detect_idx]  # Laser pulse event prior to dark count event\n",
    "rollover_idx = np.array(rollover.index)\n",
    "# Note: I don't know if there is any significance to tracking the laser pulse that occurs prior to each dark count event but it might be useful to have...\n",
    "\n",
    "detect_time = detect['dtime'].to_numpy()\n",
    "sync_detect_time = sync_detect['dtime'].to_numpy()"
   ]
  },
  {
   "cell_type": "code",
   "execution_count": 9,
   "id": "e67c81b2",
   "metadata": {},
   "outputs": [
    {
     "name": "stdout",
     "output_type": "stream",
     "text": [
      "Number of rollovers per dark count event: \n",
      "[0. 0. 0. ... 0. 0. 0.]\n"
     ]
    },
    {
     "data": {
      "image/png": "[encoded data removed]",
      "text/plain": [
       "<Figure size 432x288 with 1 Axes>"
      ]
     },
     "metadata": {
      "needs_background": "light"
     },
     "output_type": "display_data"
    }
   ],
   "source": [
    "# Function that uses rolloevers to convert detection time stamps from relative to global\n",
    "prev_num_rolls = 0\n",
    "track_rolls = np.zeros(len(detect_idx))\n",
    "for i in range(len(detect_idx)):\n",
    "    prev_roll_idx = np.argmin(np.abs(detect_idx[i] - rollover_idx))\n",
    "    if rollover_idx[prev_roll_idx] > detect_idx[i]:\n",
    "        prev_roll_idx -= 1\n",
    "    num_rolls = prev_roll_idx + 1 - prev_num_rolls\n",
    "    prev_num_rolls += num_rolls\n",
    "    \n",
    "    track_rolls[i] = num_rolls\n",
    "    \n",
    "print('Number of rollovers per dark count event: \\n{}'.format(track_rolls))\n",
    "\n",
    "plt.plot(track_rolls, '.')\n",
    "plt.xlabel('detection number')\n",
    "plt.ylabel('number of rollovers per detection event')\n",
    "plt.show()\n"
   ]
  },
  {
   "cell_type": "code",
   "execution_count": 10,
   "id": "deadfb3d",
   "metadata": {},
   "outputs": [],
   "source": [
    "roll_cnts = 2**25\n",
    "total_rolls_before_detect = np.cumsum(track_rolls)\n",
    "total_cnts_before_detect = roll_cnts * total_rolls_before_detect\n",
    "detect_cnts = detect_time + total_cnts_before_detect"
   ]
  },
  {
   "cell_type": "code",
   "execution_count": 11,
   "id": "3f05a388",
   "metadata": {},
   "outputs": [],
   "source": [
    "spec_dcr = np.array([43, 500])  # [Hz] [Measured, Max]\n",
    "spec_dc_period = 1 / spec_dcr\n",
    "\n",
    "spec_deadtime = 29.1e-9  # [s]"
   ]
  },
  {
   "cell_type": "code",
   "execution_count": 12,
   "id": "7b51f44c",
   "metadata": {},
   "outputs": [],
   "source": [
    "detect_global_time = detect_cnts * 25e-12 # [s] convert from clock count to s\n",
    "detect_inter_time = np.diff(detect_global_time)"
   ]
  },
  {
   "cell_type": "code",
   "execution_count": 18,
   "id": "50683c96",
   "metadata": {},
   "outputs": [
    {
     "data": {
      "image/png": "[encoded data removed]",
      "text/plain": [
       "<Figure size 432x288 with 1 Axes>"
      ]
     },
     "metadata": {
      "needs_background": "light"
     },
     "output_type": "display_data"
    }
   ],
   "source": [
    "use_log = False\n",
    "\n",
    "num_bins = 200\n",
    "lin_bins = np.linspace(np.min(detect_inter_time), np.max(detect_inter_time), num_bins+1)\n",
    "log_bins = np.logspace(np.log10(np.min(detect_inter_time)), np.log10(np.max(detect_inter_time)), num_bins+1)\n",
    "log_bins = np.logspace(np.log10(20e-9), np.log10(100e-9), num_bins+1)\n",
    "\n",
    "fig = plt.figure()\n",
    "ax = fig.add_subplot(111)\n",
    "if use_log:\n",
    "    ax.hist(detect_inter_time, log_bins)\n",
    "    ax.set_xscale('log')\n",
    "else:\n",
    "    ax.hist(detect_inter_time, log_bins)\n",
    "ax.set_xlabel('Interarrival Times [s]')\n",
    "ax.set_ylabel('Counts')\n",
    "ax.set_title('Interarrival Times for SPCM Dark Counts')\n",
    "ax.set_xlim([2.0e-8, .5e-7])\n",
    "ax.set_ylim([0, 20])\n",
    "# plt.axvline(x=spec_dc_period[0], color='r', label='Dark Count Period Range')\n",
    "# plt.axvline(x=spec_dc_period[1], color='r')\n",
    "plt.axvline(x=spec_deadtime, color='g', label=\"Spec sheet deadtime\")\n",
    "plt.legend()\n",
    "plt.show()"
   ]
  },
  {
   "cell_type": "code",
   "execution_count": null,
   "id": "c02a03c4",
   "metadata": {},
   "outputs": [],
   "source": []
  }
 ],
 "metadata": {
  "kernelspec": {
   "display_name": "Python [conda env:arsenl-conda]",
   "language": "python",
   "name": "conda-env-arsenl-conda-py"
  },
  "language_info": {
   "codemirror_mode": {
    "name": "ipython",
    "version": 3
   },
   "file_extension": ".py",
   "mimetype": "text/x-python",
   "name": "python",
   "nbconvert_exporter": "python",
   "pygments_lexer": "ipython3",
   "version": "3.10.5"
  }
 },
 "nbformat": 4,
 "nbformat_minor": 5
}
